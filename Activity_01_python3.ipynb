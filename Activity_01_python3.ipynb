{
  "nbformat": 4,
  "nbformat_minor": 0,
  "metadata": {
    "colab": {
      "name": "Activity 01 - python3.ipynb",
      "provenance": [],
      "collapsed_sections": [],
      "authorship_tag": "ABX9TyOQGWj0UaMqdoUEF+A8GQ4w",
      "include_colab_link": true
    },
    "kernelspec": {
      "name": "python3",
      "display_name": "Python 3"
    }
  },
  "cells": [
    {
      "cell_type": "markdown",
      "metadata": {
        "id": "view-in-github",
        "colab_type": "text"
      },
      "source": [
        "<a href=\"https://colab.research.google.com/github/Iamnetis/UMSL-AI/blob/main/Activity_01_python3.ipynb\" target=\"_parent\"><img src=\"https://colab.research.google.com/assets/colab-badge.svg\" alt=\"Open In Colab\"/></a>"
      ]
    },
    {
      "cell_type": "code",
      "metadata": {
        "id": "QNpdBR2PflHj",
        "colab": {
          "base_uri": "https://localhost:8080/",
          "height": 34
        },
        "outputId": "954ad4bb-75fc-440c-e713-d75e4d0eca39"
      },
      "source": [
        "import platform\n",
        "print(platform.python_version())"
      ],
      "execution_count": null,
      "outputs": [
        {
          "output_type": "stream",
          "text": [
            "3.6.9\n"
          ],
          "name": "stdout"
        }
      ]
    },
    {
      "cell_type": "code",
      "metadata": {
        "id": "QMU4QjIrFGiG"
      },
      "source": [
        "print 'Hello World'"
      ],
      "execution_count": null,
      "outputs": []
    },
    {
      "cell_type": "code",
      "metadata": {
        "id": "Odw_g3iUFKKo",
        "colab": {
          "base_uri": "https://localhost:8080/",
          "height": 34
        },
        "outputId": "bf9e19d7-25e0-4ad4-e3f4-c00cd84c9693"
      },
      "source": [
        "print ('Hello World')"
      ],
      "execution_count": null,
      "outputs": [
        {
          "output_type": "stream",
          "text": [
            "Hello World\n"
          ],
          "name": "stdout"
        }
      ]
    },
    {
      "cell_type": "code",
      "metadata": {
        "id": "glp2jejnFOiM",
        "colab": {
          "base_uri": "https://localhost:8080/",
          "height": 51
        },
        "outputId": "4650183c-912d-4e49-b625-70e2e860a366"
      },
      "source": [
        "x = 3\n",
        "print (x)\n",
        "print (type(x))"
      ],
      "execution_count": null,
      "outputs": [
        {
          "output_type": "stream",
          "text": [
            "3\n",
            "<class 'int'>\n"
          ],
          "name": "stdout"
        }
      ]
    },
    {
      "cell_type": "code",
      "metadata": {
        "id": "v4Bvj0YFFyWR",
        "colab": {
          "base_uri": "https://localhost:8080/",
          "height": 85
        },
        "outputId": "4cb49f72-9046-4441-a829-7c0a5167eeb3"
      },
      "source": [
        "#Assignment operator\n",
        "print ( x + 1) #Addition\n",
        "print ( x - 1) #substraction\n",
        "print ( x * 2) #multiplication\n",
        "print ( x ** 2) #exponentiation"
      ],
      "execution_count": null,
      "outputs": [
        {
          "output_type": "stream",
          "text": [
            "4\n",
            "2\n",
            "6\n",
            "9\n"
          ],
          "name": "stdout"
        }
      ]
    },
    {
      "cell_type": "code",
      "metadata": {
        "id": "5rn6TrykF_u7",
        "colab": {
          "base_uri": "https://localhost:8080/",
          "height": 51
        },
        "outputId": "64f76a70-7628-40d6-a1d7-6c93c2fd36db"
      },
      "source": [
        "x += 1\n",
        "print (x)\n",
        "x *= 2\n",
        "print (x)"
      ],
      "execution_count": null,
      "outputs": [
        {
          "output_type": "stream",
          "text": [
            "4\n",
            "8\n"
          ],
          "name": "stdout"
        }
      ]
    },
    {
      "cell_type": "code",
      "metadata": {
        "id": "PxFeroGkGErQ",
        "colab": {
          "base_uri": "https://localhost:8080/",
          "height": 34
        },
        "outputId": "895eaf10-e7ae-41d3-94fb-748b711c0a02"
      },
      "source": [
        "y = 2.5\n",
        "print (type(y))"
      ],
      "execution_count": null,
      "outputs": [
        {
          "output_type": "stream",
          "text": [
            "<class 'float'>\n"
          ],
          "name": "stdout"
        }
      ]
    },
    {
      "cell_type": "code",
      "metadata": {
        "id": "UMqvBi_9Gsif",
        "colab": {
          "base_uri": "https://localhost:8080/",
          "height": 85
        },
        "outputId": "83129324-5bf7-4098-f958-75fc1d3f2f73"
      },
      "source": [
        "x = 100000000000000000000000\n",
        "print (type(x))\n",
        "x = 10.6579201\n",
        "print (type(x))\n",
        "x = -2.5 + 1.2j\n",
        "print (type(x))\n",
        "x = '15.2'\n",
        "print (type(x))"
      ],
      "execution_count": null,
      "outputs": [
        {
          "output_type": "stream",
          "text": [
            "<class 'int'>\n",
            "<class 'float'>\n",
            "<class 'complex'>\n",
            "<class 'str'>\n"
          ],
          "name": "stdout"
        }
      ]
    },
    {
      "cell_type": "code",
      "metadata": {
        "id": "FnS9XdkPHIdi"
      },
      "source": [
        "#python 2 has twi integer types int and long\n",
        "x = long(x)"
      ],
      "execution_count": null,
      "outputs": []
    },
    {
      "cell_type": "markdown",
      "metadata": {
        "id": "Zxs7W-1oHkKl"
      },
      "source": [
        "# Boolean"
      ]
    },
    {
      "cell_type": "code",
      "metadata": {
        "id": "QObz6JZrHgoY",
        "colab": {
          "base_uri": "https://localhost:8080/",
          "height": 34
        },
        "outputId": "52930013-1480-43b9-eb0c-523ea1c37f9b"
      },
      "source": [
        "t, f = True, False\n",
        "print (type(t))"
      ],
      "execution_count": null,
      "outputs": [
        {
          "output_type": "stream",
          "text": [
            "<class 'bool'>\n"
          ],
          "name": "stdout"
        }
      ]
    },
    {
      "cell_type": "code",
      "metadata": {
        "id": "hN0AzWFYHrqW",
        "colab": {
          "base_uri": "https://localhost:8080/",
          "height": 85
        },
        "outputId": "d52f1934-8cfb-43f5-c9cd-fc883891c00a"
      },
      "source": [
        "print ( t and f) #Logical AND\n",
        "print ( t or f) ##Logical OR\n",
        "print (not f) ##Logical NOT\n",
        "print (t != f) ##Logical XOR"
      ],
      "execution_count": null,
      "outputs": [
        {
          "output_type": "stream",
          "text": [
            "False\n",
            "True\n",
            "True\n",
            "True\n"
          ],
          "name": "stdout"
        }
      ]
    },
    {
      "cell_type": "markdown",
      "metadata": {
        "id": "PTe6WFbrJG_w"
      },
      "source": [
        "# Bitwise vs Logocal Operator"
      ]
    },
    {
      "cell_type": "code",
      "metadata": {
        "id": "nvMjpDb_H2KL",
        "colab": {
          "base_uri": "https://localhost:8080/",
          "height": 51
        },
        "outputId": "aaf44bed-8fb6-4d24-e18c-3c9b2bec34c0"
      },
      "source": [
        "print ( t & f) #Bitwise AND\n",
        "print (t | f) #Bitwise OR"
      ],
      "execution_count": null,
      "outputs": [
        {
          "output_type": "stream",
          "text": [
            "False\n",
            "True\n"
          ],
          "name": "stdout"
        }
      ]
    },
    {
      "cell_type": "code",
      "metadata": {
        "id": "9o6cFJ4kJUp6",
        "colab": {
          "base_uri": "https://localhost:8080/",
          "height": 51
        },
        "outputId": "c2d074ee-82f2-4877-9ae7-383f5a81d5e1"
      },
      "source": [
        "print  ( 0 < 1 & 0 < 2)\n",
        "print ( 0 < 1 and 0 < 2)\n",
        "#This is because th precedence of & and \"and\"\n",
        "# & has higher precedence than <; \"and\" has lower precedence than <"
      ],
      "execution_count": null,
      "outputs": [
        {
          "output_type": "stream",
          "text": [
            "False\n",
            "True\n"
          ],
          "name": "stdout"
        }
      ]
    },
    {
      "cell_type": "markdown",
      "metadata": {
        "id": "Wnn-tnfuJq6d"
      },
      "source": [
        "# String"
      ]
    },
    {
      "cell_type": "code",
      "metadata": {
        "id": "MbdnzGhrJpfl",
        "colab": {
          "base_uri": "https://localhost:8080/",
          "height": 85
        },
        "outputId": "8e7c050c-250a-443b-9597-ca523fe1cc2d"
      },
      "source": [
        "hello = 'hello' # string literials can use single quotes\n",
        "world = \"world\" #or double quotesl it does not matter.\n",
        "again = \"\"\"Hello,\n",
        "and \n",
        "            Welcome\"\"\" #or even triple double quotes.\n",
        "\n",
        "print (hello, len(hello))\n",
        "print (again)"
      ],
      "execution_count": null,
      "outputs": [
        {
          "output_type": "stream",
          "text": [
            "hello 5\n",
            "Hello,\n",
            "and \n",
            "            Welcome\n"
          ],
          "name": "stdout"
        }
      ]
    },
    {
      "cell_type": "code",
      "metadata": {
        "id": "N93JfUzBQaGp",
        "colab": {
          "base_uri": "https://localhost:8080/",
          "height": 34
        },
        "outputId": "d21171f8-00d8-48af-a72a-2ed8096d2e68"
      },
      "source": [
        "cat = hello + ' ' + world #concatenation \n",
        "print (cat)"
      ],
      "execution_count": null,
      "outputs": [
        {
          "output_type": "stream",
          "text": [
            "hello world\n"
          ],
          "name": "stdout"
        }
      ]
    },
    {
      "cell_type": "code",
      "metadata": {
        "id": "YkiOI29lQoKE",
        "colab": {
          "base_uri": "https://localhost:8080/",
          "height": 34
        },
        "outputId": "1f22dccb-08c8-4c24-fcb8-7bb8748d6d00"
      },
      "source": [
        "print ('%13s %13s %d' % (hello, world, 25))"
      ],
      "execution_count": null,
      "outputs": [
        {
          "output_type": "stream",
          "text": [
            "        hello         world 25\n"
          ],
          "name": "stdout"
        }
      ]
    },
    {
      "cell_type": "code",
      "metadata": {
        "id": "Z2F5-FTyREEt",
        "colab": {
          "base_uri": "https://localhost:8080/",
          "height": 34
        },
        "outputId": "de79de26-e35a-4eec-c610-9ca36e7d6fb8"
      },
      "source": [
        "print (f'I want to say {hello} to the {world}...')"
      ],
      "execution_count": null,
      "outputs": [
        {
          "output_type": "stream",
          "text": [
            "I want to say hello to the world...\n"
          ],
          "name": "stdout"
        }
      ]
    },
    {
      "cell_type": "code",
      "metadata": {
        "id": "Vq3vUboURKva",
        "colab": {
          "base_uri": "https://localhost:8080/",
          "height": 34
        },
        "outputId": "f4326eb8-37fc-4b31-f68f-94a8872c5da4"
      },
      "source": [
        "print (hello + world + str(12))"
      ],
      "execution_count": null,
      "outputs": [
        {
          "output_type": "stream",
          "text": [
            "helloworld12\n"
          ],
          "name": "stdout"
        }
      ]
    },
    {
      "cell_type": "code",
      "metadata": {
        "id": "_-m7ixfSRWiW",
        "colab": {
          "base_uri": "https://localhost:8080/",
          "height": 153
        },
        "outputId": "e428cf7c-9171-4c20-a55f-adf74afd3835"
      },
      "source": [
        "a = 'hello' \n",
        "print (a.capitalize()) # This will capitalize a string\n",
        "print (a.upper()) # This will convert string to uppercase\n",
        "print(a.lower()) #  This will convert string to Lowercase\n",
        "print (a.rjust(15)) # RIght justify a string\n",
        "print (a.center(15)) # Center a stirng\n",
        "print (a.replace('o', '000')) # Replace first value with second one.\n",
        "print ('     world'.strip()) # Strip will remove whitespace \n",
        "\n",
        "b = 'hello                world               good            Morning'\n",
        "\n",
        "name = b.split() #Detects whitespaces automatically\n",
        "print (name[0], name[2])"
      ],
      "execution_count": null,
      "outputs": [
        {
          "output_type": "stream",
          "text": [
            "Hello\n",
            "HELLO\n",
            "hello\n",
            "          hello\n",
            "     hello     \n",
            "hell000\n",
            "world\n",
            "hello good\n"
          ],
          "name": "stdout"
        }
      ]
    },
    {
      "cell_type": "markdown",
      "metadata": {
        "id": "9vE3-yqqSrmY"
      },
      "source": [
        "# Containers\n",
        "\n",
        "\n",
        "1.   List\n",
        "2.   Dictionaries\n",
        "3. Sets\n",
        "\n",
        "4. Tuples \n",
        "\n"
      ]
    },
    {
      "cell_type": "code",
      "metadata": {
        "id": "1HsCNRD5SiX6",
        "colab": {
          "base_uri": "https://localhost:8080/",
          "height": 68
        },
        "outputId": "15779968-68b4-4a6c-a7b4-d3bc62e14794"
      },
      "source": [
        "#LIST\n",
        "\n",
        "xs = [3, 1, 1, 2] #Creating a list\n",
        "print (xs, xs[2])\n",
        "print (xs[-1]) #Negative incicates we have to start from the last of the list\n",
        "print (xs[-2])"
      ],
      "execution_count": null,
      "outputs": [
        {
          "output_type": "stream",
          "text": [
            "[3, 1, 1, 2] 1\n",
            "2\n",
            "1\n"
          ],
          "name": "stdout"
        }
      ]
    },
    {
      "cell_type": "code",
      "metadata": {
        "id": "EOJSyzmsTLhO",
        "colab": {
          "base_uri": "https://localhost:8080/",
          "height": 34
        },
        "outputId": "5d243e51-f76e-4c5e-b304-300f8889eeed"
      },
      "source": [
        "xs[2] = 'Nitesh' #Replacing index 2 with \"Nitesh\"\n",
        "print (xs)"
      ],
      "execution_count": null,
      "outputs": [
        {
          "output_type": "stream",
          "text": [
            "[3, 1, 'Nitesh', 2]\n"
          ],
          "name": "stdout"
        }
      ]
    },
    {
      "cell_type": "code",
      "metadata": {
        "id": "Q5qZ7-4DTVg3",
        "colab": {
          "base_uri": "https://localhost:8080/",
          "height": 34
        },
        "outputId": "fe2cbb77-df80-497a-9838-5a9643d6ef7f"
      },
      "source": [
        "xs.append('kafle') #Adding \"kafle\" in a list\n",
        "print (xs) # Append adds new elements in last."
      ],
      "execution_count": null,
      "outputs": [
        {
          "output_type": "stream",
          "text": [
            "[3, 1, 'Nitesh', 2, 'kafle']\n"
          ],
          "name": "stdout"
        }
      ]
    },
    {
      "cell_type": "code",
      "metadata": {
        "id": "ZafD4eKMTnv6",
        "colab": {
          "base_uri": "https://localhost:8080/",
          "height": 34
        },
        "outputId": "553559fb-7b28-44f3-a202-8bf721ec40bf"
      },
      "source": [
        "x = xs.pop() # {.pop}Removes the last element from the list\n",
        "print (x, xs)"
      ],
      "execution_count": null,
      "outputs": [
        {
          "output_type": "stream",
          "text": [
            "kafle [3, 1, 'Nitesh', 2]\n"
          ],
          "name": "stdout"
        }
      ]
    },
    {
      "cell_type": "code",
      "metadata": {
        "id": "5nOwmmSaTzeM",
        "colab": {
          "base_uri": "https://localhost:8080/",
          "height": 34
        },
        "outputId": "18ff1cd7-c276-40b9-a96c-39be56d3ea0c"
      },
      "source": [
        "xs = [3,1,5,2,4,6]\n",
        "xs2 = [10, 11, 12]\n",
        "xs.append(xs2) # Append will add new list inside of existing list\n",
        "print (xs)"
      ],
      "execution_count": null,
      "outputs": [
        {
          "output_type": "stream",
          "text": [
            "[3, 1, 5, 2, 4, 6, [10, 11, 12]]\n"
          ],
          "name": "stdout"
        }
      ]
    },
    {
      "cell_type": "code",
      "metadata": {
        "id": "kffTlV65UJ5e",
        "colab": {
          "base_uri": "https://localhost:8080/",
          "height": 34
        },
        "outputId": "a3149745-0cc1-41b2-f79f-e41db6ba825b"
      },
      "source": [
        "xs_another = [100, 1000, 2000]\n",
        "xs.extend(xs_another) # Extend will add one list to another list\n",
        "print (xs)"
      ],
      "execution_count": null,
      "outputs": [
        {
          "output_type": "stream",
          "text": [
            "[3, 1, 5, 2, 4, 6, [10, 11, 12], 100, 1000, 2000]\n"
          ],
          "name": "stdout"
        }
      ]
    },
    {
      "cell_type": "markdown",
      "metadata": {
        "id": "9rUYGzFTXDb_"
      },
      "source": [
        "# Slicing"
      ]
    },
    {
      "cell_type": "code",
      "metadata": {
        "id": "cEZs1DNNUPQr",
        "colab": {
          "base_uri": "https://localhost:8080/",
          "height": 51
        },
        "outputId": "7f825806-9148-49e9-ce35-ddb722edf635"
      },
      "source": [
        "nums = range(5)\n",
        "print (nums)\n",
        "print (type(nums))"
      ],
      "execution_count": null,
      "outputs": [
        {
          "output_type": "stream",
          "text": [
            "range(0, 5)\n",
            "<class 'range'>\n"
          ],
          "name": "stdout"
        }
      ]
    },
    {
      "cell_type": "code",
      "metadata": {
        "id": "S1moWkvBWCqm",
        "colab": {
          "base_uri": "https://localhost:8080/",
          "height": 102
        },
        "outputId": "674d3475-e60c-45e8-f876-8062350a65b6"
      },
      "source": [
        "nums = [0, 1, 2, 3, 4]\n",
        "print (nums[2:4])\n",
        "print (nums[2:])\n",
        "print (nums[:2])\n",
        "print (nums[:])\n",
        "print (nums[-1])"
      ],
      "execution_count": null,
      "outputs": [
        {
          "output_type": "stream",
          "text": [
            "[2, 3]\n",
            "[2, 3, 4]\n",
            "[0, 1]\n",
            "[0, 1, 2, 3, 4]\n",
            "4\n"
          ],
          "name": "stdout"
        }
      ]
    },
    {
      "cell_type": "code",
      "metadata": {
        "id": "LZZno3CNW522",
        "colab": {
          "base_uri": "https://localhost:8080/",
          "height": 34
        },
        "outputId": "1faeed0a-1672-47a8-8e37-fdab0bbee287"
      },
      "source": [
        "nums[2:4] = [10, 11, 12, 16, 15]\n",
        "print (nums)"
      ],
      "execution_count": null,
      "outputs": [
        {
          "output_type": "stream",
          "text": [
            "[0, 1, 10, 11, 12, 16, 15, 4]\n"
          ],
          "name": "stdout"
        }
      ]
    },
    {
      "cell_type": "code",
      "metadata": {
        "id": "m2dLJiVTW8wU",
        "colab": {
          "base_uri": "https://localhost:8080/",
          "height": 34
        },
        "outputId": "e18a99b6-a09e-4d32-9654-6b3de079f22b"
      },
      "source": [
        "print (nums[:6])"
      ],
      "execution_count": null,
      "outputs": [
        {
          "output_type": "stream",
          "text": [
            "[0, 1, 10, 11, 12, 16]\n"
          ],
          "name": "stdout"
        }
      ]
    },
    {
      "cell_type": "code",
      "metadata": {
        "id": "IH-vZv6wW9Gw",
        "colab": {
          "base_uri": "https://localhost:8080/",
          "height": 34
        },
        "outputId": "7614efbb-d9f4-49b3-b27f-56100f6df126"
      },
      "source": [
        "nums [2:3] = [11,12,13]\n",
        "print (nums)"
      ],
      "execution_count": null,
      "outputs": [
        {
          "output_type": "stream",
          "text": [
            "[0, 1, 11, 12, 13, 11, 12, 16, 15, 4]\n"
          ],
          "name": "stdout"
        }
      ]
    },
    {
      "cell_type": "code",
      "metadata": {
        "id": "fZkUPnBWW-mp",
        "colab": {
          "base_uri": "https://localhost:8080/",
          "height": 34
        },
        "outputId": "2ff4e998-095a-4201-a144-bca3af44d234"
      },
      "source": [
        "nums [3:4] = [33, 22, 44, 9, 50, 23 ]\n",
        "print (nums)"
      ],
      "execution_count": null,
      "outputs": [
        {
          "output_type": "stream",
          "text": [
            "[0, 1, 11, 33, 22, 44, 9, 50, 23, 13, 11, 12, 16, 15, 4]\n"
          ],
          "name": "stdout"
        }
      ]
    },
    {
      "cell_type": "markdown",
      "metadata": {
        "id": "7KLR8dXBXGZC"
      },
      "source": [
        "# Loops"
      ]
    },
    {
      "cell_type": "code",
      "metadata": {
        "id": "912tfNLoXOZK",
        "colab": {
          "base_uri": "https://localhost:8080/",
          "height": 68
        },
        "outputId": "082d58d1-dadd-44a9-cbde-791db64806a7"
      },
      "source": [
        "animals = ['cat', 'dog', 'monkey']\n",
        "i = 0\n",
        "for animal in animals:\n",
        "    i = i + 1\n",
        "    print (animal)"
      ],
      "execution_count": null,
      "outputs": [
        {
          "output_type": "stream",
          "text": [
            "cat\n",
            "dog\n",
            "monkey\n"
          ],
          "name": "stdout"
        }
      ]
    },
    {
      "cell_type": "code",
      "metadata": {
        "id": "WwqCPVWCXhai",
        "colab": {
          "base_uri": "https://localhost:8080/",
          "height": 68
        },
        "outputId": "6869598c-cf87-4a4d-c188-02aedb2b0f03"
      },
      "source": [
        "animals = ['cat', 'dog', 'monkey']\n",
        "for animal in animals:\n",
        "    print(animal)"
      ],
      "execution_count": null,
      "outputs": [
        {
          "output_type": "stream",
          "text": [
            "cat\n",
            "dog\n",
            "monkey\n"
          ],
          "name": "stdout"
        }
      ]
    },
    {
      "cell_type": "code",
      "metadata": {
        "id": "TSIVFK81XAew",
        "colab": {
          "base_uri": "https://localhost:8080/",
          "height": 68
        },
        "outputId": "a769e212-92a7-42a6-ed62-8b02cc1a6286"
      },
      "source": [
        "animals = ['cat', 'dog', 'monkey']\n",
        "for idx, animal in enumerate(animals): #Enumerate is used to access index and the element\n",
        "    print (idx +1, animal)"
      ],
      "execution_count": null,
      "outputs": [
        {
          "output_type": "stream",
          "text": [
            "1 cat\n",
            "2 dog\n",
            "3 monkey\n"
          ],
          "name": "stdout"
        }
      ]
    },
    {
      "cell_type": "markdown",
      "metadata": {
        "id": "xH0JbA_wYSYV"
      },
      "source": [
        "# List Comprehension"
      ]
    },
    {
      "cell_type": "code",
      "metadata": {
        "id": "Vma9DENaXefZ",
        "colab": {
          "base_uri": "https://localhost:8080/",
          "height": 102
        },
        "outputId": "1124029e-3855-4e3f-8779-aadb2db12473"
      },
      "source": [
        "nums = [0, 1, 2, 3, 4]\n",
        "squares = []\n",
        "for x in nums:\n",
        "    squares.append(x ** 2)\n",
        "    print (squares)"
      ],
      "execution_count": null,
      "outputs": [
        {
          "output_type": "stream",
          "text": [
            "[0]\n",
            "[0, 1]\n",
            "[0, 1, 4]\n",
            "[0, 1, 4, 9]\n",
            "[0, 1, 4, 9, 16]\n"
          ],
          "name": "stdout"
        }
      ]
    },
    {
      "cell_type": "code",
      "metadata": {
        "id": "uV6ooMf-XpDw",
        "colab": {
          "base_uri": "https://localhost:8080/",
          "height": 34
        },
        "outputId": "ca2d3886-48b3-4a80-bbbf-8f09537755e3"
      },
      "source": [
        "#List Comprehension\n",
        "nums = [0, 1, 2, 3, 4]\n",
        "squares = [x ** 2 for x in nums]\n",
        "print (squares)"
      ],
      "execution_count": null,
      "outputs": [
        {
          "output_type": "stream",
          "text": [
            "[0, 1, 4, 9, 16]\n"
          ],
          "name": "stdout"
        }
      ]
    },
    {
      "cell_type": "code",
      "metadata": {
        "id": "G1AdEbrpYbBB",
        "colab": {
          "base_uri": "https://localhost:8080/",
          "height": 34
        },
        "outputId": "3e4f00a2-bb62-4670-f924-59f4292bd996"
      },
      "source": [
        "# We can use condition too in list comprehension\n",
        "nums = [0, 1, 2, 3, 4]\n",
        "even_squares = [x ** 2 for x in nums if x % 2 == 0]\n",
        "print (even_squares)"
      ],
      "execution_count": null,
      "outputs": [
        {
          "output_type": "stream",
          "text": [
            "[0, 4, 16]\n"
          ],
          "name": "stdout"
        }
      ]
    },
    {
      "cell_type": "markdown",
      "metadata": {
        "id": "Payn8DDCYrru"
      },
      "source": [
        "# Dictionaries"
      ]
    },
    {
      "cell_type": "code",
      "metadata": {
        "id": "dX6gwtctYoBA",
        "colab": {
          "base_uri": "https://localhost:8080/",
          "height": 51
        },
        "outputId": "cde1ba6a-8a95-46b1-e138-81b5ade4a5ef"
      },
      "source": [
        "d = {'cat':'cute', 'dog':'furry'} # Creating a dictionary with some data\n",
        "print (d['cat']) # Get an entry from a dictionary\n",
        "print ('cat' in d) # Output will be on boolean format"
      ],
      "execution_count": null,
      "outputs": [
        {
          "output_type": "stream",
          "text": [
            "cute\n",
            "True\n"
          ],
          "name": "stdout"
        }
      ]
    },
    {
      "cell_type": "code",
      "metadata": {
        "id": "A1YdvMLJYu_6",
        "colab": {
          "base_uri": "https://localhost:8080/",
          "height": 34
        },
        "outputId": "066809e6-b4c2-4936-ff36-c78b25584099"
      },
      "source": [
        "d['fish'] = 'wet' #set an entry in a dictionary\n",
        "print (d['fish'])"
      ],
      "execution_count": null,
      "outputs": [
        {
          "output_type": "stream",
          "text": [
            "wet\n"
          ],
          "name": "stdout"
        }
      ]
    },
    {
      "cell_type": "code",
      "metadata": {
        "id": "xJEcT2yyZIvl"
      },
      "source": [
        "print (d['monkey']) #This doesnt exists "
      ],
      "execution_count": null,
      "outputs": []
    },
    {
      "cell_type": "code",
      "metadata": {
        "id": "N_zWQrb2ZYER",
        "colab": {
          "base_uri": "https://localhost:8080/",
          "height": 51
        },
        "outputId": "b84cfb8e-63a7-4d9b-d954-317c29332adb"
      },
      "source": [
        "print(d.get('monkey', 'N/A')) # This will used when you are not sure we have a value of a key or not. If not we will get \"N/A\"\n",
        "print(d.get('fish', 'N/A'))"
      ],
      "execution_count": null,
      "outputs": [
        {
          "output_type": "stream",
          "text": [
            "N/A\n",
            "wet\n"
          ],
          "name": "stdout"
        }
      ]
    },
    {
      "cell_type": "code",
      "metadata": {
        "id": "0-_25XTaZa_y",
        "colab": {
          "base_uri": "https://localhost:8080/",
          "height": 34
        },
        "outputId": "eeaff7cf-9834-43aa-efc0-62fd527fb1cc"
      },
      "source": [
        "del d ['fish'] # removing a element\n",
        "print (d.get('fish', 'N/A')) # We have removed the key of a value.\n"
      ],
      "execution_count": null,
      "outputs": [
        {
          "output_type": "stream",
          "text": [
            "N/A\n"
          ],
          "name": "stdout"
        }
      ]
    },
    {
      "cell_type": "code",
      "metadata": {
        "id": "6OB4w8T7Zza4",
        "colab": {
          "base_uri": "https://localhost:8080/",
          "height": 68
        },
        "outputId": "ebf3d8a3-78f6-4284-c388-a2fd6eadcec9"
      },
      "source": [
        "d = {'person': 2, 'cat': 4, 'spider': 8 }\n",
        "for animal  in d:\n",
        "    legs = d[animal]\n",
        "    print ('A %s has %d legs' % (animal, legs))"
      ],
      "execution_count": null,
      "outputs": [
        {
          "output_type": "stream",
          "text": [
            "A person has 2 legs\n",
            "A cat has 4 legs\n",
            "A spider has 8 legs\n"
          ],
          "name": "stdout"
        }
      ]
    },
    {
      "cell_type": "code",
      "metadata": {
        "id": "znawWCUhc3Un",
        "colab": {
          "base_uri": "https://localhost:8080/",
          "height": 68
        },
        "outputId": "de9f41d5-a225-47f1-cbcd-d03bf6f2d418"
      },
      "source": [
        "d = {'person': 2, 'cat': 4, 'spider': 8 }\n",
        "for animal, legs in d.items():\n",
        "    print(' A %s has %d legs' % (animal, legs))"
      ],
      "execution_count": null,
      "outputs": [
        {
          "output_type": "stream",
          "text": [
            " A person has 2 legs\n",
            " A cat has 4 legs\n",
            " A spider has 8 legs\n"
          ],
          "name": "stdout"
        }
      ]
    },
    {
      "cell_type": "code",
      "metadata": {
        "id": "WqfdJpIyc6lK",
        "colab": {
          "base_uri": "https://localhost:8080/",
          "height": 221
        },
        "outputId": "77305027-f7cd-412d-88e4-b02d3d8c021b"
      },
      "source": [
        "d = {'a': 2, 'c': 4, 'd': 1, 'b': 10}\n",
        "for animal, legs in sorted(d.items(), key = lambda x: x [0]):\n",
        "    print ('%s - %d' % (animal, legs))\n",
        "# I have to see how Lambda function works...\n",
        "    print ('')\n",
        "for animal, legs in sorted(d.items(), key = lambda x: x[1]):\n",
        "    print ( '%s - %d' % (animal, legs))"
      ],
      "execution_count": null,
      "outputs": [
        {
          "output_type": "stream",
          "text": [
            "a - 2\n",
            "\n",
            "b - 10\n",
            "\n",
            "c - 4\n",
            "\n",
            "d - 1\n",
            "\n",
            "d - 1\n",
            "a - 2\n",
            "c - 4\n",
            "b - 10\n"
          ],
          "name": "stdout"
        }
      ]
    },
    {
      "cell_type": "markdown",
      "metadata": {
        "id": "XJSj60ZudQbN"
      },
      "source": [
        "# Dictionary Comprehension"
      ]
    },
    {
      "cell_type": "code",
      "metadata": {
        "id": "yNx9JfgddH3K",
        "colab": {
          "base_uri": "https://localhost:8080/",
          "height": 34
        },
        "outputId": "de8cc6ab-e45e-4541-ef64-5f9f5c0aae0b"
      },
      "source": [
        "nums = [0, 1, 2, 3, 4,]\n",
        "even_num_to_square = {x: x ** 2 for x in nums if x % 2 == 0}\n",
        "print (even_num_to_square)"
      ],
      "execution_count": null,
      "outputs": [
        {
          "output_type": "stream",
          "text": [
            "{0: 0, 2: 4, 4: 16}\n"
          ],
          "name": "stdout"
        }
      ]
    },
    {
      "cell_type": "markdown",
      "metadata": {
        "id": "wzs8yl-sdb9W"
      },
      "source": [
        "# Sets"
      ]
    },
    {
      "cell_type": "code",
      "metadata": {
        "id": "91neGN2ydUq4",
        "colab": {
          "base_uri": "https://localhost:8080/",
          "height": 34
        },
        "outputId": "c3180463-a1ab-4bea-ddf8-b2242583d9b8"
      },
      "source": [
        "animals = {'cat', 'dog', 'cat'} #sets can't have multiple items\n",
        "print (animals)"
      ],
      "execution_count": null,
      "outputs": [
        {
          "output_type": "stream",
          "text": [
            "{'dog', 'cat'}\n"
          ],
          "name": "stdout"
        }
      ]
    },
    {
      "cell_type": "code",
      "metadata": {
        "id": "p0YwaX-jdlJ5",
        "colab": {
          "base_uri": "https://localhost:8080/",
          "height": 51
        },
        "outputId": "a9997af1-3bb4-4b94-8a65-2afe633747ed"
      },
      "source": [
        "animals = ['cat', 'dog', 'cat']\n",
        "print (animals)\n",
        "animals = set(animals) #converting into set using 'set' function\n",
        "print (animals)"
      ],
      "execution_count": null,
      "outputs": [
        {
          "output_type": "stream",
          "text": [
            "['cat', 'dog', 'cat']\n",
            "{'dog', 'cat'}\n"
          ],
          "name": "stdout"
        }
      ]
    },
    {
      "cell_type": "code",
      "metadata": {
        "id": "ZQ68bcRDd-XI",
        "colab": {
          "base_uri": "https://localhost:8080/",
          "height": 51
        },
        "outputId": "39d29b64-d835-4a03-a8e3-a37c7e61960e"
      },
      "source": [
        "animals.add('fish')\n",
        "print ('fish' in animals) \n",
        "print(len(animals)) # Total number of a elements in a set."
      ],
      "execution_count": null,
      "outputs": [
        {
          "output_type": "stream",
          "text": [
            "True\n",
            "3\n"
          ],
          "name": "stdout"
        }
      ]
    },
    {
      "cell_type": "code",
      "metadata": {
        "id": "aY36UUTkeLoK",
        "colab": {
          "base_uri": "https://localhost:8080/",
          "height": 51
        },
        "outputId": "347a9369-4bad-4a45-dfba-a4452bf1e2a1"
      },
      "source": [
        "animals.add('cat') # adding an element that is already in the set does nothing\n",
        "print(len(animals))\n",
        "animals.remove('cat') #Removing an element for a set\n",
        "print(len(animals))"
      ],
      "execution_count": null,
      "outputs": [
        {
          "output_type": "stream",
          "text": [
            "3\n",
            "2\n"
          ],
          "name": "stdout"
        }
      ]
    },
    {
      "cell_type": "code",
      "metadata": {
        "id": "QqUx16IlerEH",
        "colab": {
          "base_uri": "https://localhost:8080/",
          "height": 68
        },
        "outputId": "dc752651-1aad-46f6-e276-ff46aa19b07d"
      },
      "source": [
        "animals = {'cat', 'dog', 'fish'}\n",
        "for idx, animal in enumerate(animals):\n",
        "    print('%d: %s' % (idx + 1, animal))"
      ],
      "execution_count": null,
      "outputs": [
        {
          "output_type": "stream",
          "text": [
            "1: fish\n",
            "2: dog\n",
            "3: cat\n"
          ],
          "name": "stdout"
        }
      ]
    },
    {
      "cell_type": "code",
      "metadata": {
        "id": "Kz0Q7C0bfTCl",
        "colab": {
          "base_uri": "https://localhost:8080/",
          "height": 34
        },
        "outputId": "80a78537-dee9-4e10-cee2-38cb560884ba"
      },
      "source": [
        "from math import sqrt\n",
        "myset = {int(sqrt(x)) for x in range(30)}\n",
        "print (myset)"
      ],
      "execution_count": null,
      "outputs": [
        {
          "output_type": "stream",
          "text": [
            "{0, 1, 2, 3, 4, 5}\n"
          ],
          "name": "stdout"
        }
      ]
    },
    {
      "cell_type": "markdown",
      "metadata": {
        "id": "0hem78fVfv6B"
      },
      "source": [
        "# Tuple"
      ]
    },
    {
      "cell_type": "code",
      "metadata": {
        "id": "xIJTN_dUfnXc",
        "colab": {
          "base_uri": "https://localhost:8080/",
          "height": 85
        },
        "outputId": "da2933c0-f7c7-480e-c1dd-0bcf1c1d64c6"
      },
      "source": [
        "d =  {(x, x + 1): x for x in range (10)} # creating a dictionary with tuple keys\n",
        "print (d)\n",
        "t = (5,6) # creating tuple\n",
        "print (type(t))\n",
        "print (d[t])\n",
        "print (d[(1,2)])"
      ],
      "execution_count": null,
      "outputs": [
        {
          "output_type": "stream",
          "text": [
            "{(0, 1): 0, (1, 2): 1, (2, 3): 2, (3, 4): 3, (4, 5): 4, (5, 6): 5, (6, 7): 6, (7, 8): 7, (8, 9): 8, (9, 10): 9}\n",
            "<class 'tuple'>\n",
            "5\n",
            "1\n"
          ],
          "name": "stdout"
        }
      ]
    },
    {
      "cell_type": "code",
      "metadata": {
        "id": "xInljTn4gEv0"
      },
      "source": [
        "t[0] = 1 #tuple is immutable(you cannot change once created)"
      ],
      "execution_count": null,
      "outputs": []
    },
    {
      "cell_type": "markdown",
      "metadata": {
        "id": "CBfqYVgBgbpo"
      },
      "source": [
        "# Function"
      ]
    },
    {
      "cell_type": "code",
      "metadata": {
        "id": "16xLKkX7gJWd",
        "colab": {
          "base_uri": "https://localhost:8080/",
          "height": 68
        },
        "outputId": "f9e78c71-d7aa-4495-ea18-ed499fafe483"
      },
      "source": [
        "def sign (x):\n",
        "    if x > 0:\n",
        "        return 'positive'\n",
        "    elif x < 0:\n",
        "        return 'negative'\n",
        "    else:\n",
        "        return 'zero'\n",
        "\n",
        "for x in [-1, 0, 1]:\n",
        "    print (sign(x))"
      ],
      "execution_count": null,
      "outputs": [
        {
          "output_type": "stream",
          "text": [
            "negative\n",
            "zero\n",
            "positive\n"
          ],
          "name": "stdout"
        }
      ]
    },
    {
      "cell_type": "code",
      "metadata": {
        "id": "Lyrx3ZEihjGs"
      },
      "source": [
        "def hello(name, loud = False):\n",
        "    if loud:\n",
        "        print ('HELLO, %s' % name.upper())\n",
        "    else:\n",
        "        print ('Hello, %s' % name) "
      ],
      "execution_count": null,
      "outputs": []
    },
    {
      "cell_type": "code",
      "metadata": {
        "id": "NNg-ew0Bh_za"
      },
      "source": [
        "hello()"
      ],
      "execution_count": null,
      "outputs": []
    },
    {
      "cell_type": "code",
      "metadata": {
        "id": "uwCSDtQDiB5j",
        "colab": {
          "base_uri": "https://localhost:8080/",
          "height": 34
        },
        "outputId": "6bf79f14-f55c-48cc-a295-b7e6c7635931"
      },
      "source": [
        "hello('Nitesh')"
      ],
      "execution_count": null,
      "outputs": [
        {
          "output_type": "stream",
          "text": [
            "Hello, Nitesh\n"
          ],
          "name": "stdout"
        }
      ]
    },
    {
      "cell_type": "code",
      "metadata": {
        "id": "mgnrEjM8iFGQ",
        "colab": {
          "base_uri": "https://localhost:8080/",
          "height": 34
        },
        "outputId": "2e12fd3d-664e-443d-d6d3-53e9c1a9bb8a"
      },
      "source": [
        "hello('Nitesh', True)"
      ],
      "execution_count": null,
      "outputs": [
        {
          "output_type": "stream",
          "text": [
            "HELLO, NITESH\n"
          ],
          "name": "stdout"
        }
      ]
    },
    {
      "cell_type": "markdown",
      "metadata": {
        "id": "FEARhLfki7Tc"
      },
      "source": [
        "# Classes"
      ]
    },
    {
      "cell_type": "code",
      "metadata": {
        "id": "GnJHNTMJiIkK",
        "colab": {
          "base_uri": "https://localhost:8080/",
          "height": 34
        },
        "outputId": "a886acbf-257e-4cbb-c465-7aac73d84d58"
      },
      "source": [
        "class A:\n",
        "    def print_something(self):\n",
        "        print ('something')\n",
        "\n",
        "a = A()\n",
        "a.print_something()"
      ],
      "execution_count": null,
      "outputs": [
        {
          "output_type": "stream",
          "text": [
            "something\n"
          ],
          "name": "stdout"
        }
      ]
    },
    {
      "cell_type": "code",
      "metadata": {
        "id": "aohXHmPcje_r"
      },
      "source": [
        "class Greeter:\n",
        "    name = \"\"\n",
        "    #constructor \n",
        "    def __init__(self, name):\n",
        "        self.name = name #create an instance variable\n",
        "\n",
        "        #Instance method \n",
        "    def greet(self, loud = False):\n",
        "        if loud:\n",
        "            print ('HELLO')\n",
        "        else:\n",
        "            print('Hello')"
      ],
      "execution_count": null,
      "outputs": []
    },
    {
      "cell_type": "code",
      "metadata": {
        "id": "RpUtzsJ8j0ny",
        "colab": {
          "base_uri": "https://localhost:8080/",
          "height": 51
        },
        "outputId": "aad10668-af78-4a3a-cc96-4f7bab285932"
      },
      "source": [
        "g = Greeter(\"Nitesh\") #Construct an instance of the Greather class\n",
        "g.greet() #call an instance method\n",
        "g.greet(loud=True) #call an instance method"
      ],
      "execution_count": null,
      "outputs": [
        {
          "output_type": "stream",
          "text": [
            "Hello\n",
            "HELLO\n"
          ],
          "name": "stdout"
        }
      ]
    }
  ]
}