{
  "nbformat": 4,
  "nbformat_minor": 0,
  "metadata": {
    "colab": {
      "name": "Activity 11 (Overfitting vs Generalization).ipynb",
      "provenance": [],
      "collapsed_sections": [],
      "include_colab_link": true
    },
    "kernelspec": {
      "name": "python3",
      "display_name": "Python 3"
    },
    "accelerator": "GPU"
  },
  "cells": [
    {
      "cell_type": "markdown",
      "metadata": {
        "id": "view-in-github",
        "colab_type": "text"
      },
      "source": [
        "<a href=\"https://colab.research.google.com/github/Iamnetis/UMSL-AI/blob/main/Activity_11_(Overfitting_vs_Generalization).ipynb\" target=\"_parent\"><img src=\"https://colab.research.google.com/assets/colab-badge.svg\" alt=\"Open In Colab\"/></a>"
      ]
    },
    {
      "cell_type": "code",
      "metadata": {
        "id": "RX1PfCVD-VRA"
      },
      "source": [
        "from google.colab import files\n",
        "uploaded = files.upload ()\n"
      ],
      "execution_count": null,
      "outputs": []
    },
    {
      "cell_type": "code",
      "metadata": {
        "id": "p_60xq_lwG_B",
        "colab": {
          "base_uri": "https://localhost:8080/",
          "height": 204
        },
        "outputId": "627e204e-31da-427d-c356-62741c35d49f"
      },
      "source": [
        "import pandas as pd\n",
        "dataset = pd.read_csv('pima-diabetes.csv')\n",
        "dataset.head()"
      ],
      "execution_count": null,
      "outputs": [
        {
          "output_type": "execute_result",
          "data": {
            "text/html": [
              "<div>\n",
              "<style scoped>\n",
              "    .dataframe tbody tr th:only-of-type {\n",
              "        vertical-align: middle;\n",
              "    }\n",
              "\n",
              "    .dataframe tbody tr th {\n",
              "        vertical-align: top;\n",
              "    }\n",
              "\n",
              "    .dataframe thead th {\n",
              "        text-align: right;\n",
              "    }\n",
              "</style>\n",
              "<table border=\"1\" class=\"dataframe\">\n",
              "  <thead>\n",
              "    <tr style=\"text-align: right;\">\n",
              "      <th></th>\n",
              "      <th>Pregnancies</th>\n",
              "      <th>Glucose</th>\n",
              "      <th>BloodPressure</th>\n",
              "      <th>SkinThickness</th>\n",
              "      <th>Insulin</th>\n",
              "      <th>BMI</th>\n",
              "      <th>DiabetesPedigreeFunction</th>\n",
              "      <th>Age</th>\n",
              "      <th>Outcome</th>\n",
              "    </tr>\n",
              "  </thead>\n",
              "  <tbody>\n",
              "    <tr>\n",
              "      <th>0</th>\n",
              "      <td>6</td>\n",
              "      <td>148</td>\n",
              "      <td>72</td>\n",
              "      <td>35</td>\n",
              "      <td>0</td>\n",
              "      <td>33.6</td>\n",
              "      <td>0.627</td>\n",
              "      <td>50</td>\n",
              "      <td>1</td>\n",
              "    </tr>\n",
              "    <tr>\n",
              "      <th>1</th>\n",
              "      <td>1</td>\n",
              "      <td>85</td>\n",
              "      <td>66</td>\n",
              "      <td>29</td>\n",
              "      <td>0</td>\n",
              "      <td>26.6</td>\n",
              "      <td>0.351</td>\n",
              "      <td>31</td>\n",
              "      <td>0</td>\n",
              "    </tr>\n",
              "    <tr>\n",
              "      <th>2</th>\n",
              "      <td>8</td>\n",
              "      <td>183</td>\n",
              "      <td>64</td>\n",
              "      <td>0</td>\n",
              "      <td>0</td>\n",
              "      <td>23.3</td>\n",
              "      <td>0.672</td>\n",
              "      <td>32</td>\n",
              "      <td>1</td>\n",
              "    </tr>\n",
              "    <tr>\n",
              "      <th>3</th>\n",
              "      <td>1</td>\n",
              "      <td>89</td>\n",
              "      <td>66</td>\n",
              "      <td>23</td>\n",
              "      <td>94</td>\n",
              "      <td>28.1</td>\n",
              "      <td>0.167</td>\n",
              "      <td>21</td>\n",
              "      <td>0</td>\n",
              "    </tr>\n",
              "    <tr>\n",
              "      <th>4</th>\n",
              "      <td>0</td>\n",
              "      <td>137</td>\n",
              "      <td>40</td>\n",
              "      <td>35</td>\n",
              "      <td>168</td>\n",
              "      <td>43.1</td>\n",
              "      <td>2.288</td>\n",
              "      <td>33</td>\n",
              "      <td>1</td>\n",
              "    </tr>\n",
              "  </tbody>\n",
              "</table>\n",
              "</div>"
            ],
            "text/plain": [
              "   Pregnancies  Glucose  BloodPressure  ...  DiabetesPedigreeFunction  Age  Outcome\n",
              "0            6      148             72  ...                     0.627   50        1\n",
              "1            1       85             66  ...                     0.351   31        0\n",
              "2            8      183             64  ...                     0.672   32        1\n",
              "3            1       89             66  ...                     0.167   21        0\n",
              "4            0      137             40  ...                     2.288   33        1\n",
              "\n",
              "[5 rows x 9 columns]"
            ]
          },
          "metadata": {
            "tags": []
          },
          "execution_count": 4
        }
      ]
    },
    {
      "cell_type": "code",
      "metadata": {
        "id": "KQ9uQYj4NdzR"
      },
      "source": [
        "import numpy as np\n",
        "dataset = np.genfromtxt('pima-diabetes.csv', delimiter =',', skip_header = True)"
      ],
      "execution_count": null,
      "outputs": []
    },
    {
      "cell_type": "code",
      "metadata": {
        "id": "7V54JFBMnJwn"
      },
      "source": [
        "np.set_printoptions(formatter={'float': '{:0.4f}'.format})"
      ],
      "execution_count": null,
      "outputs": []
    },
    {
      "cell_type": "code",
      "metadata": {
        "id": "mhUGDVWdODa-",
        "colab": {
          "base_uri": "https://localhost:8080/"
        },
        "outputId": "3296e366-e84b-4a23-da08-039b1d85ec71"
      },
      "source": [
        "print(dataset.shape)"
      ],
      "execution_count": null,
      "outputs": [
        {
          "output_type": "stream",
          "text": [
            "(768, 9)\n"
          ],
          "name": "stdout"
        }
      ]
    },
    {
      "cell_type": "code",
      "metadata": {
        "id": "2JMRB8A-OFYH"
      },
      "source": [
        "import random\n",
        "np.random.shuffle(dataset)"
      ],
      "execution_count": null,
      "outputs": []
    },
    {
      "cell_type": "code",
      "metadata": {
        "id": "2gh4Pt_iOYtH",
        "colab": {
          "base_uri": "https://localhost:8080/"
        },
        "outputId": "28dd37fa-484d-4a9e-8eb6-1cfc73ade66b"
      },
      "source": [
        "# Split into training and validation, 30% validation set and 70% training \n",
        "index_30percent = int(0.3 * len(dataset[:, 0]))\n",
        "print(index_30percent)\n",
        "# Validation Sets (30%)\n",
        "XVALID = dataset[:index_30percent, 0:8]\n",
        "YVALID = dataset[:index_30percent, 8 ]\n",
        "\n",
        "# Training sets (70%)\n",
        "XTRAIN = dataset[index_30percent:, 0:8]\n",
        "YTRAIN = dataset[index_30percent:, 8]"
      ],
      "execution_count": null,
      "outputs": [
        {
          "output_type": "stream",
          "text": [
            "230\n"
          ],
          "name": "stdout"
        }
      ]
    },
    {
      "cell_type": "code",
      "metadata": {
        "id": "XCE4734vmj1U",
        "colab": {
          "base_uri": "https://localhost:8080/"
        },
        "outputId": "6c71037b-837f-4fdc-d35b-609d9a4f3e01"
      },
      "source": [
        "print(XVALID[:30])\n",
        "print ('\\n')\n",
        "print(YVALID[:30])"
      ],
      "execution_count": null,
      "outputs": [
        {
          "output_type": "stream",
          "text": [
            "[[3.0000 129.0000 92.0000 49.0000 155.0000 36.4000 0.9680 32.0000]\n",
            " [6.0000 125.0000 76.0000 0.0000 0.0000 33.8000 0.1210 54.0000]\n",
            " [3.0000 191.0000 68.0000 15.0000 130.0000 30.9000 0.2990 34.0000]\n",
            " [1.0000 189.0000 60.0000 23.0000 846.0000 30.1000 0.3980 59.0000]\n",
            " [1.0000 87.0000 68.0000 34.0000 77.0000 37.6000 0.4010 24.0000]\n",
            " [7.0000 142.0000 60.0000 33.0000 190.0000 28.8000 0.6870 61.0000]\n",
            " [0.0000 108.0000 68.0000 20.0000 0.0000 27.3000 0.7870 32.0000]\n",
            " [7.0000 196.0000 90.0000 0.0000 0.0000 39.8000 0.4510 41.0000]\n",
            " [0.0000 78.0000 88.0000 29.0000 40.0000 36.9000 0.4340 21.0000]\n",
            " [1.0000 102.0000 74.0000 0.0000 0.0000 39.5000 0.2930 42.0000]\n",
            " [2.0000 83.0000 65.0000 28.0000 66.0000 36.8000 0.6290 24.0000]\n",
            " [2.0000 128.0000 64.0000 42.0000 0.0000 40.0000 1.1010 24.0000]\n",
            " [8.0000 186.0000 90.0000 35.0000 225.0000 34.5000 0.4230 37.0000]\n",
            " [6.0000 99.0000 60.0000 19.0000 54.0000 26.9000 0.4970 32.0000]\n",
            " [4.0000 131.0000 68.0000 21.0000 166.0000 33.1000 0.1600 28.0000]\n",
            " [3.0000 108.0000 62.0000 24.0000 0.0000 26.0000 0.2230 25.0000]\n",
            " [7.0000 83.0000 78.0000 26.0000 71.0000 29.3000 0.7670 36.0000]\n",
            " [3.0000 150.0000 76.0000 0.0000 0.0000 21.0000 0.2070 37.0000]\n",
            " [5.0000 189.0000 64.0000 33.0000 325.0000 31.2000 0.5830 29.0000]\n",
            " [1.0000 88.0000 30.0000 42.0000 99.0000 55.0000 0.4960 26.0000]\n",
            " [1.0000 126.0000 56.0000 29.0000 152.0000 28.7000 0.8010 21.0000]\n",
            " [0.0000 141.0000 84.0000 26.0000 0.0000 32.4000 0.4330 22.0000]\n",
            " [7.0000 133.0000 84.0000 0.0000 0.0000 40.2000 0.6960 37.0000]\n",
            " [0.0000 113.0000 80.0000 16.0000 0.0000 31.0000 0.8740 21.0000]\n",
            " [2.0000 112.0000 66.0000 22.0000 0.0000 25.0000 0.3070 24.0000]\n",
            " [3.0000 139.0000 54.0000 0.0000 0.0000 25.6000 0.4020 22.0000]\n",
            " [4.0000 128.0000 70.0000 0.0000 0.0000 34.3000 0.3030 24.0000]\n",
            " [3.0000 169.0000 74.0000 19.0000 125.0000 29.9000 0.2680 31.0000]\n",
            " [12.0000 100.0000 84.0000 33.0000 105.0000 30.0000 0.4880 46.0000]\n",
            " [1.0000 99.0000 72.0000 30.0000 18.0000 38.6000 0.4120 21.0000]]\n",
            "\n",
            "\n",
            "[1.0000 1.0000 0.0000 1.0000 0.0000 0.0000 0.0000 1.0000 0.0000 1.0000\n",
            " 0.0000 0.0000 1.0000 0.0000 0.0000 0.0000 0.0000 0.0000 1.0000 1.0000\n",
            " 0.0000 0.0000 0.0000 0.0000 0.0000 1.0000 0.0000 1.0000 0.0000 0.0000]\n"
          ],
          "name": "stdout"
        }
      ]
    },
    {
      "cell_type": "code",
      "metadata": {
        "id": "sI6-EvzDJitP",
        "colab": {
          "base_uri": "https://localhost:8080/"
        },
        "outputId": "1bde973f-c574-4c77-f455-b77c986ac622"
      },
      "source": [
        "print (XVALID.shape, YVALID.shape)"
      ],
      "execution_count": null,
      "outputs": [
        {
          "output_type": "stream",
          "text": [
            "(230, 8) (230,)\n"
          ],
          "name": "stdout"
        }
      ]
    },
    {
      "cell_type": "code",
      "metadata": {
        "id": "yCs85XHMn-m6",
        "colab": {
          "base_uri": "https://localhost:8080/"
        },
        "outputId": "2b90a10c-f87b-4fbe-f5bb-0ee5e5fbfe66"
      },
      "source": [
        "print(XTRAIN[:30])\n",
        "print ('\\n')\n",
        "print(YTRAIN[:30])"
      ],
      "execution_count": null,
      "outputs": [
        {
          "output_type": "stream",
          "text": [
            "[[2.0000 82.0000 52.0000 22.0000 115.0000 28.5000 1.6990 25.0000]\n",
            " [2.0000 146.0000 0.0000 0.0000 0.0000 27.5000 0.2400 28.0000]\n",
            " [1.0000 71.0000 48.0000 18.0000 76.0000 20.4000 0.3230 22.0000]\n",
            " [6.0000 183.0000 94.0000 0.0000 0.0000 40.8000 1.4610 45.0000]\n",
            " [6.0000 165.0000 68.0000 26.0000 168.0000 33.6000 0.6310 49.0000]\n",
            " [1.0000 115.0000 70.0000 30.0000 96.0000 34.6000 0.5290 32.0000]\n",
            " [2.0000 99.0000 70.0000 16.0000 44.0000 20.4000 0.2350 27.0000]\n",
            " [4.0000 76.0000 62.0000 0.0000 0.0000 34.0000 0.3910 25.0000]\n",
            " [3.0000 173.0000 82.0000 48.0000 465.0000 38.4000 2.1370 25.0000]\n",
            " [0.0000 198.0000 66.0000 32.0000 274.0000 41.3000 0.5020 28.0000]\n",
            " [10.0000 168.0000 74.0000 0.0000 0.0000 38.0000 0.5370 34.0000]\n",
            " [4.0000 173.0000 70.0000 14.0000 168.0000 29.7000 0.3610 33.0000]\n",
            " [5.0000 99.0000 74.0000 27.0000 0.0000 29.0000 0.2030 32.0000]\n",
            " [6.0000 105.0000 70.0000 32.0000 68.0000 30.8000 0.1220 37.0000]\n",
            " [0.0000 86.0000 68.0000 32.0000 0.0000 35.8000 0.2380 25.0000]\n",
            " [5.0000 96.0000 74.0000 18.0000 67.0000 33.6000 0.9970 43.0000]\n",
            " [6.0000 123.0000 72.0000 45.0000 230.0000 33.6000 0.7330 34.0000]\n",
            " [2.0000 94.0000 68.0000 18.0000 76.0000 26.0000 0.5610 21.0000]\n",
            " [2.0000 129.0000 84.0000 0.0000 0.0000 28.0000 0.2840 27.0000]\n",
            " [3.0000 163.0000 70.0000 18.0000 105.0000 31.6000 0.2680 28.0000]\n",
            " [3.0000 182.0000 74.0000 0.0000 0.0000 30.5000 0.3450 29.0000]\n",
            " [9.0000 171.0000 110.0000 24.0000 240.0000 45.4000 0.7210 54.0000]\n",
            " [3.0000 99.0000 62.0000 19.0000 74.0000 21.8000 0.2790 26.0000]\n",
            " [0.0000 119.0000 64.0000 18.0000 92.0000 34.9000 0.7250 23.0000]\n",
            " [1.0000 95.0000 82.0000 25.0000 180.0000 35.0000 0.2330 43.0000]\n",
            " [2.0000 155.0000 52.0000 27.0000 540.0000 38.7000 0.2400 25.0000]\n",
            " [1.0000 128.0000 88.0000 39.0000 110.0000 36.5000 1.0570 37.0000]\n",
            " [3.0000 102.0000 74.0000 0.0000 0.0000 29.5000 0.1210 32.0000]\n",
            " [1.0000 153.0000 82.0000 42.0000 485.0000 40.6000 0.6870 23.0000]\n",
            " [12.0000 151.0000 70.0000 40.0000 271.0000 41.8000 0.7420 38.0000]]\n",
            "\n",
            "\n",
            "[0.0000 1.0000 0.0000 0.0000 0.0000 1.0000 0.0000 0.0000 1.0000 1.0000\n",
            " 1.0000 1.0000 0.0000 0.0000 0.0000 0.0000 0.0000 0.0000 0.0000 1.0000\n",
            " 1.0000 1.0000 0.0000 0.0000 1.0000 1.0000 1.0000 0.0000 0.0000 1.0000]\n"
          ],
          "name": "stdout"
        }
      ]
    },
    {
      "cell_type": "code",
      "metadata": {
        "id": "uMvXcRyAJr7j",
        "colab": {
          "base_uri": "https://localhost:8080/"
        },
        "outputId": "b9583469-0f76-4a47-f109-a47a365d06e6"
      },
      "source": [
        "print (XTRAIN.shape, YTRAIN.shape)"
      ],
      "execution_count": null,
      "outputs": [
        {
          "output_type": "stream",
          "text": [
            "(538, 8) (538,)\n"
          ],
          "name": "stdout"
        }
      ]
    },
    {
      "cell_type": "code",
      "metadata": {
        "id": "fs7mIDcgJ10b"
      },
      "source": [
        "# Building Neural Network...\n",
        "from tensorflow.keras.models import Sequential\n",
        "from tensorflow.keras.layers import Dense\n",
        "\n",
        "model = Sequential()\n",
        "model.add(Dense(30, input_dim = 8, activation = 'relu'))\n",
        "model.add(Dense(20, activation = 'relu'))\n",
        "model.add(Dense(15, activation = 'relu'))\n",
        "model.add(Dense(7, activation = 'relu'))\n",
        "model.add(Dense(4, activation = 'relu'))\n",
        "model.add(Dense(1, activation = 'sigmoid'))"
      ],
      "execution_count": null,
      "outputs": []
    },
    {
      "cell_type": "code",
      "metadata": {
        "id": "ClJ984veL7wL",
        "colab": {
          "base_uri": "https://localhost:8080/"
        },
        "outputId": "bb5ebfe4-081d-4765-9f77-4ff21f53c196"
      },
      "source": [
        "model.summary()"
      ],
      "execution_count": null,
      "outputs": [
        {
          "output_type": "stream",
          "text": [
            "Model: \"sequential\"\n",
            "_________________________________________________________________\n",
            "Layer (type)                 Output Shape              Param #   \n",
            "=================================================================\n",
            "dense (Dense)                (None, 30)                270       \n",
            "_________________________________________________________________\n",
            "dense_1 (Dense)              (None, 20)                620       \n",
            "_________________________________________________________________\n",
            "dense_2 (Dense)              (None, 15)                315       \n",
            "_________________________________________________________________\n",
            "dense_3 (Dense)              (None, 7)                 112       \n",
            "_________________________________________________________________\n",
            "dense_4 (Dense)              (None, 4)                 32        \n",
            "_________________________________________________________________\n",
            "dense_5 (Dense)              (None, 1)                 5         \n",
            "=================================================================\n",
            "Total params: 1,354\n",
            "Trainable params: 1,354\n",
            "Non-trainable params: 0\n",
            "_________________________________________________________________\n"
          ],
          "name": "stdout"
        }
      ]
    },
    {
      "cell_type": "code",
      "metadata": {
        "id": "MskFVmEXL-YV"
      },
      "source": [
        "model.compile(loss ='binary_crossentropy', optimizer = 'rmsprop', metrics=['accuracy'])"
      ],
      "execution_count": null,
      "outputs": []
    },
    {
      "cell_type": "code",
      "metadata": {
        "id": "XJ3vJKqrMYwN",
        "colab": {
          "base_uri": "https://localhost:8080/"
        },
        "outputId": "bfcbb0e7-4f43-4f4e-cdee-2e76c1949425"
      },
      "source": [
        "model.fit(XTRAIN, YTRAIN, epochs= 60, verbose = 1)"
      ],
      "execution_count": null,
      "outputs": [
        {
          "output_type": "stream",
          "text": [
            "Epoch 1/60\n",
            "17/17 [==============================] - 0s 4ms/step - loss: 2.4296 - accuracy: 0.3476\n",
            "Epoch 2/60\n",
            "17/17 [==============================] - 0s 4ms/step - loss: 0.7423 - accuracy: 0.5297\n",
            "Epoch 3/60\n",
            "17/17 [==============================] - 0s 3ms/step - loss: 0.6669 - accuracy: 0.6431\n",
            "Epoch 4/60\n",
            "17/17 [==============================] - 0s 3ms/step - loss: 0.6596 - accuracy: 0.6450\n",
            "Epoch 5/60\n",
            "17/17 [==============================] - 0s 3ms/step - loss: 0.6474 - accuracy: 0.6617\n",
            "Epoch 6/60\n",
            "17/17 [==============================] - 0s 3ms/step - loss: 0.6312 - accuracy: 0.6673\n",
            "Epoch 7/60\n",
            "17/17 [==============================] - 0s 3ms/step - loss: 0.6269 - accuracy: 0.6636\n",
            "Epoch 8/60\n",
            "17/17 [==============================] - 0s 3ms/step - loss: 0.6180 - accuracy: 0.6840\n",
            "Epoch 9/60\n",
            "17/17 [==============================] - 0s 3ms/step - loss: 0.6092 - accuracy: 0.6710\n",
            "Epoch 10/60\n",
            "17/17 [==============================] - 0s 3ms/step - loss: 0.6061 - accuracy: 0.6729\n",
            "Epoch 11/60\n",
            "17/17 [==============================] - 0s 3ms/step - loss: 0.6066 - accuracy: 0.6877\n",
            "Epoch 12/60\n",
            "17/17 [==============================] - 0s 3ms/step - loss: 0.5971 - accuracy: 0.6766\n",
            "Epoch 13/60\n",
            "17/17 [==============================] - 0s 3ms/step - loss: 0.6116 - accuracy: 0.6580\n",
            "Epoch 14/60\n",
            "17/17 [==============================] - 0s 3ms/step - loss: 0.5982 - accuracy: 0.6952\n",
            "Epoch 15/60\n",
            "17/17 [==============================] - 0s 3ms/step - loss: 0.5872 - accuracy: 0.6636\n",
            "Epoch 16/60\n",
            "17/17 [==============================] - 0s 3ms/step - loss: 0.5910 - accuracy: 0.6803\n",
            "Epoch 17/60\n",
            "17/17 [==============================] - 0s 3ms/step - loss: 0.5909 - accuracy: 0.6914\n",
            "Epoch 18/60\n",
            "17/17 [==============================] - 0s 4ms/step - loss: 0.5851 - accuracy: 0.6803\n",
            "Epoch 19/60\n",
            "17/17 [==============================] - 0s 4ms/step - loss: 0.5797 - accuracy: 0.7045\n",
            "Epoch 20/60\n",
            "17/17 [==============================] - 0s 3ms/step - loss: 0.5673 - accuracy: 0.7175\n",
            "Epoch 21/60\n",
            "17/17 [==============================] - 0s 3ms/step - loss: 0.5922 - accuracy: 0.6989\n",
            "Epoch 22/60\n",
            "17/17 [==============================] - 0s 3ms/step - loss: 0.5640 - accuracy: 0.7119\n",
            "Epoch 23/60\n",
            "17/17 [==============================] - 0s 3ms/step - loss: 0.5759 - accuracy: 0.7063\n",
            "Epoch 24/60\n",
            "17/17 [==============================] - 0s 3ms/step - loss: 0.5628 - accuracy: 0.7193\n",
            "Epoch 25/60\n",
            "17/17 [==============================] - 0s 3ms/step - loss: 0.5627 - accuracy: 0.7193\n",
            "Epoch 26/60\n",
            "17/17 [==============================] - 0s 3ms/step - loss: 0.5578 - accuracy: 0.7119\n",
            "Epoch 27/60\n",
            "17/17 [==============================] - 0s 3ms/step - loss: 0.5684 - accuracy: 0.7063\n",
            "Epoch 28/60\n",
            "17/17 [==============================] - 0s 3ms/step - loss: 0.5555 - accuracy: 0.7212\n",
            "Epoch 29/60\n",
            "17/17 [==============================] - 0s 3ms/step - loss: 0.5718 - accuracy: 0.6989\n",
            "Epoch 30/60\n",
            "17/17 [==============================] - 0s 3ms/step - loss: 0.5598 - accuracy: 0.7249\n",
            "Epoch 31/60\n",
            "17/17 [==============================] - 0s 3ms/step - loss: 0.5658 - accuracy: 0.7007\n",
            "Epoch 32/60\n",
            "17/17 [==============================] - 0s 3ms/step - loss: 0.5557 - accuracy: 0.7249\n",
            "Epoch 33/60\n",
            "17/17 [==============================] - 0s 3ms/step - loss: 0.5564 - accuracy: 0.7045\n",
            "Epoch 34/60\n",
            "17/17 [==============================] - 0s 3ms/step - loss: 0.5631 - accuracy: 0.7045\n",
            "Epoch 35/60\n",
            "17/17 [==============================] - 0s 4ms/step - loss: 0.5532 - accuracy: 0.7286\n",
            "Epoch 36/60\n",
            "17/17 [==============================] - 0s 3ms/step - loss: 0.5456 - accuracy: 0.7249\n",
            "Epoch 37/60\n",
            "17/17 [==============================] - 0s 3ms/step - loss: 0.5564 - accuracy: 0.7230\n",
            "Epoch 38/60\n",
            "17/17 [==============================] - 0s 3ms/step - loss: 0.5526 - accuracy: 0.6952\n",
            "Epoch 39/60\n",
            "17/17 [==============================] - 0s 3ms/step - loss: 0.5494 - accuracy: 0.7379\n",
            "Epoch 40/60\n",
            "17/17 [==============================] - 0s 4ms/step - loss: 0.5472 - accuracy: 0.7361\n",
            "Epoch 41/60\n",
            "17/17 [==============================] - 0s 3ms/step - loss: 0.5434 - accuracy: 0.7119\n",
            "Epoch 42/60\n",
            "17/17 [==============================] - 0s 3ms/step - loss: 0.5420 - accuracy: 0.7342\n",
            "Epoch 43/60\n",
            "17/17 [==============================] - 0s 3ms/step - loss: 0.5489 - accuracy: 0.7212\n",
            "Epoch 44/60\n",
            "17/17 [==============================] - 0s 4ms/step - loss: 0.5423 - accuracy: 0.7268\n",
            "Epoch 45/60\n",
            "17/17 [==============================] - 0s 3ms/step - loss: 0.5500 - accuracy: 0.7323\n",
            "Epoch 46/60\n",
            "17/17 [==============================] - 0s 3ms/step - loss: 0.5413 - accuracy: 0.7361\n",
            "Epoch 47/60\n",
            "17/17 [==============================] - 0s 4ms/step - loss: 0.5415 - accuracy: 0.7082\n",
            "Epoch 48/60\n",
            "17/17 [==============================] - 0s 3ms/step - loss: 0.5436 - accuracy: 0.7175\n",
            "Epoch 49/60\n",
            "17/17 [==============================] - 0s 4ms/step - loss: 0.5518 - accuracy: 0.7305\n",
            "Epoch 50/60\n",
            "17/17 [==============================] - 0s 4ms/step - loss: 0.5316 - accuracy: 0.7416\n",
            "Epoch 51/60\n",
            "17/17 [==============================] - 0s 3ms/step - loss: 0.5387 - accuracy: 0.7249\n",
            "Epoch 52/60\n",
            "17/17 [==============================] - 0s 3ms/step - loss: 0.5427 - accuracy: 0.7175\n",
            "Epoch 53/60\n",
            "17/17 [==============================] - 0s 3ms/step - loss: 0.5432 - accuracy: 0.7212\n",
            "Epoch 54/60\n",
            "17/17 [==============================] - 0s 3ms/step - loss: 0.5461 - accuracy: 0.7230\n",
            "Epoch 55/60\n",
            "17/17 [==============================] - 0s 3ms/step - loss: 0.5326 - accuracy: 0.7379\n",
            "Epoch 56/60\n",
            "17/17 [==============================] - 0s 3ms/step - loss: 0.5259 - accuracy: 0.7472\n",
            "Epoch 57/60\n",
            "17/17 [==============================] - 0s 3ms/step - loss: 0.5327 - accuracy: 0.7212\n",
            "Epoch 58/60\n",
            "17/17 [==============================] - 0s 4ms/step - loss: 0.5349 - accuracy: 0.7398\n",
            "Epoch 59/60\n",
            "17/17 [==============================] - 0s 3ms/step - loss: 0.5453 - accuracy: 0.7323\n",
            "Epoch 60/60\n",
            "17/17 [==============================] - 0s 3ms/step - loss: 0.5307 - accuracy: 0.7342\n"
          ],
          "name": "stdout"
        },
        {
          "output_type": "execute_result",
          "data": {
            "text/plain": [
              "<tensorflow.python.keras.callbacks.History at 0x7ff3b005bb00>"
            ]
          },
          "metadata": {
            "tags": []
          },
          "execution_count": 17
        }
      ]
    },
    {
      "cell_type": "code",
      "metadata": {
        "id": "s5nz7q19Mi2d",
        "colab": {
          "base_uri": "https://localhost:8080/"
        },
        "outputId": "546d9453-244b-4046-d810-38b48974eb73"
      },
      "source": [
        "# Evaluate on the training set (should deliver high accuracy)\n",
        "P = model.predict(XTRAIN)\n",
        "accuracy = model.evaluate(XTRAIN, YTRAIN)"
      ],
      "execution_count": null,
      "outputs": [
        {
          "output_type": "stream",
          "text": [
            "17/17 [==============================] - 0s 2ms/step - loss: 0.3258 - accuracy: 0.8587\n"
          ],
          "name": "stdout"
        }
      ]
    },
    {
      "cell_type": "code",
      "metadata": {
        "id": "KXVC8sYO31Pr",
        "colab": {
          "base_uri": "https://localhost:8080/"
        },
        "outputId": "8602f420-eb50-4bfe-c76a-c1428b3e4d24"
      },
      "source": [
        "#Evaluate on the validation set\n",
        "P = model.predict(XVALID)\n",
        "accuracy = model.evaluate(XVALID, YVALID)"
      ],
      "execution_count": null,
      "outputs": [
        {
          "output_type": "stream",
          "text": [
            "8/8 [==============================] - 0s 2ms/step - loss: 1.1669 - accuracy: 0.7000\n"
          ],
          "name": "stdout"
        }
      ]
    },
    {
      "cell_type": "code",
      "metadata": {
        "id": "NVV1Ybst36JN"
      },
      "source": [
        ""
      ],
      "execution_count": null,
      "outputs": []
    }
  ]
}