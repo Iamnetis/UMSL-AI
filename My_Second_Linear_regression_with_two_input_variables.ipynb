{
  "nbformat": 4,
  "nbformat_minor": 0,
  "metadata": {
    "colab": {
      "name": "My_Second_Linear_regression_with_two_input_variables.ipynb",
      "provenance": [],
      "collapsed_sections": [],
      "authorship_tag": "ABX9TyN+sSbY/mT4J98zcnzQvLq6",
      "include_colab_link": true
    },
    "kernelspec": {
      "name": "python3",
      "display_name": "Python 3"
    }
  },
  "cells": [
    {
      "cell_type": "markdown",
      "metadata": {
        "id": "view-in-github",
        "colab_type": "text"
      },
      "source": [
        "<a href=\"https://colab.research.google.com/github/Iamnetis/UMSL-AI/blob/main/My_Second_Linear_regression_with_two_input_variables.ipynb\" target=\"_parent\"><img src=\"https://colab.research.google.com/assets/colab-badge.svg\" alt=\"Open In Colab\"/></a>"
      ]
    },
    {
      "cell_type": "code",
      "metadata": {
        "id": "o5pLhXl3xZ-Q",
        "colab": {
          "resources": {
            "http://localhost:8080/nbextensions/google.colab/files.js": {
              "data": "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",
              "ok": true,
              "headers": [
                [
                  "content-type",
                  "application/javascript"
                ]
              ],
              "status": 200,
              "status_text": ""
            }
          },
          "base_uri": "https://localhost:8080/",
          "height": 72
        },
        "outputId": "a4d88df0-1c1f-49c7-cca8-22a2a1708d47"
      },
      "source": [
        "from google.colab import files\n",
        "data = files.upload()"
      ],
      "execution_count": null,
      "outputs": [
        {
          "output_type": "display_data",
          "data": {
            "text/html": [
              "\n",
              "     <input type=\"file\" id=\"files-df1aab90-d0cb-4bad-a3a4-00a1a061c7d0\" name=\"files[]\" multiple disabled\n",
              "        style=\"border:none\" />\n",
              "     <output id=\"result-df1aab90-d0cb-4bad-a3a4-00a1a061c7d0\">\n",
              "      Upload widget is only available when the cell has been executed in the\n",
              "      current browser session. Please rerun this cell to enable.\n",
              "      </output>\n",
              "      <script src=\"/nbextensions/google.colab/files.js\"></script> "
            ],
            "text/plain": [
              "<IPython.core.display.HTML object>"
            ]
          },
          "metadata": {
            "tags": []
          }
        },
        {
          "output_type": "stream",
          "text": [
            "Saving heart_failure_clinical_records_dataset.csv to heart_failure_clinical_records_dataset.csv\n"
          ],
          "name": "stdout"
        }
      ]
    },
    {
      "cell_type": "code",
      "metadata": {
        "id": "Un9YiZYU0JxM",
        "colab": {
          "base_uri": "https://localhost:8080/",
          "height": 224
        },
        "outputId": "d479c919-3141-4aab-fe55-c5b4b6134a85"
      },
      "source": [
        "import pandas as pd\n",
        "data = pd.read_csv('heart_failure_clinical_records_dataset.csv', delimiter = ',')\n",
        "data.head()"
      ],
      "execution_count": null,
      "outputs": [
        {
          "output_type": "execute_result",
          "data": {
            "text/html": [
              "<div>\n",
              "<style scoped>\n",
              "    .dataframe tbody tr th:only-of-type {\n",
              "        vertical-align: middle;\n",
              "    }\n",
              "\n",
              "    .dataframe tbody tr th {\n",
              "        vertical-align: top;\n",
              "    }\n",
              "\n",
              "    .dataframe thead th {\n",
              "        text-align: right;\n",
              "    }\n",
              "</style>\n",
              "<table border=\"1\" class=\"dataframe\">\n",
              "  <thead>\n",
              "    <tr style=\"text-align: right;\">\n",
              "      <th></th>\n",
              "      <th>age</th>\n",
              "      <th>anaemia</th>\n",
              "      <th>creatinine_phosphokinase</th>\n",
              "      <th>diabetes</th>\n",
              "      <th>ejection_fraction</th>\n",
              "      <th>high_blood_pressure</th>\n",
              "      <th>platelets</th>\n",
              "      <th>serum_creatinine</th>\n",
              "      <th>serum_sodium</th>\n",
              "      <th>sex</th>\n",
              "      <th>smoking</th>\n",
              "      <th>time</th>\n",
              "      <th>DEATH_EVENT</th>\n",
              "    </tr>\n",
              "  </thead>\n",
              "  <tbody>\n",
              "    <tr>\n",
              "      <th>0</th>\n",
              "      <td>75.0</td>\n",
              "      <td>0</td>\n",
              "      <td>582</td>\n",
              "      <td>0</td>\n",
              "      <td>20</td>\n",
              "      <td>1</td>\n",
              "      <td>265000.00</td>\n",
              "      <td>1.9</td>\n",
              "      <td>130</td>\n",
              "      <td>1</td>\n",
              "      <td>0</td>\n",
              "      <td>4</td>\n",
              "      <td>1</td>\n",
              "    </tr>\n",
              "    <tr>\n",
              "      <th>1</th>\n",
              "      <td>55.0</td>\n",
              "      <td>0</td>\n",
              "      <td>7861</td>\n",
              "      <td>0</td>\n",
              "      <td>38</td>\n",
              "      <td>0</td>\n",
              "      <td>263358.03</td>\n",
              "      <td>1.1</td>\n",
              "      <td>136</td>\n",
              "      <td>1</td>\n",
              "      <td>0</td>\n",
              "      <td>6</td>\n",
              "      <td>1</td>\n",
              "    </tr>\n",
              "    <tr>\n",
              "      <th>2</th>\n",
              "      <td>65.0</td>\n",
              "      <td>0</td>\n",
              "      <td>146</td>\n",
              "      <td>0</td>\n",
              "      <td>20</td>\n",
              "      <td>0</td>\n",
              "      <td>162000.00</td>\n",
              "      <td>1.3</td>\n",
              "      <td>129</td>\n",
              "      <td>1</td>\n",
              "      <td>1</td>\n",
              "      <td>7</td>\n",
              "      <td>1</td>\n",
              "    </tr>\n",
              "    <tr>\n",
              "      <th>3</th>\n",
              "      <td>50.0</td>\n",
              "      <td>1</td>\n",
              "      <td>111</td>\n",
              "      <td>0</td>\n",
              "      <td>20</td>\n",
              "      <td>0</td>\n",
              "      <td>210000.00</td>\n",
              "      <td>1.9</td>\n",
              "      <td>137</td>\n",
              "      <td>1</td>\n",
              "      <td>0</td>\n",
              "      <td>7</td>\n",
              "      <td>1</td>\n",
              "    </tr>\n",
              "    <tr>\n",
              "      <th>4</th>\n",
              "      <td>65.0</td>\n",
              "      <td>1</td>\n",
              "      <td>160</td>\n",
              "      <td>1</td>\n",
              "      <td>20</td>\n",
              "      <td>0</td>\n",
              "      <td>327000.00</td>\n",
              "      <td>2.7</td>\n",
              "      <td>116</td>\n",
              "      <td>0</td>\n",
              "      <td>0</td>\n",
              "      <td>8</td>\n",
              "      <td>1</td>\n",
              "    </tr>\n",
              "  </tbody>\n",
              "</table>\n",
              "</div>"
            ],
            "text/plain": [
              "    age  anaemia  creatinine_phosphokinase  ...  smoking  time  DEATH_EVENT\n",
              "0  75.0        0                       582  ...        0     4            1\n",
              "1  55.0        0                      7861  ...        0     6            1\n",
              "2  65.0        0                       146  ...        1     7            1\n",
              "3  50.0        1                       111  ...        0     7            1\n",
              "4  65.0        1                       160  ...        0     8            1\n",
              "\n",
              "[5 rows x 13 columns]"
            ]
          },
          "metadata": {
            "tags": []
          },
          "execution_count": 110
        }
      ]
    },
    {
      "cell_type": "code",
      "metadata": {
        "id": "bOCnEElG0pKS"
      },
      "source": [
        "import numpy as np\n",
        "dataset = np.genfromtxt('heart_failure_clinical_records_dataset.csv', delimiter =',', skip_header=True, usecols = (0, 5, 6) )"
      ],
      "execution_count": null,
      "outputs": []
    },
    {
      "cell_type": "code",
      "metadata": {
        "id": "zxgNwVL44EYD",
        "colab": {
          "base_uri": "https://localhost:8080/",
          "height": 34
        },
        "outputId": "d6a98d24-6e51-4192-dc18-0231a06fd8e5"
      },
      "source": [
        "print (dataset.shape)"
      ],
      "execution_count": null,
      "outputs": [
        {
          "output_type": "stream",
          "text": [
            "(299, 3)\n"
          ],
          "name": "stdout"
        }
      ]
    },
    {
      "cell_type": "code",
      "metadata": {
        "id": "WuOvdgNU4GyU",
        "colab": {
          "base_uri": "https://localhost:8080/",
          "height": 102
        },
        "outputId": "b4e618fe-f051-426b-90cd-c2265d34706c"
      },
      "source": [
        "print (dataset[0:5])"
      ],
      "execution_count": null,
      "outputs": [
        {
          "output_type": "stream",
          "text": [
            "[[7.5000e+01 1.0000e+00 2.6500e+05]\n",
            " [5.5000e+01 0.0000e+00 2.6336e+05]\n",
            " [6.5000e+01 0.0000e+00 1.6200e+05]\n",
            " [5.0000e+01 0.0000e+00 2.1000e+05]\n",
            " [6.5000e+01 0.0000e+00 3.2700e+05]]\n"
          ],
          "name": "stdout"
        }
      ]
    },
    {
      "cell_type": "code",
      "metadata": {
        "id": "UY8pWh0C4W23",
        "colab": {
          "base_uri": "https://localhost:8080/",
          "height": 298
        },
        "outputId": "2f735fd2-4711-4618-ab17-b58f0053a5de"
      },
      "source": [
        "import matplotlib.pyplot as plt\n",
        "plt.hist(dataset[:,2])\n",
        "plt.title('Histogram of platelets value For Heart Failure Record..')"
      ],
      "execution_count": null,
      "outputs": [
        {
          "output_type": "execute_result",
          "data": {
            "text/plain": [
              "Text(0.5, 1.0, 'Histogram of platelets value For Heart Failure Record..')"
            ]
          },
          "metadata": {
            "tags": []
          },
          "execution_count": 114
        },
        {
          "output_type": "display_data",
          "data": {
            "image/png": "[encoded data removed]",
            "text/plain": [
              "<Figure size 432x288 with 1 Axes>"
            ]
          },
          "metadata": {
            "tags": [],
            "needs_background": "light"
          }
        }
      ]
    },
    {
      "cell_type": "code",
      "metadata": {
        "id": "zlUwCrA94xuq"
      },
      "source": [
        "high_bp = dataset[:, 0].max()\n",
        "age_max = dataset[:, 1].max()\n",
        "platelets_max = dataset[:, 2].max()"
      ],
      "execution_count": null,
      "outputs": []
    },
    {
      "cell_type": "code",
      "metadata": {
        "id": "Vkk7zrV3CrVb",
        "colab": {
          "base_uri": "https://localhost:8080/",
          "height": 34
        },
        "outputId": "581f00c4-be74-44b2-9da6-fe729031b129"
      },
      "source": [
        "print(data_max, age_max, platelets_max)\n"
      ],
      "execution_count": null,
      "outputs": [
        {
          "output_type": "stream",
          "text": [
            "95.0 1.0 850000.0\n"
          ],
          "name": "stdout"
        }
      ]
    },
    {
      "cell_type": "code",
      "metadata": {
        "id": "hq3WGFtwCumI"
      },
      "source": [
        "dataset[:, 0] = dataset[:, 0] / data_max\n",
        "dataset[:, 1] = dataset[:, 1] / age_max\n",
        "dataset[:, 2] = dataset[:, 2] / platelets_max"
      ],
      "execution_count": null,
      "outputs": []
    },
    {
      "cell_type": "code",
      "metadata": {
        "id": "AKRPlA03CzVF",
        "colab": {
          "base_uri": "https://localhost:8080/",
          "height": 298
        },
        "outputId": "6448c3e4-6147-4f23-b602-eb237f3f7446"
      },
      "source": [
        "import matplotlib.pyplot as plt\n",
        "plt.hist(dataset[:, 2])\n",
        "plt.title('Histogram For Heart Failure Record..')"
      ],
      "execution_count": null,
      "outputs": [
        {
          "output_type": "execute_result",
          "data": {
            "text/plain": [
              "Text(0.5, 1.0, 'Histogram For Heart Failure Record..')"
            ]
          },
          "metadata": {
            "tags": []
          },
          "execution_count": 118
        },
        {
          "output_type": "display_data",
          "data": {
            "image/png": "[encoded data removed]",
            "text/plain": [
              "<Figure size 432x288 with 1 Axes>"
            ]
          },
          "metadata": {
            "tags": [],
            "needs_background": "light"
          }
        }
      ]
    },
    {
      "cell_type": "code",
      "metadata": {
        "id": "V9dc9bcdC3iH"
      },
      "source": [
        "import plotly.express as px\n",
        "import pandas as pd\n",
        "\n",
        "d = {'Age': dataset[:, 0], 'High Blood Pressure': dataset[:, 1], 'platelets': dataset[:, 2]}"
      ],
      "execution_count": null,
      "outputs": []
    },
    {
      "cell_type": "code",
      "metadata": {
        "id": "uwqEnGVpDwZx",
        "colab": {
          "base_uri": "https://localhost:8080/",
          "height": 1000
        },
        "outputId": "3fcfc44c-049f-4b62-fbf9-3f6209e1a1fd"
      },
      "source": [
        "print(d)"
      ],
      "execution_count": null,
      "outputs": [
        {
          "output_type": "stream",
          "text": [
            "{'Age': array([0.7895, 0.5789, 0.6842, 0.5263, 0.6842, 0.9474, 0.7895, 0.6316,\n",
            "       0.6842, 0.8421, 0.7895, 0.6526, 0.4737, 0.5263, 0.5158, 0.8632,\n",
            "       0.9158, 0.4737, 0.7368, 0.5053, 0.6842, 0.6842, 0.7158, 0.5579,\n",
            "       0.7895, 0.8421, 1.    , 0.7368, 0.6105, 0.8632, 0.9895, 0.8947,\n",
            "       0.5263, 0.5263, 0.6842, 0.7263, 0.9474, 0.8632, 0.6316, 0.6316,\n",
            "       0.7368, 0.5263, 0.7368, 0.7579, 0.6316, 0.5263, 0.5368, 0.6316,\n",
            "       0.8421, 0.6   , 0.7158, 0.5579, 0.6316, 0.7368, 0.6316, 1.    ,\n",
            "       0.7368, 0.6316, 0.5158, 0.7579, 0.4737, 0.5263, 0.5789, 0.4737,\n",
            "       0.4737, 0.6316, 0.4421, 0.7579, 0.7368, 0.6842, 0.4316, 0.6105,\n",
            "       0.8947, 0.6842, 0.7263, 0.6316, 0.7368, 0.4421, 0.7895, 0.5789,\n",
            "       0.7368, 0.7053, 0.6316, 0.8316, 0.6211, 0.5368, 0.5789, 0.6842,\n",
            "       0.4632, 0.6   , 0.7368, 0.6316, 0.4421, 0.6316, 0.6105, 0.6105,\n",
            "       0.6632, 0.7368, 0.6316, 0.6632, 0.6842, 0.7895, 0.8421, 0.4421,\n",
            "       0.6316, 0.7579, 0.5789, 0.4737, 0.6632, 0.4737, 0.8947, 0.5789,\n",
            "       0.5263, 0.7368, 0.6316, 0.6105, 0.6316, 0.8947, 0.6842, 0.9053,\n",
            "       0.6316, 0.6947, 0.6316, 0.6316, 0.6316, 0.4526, 0.4842, 0.6105,\n",
            "       0.6421, 0.5579, 0.5579, 0.6316, 0.4842, 0.6632, 0.8526, 0.7895,\n",
            "       0.6842, 0.7158, 0.6526, 0.5263, 0.8421, 0.4842, 0.5263, 0.6421,\n",
            "       0.7579, 0.5263, 0.5474, 0.6737, 0.7895, 0.6316, 0.7579, 0.6526,\n",
            "       0.5263, 0.5263, 0.6842, 0.6316, 0.5474, 0.5263, 0.8947, 0.6211,\n",
            "       0.6947, 0.4737, 0.6632, 0.5263, 0.4737, 0.8421, 0.5579, 0.6211,\n",
            "       0.6842, 0.7368, 0.5368, 0.5474, 0.7368, 0.5263, 0.6842, 0.6316,\n",
            "       0.7263, 0.5158, 0.6632, 0.5789, 0.4211, 0.6211, 0.6842, 0.7895,\n",
            "       0.6105, 0.6386, 0.5263, 0.6316, 0.6386, 0.4211, 0.8421, 0.6737,\n",
            "       0.5263, 0.7684, 0.4737, 0.8105, 0.4737, 0.6842, 0.5263, 0.6316,\n",
            "       0.6632, 0.4737, 0.7368, 0.6316, 0.8211, 0.5263, 0.4211, 0.8947,\n",
            "       0.6316, 0.5158, 0.7368, 0.5263, 0.8211, 0.5053, 0.6842, 0.7684,\n",
            "       0.7368, 0.5684, 0.7158, 0.5789, 0.7684, 0.6842, 0.4421, 0.4947,\n",
            "       0.6105, 0.7895, 0.6105, 0.5789, 0.6842, 0.7579, 0.6316, 0.7368,\n",
            "       0.4211, 0.5579, 0.5579, 0.8105, 0.7895, 0.7368, 0.6842, 0.5789,\n",
            "       0.7368, 0.6842, 0.4211, 0.7684, 0.5684, 0.6421, 0.5789, 0.6737,\n",
            "       0.4211, 0.5579, 0.5263, 0.5789, 0.5263, 0.7368, 0.5579, 0.5474,\n",
            "       0.6842, 0.6105, 0.4737, 0.5579, 0.5789, 0.6526, 0.6842, 0.7158,\n",
            "       0.6421, 0.5263, 0.5789, 0.5895, 0.4737, 0.4211, 0.4632, 0.5368,\n",
            "       0.7053, 0.4421, 0.6316, 0.4737, 0.7368, 0.7368, 0.5263, 0.5789,\n",
            "       0.7368, 0.7368, 0.4421, 0.6842, 0.5263, 0.5789, 0.6316, 0.4737,\n",
            "       0.6842, 0.9474, 0.4737, 0.6316, 0.5474, 0.6632, 0.6526, 0.5789,\n",
            "       0.4737, 0.4737, 0.5263]), 'High Blood Pressure': array([1., 0., 0., 0., 0., 1., 0., 0., 0., 1., 1., 1., 0., 1., 1., 0., 0.,\n",
            "       0., 1., 0., 1., 1., 1., 0., 1., 0., 1., 1., 0., 0., 1., 0., 1., 0.,\n",
            "       1., 0., 0., 1., 0., 0., 1., 1., 1., 1., 0., 0., 1., 1., 1., 0., 1.,\n",
            "       1., 0., 1., 0., 0., 0., 0., 1., 1., 1., 1., 0., 0., 0., 0., 0., 0.,\n",
            "       0., 0., 0., 0., 0., 0., 0., 0., 1., 0., 1., 1., 0., 0., 0., 1., 1.,\n",
            "       0., 1., 1., 1., 1., 0., 0., 0., 0., 1., 1., 1., 0., 1., 0., 0., 1.,\n",
            "       0., 0., 1., 1., 0., 0., 0., 0., 0., 0., 0., 0., 1., 0., 1., 0., 1.,\n",
            "       0., 1., 1., 0., 1., 0., 0., 1., 0., 1., 0., 1., 0., 1., 1., 0., 0.,\n",
            "       0., 0., 0., 1., 0., 0., 0., 1., 1., 0., 0., 0., 0., 1., 1., 1., 1.,\n",
            "       0., 1., 0., 0., 0., 0., 1., 1., 0., 0., 0., 0., 1., 0., 0., 0., 1.,\n",
            "       0., 0., 1., 0., 1., 0., 0., 0., 0., 0., 0., 0., 0., 1., 0., 0., 0.,\n",
            "       0., 1., 1., 0., 0., 0., 0., 1., 0., 1., 0., 1., 0., 0., 1., 1., 1.,\n",
            "       0., 0., 0., 0., 0., 1., 1., 1., 0., 1., 1., 1., 1., 1., 0., 1., 0.,\n",
            "       0., 0., 0., 0., 0., 0., 1., 0., 0., 0., 0., 0., 0., 0., 1., 1., 0.,\n",
            "       0., 0., 1., 0., 0., 1., 0., 0., 0., 0., 0., 0., 1., 0., 1., 1., 1.,\n",
            "       1., 0., 1., 0., 0., 0., 0., 0., 0., 0., 0., 0., 0., 0., 0., 1., 0.,\n",
            "       0., 0., 0., 1., 0., 0., 0., 0., 0., 0., 0., 0., 0., 0., 0., 0., 0.,\n",
            "       0., 0., 0., 0., 0., 1., 0., 0., 0., 0.]), 'platelets': array([0.3118, 0.3098, 0.1906, 0.2471, 0.3847, 0.24  , 0.1494, 0.5341,\n",
            "       0.3098, 0.4565, 0.4329, 0.2976, 0.16  , 0.3247, 0.5024, 0.0553,\n",
            "       0.3082, 0.1953, 0.2788, 0.1024, 0.3247, 0.3494, 0.34  , 0.4329,\n",
            "       0.3098, 0.1753, 0.2306, 0.3341, 0.18  , 0.2353, 0.3098, 0.4235,\n",
            "       0.3753, 0.3553, 0.2212, 0.2682, 0.2659, 0.3776, 0.3588, 0.3871,\n",
            "       0.3098, 0.18  , 0.2176, 0.2565, 0.2282, 0.3647, 0.3188, 0.5306,\n",
            "       0.1647, 0.4647, 0.1953, 0.4918, 0.3098, 0.4129, 0.3   , 0.5424,\n",
            "       0.2624, 0.2541, 0.3753, 0.2988, 0.4588, 0.2541, 0.2988, 0.4529,\n",
            "       0.3098, 0.14  , 0.2506, 0.3224, 0.2871, 0.5847, 0.44  , 0.1435,\n",
            "       0.2859, 0.1753, 0.3129, 0.24  , 0.3729, 0.2788, 0.3329, 0.3812,\n",
            "       0.3447, 0.3098, 0.2306, 0.2024, 0.3553, 0.4776, 0.2035, 0.3576,\n",
            "       0.2765, 0.2129, 0.2929, 0.3494, 0.3098, 0.2471, 0.3847, 0.2576,\n",
            "       0.2988, 0.3   , 0.3741, 0.26  , 0.3506, 0.3098, 0.1753, 0.2659,\n",
            "       0.3365, 0.7306, 0.3094, 0.2659, 0.3576, 1.    , 0.36  , 0.2682,\n",
            "       0.2965, 0.4129, 0.3859, 0.1929, 0.3188, 0.5965, 0.2388, 0.3098,\n",
            "       0.2471, 0.1906, 0.2682, 0.1494, 0.2553, 0.2788, 0.3188, 0.3529,\n",
            "       0.3141, 0.2671, 0.2929, 0.2941, 0.3098, 0.3471, 0.2718, 0.3098,\n",
            "       0.2024, 0.3588, 0.26  , 0.2482, 0.3098, 0.4094, 0.3871, 0.2694,\n",
            "       0.3976, 0.3129, 0.2565, 0.2847, 0.2647, 0.2682, 0.2765, 0.2871,\n",
            "       0.2165, 0.3098, 0.2765, 0.2282, 0.3259, 0.3082, 0.2765, 0.4259,\n",
            "       0.2847, 0.2047, 0.5271, 0.0882, 0.3929, 0.2259, 0.2588, 0.0824,\n",
            "       0.3176, 0.3588, 0.3098, 0.3824, 0.2071, 0.2224, 0.3306, 0.3965,\n",
            "       0.1235, 0.1553, 0.3141, 0.3282, 0.3565, 0.26  , 0.3118, 0.2635,\n",
            "       0.2576, 0.4576, 0.18  , 0.4294, 0.2365, 0.3235, 0.4118, 0.3635,\n",
            "       0.3059, 0.1882, 0.1482, 0.2624, 0.3098, 0.3047, 0.3282, 0.3098,\n",
            "       0.0859, 0.4435, 0.2588, 0.2494, 0.3259, 0.4259, 0.2659, 0.2188,\n",
            "       0.3329, 0.3153, 0.4576, 0.1729, 0.5659, 0.2871, 0.3412, 0.2388,\n",
            "       0.4212, 0.1776, 0.3188, 0.4365, 0.3098, 0.2282, 0.4294, 0.1529,\n",
            "       0.5929, 0.3118, 0.2224, 0.1659, 0.2788, 0.3224, 0.0729, 0.2176,\n",
            "       0.3   , 0.3882, 0.3588, 0.4776, 0.2918, 0.2035, 0.3024, 0.3098,\n",
            "       0.6271, 0.2929, 0.3   , 0.2588, 0.3106, 0.3318, 0.3694, 0.2894,\n",
            "       0.3541, 0.2624, 0.4753, 0.2718, 0.3224, 0.2776, 0.3098, 0.3929,\n",
            "       0.3459, 0.2976, 0.2741, 0.3624, 0.2388, 0.3329, 0.2329, 0.2447,\n",
            "       0.1729, 0.4259, 0.3098, 0.1565, 0.3553, 0.2612, 0.3098, 0.26  ,\n",
            "       0.2529, 0.2224, 0.1765, 0.4965, 0.3847, 0.0295, 0.2729, 0.5306,\n",
            "       0.2835, 0.06  , 0.2529, 0.3098, 0.3282, 0.3953, 0.3282, 0.6388,\n",
            "       0.3098, 0.4588, 0.2612, 0.1565, 0.4494, 0.2106, 0.1824, 0.3176,\n",
            "       0.8729, 0.1647, 0.4647])}\n"
          ],
          "name": "stdout"
        }
      ]
    },
    {
      "cell_type": "code",
      "metadata": {
        "id": "y9znBn0XDxrM",
        "colab": {
          "base_uri": "https://localhost:8080/",
          "height": 542
        },
        "outputId": "fdc0fe9c-623a-4ec0-a917-387b33ad1f97"
      },
      "source": [
        "df = pd.DataFrame(data=d)\n",
        "\n",
        "fig = px.scatter_3d(df,\n",
        "                    x= 'platelets',\n",
        "                    y = 'High Blood Pressure',\n",
        "                    z = 'Age', opacity = 0.4)\n",
        "fig.show()"
      ],
      "execution_count": null,
      "outputs": [
        {
          "output_type": "display_data",
          "data": {
            "text/html": [
              "<html>\n",
              "<head><meta charset=\"utf-8\" /></head>\n",
              "<body>\n",
              "    <div>\n",
              "            <script src=\"https://cdnjs.cloudflare.com/ajax/libs/mathjax/2.7.5/MathJax.js?config=TeX-AMS-MML_SVG\"></script><script type=\"text/javascript\">if (window.MathJax) {MathJax.Hub.Config({SVG: {font: \"STIX-Web\"}});}</script>\n",
              "                <script type=\"text/javascript\">window.PlotlyConfig = {MathJaxConfig: 'local'};</script>\n",
              "        <script src=\"https://cdn.plot.ly/plotly-latest.min.js\"></script>    \n",
              "            <div id=\"4cb84d2e-df10-4700-9b83-1e9f6dda8137\" class=\"plotly-graph-div\" style=\"height:525px; width:100%;\"></div>\n",
              "            <script type=\"text/javascript\">\n",
              "                \n",
              "                    window.PLOTLYENV=window.PLOTLYENV || {};\n",
              "                    \n",
              "                if (document.getElementById(\"4cb84d2e-df10-4700-9b83-1e9f6dda8137\")) {\n",
              "                    Plotly.newPlot(\n",
              "                        '4cb84d2e-df10-4700-9b83-1e9f6dda8137',\n",
              "                        [{\"hoverlabel\": {\"namelength\": 0}, \"hovertemplate\": \"platelets=%{x}<br>High Blood Pressure=%{y}<br>Age=%{z}\", \"legendgroup\": \"\", \"marker\": {\"color\": \"#636efa\", \"opacity\": 0.4, \"symbol\": \"circle\"}, \"mode\": \"markers\", \"name\": \"\", \"scene\": \"scene\", \"showlegend\": false, \"type\": \"scatter3d\", \"x\": [0.31176470588235294, 0.3098329764705883, 0.19058823529411764, 0.24705882352941178, 0.3847058823529412, 0.24, 0.14941176470588236, 0.5341176470588235, 0.3098329764705883, 0.45647058823529413, 0.4329411764705882, 0.29764705882352943, 0.16, 0.3247058823529412, 0.5023529411764706, 0.05529411764705883, 0.30823529411764705, 0.1952941176470588, 0.2788235294117647, 0.10235294117647059, 0.3247058823529412, 0.34941176470588237, 0.34, 0.4329411764705882, 0.3098329764705883, 0.17529411764705882, 0.23058823529411765, 0.3341176470588235, 0.18, 0.23529411764705882, 0.3098329764705883, 0.4235294117647059, 0.37529411764705883, 0.3552941176470588, 0.2211764705882353, 0.26823529411764707, 0.26588235294117646, 0.3776470588235294, 0.3588235294117647, 0.3870588235294118, 0.3098329764705883, 0.18, 0.21764705882352942, 0.2564705882352941, 0.22823529411764706, 0.36470588235294116, 0.31882352941176473, 0.5305882352941177, 0.16470588235294117, 0.4647058823529412, 0.1952941176470588, 0.49176470588235294, 0.3098329764705883, 0.41294117647058826, 0.3, 0.5423529411764706, 0.26235294117647057, 0.2541176470588235, 0.37529411764705883, 0.2988235294117647, 0.4588235294117647, 0.2541176470588235, 0.2988235294117647, 0.45294117647058824, 0.3098329764705883, 0.14, 0.25058823529411767, 0.32235294117647056, 0.28705882352941176, 0.5847058823529412, 0.44, 0.14352941176470588, 0.2858823529411765, 0.17529411764705882, 0.3129411764705882, 0.24, 0.3729411764705882, 0.2788235294117647, 0.33294117647058824, 0.3811764705882353, 0.3447058823529412, 0.3098329764705883, 0.23058823529411765, 0.2023529411764706, 0.3552941176470588, 0.4776470588235294, 0.20352941176470588, 0.35764705882352943, 0.27647058823529413, 0.21294117647058824, 0.29294117647058826, 0.34941176470588237, 0.3098329764705883, 0.24705882352941178, 0.3847058823529412, 0.2576470588235294, 0.2988235294117647, 0.3, 0.37411764705882355, 0.26, 0.35058823529411764, 0.3098329764705883, 0.17529411764705882, 0.26588235294117646, 0.33647058823529413, 0.7305882352941176, 0.30941176470588233, 0.26588235294117646, 0.35764705882352943, 1.0, 0.36, 0.26823529411764707, 0.2964705882352941, 0.41294117647058826, 0.38588235294117645, 0.19294117647058823, 0.31882352941176473, 0.5964705882352941, 0.2388235294117647, 0.3098329764705883, 0.24705882352941178, 0.19058823529411764, 0.26823529411764707, 0.14941176470588236, 0.25529411764705884, 0.2788235294117647, 0.31882352941176473, 0.35294117647058826, 0.31411764705882356, 0.26705882352941174, 0.29294117647058826, 0.29411764705882354, 0.3098329764705883, 0.34705882352941175, 0.27176470588235296, 0.3098329764705883, 0.2023529411764706, 0.3588235294117647, 0.26, 0.24823529411764705, 0.3098329764705883, 0.40941176470588236, 0.3870588235294118, 0.26941176470588235, 0.3976470588235294, 0.3129411764705882, 0.2564705882352941, 0.2847058823529412, 0.2647058823529412, 0.26823529411764707, 0.27647058823529413, 0.28705882352941176, 0.2164705882352941, 0.3098329764705883, 0.27647058823529413, 0.22823529411764706, 0.32588235294117646, 0.30823529411764705, 0.27647058823529413, 0.4258823529411765, 0.2847058823529412, 0.20470588235294118, 0.5270588235294118, 0.08823529411764706, 0.39294117647058824, 0.22588235294117648, 0.25882352941176473, 0.08235294117647059, 0.3176470588235294, 0.3588235294117647, 0.3098329764705883, 0.38235294117647056, 0.20705882352941177, 0.2223529411764706, 0.3305882352941176, 0.39647058823529413, 0.12352941176470589, 0.15529411764705883, 0.31411764705882356, 0.32823529411764707, 0.3564705882352941, 0.26, 0.31176470588235294, 0.2635294117647059, 0.2576470588235294, 0.4576470588235294, 0.18, 0.4294117647058823, 0.23647058823529413, 0.3235294117647059, 0.4117647058823529, 0.3635294117647059, 0.3058823529411765, 0.18823529411764706, 0.14823529411764705, 0.26235294117647057, 0.3098329764705883, 0.30470588235294116, 0.32823529411764707, 0.3098329764705883, 0.08588235294117647, 0.4435294117647059, 0.25882352941176473, 0.24941176470588236, 0.32588235294117646, 0.4258823529411765, 0.26588235294117646, 0.2188235294117647, 0.33294117647058824, 0.31529411764705884, 0.4576470588235294, 0.17294117647058824, 0.5658823529411765, 0.28705882352941176, 0.3411764705882353, 0.2388235294117647, 0.4211764705882353, 0.1776470588235294, 0.31882352941176473, 0.4364705882352941, 0.3098329764705883, 0.22823529411764706, 0.4294117647058823, 0.15294117647058825, 0.5929411764705882, 0.31176470588235294, 0.2223529411764706, 0.16588235294117648, 0.2788235294117647, 0.32235294117647056, 0.07294117647058823, 0.21764705882352942, 0.3, 0.38823529411764707, 0.3588235294117647, 0.4776470588235294, 0.2917647058823529, 0.20352941176470588, 0.3023529411764706, 0.3098329764705883, 0.6270588235294118, 0.29294117647058826, 0.3, 0.25882352941176473, 0.31058823529411766, 0.33176470588235296, 0.36941176470588233, 0.28941176470588237, 0.35411764705882354, 0.26235294117647057, 0.4752941176470588, 0.27176470588235296, 0.32235294117647056, 0.2776470588235294, 0.3098329764705883, 0.39294117647058824, 0.3458823529411765, 0.29764705882352943, 0.2741176470588235, 0.3623529411764706, 0.2388235294117647, 0.33294117647058824, 0.23294117647058823, 0.2447058823529412, 0.17294117647058824, 0.4258823529411765, 0.3098329764705883, 0.1564705882352941, 0.3552941176470588, 0.2611764705882353, 0.3098329764705883, 0.26, 0.2529411764705882, 0.2223529411764706, 0.17647058823529413, 0.4964705882352941, 0.3847058823529412, 0.029529411764705884, 0.27294117647058824, 0.5305882352941177, 0.28352941176470586, 0.06, 0.2529411764705882, 0.3098329764705883, 0.32823529411764707, 0.3952941176470588, 0.32823529411764707, 0.6388235294117647, 0.3098329764705883, 0.4588235294117647, 0.2611764705882353, 0.1564705882352941, 0.44941176470588234, 0.21058823529411766, 0.18235294117647058, 0.3176470588235294, 0.8729411764705882, 0.16470588235294117, 0.4647058823529412], \"y\": [1.0, 0.0, 0.0, 0.0, 0.0, 1.0, 0.0, 0.0, 0.0, 1.0, 1.0, 1.0, 0.0, 1.0, 1.0, 0.0, 0.0, 0.0, 1.0, 0.0, 1.0, 1.0, 1.0, 0.0, 1.0, 0.0, 1.0, 1.0, 0.0, 0.0, 1.0, 0.0, 1.0, 0.0, 1.0, 0.0, 0.0, 1.0, 0.0, 0.0, 1.0, 1.0, 1.0, 1.0, 0.0, 0.0, 1.0, 1.0, 1.0, 0.0, 1.0, 1.0, 0.0, 1.0, 0.0, 0.0, 0.0, 0.0, 1.0, 1.0, 1.0, 1.0, 0.0, 0.0, 0.0, 0.0, 0.0, 0.0, 0.0, 0.0, 0.0, 0.0, 0.0, 0.0, 0.0, 0.0, 1.0, 0.0, 1.0, 1.0, 0.0, 0.0, 0.0, 1.0, 1.0, 0.0, 1.0, 1.0, 1.0, 1.0, 0.0, 0.0, 0.0, 0.0, 1.0, 1.0, 1.0, 0.0, 1.0, 0.0, 0.0, 1.0, 0.0, 0.0, 1.0, 1.0, 0.0, 0.0, 0.0, 0.0, 0.0, 0.0, 0.0, 0.0, 1.0, 0.0, 1.0, 0.0, 1.0, 0.0, 1.0, 1.0, 0.0, 1.0, 0.0, 0.0, 1.0, 0.0, 1.0, 0.0, 1.0, 0.0, 1.0, 1.0, 0.0, 0.0, 0.0, 0.0, 0.0, 1.0, 0.0, 0.0, 0.0, 1.0, 1.0, 0.0, 0.0, 0.0, 0.0, 1.0, 1.0, 1.0, 1.0, 0.0, 1.0, 0.0, 0.0, 0.0, 0.0, 1.0, 1.0, 0.0, 0.0, 0.0, 0.0, 1.0, 0.0, 0.0, 0.0, 1.0, 0.0, 0.0, 1.0, 0.0, 1.0, 0.0, 0.0, 0.0, 0.0, 0.0, 0.0, 0.0, 0.0, 1.0, 0.0, 0.0, 0.0, 0.0, 1.0, 1.0, 0.0, 0.0, 0.0, 0.0, 1.0, 0.0, 1.0, 0.0, 1.0, 0.0, 0.0, 1.0, 1.0, 1.0, 0.0, 0.0, 0.0, 0.0, 0.0, 1.0, 1.0, 1.0, 0.0, 1.0, 1.0, 1.0, 1.0, 1.0, 0.0, 1.0, 0.0, 0.0, 0.0, 0.0, 0.0, 0.0, 0.0, 1.0, 0.0, 0.0, 0.0, 0.0, 0.0, 0.0, 0.0, 1.0, 1.0, 0.0, 0.0, 0.0, 1.0, 0.0, 0.0, 1.0, 0.0, 0.0, 0.0, 0.0, 0.0, 0.0, 1.0, 0.0, 1.0, 1.0, 1.0, 1.0, 0.0, 1.0, 0.0, 0.0, 0.0, 0.0, 0.0, 0.0, 0.0, 0.0, 0.0, 0.0, 0.0, 0.0, 1.0, 0.0, 0.0, 0.0, 0.0, 1.0, 0.0, 0.0, 0.0, 0.0, 0.0, 0.0, 0.0, 0.0, 0.0, 0.0, 0.0, 0.0, 0.0, 0.0, 0.0, 0.0, 0.0, 0.0, 1.0, 0.0, 0.0, 0.0, 0.0], \"z\": [0.7894736842105263, 0.5789473684210527, 0.6842105263157895, 0.5263157894736842, 0.6842105263157895, 0.9473684210526315, 0.7894736842105263, 0.631578947368421, 0.6842105263157895, 0.8421052631578947, 0.7894736842105263, 0.6526315789473685, 0.47368421052631576, 0.5263157894736842, 0.5157894736842106, 0.8631578947368421, 0.9157894736842105, 0.47368421052631576, 0.7368421052631579, 0.5052631578947369, 0.6842105263157895, 0.6842105263157895, 0.7157894736842105, 0.5578947368421052, 0.7894736842105263, 0.8421052631578947, 1.0, 0.7368421052631579, 0.6105263157894737, 0.8631578947368421, 0.9894736842105263, 0.8947368421052632, 0.5263157894736842, 0.5263157894736842, 0.6842105263157895, 0.7263157894736842, 0.9473684210526315, 0.8631578947368421, 0.631578947368421, 0.631578947368421, 0.7368421052631579, 0.5263157894736842, 0.7368421052631579, 0.7578947368421053, 0.631578947368421, 0.5263157894736842, 0.5368421052631579, 0.631578947368421, 0.8421052631578947, 0.6, 0.7157894736842105, 0.5578947368421052, 0.631578947368421, 0.7368421052631579, 0.631578947368421, 1.0, 0.7368421052631579, 0.631578947368421, 0.5157894736842106, 0.7578947368421053, 0.47368421052631576, 0.5263157894736842, 0.5789473684210527, 0.47368421052631576, 0.47368421052631576, 0.631578947368421, 0.4421052631578947, 0.7578947368421053, 0.7368421052631579, 0.6842105263157895, 0.43157894736842106, 0.6105263157894737, 0.8947368421052632, 0.6842105263157895, 0.7263157894736842, 0.631578947368421, 0.7368421052631579, 0.4421052631578947, 0.7894736842105263, 0.5789473684210527, 0.7368421052631579, 0.7052631578947368, 0.631578947368421, 0.8315789473684211, 0.6210526315789474, 0.5368421052631579, 0.5789473684210527, 0.6842105263157895, 0.4631578947368421, 0.6, 0.7368421052631579, 0.631578947368421, 0.4421052631578947, 0.631578947368421, 0.6105263157894737, 0.6105263157894737, 0.6631578947368421, 0.7368421052631579, 0.631578947368421, 0.6631578947368421, 0.6842105263157895, 0.7894736842105263, 0.8421052631578947, 0.4421052631578947, 0.631578947368421, 0.7578947368421053, 0.5789473684210527, 0.47368421052631576, 0.6631578947368421, 0.47368421052631576, 0.8947368421052632, 0.5789473684210527, 0.5263157894736842, 0.7368421052631579, 0.631578947368421, 0.6105263157894737, 0.631578947368421, 0.8947368421052632, 0.6842105263157895, 0.9052631578947369, 0.631578947368421, 0.6947368421052632, 0.631578947368421, 0.631578947368421, 0.631578947368421, 0.45263157894736844, 0.4842105263157895, 0.6105263157894737, 0.6421052631578947, 0.5578947368421052, 0.5578947368421052, 0.631578947368421, 0.4842105263157895, 0.6631578947368421, 0.8526315789473684, 0.7894736842105263, 0.6842105263157895, 0.7157894736842105, 0.6526315789473685, 0.5263157894736842, 0.8421052631578947, 0.4842105263157895, 0.5263157894736842, 0.6421052631578947, 0.7578947368421053, 0.5263157894736842, 0.5473684210526316, 0.6736842105263158, 0.7894736842105263, 0.631578947368421, 0.7578947368421053, 0.6526315789473685, 0.5263157894736842, 0.5263157894736842, 0.6842105263157895, 0.631578947368421, 0.5473684210526316, 0.5263157894736842, 0.8947368421052632, 0.6210526315789474, 0.6947368421052632, 0.47368421052631576, 0.6631578947368421, 0.5263157894736842, 0.47368421052631576, 0.8421052631578947, 0.5578947368421052, 0.6210526315789474, 0.6842105263157895, 0.7368421052631579, 0.5368421052631579, 0.5473684210526316, 0.7368421052631579, 0.5263157894736842, 0.6842105263157895, 0.631578947368421, 0.7263157894736842, 0.5157894736842106, 0.6631578947368421, 0.5789473684210527, 0.42105263157894735, 0.6210526315789474, 0.6842105263157895, 0.7894736842105263, 0.6105263157894737, 0.6386000000000001, 0.5263157894736842, 0.631578947368421, 0.6386000000000001, 0.42105263157894735, 0.8421052631578947, 0.6736842105263158, 0.5263157894736842, 0.7684210526315789, 0.47368421052631576, 0.8105263157894737, 0.47368421052631576, 0.6842105263157895, 0.5263157894736842, 0.631578947368421, 0.6631578947368421, 0.47368421052631576, 0.7368421052631579, 0.631578947368421, 0.8210526315789474, 0.5263157894736842, 0.42105263157894735, 0.8947368421052632, 0.631578947368421, 0.5157894736842106, 0.7368421052631579, 0.5263157894736842, 0.8210526315789474, 0.5052631578947369, 0.6842105263157895, 0.7684210526315789, 0.7368421052631579, 0.5684210526315789, 0.7157894736842105, 0.5789473684210527, 0.7684210526315789, 0.6842105263157895, 0.4421052631578947, 0.49473684210526314, 0.6105263157894737, 0.7894736842105263, 0.6105263157894737, 0.5789473684210527, 0.6842105263157895, 0.7578947368421053, 0.631578947368421, 0.7368421052631579, 0.42105263157894735, 0.5578947368421052, 0.5578947368421052, 0.8105263157894737, 0.7894736842105263, 0.7368421052631579, 0.6842105263157895, 0.5789473684210527, 0.7368421052631579, 0.6842105263157895, 0.42105263157894735, 0.7684210526315789, 0.5684210526315789, 0.6421052631578947, 0.5789473684210527, 0.6736842105263158, 0.42105263157894735, 0.5578947368421052, 0.5263157894736842, 0.5789473684210527, 0.5263157894736842, 0.7368421052631579, 0.5578947368421052, 0.5473684210526316, 0.6842105263157895, 0.6105263157894737, 0.47368421052631576, 0.5578947368421052, 0.5789473684210527, 0.6526315789473685, 0.6842105263157895, 0.7157894736842105, 0.6421052631578947, 0.5263157894736842, 0.5789473684210527, 0.5894736842105263, 0.47368421052631576, 0.42105263157894735, 0.4631578947368421, 0.5368421052631579, 0.7052631578947368, 0.4421052631578947, 0.631578947368421, 0.47368421052631576, 0.7368421052631579, 0.7368421052631579, 0.5263157894736842, 0.5789473684210527, 0.7368421052631579, 0.7368421052631579, 0.4421052631578947, 0.6842105263157895, 0.5263157894736842, 0.5789473684210527, 0.631578947368421, 0.47368421052631576, 0.6842105263157895, 0.9473684210526315, 0.47368421052631576, 0.631578947368421, 0.5473684210526316, 0.6631578947368421, 0.6526315789473685, 0.5789473684210527, 0.47368421052631576, 0.47368421052631576, 0.5263157894736842]}],\n",
              "                        {\"legend\": {\"tracegroupgap\": 0}, \"margin\": {\"t\": 60}, \"scene\": {\"domain\": {\"x\": [0.0, 1.0], \"y\": [0.0, 1.0]}, \"xaxis\": {\"title\": {\"text\": \"platelets\"}}, \"yaxis\": {\"title\": {\"text\": \"High Blood Pressure\"}}, \"zaxis\": {\"title\": {\"text\": \"Age\"}}}, \"template\": {\"data\": {\"bar\": [{\"error_x\": {\"color\": \"#2a3f5f\"}, \"error_y\": {\"color\": \"#2a3f5f\"}, \"marker\": {\"line\": {\"color\": \"#E5ECF6\", \"width\": 0.5}}, \"type\": \"bar\"}], \"barpolar\": [{\"marker\": {\"line\": {\"color\": \"#E5ECF6\", \"width\": 0.5}}, \"type\": \"barpolar\"}], \"carpet\": [{\"aaxis\": {\"endlinecolor\": \"#2a3f5f\", \"gridcolor\": \"white\", \"linecolor\": \"white\", \"minorgridcolor\": \"white\", \"startlinecolor\": \"#2a3f5f\"}, \"baxis\": {\"endlinecolor\": \"#2a3f5f\", \"gridcolor\": \"white\", \"linecolor\": \"white\", \"minorgridcolor\": \"white\", \"startlinecolor\": \"#2a3f5f\"}, \"type\": \"carpet\"}], \"choropleth\": [{\"colorbar\": {\"outlinewidth\": 0, \"ticks\": \"\"}, \"type\": \"choropleth\"}], \"contour\": [{\"colorbar\": {\"outlinewidth\": 0, \"ticks\": \"\"}, \"colorscale\": [[0.0, \"#0d0887\"], [0.1111111111111111, \"#46039f\"], [0.2222222222222222, \"#7201a8\"], [0.3333333333333333, \"#9c179e\"], [0.4444444444444444, \"#bd3786\"], [0.5555555555555556, \"#d8576b\"], [0.6666666666666666, \"#ed7953\"], [0.7777777777777778, \"#fb9f3a\"], [0.8888888888888888, \"#fdca26\"], [1.0, \"#f0f921\"]], \"type\": \"contour\"}], \"contourcarpet\": [{\"colorbar\": {\"outlinewidth\": 0, \"ticks\": \"\"}, \"type\": \"contourcarpet\"}], \"heatmap\": [{\"colorbar\": {\"outlinewidth\": 0, \"ticks\": \"\"}, \"colorscale\": [[0.0, \"#0d0887\"], [0.1111111111111111, \"#46039f\"], [0.2222222222222222, \"#7201a8\"], [0.3333333333333333, \"#9c179e\"], [0.4444444444444444, \"#bd3786\"], [0.5555555555555556, \"#d8576b\"], [0.6666666666666666, \"#ed7953\"], [0.7777777777777778, \"#fb9f3a\"], [0.8888888888888888, \"#fdca26\"], [1.0, \"#f0f921\"]], \"type\": \"heatmap\"}], \"heatmapgl\": [{\"colorbar\": {\"outlinewidth\": 0, \"ticks\": \"\"}, \"colorscale\": [[0.0, \"#0d0887\"], [0.1111111111111111, \"#46039f\"], [0.2222222222222222, \"#7201a8\"], [0.3333333333333333, \"#9c179e\"], [0.4444444444444444, \"#bd3786\"], [0.5555555555555556, \"#d8576b\"], [0.6666666666666666, \"#ed7953\"], [0.7777777777777778, \"#fb9f3a\"], [0.8888888888888888, \"#fdca26\"], [1.0, \"#f0f921\"]], \"type\": \"heatmapgl\"}], \"histogram\": [{\"marker\": {\"colorbar\": {\"outlinewidth\": 0, \"ticks\": \"\"}}, \"type\": \"histogram\"}], \"histogram2d\": [{\"colorbar\": {\"outlinewidth\": 0, \"ticks\": \"\"}, \"colorscale\": [[0.0, \"#0d0887\"], [0.1111111111111111, \"#46039f\"], [0.2222222222222222, \"#7201a8\"], [0.3333333333333333, \"#9c179e\"], [0.4444444444444444, \"#bd3786\"], [0.5555555555555556, \"#d8576b\"], [0.6666666666666666, \"#ed7953\"], [0.7777777777777778, \"#fb9f3a\"], [0.8888888888888888, \"#fdca26\"], [1.0, \"#f0f921\"]], \"type\": \"histogram2d\"}], \"histogram2dcontour\": [{\"colorbar\": {\"outlinewidth\": 0, \"ticks\": \"\"}, \"colorscale\": [[0.0, \"#0d0887\"], [0.1111111111111111, \"#46039f\"], [0.2222222222222222, \"#7201a8\"], [0.3333333333333333, \"#9c179e\"], [0.4444444444444444, \"#bd3786\"], [0.5555555555555556, \"#d8576b\"], [0.6666666666666666, \"#ed7953\"], [0.7777777777777778, \"#fb9f3a\"], [0.8888888888888888, \"#fdca26\"], [1.0, \"#f0f921\"]], \"type\": \"histogram2dcontour\"}], \"mesh3d\": [{\"colorbar\": {\"outlinewidth\": 0, \"ticks\": \"\"}, \"type\": \"mesh3d\"}], \"parcoords\": [{\"line\": {\"colorbar\": {\"outlinewidth\": 0, \"ticks\": \"\"}}, \"type\": \"parcoords\"}], \"pie\": [{\"automargin\": true, \"type\": \"pie\"}], \"scatter\": [{\"marker\": {\"colorbar\": {\"outlinewidth\": 0, \"ticks\": \"\"}}, \"type\": \"scatter\"}], \"scatter3d\": [{\"line\": {\"colorbar\": {\"outlinewidth\": 0, \"ticks\": \"\"}}, \"marker\": {\"colorbar\": {\"outlinewidth\": 0, \"ticks\": \"\"}}, \"type\": \"scatter3d\"}], \"scattercarpet\": [{\"marker\": {\"colorbar\": {\"outlinewidth\": 0, \"ticks\": \"\"}}, \"type\": \"scattercarpet\"}], \"scattergeo\": [{\"marker\": {\"colorbar\": {\"outlinewidth\": 0, \"ticks\": \"\"}}, \"type\": \"scattergeo\"}], \"scattergl\": [{\"marker\": {\"colorbar\": {\"outlinewidth\": 0, \"ticks\": \"\"}}, \"type\": \"scattergl\"}], \"scattermapbox\": [{\"marker\": {\"colorbar\": {\"outlinewidth\": 0, \"ticks\": \"\"}}, \"type\": \"scattermapbox\"}], \"scatterpolar\": [{\"marker\": {\"colorbar\": {\"outlinewidth\": 0, \"ticks\": \"\"}}, \"type\": \"scatterpolar\"}], \"scatterpolargl\": [{\"marker\": {\"colorbar\": {\"outlinewidth\": 0, \"ticks\": \"\"}}, \"type\": \"scatterpolargl\"}], \"scatterternary\": [{\"marker\": {\"colorbar\": {\"outlinewidth\": 0, \"ticks\": \"\"}}, \"type\": \"scatterternary\"}], \"surface\": [{\"colorbar\": {\"outlinewidth\": 0, \"ticks\": \"\"}, \"colorscale\": [[0.0, \"#0d0887\"], [0.1111111111111111, \"#46039f\"], [0.2222222222222222, \"#7201a8\"], [0.3333333333333333, \"#9c179e\"], [0.4444444444444444, \"#bd3786\"], [0.5555555555555556, \"#d8576b\"], [0.6666666666666666, \"#ed7953\"], [0.7777777777777778, \"#fb9f3a\"], [0.8888888888888888, \"#fdca26\"], [1.0, \"#f0f921\"]], \"type\": \"surface\"}], \"table\": [{\"cells\": {\"fill\": {\"color\": \"#EBF0F8\"}, \"line\": {\"color\": \"white\"}}, \"header\": {\"fill\": {\"color\": \"#C8D4E3\"}, \"line\": {\"color\": \"white\"}}, \"type\": \"table\"}]}, \"layout\": {\"annotationdefaults\": {\"arrowcolor\": \"#2a3f5f\", \"arrowhead\": 0, \"arrowwidth\": 1}, \"coloraxis\": {\"colorbar\": {\"outlinewidth\": 0, \"ticks\": \"\"}}, \"colorscale\": {\"diverging\": [[0, \"#8e0152\"], [0.1, \"#c51b7d\"], [0.2, \"#de77ae\"], [0.3, \"#f1b6da\"], [0.4, \"#fde0ef\"], [0.5, \"#f7f7f7\"], [0.6, \"#e6f5d0\"], [0.7, \"#b8e186\"], [0.8, \"#7fbc41\"], [0.9, \"#4d9221\"], [1, \"#276419\"]], \"sequential\": [[0.0, \"#0d0887\"], [0.1111111111111111, \"#46039f\"], [0.2222222222222222, \"#7201a8\"], [0.3333333333333333, \"#9c179e\"], [0.4444444444444444, \"#bd3786\"], [0.5555555555555556, \"#d8576b\"], [0.6666666666666666, \"#ed7953\"], [0.7777777777777778, \"#fb9f3a\"], [0.8888888888888888, \"#fdca26\"], [1.0, \"#f0f921\"]], \"sequentialminus\": [[0.0, \"#0d0887\"], [0.1111111111111111, \"#46039f\"], [0.2222222222222222, \"#7201a8\"], [0.3333333333333333, \"#9c179e\"], [0.4444444444444444, \"#bd3786\"], [0.5555555555555556, \"#d8576b\"], [0.6666666666666666, \"#ed7953\"], [0.7777777777777778, \"#fb9f3a\"], [0.8888888888888888, \"#fdca26\"], [1.0, \"#f0f921\"]]}, \"colorway\": [\"#636efa\", \"#EF553B\", \"#00cc96\", \"#ab63fa\", \"#FFA15A\", \"#19d3f3\", \"#FF6692\", \"#B6E880\", \"#FF97FF\", \"#FECB52\"], \"font\": {\"color\": \"#2a3f5f\"}, \"geo\": {\"bgcolor\": \"white\", \"lakecolor\": \"white\", \"landcolor\": \"#E5ECF6\", \"showlakes\": true, \"showland\": true, \"subunitcolor\": \"white\"}, \"hoverlabel\": {\"align\": \"left\"}, \"hovermode\": \"closest\", \"mapbox\": {\"style\": \"light\"}, \"paper_bgcolor\": \"white\", \"plot_bgcolor\": \"#E5ECF6\", \"polar\": {\"angularaxis\": {\"gridcolor\": \"white\", \"linecolor\": \"white\", \"ticks\": \"\"}, \"bgcolor\": \"#E5ECF6\", \"radialaxis\": {\"gridcolor\": \"white\", \"linecolor\": \"white\", \"ticks\": \"\"}}, \"scene\": {\"xaxis\": {\"backgroundcolor\": \"#E5ECF6\", \"gridcolor\": \"white\", \"gridwidth\": 2, \"linecolor\": \"white\", \"showbackground\": true, \"ticks\": \"\", \"zerolinecolor\": \"white\"}, \"yaxis\": {\"backgroundcolor\": \"#E5ECF6\", \"gridcolor\": \"white\", \"gridwidth\": 2, \"linecolor\": \"white\", \"showbackground\": true, \"ticks\": \"\", \"zerolinecolor\": \"white\"}, \"zaxis\": {\"backgroundcolor\": \"#E5ECF6\", \"gridcolor\": \"white\", \"gridwidth\": 2, \"linecolor\": \"white\", \"showbackground\": true, \"ticks\": \"\", \"zerolinecolor\": \"white\"}}, \"shapedefaults\": {\"line\": {\"color\": \"#2a3f5f\"}}, \"ternary\": {\"aaxis\": {\"gridcolor\": \"white\", \"linecolor\": \"white\", \"ticks\": \"\"}, \"baxis\": {\"gridcolor\": \"white\", \"linecolor\": \"white\", \"ticks\": \"\"}, \"bgcolor\": \"#E5ECF6\", \"caxis\": {\"gridcolor\": \"white\", \"linecolor\": \"white\", \"ticks\": \"\"}}, \"title\": {\"x\": 0.05}, \"xaxis\": {\"automargin\": true, \"gridcolor\": \"white\", \"linecolor\": \"white\", \"ticks\": \"\", \"title\": {\"standoff\": 15}, \"zerolinecolor\": \"white\", \"zerolinewidth\": 2}, \"yaxis\": {\"automargin\": true, \"gridcolor\": \"white\", \"linecolor\": \"white\", \"ticks\": \"\", \"title\": {\"standoff\": 15}, \"zerolinecolor\": \"white\", \"zerolinewidth\": 2}}}},\n",
              "                        {\"responsive\": true}\n",
              "                    ).then(function(){\n",
              "                            \n",
              "var gd = document.getElementById('4cb84d2e-df10-4700-9b83-1e9f6dda8137');\n",
              "var x = new MutationObserver(function (mutations, observer) {{\n",
              "        var display = window.getComputedStyle(gd).display;\n",
              "        if (!display || display === 'none') {{\n",
              "            console.log([gd, 'removed!']);\n",
              "            Plotly.purge(gd);\n",
              "            observer.disconnect();\n",
              "        }}\n",
              "}});\n",
              "\n",
              "// Listen for the removal of the full notebook cells\n",
              "var notebookContainer = gd.closest('#notebook-container');\n",
              "if (notebookContainer) {{\n",
              "    x.observe(notebookContainer, {childList: true});\n",
              "}}\n",
              "\n",
              "// Listen for the clearing of the current output cell\n",
              "var outputEl = gd.closest('.output');\n",
              "if (outputEl) {{\n",
              "    x.observe(outputEl, {childList: true});\n",
              "}}\n",
              "\n",
              "                        })\n",
              "                };\n",
              "                \n",
              "            </script>\n",
              "        </div>\n",
              "</body>\n",
              "</html>"
            ]
          },
          "metadata": {
            "tags": []
          }
        }
      ]
    },
    {
      "cell_type": "code",
      "metadata": {
        "id": "BcVxMpXMD-Ps"
      },
      "source": [
        "from tensorflow.keras.models import Sequential\n",
        "from tensorflow.keras.layers import Dense\n",
        "\n",
        "model = Sequential()\n",
        "model.add(Dense(1, input_dim = 2, activation ='linear'))"
      ],
      "execution_count": null,
      "outputs": []
    },
    {
      "cell_type": "code",
      "metadata": {
        "id": "yB9zpFCEGwvj",
        "colab": {
          "base_uri": "https://localhost:8080/",
          "height": 1000
        },
        "outputId": "0667413d-d919-4a4c-e2ee-94e2d6755b9d"
      },
      "source": [
        "model.compile(loss='mae', optimizer = 'rmsprop', metrics=['mae'])\n",
        "model.fit(x = dataset[:,0:2], y=dataset[:, 2], epochs= 256, verbose = 1)"
      ],
      "execution_count": null,
      "outputs": [
        {
          "output_type": "stream",
          "text": [
            "Epoch 1/256\n",
            "10/10 [==============================] - 0s 1ms/step - loss: 0.0790 - mae: 0.0790\n",
            "Epoch 2/256\n",
            "10/10 [==============================] - 0s 1ms/step - loss: 0.0788 - mae: 0.0788\n",
            "Epoch 3/256\n",
            "10/10 [==============================] - 0s 1ms/step - loss: 0.0787 - mae: 0.0787\n",
            "Epoch 4/256\n",
            "10/10 [==============================] - 0s 1ms/step - loss: 0.0786 - mae: 0.0786\n",
            "Epoch 5/256\n",
            "10/10 [==============================] - 0s 1ms/step - loss: 0.0788 - mae: 0.0788\n",
            "Epoch 6/256\n",
            "10/10 [==============================] - 0s 1ms/step - loss: 0.0787 - mae: 0.0787\n",
            "Epoch 7/256\n",
            "10/10 [==============================] - 0s 1ms/step - loss: 0.0787 - mae: 0.0787\n",
            "Epoch 8/256\n",
            "10/10 [==============================] - 0s 1ms/step - loss: 0.0787 - mae: 0.0787\n",
            "Epoch 9/256\n",
            "10/10 [==============================] - 0s 1ms/step - loss: 0.0788 - mae: 0.0788\n",
            "Epoch 10/256\n",
            "10/10 [==============================] - 0s 1ms/step - loss: 0.0788 - mae: 0.0788\n",
            "Epoch 11/256\n",
            "10/10 [==============================] - 0s 1ms/step - loss: 0.0788 - mae: 0.0788\n",
            "Epoch 12/256\n",
            "10/10 [==============================] - 0s 1ms/step - loss: 0.0787 - mae: 0.0787\n",
            "Epoch 13/256\n",
            "10/10 [==============================] - 0s 1ms/step - loss: 0.0787 - mae: 0.0787\n",
            "Epoch 14/256\n",
            "10/10 [==============================] - 0s 1ms/step - loss: 0.0787 - mae: 0.0787\n",
            "Epoch 15/256\n",
            "10/10 [==============================] - 0s 1ms/step - loss: 0.0787 - mae: 0.0787\n",
            "Epoch 16/256\n",
            "10/10 [==============================] - 0s 2ms/step - loss: 0.0787 - mae: 0.0787\n",
            "Epoch 17/256\n",
            "10/10 [==============================] - 0s 3ms/step - loss: 0.0788 - mae: 0.0788\n",
            "Epoch 18/256\n",
            "10/10 [==============================] - 0s 1ms/step - loss: 0.0787 - mae: 0.0787\n",
            "Epoch 19/256\n",
            "10/10 [==============================] - 0s 1ms/step - loss: 0.0786 - mae: 0.0786\n",
            "Epoch 20/256\n",
            "10/10 [==============================] - 0s 1ms/step - loss: 0.0790 - mae: 0.0790\n",
            "Epoch 21/256\n",
            "10/10 [==============================] - 0s 2ms/step - loss: 0.0787 - mae: 0.0787\n",
            "Epoch 22/256\n",
            "10/10 [==============================] - 0s 2ms/step - loss: 0.0788 - mae: 0.0788\n",
            "Epoch 23/256\n",
            "10/10 [==============================] - 0s 1ms/step - loss: 0.0787 - mae: 0.0787\n",
            "Epoch 24/256\n",
            "10/10 [==============================] - 0s 1ms/step - loss: 0.0788 - mae: 0.0788\n",
            "Epoch 25/256\n",
            "10/10 [==============================] - 0s 2ms/step - loss: 0.0786 - mae: 0.0786\n",
            "Epoch 26/256\n",
            "10/10 [==============================] - 0s 1ms/step - loss: 0.0788 - mae: 0.0788\n",
            "Epoch 27/256\n",
            "10/10 [==============================] - 0s 2ms/step - loss: 0.0788 - mae: 0.0788\n",
            "Epoch 28/256\n",
            "10/10 [==============================] - 0s 2ms/step - loss: 0.0787 - mae: 0.0787\n",
            "Epoch 29/256\n",
            "10/10 [==============================] - 0s 1ms/step - loss: 0.0787 - mae: 0.0787\n",
            "Epoch 30/256\n",
            "10/10 [==============================] - 0s 1ms/step - loss: 0.0787 - mae: 0.0787\n",
            "Epoch 31/256\n",
            "10/10 [==============================] - 0s 1ms/step - loss: 0.0788 - mae: 0.0788\n",
            "Epoch 32/256\n",
            "10/10 [==============================] - 0s 1ms/step - loss: 0.0787 - mae: 0.0787\n",
            "Epoch 33/256\n",
            "10/10 [==============================] - 0s 1ms/step - loss: 0.0788 - mae: 0.0788\n",
            "Epoch 34/256\n",
            "10/10 [==============================] - 0s 2ms/step - loss: 0.0788 - mae: 0.0788\n",
            "Epoch 35/256\n",
            "10/10 [==============================] - 0s 1ms/step - loss: 0.0789 - mae: 0.0789\n",
            "Epoch 36/256\n",
            "10/10 [==============================] - 0s 1ms/step - loss: 0.0787 - mae: 0.0787\n",
            "Epoch 37/256\n",
            "10/10 [==============================] - 0s 1ms/step - loss: 0.0788 - mae: 0.0788\n",
            "Epoch 38/256\n",
            "10/10 [==============================] - 0s 1ms/step - loss: 0.0789 - mae: 0.0789\n",
            "Epoch 39/256\n",
            "10/10 [==============================] - 0s 1ms/step - loss: 0.0787 - mae: 0.0787\n",
            "Epoch 40/256\n",
            "10/10 [==============================] - 0s 1ms/step - loss: 0.0788 - mae: 0.0788\n",
            "Epoch 41/256\n",
            "10/10 [==============================] - 0s 1ms/step - loss: 0.0787 - mae: 0.0787\n",
            "Epoch 42/256\n",
            "10/10 [==============================] - 0s 1ms/step - loss: 0.0787 - mae: 0.0787\n",
            "Epoch 43/256\n",
            "10/10 [==============================] - 0s 1ms/step - loss: 0.0787 - mae: 0.0787\n",
            "Epoch 44/256\n",
            "10/10 [==============================] - 0s 1ms/step - loss: 0.0788 - mae: 0.0788\n",
            "Epoch 45/256\n",
            "10/10 [==============================] - 0s 1ms/step - loss: 0.0787 - mae: 0.0787\n",
            "Epoch 46/256\n",
            "10/10 [==============================] - 0s 1ms/step - loss: 0.0788 - mae: 0.0788\n",
            "Epoch 47/256\n",
            "10/10 [==============================] - 0s 1ms/step - loss: 0.0788 - mae: 0.0788\n",
            "Epoch 48/256\n",
            "10/10 [==============================] - 0s 2ms/step - loss: 0.0787 - mae: 0.0787\n",
            "Epoch 49/256\n",
            "10/10 [==============================] - 0s 1ms/step - loss: 0.0787 - mae: 0.0787\n",
            "Epoch 50/256\n",
            "10/10 [==============================] - 0s 2ms/step - loss: 0.0787 - mae: 0.0787\n",
            "Epoch 51/256\n",
            "10/10 [==============================] - 0s 1ms/step - loss: 0.0788 - mae: 0.0788\n",
            "Epoch 52/256\n",
            "10/10 [==============================] - 0s 1ms/step - loss: 0.0788 - mae: 0.0788\n",
            "Epoch 53/256\n",
            "10/10 [==============================] - 0s 1ms/step - loss: 0.0787 - mae: 0.0787\n",
            "Epoch 54/256\n",
            "10/10 [==============================] - 0s 1ms/step - loss: 0.0787 - mae: 0.0787\n",
            "Epoch 55/256\n",
            "10/10 [==============================] - 0s 1ms/step - loss: 0.0788 - mae: 0.0788\n",
            "Epoch 56/256\n",
            "10/10 [==============================] - 0s 1ms/step - loss: 0.0788 - mae: 0.0788\n",
            "Epoch 57/256\n",
            "10/10 [==============================] - 0s 1ms/step - loss: 0.0788 - mae: 0.0788\n",
            "Epoch 58/256\n",
            "10/10 [==============================] - 0s 1ms/step - loss: 0.0788 - mae: 0.0788\n",
            "Epoch 59/256\n",
            "10/10 [==============================] - 0s 1ms/step - loss: 0.0786 - mae: 0.0786\n",
            "Epoch 60/256\n",
            "10/10 [==============================] - 0s 1ms/step - loss: 0.0788 - mae: 0.0788\n",
            "Epoch 61/256\n",
            "10/10 [==============================] - 0s 1ms/step - loss: 0.0788 - mae: 0.0788\n",
            "Epoch 62/256\n",
            "10/10 [==============================] - 0s 1ms/step - loss: 0.0788 - mae: 0.0788\n",
            "Epoch 63/256\n",
            "10/10 [==============================] - 0s 1ms/step - loss: 0.0788 - mae: 0.0788\n",
            "Epoch 64/256\n",
            "10/10 [==============================] - 0s 1ms/step - loss: 0.0787 - mae: 0.0787\n",
            "Epoch 65/256\n",
            "10/10 [==============================] - 0s 1ms/step - loss: 0.0787 - mae: 0.0787\n",
            "Epoch 66/256\n",
            "10/10 [==============================] - 0s 1ms/step - loss: 0.0788 - mae: 0.0788\n",
            "Epoch 67/256\n",
            "10/10 [==============================] - 0s 1ms/step - loss: 0.0788 - mae: 0.0788\n",
            "Epoch 68/256\n",
            "10/10 [==============================] - 0s 1ms/step - loss: 0.0787 - mae: 0.0787\n",
            "Epoch 69/256\n",
            "10/10 [==============================] - 0s 3ms/step - loss: 0.0787 - mae: 0.0787\n",
            "Epoch 70/256\n",
            "10/10 [==============================] - 0s 1ms/step - loss: 0.0788 - mae: 0.0788\n",
            "Epoch 71/256\n",
            "10/10 [==============================] - 0s 2ms/step - loss: 0.0789 - mae: 0.0789\n",
            "Epoch 72/256\n",
            "10/10 [==============================] - 0s 1ms/step - loss: 0.0787 - mae: 0.0787\n",
            "Epoch 73/256\n",
            "10/10 [==============================] - 0s 1ms/step - loss: 0.0787 - mae: 0.0787\n",
            "Epoch 74/256\n",
            "10/10 [==============================] - 0s 2ms/step - loss: 0.0787 - mae: 0.0787\n",
            "Epoch 75/256\n",
            "10/10 [==============================] - 0s 1ms/step - loss: 0.0788 - mae: 0.0788\n",
            "Epoch 76/256\n",
            "10/10 [==============================] - 0s 2ms/step - loss: 0.0787 - mae: 0.0787\n",
            "Epoch 77/256\n",
            "10/10 [==============================] - 0s 2ms/step - loss: 0.0787 - mae: 0.0787\n",
            "Epoch 78/256\n",
            "10/10 [==============================] - 0s 2ms/step - loss: 0.0787 - mae: 0.0787\n",
            "Epoch 79/256\n",
            "10/10 [==============================] - 0s 2ms/step - loss: 0.0787 - mae: 0.0787\n",
            "Epoch 80/256\n",
            "10/10 [==============================] - 0s 1ms/step - loss: 0.0788 - mae: 0.0788\n",
            "Epoch 81/256\n",
            "10/10 [==============================] - 0s 1ms/step - loss: 0.0788 - mae: 0.0788\n",
            "Epoch 82/256\n",
            "10/10 [==============================] - 0s 1ms/step - loss: 0.0788 - mae: 0.0788\n",
            "Epoch 83/256\n",
            "10/10 [==============================] - 0s 1ms/step - loss: 0.0788 - mae: 0.0788\n",
            "Epoch 84/256\n",
            "10/10 [==============================] - 0s 2ms/step - loss: 0.0787 - mae: 0.0787\n",
            "Epoch 85/256\n",
            "10/10 [==============================] - 0s 2ms/step - loss: 0.0787 - mae: 0.0787\n",
            "Epoch 86/256\n",
            "10/10 [==============================] - 0s 1ms/step - loss: 0.0787 - mae: 0.0787\n",
            "Epoch 87/256\n",
            "10/10 [==============================] - 0s 1ms/step - loss: 0.0790 - mae: 0.0790\n",
            "Epoch 88/256\n",
            "10/10 [==============================] - 0s 1ms/step - loss: 0.0787 - mae: 0.0787\n",
            "Epoch 89/256\n",
            "10/10 [==============================] - 0s 1ms/step - loss: 0.0787 - mae: 0.0787\n",
            "Epoch 90/256\n",
            "10/10 [==============================] - 0s 2ms/step - loss: 0.0788 - mae: 0.0788\n",
            "Epoch 91/256\n",
            "10/10 [==============================] - 0s 1ms/step - loss: 0.0787 - mae: 0.0787\n",
            "Epoch 92/256\n",
            "10/10 [==============================] - 0s 1ms/step - loss: 0.0788 - mae: 0.0788\n",
            "Epoch 93/256\n",
            "10/10 [==============================] - 0s 1ms/step - loss: 0.0788 - mae: 0.0788\n",
            "Epoch 94/256\n",
            "10/10 [==============================] - 0s 1ms/step - loss: 0.0786 - mae: 0.0786\n",
            "Epoch 95/256\n",
            "10/10 [==============================] - 0s 1ms/step - loss: 0.0789 - mae: 0.0789\n",
            "Epoch 96/256\n",
            "10/10 [==============================] - 0s 2ms/step - loss: 0.0787 - mae: 0.0787\n",
            "Epoch 97/256\n",
            "10/10 [==============================] - 0s 1ms/step - loss: 0.0789 - mae: 0.0789\n",
            "Epoch 98/256\n",
            "10/10 [==============================] - 0s 1ms/step - loss: 0.0787 - mae: 0.0787\n",
            "Epoch 99/256\n",
            "10/10 [==============================] - 0s 1ms/step - loss: 0.0788 - mae: 0.0788\n",
            "Epoch 100/256\n",
            "10/10 [==============================] - 0s 1ms/step - loss: 0.0788 - mae: 0.0788\n",
            "Epoch 101/256\n",
            "10/10 [==============================] - 0s 1ms/step - loss: 0.0788 - mae: 0.0788\n",
            "Epoch 102/256\n",
            "10/10 [==============================] - 0s 1ms/step - loss: 0.0788 - mae: 0.0788\n",
            "Epoch 103/256\n",
            "10/10 [==============================] - 0s 1ms/step - loss: 0.0787 - mae: 0.0787\n",
            "Epoch 104/256\n",
            "10/10 [==============================] - 0s 1ms/step - loss: 0.0787 - mae: 0.0787\n",
            "Epoch 105/256\n",
            "10/10 [==============================] - 0s 1ms/step - loss: 0.0787 - mae: 0.0787\n",
            "Epoch 106/256\n",
            "10/10 [==============================] - 0s 1ms/step - loss: 0.0788 - mae: 0.0788\n",
            "Epoch 107/256\n",
            "10/10 [==============================] - 0s 1ms/step - loss: 0.0788 - mae: 0.0788\n",
            "Epoch 108/256\n",
            "10/10 [==============================] - 0s 1ms/step - loss: 0.0787 - mae: 0.0787\n",
            "Epoch 109/256\n",
            "10/10 [==============================] - 0s 1ms/step - loss: 0.0787 - mae: 0.0787\n",
            "Epoch 110/256\n",
            "10/10 [==============================] - 0s 1ms/step - loss: 0.0789 - mae: 0.0789\n",
            "Epoch 111/256\n",
            "10/10 [==============================] - 0s 2ms/step - loss: 0.0789 - mae: 0.0789\n",
            "Epoch 112/256\n",
            "10/10 [==============================] - 0s 1ms/step - loss: 0.0789 - mae: 0.0789\n",
            "Epoch 113/256\n",
            "10/10 [==============================] - 0s 1ms/step - loss: 0.0788 - mae: 0.0788\n",
            "Epoch 114/256\n",
            "10/10 [==============================] - 0s 1ms/step - loss: 0.0788 - mae: 0.0788\n",
            "Epoch 115/256\n",
            "10/10 [==============================] - 0s 1ms/step - loss: 0.0788 - mae: 0.0788\n",
            "Epoch 116/256\n",
            "10/10 [==============================] - 0s 1ms/step - loss: 0.0787 - mae: 0.0787\n",
            "Epoch 117/256\n",
            "10/10 [==============================] - 0s 2ms/step - loss: 0.0787 - mae: 0.0787\n",
            "Epoch 118/256\n",
            "10/10 [==============================] - 0s 1ms/step - loss: 0.0787 - mae: 0.0787\n",
            "Epoch 119/256\n",
            "10/10 [==============================] - 0s 1ms/step - loss: 0.0787 - mae: 0.0787\n",
            "Epoch 120/256\n",
            "10/10 [==============================] - 0s 1ms/step - loss: 0.0789 - mae: 0.0789\n",
            "Epoch 121/256\n",
            "10/10 [==============================] - 0s 1ms/step - loss: 0.0787 - mae: 0.0787\n",
            "Epoch 122/256\n",
            "10/10 [==============================] - 0s 2ms/step - loss: 0.0788 - mae: 0.0788\n",
            "Epoch 123/256\n",
            "10/10 [==============================] - 0s 3ms/step - loss: 0.0788 - mae: 0.0788\n",
            "Epoch 124/256\n",
            "10/10 [==============================] - 0s 2ms/step - loss: 0.0787 - mae: 0.0787\n",
            "Epoch 125/256\n",
            "10/10 [==============================] - 0s 1ms/step - loss: 0.0789 - mae: 0.0789\n",
            "Epoch 126/256\n",
            "10/10 [==============================] - 0s 1ms/step - loss: 0.0787 - mae: 0.0787\n",
            "Epoch 127/256\n",
            "10/10 [==============================] - 0s 2ms/step - loss: 0.0787 - mae: 0.0787\n",
            "Epoch 128/256\n",
            "10/10 [==============================] - 0s 2ms/step - loss: 0.0787 - mae: 0.0787\n",
            "Epoch 129/256\n",
            "10/10 [==============================] - 0s 2ms/step - loss: 0.0788 - mae: 0.0788\n",
            "Epoch 130/256\n",
            "10/10 [==============================] - 0s 1ms/step - loss: 0.0788 - mae: 0.0788\n",
            "Epoch 131/256\n",
            "10/10 [==============================] - 0s 1ms/step - loss: 0.0788 - mae: 0.0788\n",
            "Epoch 132/256\n",
            "10/10 [==============================] - 0s 1ms/step - loss: 0.0788 - mae: 0.0788\n",
            "Epoch 133/256\n",
            "10/10 [==============================] - 0s 1ms/step - loss: 0.0786 - mae: 0.0786\n",
            "Epoch 134/256\n",
            "10/10 [==============================] - 0s 1ms/step - loss: 0.0787 - mae: 0.0787\n",
            "Epoch 135/256\n",
            "10/10 [==============================] - 0s 2ms/step - loss: 0.0788 - mae: 0.0788\n",
            "Epoch 136/256\n",
            "10/10 [==============================] - 0s 1ms/step - loss: 0.0787 - mae: 0.0787\n",
            "Epoch 137/256\n",
            "10/10 [==============================] - 0s 1ms/step - loss: 0.0788 - mae: 0.0788\n",
            "Epoch 138/256\n",
            "10/10 [==============================] - 0s 1ms/step - loss: 0.0787 - mae: 0.0787\n",
            "Epoch 139/256\n",
            "10/10 [==============================] - 0s 1ms/step - loss: 0.0787 - mae: 0.0787\n",
            "Epoch 140/256\n",
            "10/10 [==============================] - 0s 1ms/step - loss: 0.0788 - mae: 0.0788\n",
            "Epoch 141/256\n",
            "10/10 [==============================] - 0s 2ms/step - loss: 0.0787 - mae: 0.0787\n",
            "Epoch 142/256\n",
            "10/10 [==============================] - 0s 1ms/step - loss: 0.0788 - mae: 0.0788\n",
            "Epoch 143/256\n",
            "10/10 [==============================] - 0s 1ms/step - loss: 0.0787 - mae: 0.0787\n",
            "Epoch 144/256\n",
            "10/10 [==============================] - 0s 1ms/step - loss: 0.0786 - mae: 0.0786\n",
            "Epoch 145/256\n",
            "10/10 [==============================] - 0s 1ms/step - loss: 0.0787 - mae: 0.0787\n",
            "Epoch 146/256\n",
            "10/10 [==============================] - 0s 2ms/step - loss: 0.0788 - mae: 0.0788\n",
            "Epoch 147/256\n",
            "10/10 [==============================] - 0s 1ms/step - loss: 0.0787 - mae: 0.0787\n",
            "Epoch 148/256\n",
            "10/10 [==============================] - 0s 1ms/step - loss: 0.0788 - mae: 0.0788\n",
            "Epoch 149/256\n",
            "10/10 [==============================] - 0s 1ms/step - loss: 0.0789 - mae: 0.0789\n",
            "Epoch 150/256\n",
            "10/10 [==============================] - 0s 1ms/step - loss: 0.0787 - mae: 0.0787\n",
            "Epoch 151/256\n",
            "10/10 [==============================] - 0s 2ms/step - loss: 0.0787 - mae: 0.0787\n",
            "Epoch 152/256\n",
            "10/10 [==============================] - 0s 1ms/step - loss: 0.0787 - mae: 0.0787\n",
            "Epoch 153/256\n",
            "10/10 [==============================] - 0s 1ms/step - loss: 0.0787 - mae: 0.0787\n",
            "Epoch 154/256\n",
            "10/10 [==============================] - 0s 1ms/step - loss: 0.0788 - mae: 0.0788\n",
            "Epoch 155/256\n",
            "10/10 [==============================] - 0s 1ms/step - loss: 0.0788 - mae: 0.0788\n",
            "Epoch 156/256\n",
            "10/10 [==============================] - 0s 1ms/step - loss: 0.0787 - mae: 0.0787\n",
            "Epoch 157/256\n",
            "10/10 [==============================] - 0s 1ms/step - loss: 0.0787 - mae: 0.0787\n",
            "Epoch 158/256\n",
            "10/10 [==============================] - 0s 1ms/step - loss: 0.0787 - mae: 0.0787\n",
            "Epoch 159/256\n",
            "10/10 [==============================] - 0s 1ms/step - loss: 0.0788 - mae: 0.0788\n",
            "Epoch 160/256\n",
            "10/10 [==============================] - 0s 2ms/step - loss: 0.0788 - mae: 0.0788\n",
            "Epoch 161/256\n",
            "10/10 [==============================] - 0s 1ms/step - loss: 0.0787 - mae: 0.0787\n",
            "Epoch 162/256\n",
            "10/10 [==============================] - 0s 1ms/step - loss: 0.0788 - mae: 0.0788\n",
            "Epoch 163/256\n",
            "10/10 [==============================] - 0s 1ms/step - loss: 0.0788 - mae: 0.0788\n",
            "Epoch 164/256\n",
            "10/10 [==============================] - 0s 1ms/step - loss: 0.0787 - mae: 0.0787\n",
            "Epoch 165/256\n",
            "10/10 [==============================] - 0s 1ms/step - loss: 0.0788 - mae: 0.0788\n",
            "Epoch 166/256\n",
            "10/10 [==============================] - 0s 1ms/step - loss: 0.0788 - mae: 0.0788\n",
            "Epoch 167/256\n",
            "10/10 [==============================] - 0s 1ms/step - loss: 0.0787 - mae: 0.0787\n",
            "Epoch 168/256\n",
            "10/10 [==============================] - 0s 1ms/step - loss: 0.0788 - mae: 0.0788\n",
            "Epoch 169/256\n",
            "10/10 [==============================] - 0s 1ms/step - loss: 0.0787 - mae: 0.0787\n",
            "Epoch 170/256\n",
            "10/10 [==============================] - 0s 1ms/step - loss: 0.0788 - mae: 0.0788\n",
            "Epoch 171/256\n",
            "10/10 [==============================] - 0s 1ms/step - loss: 0.0788 - mae: 0.0788\n",
            "Epoch 172/256\n",
            "10/10 [==============================] - 0s 2ms/step - loss: 0.0787 - mae: 0.0787\n",
            "Epoch 173/256\n",
            "10/10 [==============================] - 0s 2ms/step - loss: 0.0788 - mae: 0.0788\n",
            "Epoch 174/256\n",
            "10/10 [==============================] - 0s 1ms/step - loss: 0.0788 - mae: 0.0788\n",
            "Epoch 175/256\n",
            "10/10 [==============================] - 0s 2ms/step - loss: 0.0787 - mae: 0.0787\n",
            "Epoch 176/256\n",
            "10/10 [==============================] - 0s 1ms/step - loss: 0.0787 - mae: 0.0787\n",
            "Epoch 177/256\n",
            "10/10 [==============================] - 0s 2ms/step - loss: 0.0786 - mae: 0.0786\n",
            "Epoch 178/256\n",
            "10/10 [==============================] - 0s 1ms/step - loss: 0.0788 - mae: 0.0788\n",
            "Epoch 179/256\n",
            "10/10 [==============================] - 0s 1ms/step - loss: 0.0787 - mae: 0.0787\n",
            "Epoch 180/256\n",
            "10/10 [==============================] - 0s 2ms/step - loss: 0.0787 - mae: 0.0787\n",
            "Epoch 181/256\n",
            "10/10 [==============================] - 0s 2ms/step - loss: 0.0787 - mae: 0.0787\n",
            "Epoch 182/256\n",
            "10/10 [==============================] - 0s 2ms/step - loss: 0.0786 - mae: 0.0786\n",
            "Epoch 183/256\n",
            "10/10 [==============================] - 0s 1ms/step - loss: 0.0787 - mae: 0.0787\n",
            "Epoch 184/256\n",
            "10/10 [==============================] - 0s 1ms/step - loss: 0.0787 - mae: 0.0787\n",
            "Epoch 185/256\n",
            "10/10 [==============================] - 0s 1ms/step - loss: 0.0787 - mae: 0.0787\n",
            "Epoch 186/256\n",
            "10/10 [==============================] - 0s 1ms/step - loss: 0.0788 - mae: 0.0788\n",
            "Epoch 187/256\n",
            "10/10 [==============================] - 0s 1ms/step - loss: 0.0787 - mae: 0.0787\n",
            "Epoch 188/256\n",
            "10/10 [==============================] - 0s 1ms/step - loss: 0.0787 - mae: 0.0787\n",
            "Epoch 189/256\n",
            "10/10 [==============================] - 0s 1ms/step - loss: 0.0787 - mae: 0.0787\n",
            "Epoch 190/256\n",
            "10/10 [==============================] - 0s 1ms/step - loss: 0.0786 - mae: 0.0786\n",
            "Epoch 191/256\n",
            "10/10 [==============================] - 0s 1ms/step - loss: 0.0789 - mae: 0.0789\n",
            "Epoch 192/256\n",
            "10/10 [==============================] - 0s 1ms/step - loss: 0.0788 - mae: 0.0788\n",
            "Epoch 193/256\n",
            "10/10 [==============================] - 0s 2ms/step - loss: 0.0788 - mae: 0.0788\n",
            "Epoch 194/256\n",
            "10/10 [==============================] - 0s 2ms/step - loss: 0.0787 - mae: 0.0787\n",
            "Epoch 195/256\n",
            "10/10 [==============================] - 0s 2ms/step - loss: 0.0786 - mae: 0.0786\n",
            "Epoch 196/256\n",
            "10/10 [==============================] - 0s 1ms/step - loss: 0.0788 - mae: 0.0788\n",
            "Epoch 197/256\n",
            "10/10 [==============================] - 0s 1ms/step - loss: 0.0787 - mae: 0.0787\n",
            "Epoch 198/256\n",
            "10/10 [==============================] - 0s 1ms/step - loss: 0.0787 - mae: 0.0787\n",
            "Epoch 199/256\n",
            "10/10 [==============================] - 0s 1ms/step - loss: 0.0788 - mae: 0.0788\n",
            "Epoch 200/256\n",
            "10/10 [==============================] - 0s 1ms/step - loss: 0.0788 - mae: 0.0788\n",
            "Epoch 201/256\n",
            "10/10 [==============================] - 0s 1ms/step - loss: 0.0787 - mae: 0.0787\n",
            "Epoch 202/256\n",
            "10/10 [==============================] - 0s 1ms/step - loss: 0.0787 - mae: 0.0787\n",
            "Epoch 203/256\n",
            "10/10 [==============================] - 0s 1ms/step - loss: 0.0787 - mae: 0.0787\n",
            "Epoch 204/256\n",
            "10/10 [==============================] - 0s 1ms/step - loss: 0.0788 - mae: 0.0788\n",
            "Epoch 205/256\n",
            "10/10 [==============================] - 0s 1ms/step - loss: 0.0788 - mae: 0.0788\n",
            "Epoch 206/256\n",
            "10/10 [==============================] - 0s 1ms/step - loss: 0.0788 - mae: 0.0788\n",
            "Epoch 207/256\n",
            "10/10 [==============================] - 0s 1ms/step - loss: 0.0788 - mae: 0.0788\n",
            "Epoch 208/256\n",
            "10/10 [==============================] - 0s 1ms/step - loss: 0.0787 - mae: 0.0787\n",
            "Epoch 209/256\n",
            "10/10 [==============================] - 0s 1ms/step - loss: 0.0788 - mae: 0.0788\n",
            "Epoch 210/256\n",
            "10/10 [==============================] - 0s 1ms/step - loss: 0.0788 - mae: 0.0788\n",
            "Epoch 211/256\n",
            "10/10 [==============================] - 0s 2ms/step - loss: 0.0788 - mae: 0.0788\n",
            "Epoch 212/256\n",
            "10/10 [==============================] - 0s 1ms/step - loss: 0.0787 - mae: 0.0787\n",
            "Epoch 213/256\n",
            "10/10 [==============================] - 0s 1ms/step - loss: 0.0788 - mae: 0.0788\n",
            "Epoch 214/256\n",
            "10/10 [==============================] - 0s 1ms/step - loss: 0.0787 - mae: 0.0787\n",
            "Epoch 215/256\n",
            "10/10 [==============================] - 0s 1ms/step - loss: 0.0788 - mae: 0.0788\n",
            "Epoch 216/256\n",
            "10/10 [==============================] - 0s 1ms/step - loss: 0.0787 - mae: 0.0787\n",
            "Epoch 217/256\n",
            "10/10 [==============================] - 0s 1ms/step - loss: 0.0787 - mae: 0.0787\n",
            "Epoch 218/256\n",
            "10/10 [==============================] - 0s 1ms/step - loss: 0.0788 - mae: 0.0788\n",
            "Epoch 219/256\n",
            "10/10 [==============================] - 0s 1ms/step - loss: 0.0788 - mae: 0.0788\n",
            "Epoch 220/256\n",
            "10/10 [==============================] - 0s 2ms/step - loss: 0.0787 - mae: 0.0787\n",
            "Epoch 221/256\n",
            "10/10 [==============================] - 0s 2ms/step - loss: 0.0787 - mae: 0.0787\n",
            "Epoch 222/256\n",
            "10/10 [==============================] - 0s 1ms/step - loss: 0.0787 - mae: 0.0787\n",
            "Epoch 223/256\n",
            "10/10 [==============================] - 0s 1ms/step - loss: 0.0787 - mae: 0.0787\n",
            "Epoch 224/256\n",
            "10/10 [==============================] - 0s 2ms/step - loss: 0.0788 - mae: 0.0788\n",
            "Epoch 225/256\n",
            "10/10 [==============================] - 0s 2ms/step - loss: 0.0787 - mae: 0.0787\n",
            "Epoch 226/256\n",
            "10/10 [==============================] - 0s 2ms/step - loss: 0.0787 - mae: 0.0787\n",
            "Epoch 227/256\n",
            "10/10 [==============================] - 0s 1ms/step - loss: 0.0788 - mae: 0.0788\n",
            "Epoch 228/256\n",
            "10/10 [==============================] - 0s 2ms/step - loss: 0.0787 - mae: 0.0787\n",
            "Epoch 229/256\n",
            "10/10 [==============================] - 0s 2ms/step - loss: 0.0787 - mae: 0.0787\n",
            "Epoch 230/256\n",
            "10/10 [==============================] - 0s 3ms/step - loss: 0.0787 - mae: 0.0787\n",
            "Epoch 231/256\n",
            "10/10 [==============================] - 0s 1ms/step - loss: 0.0787 - mae: 0.0787\n",
            "Epoch 232/256\n",
            "10/10 [==============================] - 0s 2ms/step - loss: 0.0787 - mae: 0.0787\n",
            "Epoch 233/256\n",
            "10/10 [==============================] - 0s 2ms/step - loss: 0.0787 - mae: 0.0787\n",
            "Epoch 234/256\n",
            "10/10 [==============================] - 0s 1ms/step - loss: 0.0788 - mae: 0.0788\n",
            "Epoch 235/256\n",
            "10/10 [==============================] - 0s 2ms/step - loss: 0.0787 - mae: 0.0787\n",
            "Epoch 236/256\n",
            "10/10 [==============================] - 0s 2ms/step - loss: 0.0787 - mae: 0.0787\n",
            "Epoch 237/256\n",
            "10/10 [==============================] - 0s 1ms/step - loss: 0.0787 - mae: 0.0787\n",
            "Epoch 238/256\n",
            "10/10 [==============================] - 0s 2ms/step - loss: 0.0787 - mae: 0.0787\n",
            "Epoch 239/256\n",
            "10/10 [==============================] - 0s 2ms/step - loss: 0.0787 - mae: 0.0787\n",
            "Epoch 240/256\n",
            "10/10 [==============================] - 0s 2ms/step - loss: 0.0788 - mae: 0.0788\n",
            "Epoch 241/256\n",
            "10/10 [==============================] - 0s 2ms/step - loss: 0.0787 - mae: 0.0787\n",
            "Epoch 242/256\n",
            "10/10 [==============================] - 0s 1ms/step - loss: 0.0787 - mae: 0.0787\n",
            "Epoch 243/256\n",
            "10/10 [==============================] - 0s 2ms/step - loss: 0.0788 - mae: 0.0788\n",
            "Epoch 244/256\n",
            "10/10 [==============================] - 0s 1ms/step - loss: 0.0788 - mae: 0.0788\n",
            "Epoch 245/256\n",
            "10/10 [==============================] - 0s 2ms/step - loss: 0.0788 - mae: 0.0788\n",
            "Epoch 246/256\n",
            "10/10 [==============================] - 0s 1ms/step - loss: 0.0788 - mae: 0.0788\n",
            "Epoch 247/256\n",
            "10/10 [==============================] - 0s 1ms/step - loss: 0.0788 - mae: 0.0788\n",
            "Epoch 248/256\n",
            "10/10 [==============================] - 0s 1ms/step - loss: 0.0788 - mae: 0.0788\n",
            "Epoch 249/256\n",
            "10/10 [==============================] - 0s 2ms/step - loss: 0.0789 - mae: 0.0789\n",
            "Epoch 250/256\n",
            "10/10 [==============================] - 0s 2ms/step - loss: 0.0787 - mae: 0.0787\n",
            "Epoch 251/256\n",
            "10/10 [==============================] - 0s 2ms/step - loss: 0.0787 - mae: 0.0787\n",
            "Epoch 252/256\n",
            "10/10 [==============================] - 0s 1ms/step - loss: 0.0787 - mae: 0.0787\n",
            "Epoch 253/256\n",
            "10/10 [==============================] - 0s 1ms/step - loss: 0.0788 - mae: 0.0788\n",
            "Epoch 254/256\n",
            "10/10 [==============================] - 0s 2ms/step - loss: 0.0787 - mae: 0.0787\n",
            "Epoch 255/256\n",
            "10/10 [==============================] - 0s 2ms/step - loss: 0.0787 - mae: 0.0787\n",
            "Epoch 256/256\n",
            "10/10 [==============================] - 0s 1ms/step - loss: 0.0787 - mae: 0.0787\n"
          ],
          "name": "stdout"
        },
        {
          "output_type": "execute_result",
          "data": {
            "text/plain": [
              "<tensorflow.python.keras.callbacks.History at 0x7ff6e3028208>"
            ]
          },
          "metadata": {
            "tags": []
          },
          "execution_count": 127
        }
      ]
    },
    {
      "cell_type": "code",
      "metadata": {
        "id": "VNjSrno5G1LE"
      },
      "source": [
        "prediction = model.predict(dataset[:, 0:2])"
      ],
      "execution_count": null,
      "outputs": []
    },
    {
      "cell_type": "code",
      "metadata": {
        "id": "F_ABTpdzPjFC",
        "colab": {
          "base_uri": "https://localhost:8080/",
          "height": 102
        },
        "outputId": "6289edfe-6145-44f1-c3d3-267364b20a92"
      },
      "source": [
        "print (prediction[:5])"
      ],
      "execution_count": null,
      "outputs": [
        {
          "output_type": "stream",
          "text": [
            "[[0.3048]\n",
            " [0.3009]\n",
            " [0.2988]\n",
            " [0.3019]\n",
            " [0.2988]]\n"
          ],
          "name": "stdout"
        }
      ]
    },
    {
      "cell_type": "code",
      "metadata": {
        "id": "pb-FqBApPl1W",
        "colab": {
          "base_uri": "https://localhost:8080/",
          "height": 102
        },
        "outputId": "61685d5c-34ea-4913-b331-b4f93c828cc5"
      },
      "source": [
        "#undoing Normalization\n",
        "\n",
        "actual_prediction = prediction * platelets_max\n",
        "print (actual_prediction[:5])"
      ],
      "execution_count": null,
      "outputs": [
        {
          "output_type": "stream",
          "text": [
            "[[259074.2 ]\n",
            " [255723.31]\n",
            " [253991.17]\n",
            " [256589.39]\n",
            " [253991.17]]\n"
          ],
          "name": "stdout"
        }
      ]
    },
    {
      "cell_type": "code",
      "metadata": {
        "id": "02vXYi36RUtd",
        "colab": {
          "base_uri": "https://localhost:8080/",
          "height": 85
        },
        "outputId": "852c09df-76c4-45c3-eb2e-10a03b8e997c"
      },
      "source": [
        "print ('Model weights(w0, w1 and bias):')\n",
        "w0 = model.layers[0].get_weights()[0][0]\n",
        "w1 = model.layers[0].get_weights()[0][1]\n",
        "b0 = model.layers[0].get_weights()[1]\n",
        "print (w0)\n",
        "print(w1)\n",
        "print(b0)"
      ],
      "execution_count": null,
      "outputs": [
        {
          "output_type": "stream",
          "text": [
            "Model weights(w0, w1 and bias):\n",
            "[-0.0194]\n",
            "[0.008]\n",
            "[0.3121]\n"
          ],
          "name": "stdout"
        }
      ]
    },
    {
      "cell_type": "code",
      "metadata": {
        "id": "-jHi8htJT21q",
        "colab": {
          "base_uri": "https://localhost:8080/",
          "height": 85
        },
        "outputId": "c715638c-dba3-435f-f068-c6f515fe1a33"
      },
      "source": [
        "np.set_printoptions(precision=2)\n",
        "print('True Validation Data:')\n",
        "print (dataset[:10, 2])\n",
        "prediction = model.predict(dataset[:, 0:2])\n",
        "print('Prediction: ')\n",
        "print(prediction[0:5].T)\n"
      ],
      "execution_count": null,
      "outputs": [
        {
          "output_type": "stream",
          "text": [
            "True Validation Data:\n",
            "[0.31 0.31 0.19 0.25 0.38 0.24 0.15 0.53 0.31 0.46]\n",
            "Prediction: \n",
            "[[0.3 0.3 0.3 0.3 0.3]]\n"
          ],
          "name": "stdout"
        }
      ]
    },
    {
      "cell_type": "code",
      "metadata": {
        "id": "U9LiVDv2UBbD",
        "colab": {
          "base_uri": "https://localhost:8080/",
          "height": 279
        },
        "outputId": "cce38dd5-43ce-4662-b5bd-05d288942362"
      },
      "source": [
        "import matplotlib.pyplot as plt\n",
        "plt.scatter(dataset[:, 2], prediction)\n",
        "plt.ylabel('Predicted Age')\n",
        "plt.xlabel('True Age')\n",
        "plt.show()"
      ],
      "execution_count": null,
      "outputs": [
        {
          "output_type": "display_data",
          "data": {
            "image/png": "[encoded data removed]",
            "text/plain": [
              "<Figure size 432x288 with 1 Axes>"
            ]
          },
          "metadata": {
            "tags": [],
            "needs_background": "light"
          }
        }
      ]
    },
    {
      "cell_type": "code",
      "metadata": {
        "id": "PT1QQ3pwUGMD"
      },
      "source": [
        ""
      ],
      "execution_count": null,
      "outputs": []
    }
  ]
}