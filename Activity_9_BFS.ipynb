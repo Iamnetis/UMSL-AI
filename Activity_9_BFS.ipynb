{
  "nbformat": 4,
  "nbformat_minor": 0,
  "metadata": {
    "colab": {
      "name": "Activity 9 BFS.ipynb",
      "provenance": [],
      "collapsed_sections": [],
      "authorship_tag": "ABX9TyMGWKL6eW4nXEuMD4QVhRkw",
      "include_colab_link": true
    },
    "kernelspec": {
      "name": "python3",
      "display_name": "Python 3"
    }
  },
  "cells": [
    {
      "cell_type": "markdown",
      "metadata": {
        "id": "view-in-github",
        "colab_type": "text"
      },
      "source": [
        "<a href=\"https://colab.research.google.com/github/Iamnetis/UMSL-AI/blob/main/Activity_9_BFS.ipynb\" target=\"_parent\"><img src=\"https://colab.research.google.com/assets/colab-badge.svg\" alt=\"Open In Colab\"/></a>"
      ]
    },
    {
      "cell_type": "code",
      "metadata": {
        "id": "MoFJyFSPeLJD"
      },
      "source": [
        "# Initializing a queue \n",
        "queue = []  \n",
        "# Adding elements to the queue \n",
        "queue.append('a') \n",
        "queue.append('b') \n",
        "queue.append('c') \n",
        "# Print\n",
        "print(queue) \n",
        "# Removing elements from the queue \n",
        "print(\"\\nElements dequeued from queue\") \n",
        "print(queue.pop(0)) \n",
        "print(queue.pop(0)) \n",
        "print(queue) "
      ],
      "execution_count": null,
      "outputs": []
    },
    {
      "cell_type": "code",
      "metadata": {
        "id": "S9Td9VzoeXTw"
      },
      "source": [
        "graph = {}\n",
        "graph['Sibiu'] = ['Fagaras', 'Rimnicu Vilcea']\n",
        "graph['Fagaras'] = ['Sibiu', 'Bucharest']\n",
        "graph['Rimnicu Vilcea'] = ['Sibiu', 'Pitesti', 'Craiova']\n",
        "graph['Pitesti'] = ['Rimnicu Vilcea', 'Craiova', 'Bucharest']\n",
        "graph['Craiova'] = ['Rimnicu Vilcea', 'Pitesti']\n",
        "graph['Bucharest'] = ['Fagaras', 'Pitesti', 'Giurgiu']\n",
        "graph['Giurgiu'] = ['Bucharest']"
      ],
      "execution_count": null,
      "outputs": []
    },
    {
      "cell_type": "code",
      "metadata": {
        "id": "84_K4477eih6"
      },
      "source": [
        "#@title Practice\n",
        "def shortest_path_BFS(graph, start, goal):\n",
        "    track_node = [] #tracking the node of the graph above\n",
        "    check_queue = [start]  # tracking all the ckecked nodes\n",
        "\n",
        "    while check_queue:\n",
        "        path = print (check_queue.pop(0)) #deleting first queue (FIFO method)\n",
        "\n",
        "        node = path[-1]\n",
        "                \n",
        "        if node in track_node:\n",
        "            closer = graph[node]\n",
        "\n",
        "            for close in closer:\n",
        "                queue.append(close)\n",
        "    return track_node\n",
        "\n",
        "\n",
        "   \n",
        "\n",
        "# Call shortest_path_BFS\n",
        "shortest_path_BFS(graph, 'Sibiu', 'Bucharest')"
      ],
      "execution_count": null,
      "outputs": []
    },
    {
      "cell_type": "code",
      "metadata": {
        "id": "5QIygLQWeuoB",
        "colab": {
          "base_uri": "https://localhost:8080/",
          "height": 34
        },
        "outputId": "ad91ff13-edb7-4a1e-f0ca-da45cd5a03a5"
      },
      "source": [
        "def shortest_path_BFS(graph, start, goal):\n",
        "    track_node=[] #tracking the node of the graph above\n",
        "    check_queue = [[start]] #tracking all the checked nodes...\n",
        "\n",
        "    while check_queue:\n",
        "        path = check_queue.pop(0)  #deleting first queue(FIFO method)\n",
        "        node = path[-1] #Getting the last node from the path\n",
        "        \n",
        "        if node not in track_node:\n",
        "            nearby_city = graph[node]\n",
        "\n",
        "            \n",
        "            for near in nearby_city: #checking every near path and constructing a path\n",
        "                short_path = list(path) \n",
        "                short_path.append(near)\n",
        "                check_queue.append(short_path)\n",
        "\n",
        "            if near == goal:\n",
        "                return (short_path)\n",
        "# Call shortest_path_BFS\n",
        "shortest_path_BFS(graph, 'Sibiu', 'Bucharest')"
      ],
      "execution_count": null,
      "outputs": [
        {
          "output_type": "execute_result",
          "data": {
            "text/plain": [
              "['Sibiu', 'Fagaras', 'Bucharest']"
            ]
          },
          "metadata": {
            "tags": []
          },
          "execution_count": 8
        }
      ]
    },
    {
      "cell_type": "code",
      "metadata": {
        "id": "gZRkL_qO7hsV"
      },
      "source": [
        ""
      ],
      "execution_count": null,
      "outputs": []
    }
  ]
}