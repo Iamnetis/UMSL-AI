{
  "nbformat": 4,
  "nbformat_minor": 0,
  "metadata": {
    "colab": {
      "name": "Linear regression with two input variables.ipynb",
      "provenance": [],
      "collapsed_sections": [],
      "authorship_tag": "ABX9TyO7maLGpVQP85jK+27X+1ci",
      "include_colab_link": true
    },
    "kernelspec": {
      "name": "python3",
      "display_name": "Python 3"
    }
  },
  "cells": [
    {
      "cell_type": "markdown",
      "metadata": {
        "id": "view-in-github",
        "colab_type": "text"
      },
      "source": [
        "<a href=\"https://colab.research.google.com/github/Iamnetis/UMSL-AI/blob/main/Linear_regression_with_two_input_variables.ipynb\" target=\"_parent\"><img src=\"https://colab.research.google.com/assets/colab-badge.svg\" alt=\"Open In Colab\"/></a>"
      ]
    },
    {
      "cell_type": "code",
      "metadata": {
        "id": "vvJUXz3at3wt",
        "colab": {
          "resources": {
            "http://localhost:8080/nbextensions/google.colab/files.js": {
              "data": "Ly8gQ29weXJpZ2h0IDIwMTcgR29vZ2xlIExMQwovLwovLyBMaWNlbnNlZCB1bmRlciB0aGUgQXBhY2hlIExpY2Vuc2UsIFZlcnNpb24gMi4wICh0aGUgIkxpY2Vuc2UiKTsKLy8geW91IG1heSBub3QgdXNlIHRoaXMgZmlsZSBleGNlcHQgaW4gY29tcGxpYW5jZSB3aXRoIHRoZSBMaWNlbnNlLgovLyBZb3UgbWF5IG9idGFpbiBhIGNvcHkgb2YgdGhlIExpY2Vuc2UgYXQKLy8KLy8gICAgICBodHRwOi8vd3d3LmFwYWNoZS5vcmcvbGljZW5zZXMvTElDRU5TRS0yLjAKLy8KLy8gVW5sZXNzIHJlcXVpcmVkIGJ5IGFwcGxpY2FibGUgbGF3IG9yIGFncmVlZCB0byBpbiB3cml0aW5nLCBzb2Z0d2FyZQovLyBkaXN0cmlidXRlZCB1bmRlciB0aGUgTGljZW5zZSBpcyBkaXN0cmlidXRlZCBvbiBhbiAiQVMgSVMiIEJBU0lTLAovLyBXSVRIT1VUIFdBUlJBTlRJRVMgT1IgQ09ORElUSU9OUyBPRiBBTlkgS0lORCwgZWl0aGVyIGV4cHJlc3Mgb3IgaW1wbGllZC4KLy8gU2VlIHRoZSBMaWNlbnNlIGZvciB0aGUgc3BlY2lmaWMgbGFuZ3VhZ2UgZ292ZXJuaW5nIHBlcm1pc3Npb25zIGFuZAovLyBsaW1pdGF0aW9ucyB1bmRlciB0aGUgTGljZW5zZS4KCi8qKgogKiBAZmlsZW92ZXJ2aWV3IEhlbHBlcnMgZm9yIGdvb2dsZS5jb2xhYiBQeXRob24gbW9kdWxlLgogKi8KKGZ1bmN0aW9uKHNjb3BlKSB7CmZ1bmN0aW9uIHNwYW4odGV4dCwgc3R5bGVBdHRyaWJ1dGVzID0ge30pIHsKICBjb25zdCBlbGVtZW50ID0gZG9jdW1lbnQuY3JlYXRlRWxlbWVudCgnc3BhbicpOwogIGVsZW1lbnQudGV4dENvbnRlbnQgPSB0ZXh0OwogIGZvciAoY29uc3Qga2V5IG9mIE9iamVjdC5rZXlzKHN0eWxlQXR0cmlidXRlcykpIHsKICAgIGVsZW1lbnQuc3R5bGVba2V5XSA9IHN0eWxlQXR0cmlidXRlc1trZXldOwogIH0KICByZXR1cm4gZWxlbWVudDsKfQoKLy8gTWF4IG51bWJlciBvZiBieXRlcyB3aGljaCB3aWxsIGJlIHVwbG9hZGVkIGF0IGEgdGltZS4KY29uc3QgTUFYX1BBWUxPQURfU0laRSA9IDEwMCAqIDEwMjQ7CgpmdW5jdGlvbiBfdXBsb2FkRmlsZXMoaW5wdXRJZCwgb3V0cHV0SWQpIHsKICBjb25zdCBzdGVwcyA9IHVwbG9hZEZpbGVzU3RlcChpbnB1dElkLCBvdXRwdXRJZCk7CiAgY29uc3Qgb3V0cHV0RWxlbWVudCA9IGRvY3VtZW50LmdldEVsZW1lbnRCeUlkKG91dHB1dElkKTsKICAvLyBDYWNoZSBzdGVwcyBvbiB0aGUgb3V0cHV0RWxlbWVudCB0byBtYWtlIGl0IGF2YWlsYWJsZSBmb3IgdGhlIG5leHQgY2FsbAogIC8vIHRvIHVwbG9hZEZpbGVzQ29udGludWUgZnJvbSBQeXRob24uCiAgb3V0cHV0RWxlbWVudC5zdGVwcyA9IHN0ZXBzOwoKICByZXR1cm4gX3VwbG9hZEZpbGVzQ29udGludWUob3V0cHV0SWQpOwp9CgovLyBUaGlzIGlzIHJvdWdobHkgYW4gYXN5bmMgZ2VuZXJhdG9yIChub3Qgc3VwcG9ydGVkIGluIHRoZSBicm93c2VyIHlldCksCi8vIHdoZXJlIHRoZXJlIGFyZSBtdWx0aXBsZSBhc3luY2hyb25vdXMgc3RlcHMgYW5kIHRoZSBQeXRob24gc2lkZSBpcyBnb2luZwovLyB0byBwb2xsIGZvciBjb21wbGV0aW9uIG9mIGVhY2ggc3RlcC4KLy8gVGhpcyB1c2VzIGEgUHJvbWlzZSB0byBibG9jayB0aGUgcHl0aG9uIHNpZGUgb24gY29tcGxldGlvbiBvZiBlYWNoIHN0ZXAsCi8vIHRoZW4gcGFzc2VzIHRoZSByZXN1bHQgb2YgdGhlIHByZXZpb3VzIHN0ZXAgYXMgdGhlIGlucHV0IHRvIHRoZSBuZXh0IHN0ZXAuCmZ1bmN0aW9uIF91cGxvYWRGaWxlc0NvbnRpbnVlKG91dHB1dElkKSB7CiAgY29uc3Qgb3V0cHV0RWxlbWVudCA9IGRvY3VtZW50LmdldEVsZW1lbnRCeUlkKG91dHB1dElkKTsKICBjb25zdCBzdGVwcyA9IG91dHB1dEVsZW1lbnQuc3RlcHM7CgogIGNvbnN0IG5leHQgPSBzdGVwcy5uZXh0KG91dHB1dEVsZW1lbnQubGFzdFByb21pc2VWYWx1ZSk7CiAgcmV0dXJuIFByb21pc2UucmVzb2x2ZShuZXh0LnZhbHVlLnByb21pc2UpLnRoZW4oKHZhbHVlKSA9PiB7CiAgICAvLyBDYWNoZSB0aGUgbGFzdCBwcm9taXNlIHZhbHVlIHRvIG1ha2UgaXQgYXZhaWxhYmxlIHRvIHRoZSBuZXh0CiAgICAvLyBzdGVwIG9mIHRoZSBnZW5lcmF0b3IuCiAgICBvdXRwdXRFbGVtZW50Lmxhc3RQcm9taXNlVmFsdWUgPSB2YWx1ZTsKICAgIHJldHVybiBuZXh0LnZhbHVlLnJlc3BvbnNlOwogIH0pOwp9CgovKioKICogR2VuZXJhdG9yIGZ1bmN0aW9uIHdoaWNoIGlzIGNhbGxlZCBiZXR3ZWVuIGVhY2ggYXN5bmMgc3RlcCBvZiB0aGUgdXBsb2FkCiAqIHByb2Nlc3MuCiAqIEBwYXJhbSB7c3RyaW5nfSBpbnB1dElkIEVsZW1lbnQgSUQgb2YgdGhlIGlucHV0IGZpbGUgcGlja2VyIGVsZW1lbnQuCiAqIEBwYXJhbSB7c3RyaW5nfSBvdXRwdXRJZCBFbGVtZW50IElEIG9mIHRoZSBvdXRwdXQgZGlzcGxheS4KICogQHJldHVybiB7IUl0ZXJhYmxlPCFPYmplY3Q+fSBJdGVyYWJsZSBvZiBuZXh0IHN0ZXBzLgogKi8KZnVuY3Rpb24qIHVwbG9hZEZpbGVzU3RlcChpbnB1dElkLCBvdXRwdXRJZCkgewogIGNvbnN0IGlucHV0RWxlbWVudCA9IGRvY3VtZW50LmdldEVsZW1lbnRCeUlkKGlucHV0SWQpOwogIGlucHV0RWxlbWVudC5kaXNhYmxlZCA9IGZhbHNlOwoKICBjb25zdCBvdXRwdXRFbGVtZW50ID0gZG9jdW1lbnQuZ2V0RWxlbWVudEJ5SWQob3V0cHV0SWQpOwogIG91dHB1dEVsZW1lbnQuaW5uZXJIVE1MID0gJyc7CgogIGNvbnN0IHBpY2tlZFByb21pc2UgPSBuZXcgUHJvbWlzZSgocmVzb2x2ZSkgPT4gewogICAgaW5wdXRFbGVtZW50LmFkZEV2ZW50TGlzdGVuZXIoJ2NoYW5nZScsIChlKSA9PiB7CiAgICAgIHJlc29sdmUoZS50YXJnZXQuZmlsZXMpOwogICAgfSk7CiAgfSk7CgogIGNvbnN0IGNhbmNlbCA9IGRvY3VtZW50LmNyZWF0ZUVsZW1lbnQoJ2J1dHRvbicpOwogIGlucHV0RWxlbWVudC5wYXJlbnRFbGVtZW50LmFwcGVuZENoaWxkKGNhbmNlbCk7CiAgY2FuY2VsLnRleHRDb250ZW50ID0gJ0NhbmNlbCB1cGxvYWQnOwogIGNvbnN0IGNhbmNlbFByb21pc2UgPSBuZXcgUHJvbWlzZSgocmVzb2x2ZSkgPT4gewogICAgY2FuY2VsLm9uY2xpY2sgPSAoKSA9PiB7CiAgICAgIHJlc29sdmUobnVsbCk7CiAgICB9OwogIH0pOwoKICAvLyBXYWl0IGZvciB0aGUgdXNlciB0byBwaWNrIHRoZSBmaWxlcy4KICBjb25zdCBmaWxlcyA9IHlpZWxkIHsKICAgIHByb21pc2U6IFByb21pc2UucmFjZShbcGlja2VkUHJvbWlzZSwgY2FuY2VsUHJvbWlzZV0pLAogICAgcmVzcG9uc2U6IHsKICAgICAgYWN0aW9uOiAnc3RhcnRpbmcnLAogICAgfQogIH07CgogIGNhbmNlbC5yZW1vdmUoKTsKCiAgLy8gRGlzYWJsZSB0aGUgaW5wdXQgZWxlbWVudCBzaW5jZSBmdXJ0aGVyIHBpY2tzIGFyZSBub3QgYWxsb3dlZC4KICBpbnB1dEVsZW1lbnQuZGlzYWJsZWQgPSB0cnVlOwoKICBpZiAoIWZpbGVzKSB7CiAgICByZXR1cm4gewogICAgICByZXNwb25zZTogewogICAgICAgIGFjdGlvbjogJ2NvbXBsZXRlJywKICAgICAgfQogICAgfTsKICB9CgogIGZvciAoY29uc3QgZmlsZSBvZiBmaWxlcykgewogICAgY29uc3QgbGkgPSBkb2N1bWVudC5jcmVhdGVFbGVtZW50KCdsaScpOwogICAgbGkuYXBwZW5kKHNwYW4oZmlsZS5uYW1lLCB7Zm9udFdlaWdodDogJ2JvbGQnfSkpOwogICAgbGkuYXBwZW5kKHNwYW4oCiAgICAgICAgYCgke2ZpbGUudHlwZSB8fCAnbi9hJ30pIC0gJHtmaWxlLnNpemV9IGJ5dGVzLCBgICsKICAgICAgICBgbGFzdCBtb2RpZmllZDogJHsKICAgICAgICAgICAgZmlsZS5sYXN0TW9kaWZpZWREYXRlID8gZmlsZS5sYXN0TW9kaWZpZWREYXRlLnRvTG9jYWxlRGF0ZVN0cmluZygpIDoKICAgICAgICAgICAgICAgICAgICAgICAgICAgICAgICAgICAgJ24vYSd9IC0gYCkpOwogICAgY29uc3QgcGVyY2VudCA9IHNwYW4oJzAlIGRvbmUnKTsKICAgIGxpLmFwcGVuZENoaWxkKHBlcmNlbnQpOwoKICAgIG91dHB1dEVsZW1lbnQuYXBwZW5kQ2hpbGQobGkpOwoKICAgIGNvbnN0IGZpbGVEYXRhUHJvbWlzZSA9IG5ldyBQcm9taXNlKChyZXNvbHZlKSA9PiB7CiAgICAgIGNvbnN0IHJlYWRlciA9IG5ldyBGaWxlUmVhZGVyKCk7CiAgICAgIHJlYWRlci5vbmxvYWQgPSAoZSkgPT4gewogICAgICAgIHJlc29sdmUoZS50YXJnZXQucmVzdWx0KTsKICAgICAgfTsKICAgICAgcmVhZGVyLnJlYWRBc0FycmF5QnVmZmVyKGZpbGUpOwogICAgfSk7CiAgICAvLyBXYWl0IGZvciB0aGUgZGF0YSB0byBiZSByZWFkeS4KICAgIGxldCBmaWxlRGF0YSA9IHlpZWxkIHsKICAgICAgcHJvbWlzZTogZmlsZURhdGFQcm9taXNlLAogICAgICByZXNwb25zZTogewogICAgICAgIGFjdGlvbjogJ2NvbnRpbnVlJywKICAgICAgfQogICAgfTsKCiAgICAvLyBVc2UgYSBjaHVua2VkIHNlbmRpbmcgdG8gYXZvaWQgbWVzc2FnZSBzaXplIGxpbWl0cy4gU2VlIGIvNjIxMTU2NjAuCiAgICBsZXQgcG9zaXRpb24gPSAwOwogICAgd2hpbGUgKHBvc2l0aW9uIDwgZmlsZURhdGEuYnl0ZUxlbmd0aCkgewogICAgICBjb25zdCBsZW5ndGggPSBNYXRoLm1pbihmaWxlRGF0YS5ieXRlTGVuZ3RoIC0gcG9zaXRpb24sIE1BWF9QQVlMT0FEX1NJWkUpOwogICAgICBjb25zdCBjaHVuayA9IG5ldyBVaW50OEFycmF5KGZpbGVEYXRhLCBwb3NpdGlvbiwgbGVuZ3RoKTsKICAgICAgcG9zaXRpb24gKz0gbGVuZ3RoOwoKICAgICAgY29uc3QgYmFzZTY0ID0gYnRvYShTdHJpbmcuZnJvbUNoYXJDb2RlLmFwcGx5KG51bGwsIGNodW5rKSk7CiAgICAgIHlpZWxkIHsKICAgICAgICByZXNwb25zZTogewogICAgICAgICAgYWN0aW9uOiAnYXBwZW5kJywKICAgICAgICAgIGZpbGU6IGZpbGUubmFtZSwKICAgICAgICAgIGRhdGE6IGJhc2U2NCwKICAgICAgICB9LAogICAgICB9OwogICAgICBwZXJjZW50LnRleHRDb250ZW50ID0KICAgICAgICAgIGAke01hdGgucm91bmQoKHBvc2l0aW9uIC8gZmlsZURhdGEuYnl0ZUxlbmd0aCkgKiAxMDApfSUgZG9uZWA7CiAgICB9CiAgfQoKICAvLyBBbGwgZG9uZS4KICB5aWVsZCB7CiAgICByZXNwb25zZTogewogICAgICBhY3Rpb246ICdjb21wbGV0ZScsCiAgICB9CiAgfTsKfQoKc2NvcGUuZ29vZ2xlID0gc2NvcGUuZ29vZ2xlIHx8IHt9OwpzY29wZS5nb29nbGUuY29sYWIgPSBzY29wZS5nb29nbGUuY29sYWIgfHwge307CnNjb3BlLmdvb2dsZS5jb2xhYi5fZmlsZXMgPSB7CiAgX3VwbG9hZEZpbGVzLAogIF91cGxvYWRGaWxlc0NvbnRpbnVlLAp9Owp9KShzZWxmKTsK",
              "ok": true,
              "headers": [
                [
                  "content-type",
                  "application/javascript"
                ]
              ],
              "status": 200,
              "status_text": ""
            }
          },
          "base_uri": "https://localhost:8080/",
          "height": 72
        },
        "outputId": "93bc7f3f-ff47-4e21-ae4c-77b5ab3d6bbb"
      },
      "source": [
        "from google.colab import files\n",
        "uploaded = files.upload()"
      ],
      "execution_count": null,
      "outputs": [
        {
          "output_type": "display_data",
          "data": {
            "text/html": [
              "\n",
              "     <input type=\"file\" id=\"files-131e439a-8720-4e72-8fde-7411f5234c22\" name=\"files[]\" multiple disabled\n",
              "        style=\"border:none\" />\n",
              "     <output id=\"result-131e439a-8720-4e72-8fde-7411f5234c22\">\n",
              "      Upload widget is only available when the cell has been executed in the\n",
              "      current browser session. Please rerun this cell to enable.\n",
              "      </output>\n",
              "      <script src=\"/nbextensions/google.colab/files.js\"></script> "
            ],
            "text/plain": [
              "<IPython.core.display.HTML object>"
            ]
          },
          "metadata": {
            "tags": []
          }
        },
        {
          "output_type": "stream",
          "text": [
            "Saving pima-diabetes.csv to pima-diabetes.csv\n"
          ],
          "name": "stdout"
        }
      ]
    },
    {
      "cell_type": "code",
      "metadata": {
        "id": "YMaqi2Vcuala"
      },
      "source": [
        "import pandas as pd\n",
        "data = pd.read_csv('pima-diabetes.csv', delimiter =',')"
      ],
      "execution_count": null,
      "outputs": []
    },
    {
      "cell_type": "code",
      "metadata": {
        "id": "VRdxZOCpwTfc",
        "colab": {
          "base_uri": "https://localhost:8080/",
          "height": 224
        },
        "outputId": "cb840879-03a7-4ccd-c524-e9bbe0f9fbe9"
      },
      "source": [
        "data.head()"
      ],
      "execution_count": null,
      "outputs": [
        {
          "output_type": "execute_result",
          "data": {
            "text/html": [
              "<div>\n",
              "<style scoped>\n",
              "    .dataframe tbody tr th:only-of-type {\n",
              "        vertical-align: middle;\n",
              "    }\n",
              "\n",
              "    .dataframe tbody tr th {\n",
              "        vertical-align: top;\n",
              "    }\n",
              "\n",
              "    .dataframe thead th {\n",
              "        text-align: right;\n",
              "    }\n",
              "</style>\n",
              "<table border=\"1\" class=\"dataframe\">\n",
              "  <thead>\n",
              "    <tr style=\"text-align: right;\">\n",
              "      <th></th>\n",
              "      <th>Pregnancies</th>\n",
              "      <th>Glucose</th>\n",
              "      <th>BloodPressure</th>\n",
              "      <th>SkinThickness</th>\n",
              "      <th>Insulin</th>\n",
              "      <th>BMI</th>\n",
              "      <th>DiabetesPedigreeFunction</th>\n",
              "      <th>Age</th>\n",
              "      <th>Outcome</th>\n",
              "    </tr>\n",
              "  </thead>\n",
              "  <tbody>\n",
              "    <tr>\n",
              "      <th>0</th>\n",
              "      <td>6</td>\n",
              "      <td>148</td>\n",
              "      <td>72</td>\n",
              "      <td>35</td>\n",
              "      <td>0</td>\n",
              "      <td>33.6</td>\n",
              "      <td>0.627</td>\n",
              "      <td>50</td>\n",
              "      <td>1</td>\n",
              "    </tr>\n",
              "    <tr>\n",
              "      <th>1</th>\n",
              "      <td>1</td>\n",
              "      <td>85</td>\n",
              "      <td>66</td>\n",
              "      <td>29</td>\n",
              "      <td>0</td>\n",
              "      <td>26.6</td>\n",
              "      <td>0.351</td>\n",
              "      <td>31</td>\n",
              "      <td>0</td>\n",
              "    </tr>\n",
              "    <tr>\n",
              "      <th>2</th>\n",
              "      <td>8</td>\n",
              "      <td>183</td>\n",
              "      <td>64</td>\n",
              "      <td>0</td>\n",
              "      <td>0</td>\n",
              "      <td>23.3</td>\n",
              "      <td>0.672</td>\n",
              "      <td>32</td>\n",
              "      <td>1</td>\n",
              "    </tr>\n",
              "    <tr>\n",
              "      <th>3</th>\n",
              "      <td>1</td>\n",
              "      <td>89</td>\n",
              "      <td>66</td>\n",
              "      <td>23</td>\n",
              "      <td>94</td>\n",
              "      <td>28.1</td>\n",
              "      <td>0.167</td>\n",
              "      <td>21</td>\n",
              "      <td>0</td>\n",
              "    </tr>\n",
              "    <tr>\n",
              "      <th>4</th>\n",
              "      <td>0</td>\n",
              "      <td>137</td>\n",
              "      <td>40</td>\n",
              "      <td>35</td>\n",
              "      <td>168</td>\n",
              "      <td>43.1</td>\n",
              "      <td>2.288</td>\n",
              "      <td>33</td>\n",
              "      <td>1</td>\n",
              "    </tr>\n",
              "  </tbody>\n",
              "</table>\n",
              "</div>"
            ],
            "text/plain": [
              "   Pregnancies  Glucose  BloodPressure  ...  DiabetesPedigreeFunction  Age  Outcome\n",
              "0            6      148             72  ...                     0.627   50        1\n",
              "1            1       85             66  ...                     0.351   31        0\n",
              "2            8      183             64  ...                     0.672   32        1\n",
              "3            1       89             66  ...                     0.167   21        0\n",
              "4            0      137             40  ...                     2.288   33        1\n",
              "\n",
              "[5 rows x 9 columns]"
            ]
          },
          "metadata": {
            "tags": []
          },
          "execution_count": 4
        }
      ]
    },
    {
      "cell_type": "code",
      "metadata": {
        "id": "k0FXSX52wUfb"
      },
      "source": [
        "import numpy as np\n",
        "dataset= np.genfromtxt('pima-diabetes.csv', delimiter=',', skip_header = True, usecols = (2, 5, 7))"
      ],
      "execution_count": null,
      "outputs": []
    },
    {
      "cell_type": "code",
      "metadata": {
        "id": "85SsaASwwqcj",
        "colab": {
          "base_uri": "https://localhost:8080/",
          "height": 136
        },
        "outputId": "331bf0da-0d8f-468c-d9d3-cfdb7078de84"
      },
      "source": [
        "dataset"
      ],
      "execution_count": null,
      "outputs": [
        {
          "output_type": "execute_result",
          "data": {
            "text/plain": [
              "array([[72. , 33.6, 50. ],\n",
              "       [66. , 26.6, 31. ],\n",
              "       [64. , 23.3, 32. ],\n",
              "       ...,\n",
              "       [72. , 26.2, 30. ],\n",
              "       [60. , 30.1, 47. ],\n",
              "       [70. , 30.4, 23. ]])"
            ]
          },
          "metadata": {
            "tags": []
          },
          "execution_count": 6
        }
      ]
    },
    {
      "cell_type": "code",
      "metadata": {
        "id": "5TWOJnLYwxv6",
        "colab": {
          "base_uri": "https://localhost:8080/",
          "height": 34
        },
        "outputId": "b08e5e3b-1010-4e2f-c20c-1e90043cf1ab"
      },
      "source": [
        "print (dataset.shape)"
      ],
      "execution_count": null,
      "outputs": [
        {
          "output_type": "stream",
          "text": [
            "(768, 3)\n"
          ],
          "name": "stdout"
        }
      ]
    },
    {
      "cell_type": "code",
      "metadata": {
        "id": "fk-OkryAw08q",
        "colab": {
          "base_uri": "https://localhost:8080/",
          "height": 102
        },
        "outputId": "672f8078-1d48-436d-82c8-047b17f669aa"
      },
      "source": [
        "print (dataset[0:5])"
      ],
      "execution_count": null,
      "outputs": [
        {
          "output_type": "stream",
          "text": [
            "[[72.  33.6 50. ]\n",
            " [66.  26.6 31. ]\n",
            " [64.  23.3 32. ]\n",
            " [66.  28.1 21. ]\n",
            " [40.  43.1 33. ]]\n"
          ],
          "name": "stdout"
        }
      ]
    },
    {
      "cell_type": "code",
      "metadata": {
        "id": "BgNnYpPXw8UC"
      },
      "source": [
        "import plotly.express as px\n",
        "import pandas as pd\n",
        "d = {'BloodPressure': dataset[:, 0], 'BMI': dataset[:, 1], 'Age': dataset[:, 2]}\n",
        "df = pd.DataFrame(data=d)"
      ],
      "execution_count": null,
      "outputs": []
    },
    {
      "cell_type": "code",
      "metadata": {
        "id": "j-ZQ25OExYK7",
        "colab": {
          "base_uri": "https://localhost:8080/",
          "height": 542
        },
        "outputId": "c759e6f2-3593-4703-f9ea-2ccbe0145826"
      },
      "source": [
        "fig = px.scatter_3d(df,\n",
        "                    x = 'BloodPressure',\n",
        "                    y = 'BMI',\n",
        "                    z = 'Age', opacity = 0.6)\n",
        "fig.show()"
      ],
      "execution_count": null,
      "outputs": [
        {
          "output_type": "display_data",
          "data": {
            "text/html": [
              "<html>\n",
              "<head><meta charset=\"utf-8\" /></head>\n",
              "<body>\n",
              "    <div>\n",
              "            <script src=\"https://cdnjs.cloudflare.com/ajax/libs/mathjax/2.7.5/MathJax.js?config=TeX-AMS-MML_SVG\"></script><script type=\"text/javascript\">if (window.MathJax) {MathJax.Hub.Config({SVG: {font: \"STIX-Web\"}});}</script>\n",
              "                <script type=\"text/javascript\">window.PlotlyConfig = {MathJaxConfig: 'local'};</script>\n",
              "        <script src=\"https://cdn.plot.ly/plotly-latest.min.js\"></script>    \n",
              "            <div id=\"de2d30c4-ba97-40f8-ad27-e62216a22ea2\" class=\"plotly-graph-div\" style=\"height:525px; width:100%;\"></div>\n",
              "            <script type=\"text/javascript\">\n",
              "                \n",
              "                    window.PLOTLYENV=window.PLOTLYENV || {};\n",
              "                    \n",
              "                if (document.getElementById(\"de2d30c4-ba97-40f8-ad27-e62216a22ea2\")) {\n",
              "                    Plotly.newPlot(\n",
              "                        'de2d30c4-ba97-40f8-ad27-e62216a22ea2',\n",
              "                        [{\"hoverlabel\": {\"namelength\": 0}, \"hovertemplate\": \"BloodPressure=%{x}<br>BMI=%{y}<br>Age=%{z}\", \"legendgroup\": \"\", \"marker\": {\"color\": \"#636efa\", \"opacity\": 0.6, \"symbol\": \"circle\"}, \"mode\": \"markers\", \"name\": \"\", \"scene\": \"scene\", \"showlegend\": false, \"type\": \"scatter3d\", \"x\": [72.0, 66.0, 64.0, 66.0, 40.0, 74.0, 50.0, 0.0, 70.0, 96.0, 92.0, 74.0, 80.0, 60.0, 72.0, 0.0, 84.0, 74.0, 30.0, 70.0, 88.0, 84.0, 90.0, 80.0, 94.0, 70.0, 76.0, 66.0, 82.0, 92.0, 75.0, 76.0, 58.0, 92.0, 78.0, 60.0, 76.0, 76.0, 68.0, 72.0, 64.0, 84.0, 92.0, 110.0, 64.0, 66.0, 56.0, 70.0, 66.0, 0.0, 80.0, 50.0, 66.0, 90.0, 66.0, 50.0, 68.0, 88.0, 82.0, 64.0, 0.0, 72.0, 62.0, 58.0, 66.0, 74.0, 88.0, 92.0, 66.0, 85.0, 66.0, 64.0, 90.0, 86.0, 75.0, 48.0, 78.0, 72.0, 0.0, 66.0, 44.0, 0.0, 78.0, 65.0, 108.0, 74.0, 72.0, 68.0, 70.0, 68.0, 55.0, 80.0, 78.0, 72.0, 82.0, 72.0, 62.0, 48.0, 50.0, 90.0, 72.0, 60.0, 96.0, 72.0, 65.0, 56.0, 122.0, 58.0, 58.0, 85.0, 72.0, 62.0, 76.0, 62.0, 54.0, 92.0, 74.0, 48.0, 60.0, 76.0, 76.0, 64.0, 74.0, 80.0, 76.0, 30.0, 70.0, 58.0, 88.0, 84.0, 70.0, 56.0, 64.0, 74.0, 68.0, 60.0, 70.0, 60.0, 80.0, 72.0, 78.0, 82.0, 52.0, 66.0, 62.0, 75.0, 80.0, 64.0, 78.0, 70.0, 74.0, 65.0, 86.0, 82.0, 78.0, 88.0, 52.0, 56.0, 74.0, 72.0, 90.0, 74.0, 80.0, 64.0, 88.0, 74.0, 66.0, 68.0, 66.0, 90.0, 82.0, 70.0, 0.0, 60.0, 64.0, 72.0, 78.0, 110.0, 78.0, 82.0, 80.0, 64.0, 74.0, 60.0, 74.0, 68.0, 68.0, 98.0, 76.0, 80.0, 62.0, 70.0, 66.0, 0.0, 55.0, 84.0, 58.0, 62.0, 64.0, 60.0, 80.0, 82.0, 68.0, 70.0, 72.0, 72.0, 76.0, 104.0, 64.0, 84.0, 60.0, 85.0, 95.0, 65.0, 82.0, 70.0, 62.0, 68.0, 74.0, 66.0, 60.0, 90.0, 0.0, 60.0, 66.0, 78.0, 76.0, 52.0, 70.0, 80.0, 86.0, 80.0, 80.0, 68.0, 68.0, 72.0, 84.0, 90.0, 84.0, 76.0, 64.0, 70.0, 54.0, 50.0, 76.0, 85.0, 68.0, 90.0, 70.0, 86.0, 52.0, 84.0, 80.0, 68.0, 62.0, 64.0, 56.0, 68.0, 50.0, 76.0, 68.0, 0.0, 70.0, 80.0, 62.0, 74.0, 0.0, 64.0, 52.0, 0.0, 86.0, 62.0, 78.0, 78.0, 70.0, 70.0, 60.0, 64.0, 74.0, 62.0, 70.0, 76.0, 88.0, 86.0, 80.0, 74.0, 84.0, 86.0, 56.0, 72.0, 88.0, 62.0, 78.0, 48.0, 50.0, 62.0, 70.0, 84.0, 78.0, 72.0, 0.0, 58.0, 82.0, 98.0, 76.0, 76.0, 68.0, 68.0, 68.0, 68.0, 66.0, 70.0, 74.0, 50.0, 80.0, 68.0, 80.0, 74.0, 66.0, 78.0, 60.0, 74.0, 70.0, 90.0, 75.0, 72.0, 64.0, 70.0, 86.0, 70.0, 72.0, 58.0, 0.0, 80.0, 60.0, 76.0, 0.0, 76.0, 78.0, 84.0, 70.0, 74.0, 68.0, 86.0, 72.0, 88.0, 46.0, 0.0, 62.0, 80.0, 80.0, 84.0, 82.0, 62.0, 78.0, 88.0, 50.0, 0.0, 74.0, 76.0, 64.0, 70.0, 108.0, 78.0, 74.0, 54.0, 72.0, 64.0, 86.0, 102.0, 82.0, 64.0, 64.0, 58.0, 52.0, 82.0, 82.0, 60.0, 75.0, 100.0, 72.0, 68.0, 60.0, 62.0, 70.0, 54.0, 74.0, 100.0, 82.0, 68.0, 66.0, 76.0, 64.0, 72.0, 78.0, 58.0, 56.0, 66.0, 70.0, 70.0, 64.0, 61.0, 84.0, 78.0, 64.0, 48.0, 72.0, 62.0, 74.0, 68.0, 90.0, 72.0, 84.0, 74.0, 60.0, 84.0, 68.0, 82.0, 68.0, 64.0, 88.0, 68.0, 64.0, 64.0, 78.0, 78.0, 0.0, 64.0, 94.0, 82.0, 0.0, 74.0, 74.0, 75.0, 68.0, 0.0, 85.0, 75.0, 70.0, 88.0, 104.0, 66.0, 64.0, 70.0, 62.0, 78.0, 72.0, 80.0, 64.0, 74.0, 64.0, 70.0, 68.0, 0.0, 54.0, 62.0, 54.0, 68.0, 84.0, 74.0, 72.0, 62.0, 70.0, 78.0, 98.0, 56.0, 52.0, 64.0, 0.0, 78.0, 82.0, 70.0, 66.0, 90.0, 64.0, 84.0, 80.0, 76.0, 74.0, 86.0, 70.0, 88.0, 58.0, 82.0, 0.0, 68.0, 62.0, 78.0, 72.0, 80.0, 65.0, 90.0, 68.0, 70.0, 0.0, 74.0, 68.0, 72.0, 70.0, 74.0, 90.0, 72.0, 68.0, 64.0, 78.0, 82.0, 90.0, 60.0, 50.0, 78.0, 72.0, 62.0, 68.0, 62.0, 54.0, 70.0, 88.0, 86.0, 60.0, 90.0, 70.0, 80.0, 0.0, 70.0, 58.0, 60.0, 64.0, 74.0, 66.0, 65.0, 60.0, 76.0, 66.0, 0.0, 56.0, 0.0, 90.0, 60.0, 80.0, 92.0, 74.0, 72.0, 85.0, 90.0, 78.0, 90.0, 76.0, 68.0, 82.0, 110.0, 70.0, 68.0, 88.0, 62.0, 64.0, 70.0, 70.0, 76.0, 68.0, 74.0, 76.0, 66.0, 68.0, 60.0, 80.0, 54.0, 72.0, 62.0, 72.0, 66.0, 70.0, 96.0, 58.0, 60.0, 86.0, 44.0, 44.0, 80.0, 68.0, 70.0, 90.0, 60.0, 78.0, 76.0, 76.0, 56.0, 66.0, 66.0, 86.0, 0.0, 84.0, 78.0, 80.0, 52.0, 72.0, 82.0, 76.0, 24.0, 74.0, 38.0, 88.0, 0.0, 74.0, 78.0, 0.0, 60.0, 78.0, 62.0, 82.0, 62.0, 54.0, 58.0, 88.0, 80.0, 74.0, 72.0, 96.0, 62.0, 82.0, 0.0, 86.0, 76.0, 94.0, 70.0, 64.0, 88.0, 68.0, 78.0, 80.0, 65.0, 64.0, 78.0, 60.0, 82.0, 62.0, 72.0, 74.0, 76.0, 76.0, 74.0, 86.0, 70.0, 80.0, 0.0, 72.0, 74.0, 74.0, 50.0, 84.0, 60.0, 54.0, 60.0, 74.0, 54.0, 70.0, 52.0, 58.0, 80.0, 106.0, 82.0, 84.0, 76.0, 106.0, 80.0, 60.0, 80.0, 82.0, 70.0, 58.0, 78.0, 68.0, 58.0, 106.0, 100.0, 82.0, 70.0, 86.0, 60.0, 52.0, 58.0, 56.0, 76.0, 64.0, 80.0, 82.0, 74.0, 64.0, 50.0, 74.0, 82.0, 80.0, 114.0, 70.0, 68.0, 60.0, 90.0, 74.0, 0.0, 88.0, 70.0, 76.0, 78.0, 88.0, 0.0, 76.0, 80.0, 0.0, 46.0, 78.0, 64.0, 64.0, 78.0, 62.0, 58.0, 74.0, 50.0, 78.0, 72.0, 60.0, 76.0, 86.0, 66.0, 68.0, 86.0, 94.0, 78.0, 78.0, 84.0, 88.0, 52.0, 78.0, 86.0, 88.0, 56.0, 75.0, 60.0, 86.0, 72.0, 60.0, 74.0, 80.0, 44.0, 58.0, 94.0, 88.0, 84.0, 94.0, 74.0, 70.0, 62.0, 70.0, 78.0, 62.0, 88.0, 78.0, 88.0, 90.0, 72.0, 76.0, 92.0, 58.0, 74.0, 62.0, 76.0, 70.0, 72.0, 60.0, 70.0], \"y\": [33.6, 26.6, 23.3, 28.1, 43.1, 25.6, 31.0, 35.3, 30.5, 0.0, 37.6, 38.0, 27.1, 30.1, 25.8, 30.0, 45.8, 29.6, 43.3, 34.6, 39.3, 35.4, 39.8, 29.0, 36.6, 31.1, 39.4, 23.2, 22.2, 34.1, 36.0, 31.6, 24.8, 19.9, 27.6, 24.0, 33.2, 32.9, 38.2, 37.1, 34.0, 40.2, 22.7, 45.4, 27.4, 42.0, 29.7, 28.0, 39.1, 0.0, 19.4, 24.2, 24.4, 33.7, 34.7, 23.0, 37.7, 46.8, 40.5, 41.5, 0.0, 32.9, 25.0, 25.4, 32.8, 29.0, 32.5, 42.7, 19.6, 28.9, 32.9, 28.6, 43.4, 35.1, 32.0, 24.7, 32.6, 37.7, 43.2, 25.0, 22.4, 0.0, 29.3, 24.6, 48.8, 32.4, 36.6, 38.5, 37.1, 26.5, 19.1, 32.0, 46.7, 23.8, 24.7, 33.9, 31.6, 20.4, 28.7, 49.7, 39.0, 26.1, 22.5, 26.6, 39.6, 28.7, 22.4, 29.5, 34.3, 37.4, 33.3, 34.0, 31.2, 34.0, 30.5, 31.2, 34.0, 33.7, 28.2, 23.2, 53.2, 34.2, 33.6, 26.8, 33.3, 55.0, 42.9, 33.3, 34.5, 27.9, 29.7, 33.3, 34.5, 38.3, 21.1, 33.8, 30.8, 28.7, 31.2, 36.9, 21.1, 39.5, 32.5, 32.4, 32.8, 0.0, 32.8, 30.5, 33.7, 27.3, 37.4, 21.9, 34.3, 40.6, 47.9, 50.0, 24.6, 25.2, 29.0, 40.9, 29.7, 37.2, 44.2, 29.7, 31.6, 29.9, 32.5, 29.6, 31.9, 28.4, 30.8, 35.4, 28.9, 43.5, 29.7, 32.7, 31.2, 67.1, 45.0, 39.1, 23.2, 34.9, 27.7, 26.8, 27.6, 35.9, 30.1, 32.0, 27.9, 31.6, 22.6, 33.1, 30.4, 52.3, 24.4, 39.4, 24.3, 22.9, 34.8, 30.9, 31.0, 40.1, 27.3, 20.4, 37.7, 23.9, 37.5, 37.7, 33.2, 35.5, 27.7, 42.8, 34.2, 42.6, 34.2, 41.8, 35.8, 30.0, 29.0, 37.8, 34.6, 31.6, 25.2, 28.8, 23.6, 34.6, 35.7, 37.2, 36.7, 45.2, 44.0, 46.2, 25.4, 35.0, 29.7, 43.6, 35.9, 44.1, 30.8, 18.4, 29.2, 33.1, 25.6, 27.1, 38.2, 30.0, 31.2, 52.3, 35.4, 30.1, 31.2, 28.0, 24.4, 35.8, 27.6, 33.6, 30.1, 28.7, 25.9, 33.3, 30.9, 30.0, 32.1, 32.4, 32.0, 33.6, 36.3, 40.0, 25.1, 27.5, 45.6, 25.2, 23.0, 33.2, 34.2, 40.5, 26.5, 27.8, 24.9, 25.3, 37.9, 35.9, 32.4, 30.4, 27.0, 26.0, 38.7, 45.6, 20.8, 36.1, 36.9, 36.6, 43.3, 40.5, 21.9, 35.5, 28.0, 30.7, 36.6, 23.6, 32.3, 31.6, 35.8, 52.9, 21.0, 39.7, 25.5, 24.8, 30.5, 32.9, 26.2, 39.4, 26.6, 29.5, 35.9, 34.1, 19.3, 30.5, 38.1, 23.5, 27.5, 31.6, 27.4, 26.8, 35.7, 25.6, 35.1, 35.1, 45.5, 30.8, 23.1, 32.7, 43.3, 23.6, 23.9, 47.9, 33.8, 31.2, 34.2, 39.9, 25.9, 25.9, 32.0, 34.7, 36.8, 38.5, 28.7, 23.5, 21.8, 41.0, 42.2, 31.2, 34.4, 27.2, 42.7, 30.4, 33.3, 39.9, 35.3, 36.5, 31.2, 29.8, 39.2, 38.5, 34.9, 34.0, 27.6, 21.0, 27.5, 32.8, 38.4, 0.0, 35.8, 34.9, 36.2, 39.2, 25.2, 37.2, 48.3, 43.4, 30.8, 20.0, 25.4, 25.1, 24.3, 22.3, 32.3, 43.3, 32.0, 31.6, 32.0, 45.7, 23.7, 22.1, 32.9, 27.7, 24.7, 34.3, 21.1, 34.9, 32.0, 24.2, 35.0, 31.6, 32.9, 42.1, 28.9, 21.9, 25.9, 42.4, 35.7, 34.4, 42.4, 26.2, 34.6, 35.7, 27.2, 38.5, 18.2, 26.4, 45.3, 26.0, 40.6, 30.8, 42.9, 37.0, 0.0, 34.1, 40.6, 35.0, 22.2, 30.4, 30.0, 25.6, 24.5, 42.4, 37.4, 29.9, 18.2, 36.8, 34.3, 32.2, 33.2, 30.5, 29.7, 59.4, 25.3, 36.5, 33.6, 30.5, 21.2, 28.9, 39.9, 19.6, 37.8, 33.6, 26.7, 30.2, 37.6, 25.9, 20.8, 21.8, 35.3, 27.6, 24.0, 21.8, 27.8, 36.8, 30.0, 46.1, 41.3, 33.2, 38.8, 29.9, 28.9, 27.3, 33.7, 23.8, 25.9, 28.0, 35.5, 35.2, 27.8, 38.2, 44.2, 42.3, 40.7, 46.5, 25.6, 26.1, 36.8, 33.5, 32.8, 28.9, 0.0, 26.6, 26.0, 30.1, 25.1, 29.3, 25.2, 37.2, 39.0, 33.3, 37.3, 33.3, 36.5, 28.6, 30.4, 25.0, 29.7, 22.1, 24.2, 27.3, 25.6, 31.6, 30.3, 37.6, 32.8, 19.6, 25.0, 33.2, 0.0, 34.2, 31.6, 21.8, 18.2, 26.3, 30.8, 24.6, 29.8, 45.3, 41.3, 29.8, 33.3, 32.9, 29.6, 21.7, 36.3, 36.4, 39.4, 32.4, 34.9, 39.5, 32.0, 34.5, 43.6, 33.1, 32.8, 28.5, 27.4, 31.9, 27.8, 29.9, 36.9, 25.5, 38.1, 27.8, 46.2, 30.1, 33.8, 41.3, 37.6, 26.9, 32.4, 26.1, 38.6, 32.0, 31.3, 34.3, 32.5, 22.6, 29.5, 34.7, 30.1, 35.5, 24.0, 42.9, 27.0, 34.7, 42.1, 25.0, 26.5, 38.7, 28.7, 22.5, 34.9, 24.3, 33.3, 21.1, 46.8, 39.4, 34.4, 28.5, 33.6, 32.0, 45.3, 27.8, 36.8, 23.1, 27.1, 23.7, 27.8, 35.2, 28.4, 35.8, 40.0, 19.5, 41.5, 24.0, 30.9, 32.9, 38.2, 32.5, 36.1, 25.8, 28.7, 20.1, 28.2, 32.4, 38.4, 24.2, 40.8, 43.5, 30.8, 37.7, 24.7, 32.4, 34.6, 24.7, 27.4, 34.5, 26.2, 27.5, 25.9, 31.2, 28.8, 31.6, 40.9, 19.5, 29.3, 34.3, 29.5, 28.0, 27.6, 39.4, 23.4, 37.8, 28.3, 26.4, 25.2, 33.8, 34.1, 26.8, 34.2, 38.7, 21.8, 38.9, 39.0, 34.2, 27.7, 42.9, 37.6, 37.9, 33.7, 34.8, 32.5, 27.5, 34.0, 30.9, 33.6, 25.4, 35.5, 57.3, 35.6, 30.9, 24.8, 35.3, 36.0, 24.2, 24.2, 49.6, 44.6, 32.3, 0.0, 33.2, 23.1, 28.3, 24.1, 46.1, 24.6, 42.3, 39.1, 38.5, 23.5, 30.4, 29.9, 25.0, 34.5, 44.5, 35.9, 27.6, 35.0, 38.5, 28.4, 39.8, 0.0, 34.4, 32.8, 38.0, 31.2, 29.6, 41.2, 26.4, 29.5, 33.9, 33.8, 23.1, 35.5, 35.6, 29.3, 38.1, 29.3, 39.1, 32.8, 39.4, 36.1, 32.4, 22.9, 30.1, 28.4, 28.4, 44.5, 29.0, 23.3, 35.4, 27.4, 32.0, 36.6, 39.5, 42.3, 30.8, 28.5, 32.7, 40.6, 30.0, 49.3, 46.3, 36.4, 24.3, 31.2, 39.0, 26.0, 43.3, 32.4, 36.5, 32.0, 36.3, 37.5, 35.5, 28.4, 44.0, 22.5, 32.9, 36.8, 26.2, 30.1, 30.4], \"z\": [50.0, 31.0, 32.0, 21.0, 33.0, 30.0, 26.0, 29.0, 53.0, 54.0, 30.0, 34.0, 57.0, 59.0, 51.0, 32.0, 31.0, 31.0, 33.0, 32.0, 27.0, 50.0, 41.0, 29.0, 51.0, 41.0, 43.0, 22.0, 57.0, 38.0, 60.0, 28.0, 22.0, 28.0, 45.0, 33.0, 35.0, 46.0, 27.0, 56.0, 26.0, 37.0, 48.0, 54.0, 40.0, 25.0, 29.0, 22.0, 31.0, 24.0, 22.0, 26.0, 30.0, 58.0, 42.0, 21.0, 41.0, 31.0, 44.0, 22.0, 21.0, 39.0, 36.0, 24.0, 42.0, 32.0, 38.0, 54.0, 25.0, 27.0, 28.0, 26.0, 42.0, 23.0, 22.0, 22.0, 41.0, 27.0, 26.0, 24.0, 22.0, 22.0, 36.0, 22.0, 37.0, 27.0, 45.0, 26.0, 43.0, 24.0, 21.0, 34.0, 42.0, 60.0, 21.0, 40.0, 24.0, 22.0, 23.0, 31.0, 33.0, 22.0, 21.0, 24.0, 27.0, 21.0, 27.0, 37.0, 25.0, 24.0, 24.0, 46.0, 23.0, 25.0, 39.0, 61.0, 38.0, 25.0, 22.0, 21.0, 25.0, 24.0, 23.0, 69.0, 23.0, 26.0, 30.0, 23.0, 40.0, 62.0, 33.0, 33.0, 30.0, 39.0, 26.0, 31.0, 21.0, 22.0, 29.0, 28.0, 55.0, 38.0, 22.0, 42.0, 23.0, 21.0, 41.0, 34.0, 65.0, 22.0, 24.0, 37.0, 42.0, 23.0, 43.0, 36.0, 21.0, 23.0, 22.0, 47.0, 36.0, 45.0, 27.0, 21.0, 32.0, 41.0, 22.0, 34.0, 29.0, 29.0, 36.0, 29.0, 25.0, 23.0, 33.0, 36.0, 42.0, 26.0, 47.0, 37.0, 32.0, 23.0, 21.0, 27.0, 40.0, 41.0, 60.0, 33.0, 31.0, 25.0, 21.0, 40.0, 36.0, 40.0, 42.0, 29.0, 21.0, 23.0, 26.0, 29.0, 21.0, 28.0, 32.0, 27.0, 55.0, 27.0, 57.0, 52.0, 21.0, 41.0, 25.0, 24.0, 60.0, 24.0, 36.0, 38.0, 25.0, 32.0, 32.0, 41.0, 21.0, 66.0, 37.0, 61.0, 26.0, 22.0, 26.0, 24.0, 31.0, 24.0, 22.0, 46.0, 22.0, 29.0, 23.0, 26.0, 51.0, 23.0, 32.0, 27.0, 21.0, 22.0, 22.0, 33.0, 29.0, 49.0, 41.0, 23.0, 34.0, 23.0, 42.0, 27.0, 24.0, 25.0, 44.0, 21.0, 30.0, 25.0, 24.0, 51.0, 34.0, 27.0, 24.0, 63.0, 35.0, 43.0, 25.0, 24.0, 21.0, 28.0, 38.0, 21.0, 40.0, 21.0, 52.0, 25.0, 29.0, 23.0, 57.0, 22.0, 28.0, 39.0, 37.0, 47.0, 52.0, 51.0, 34.0, 29.0, 26.0, 33.0, 21.0, 25.0, 31.0, 24.0, 65.0, 28.0, 29.0, 24.0, 46.0, 58.0, 30.0, 25.0, 35.0, 28.0, 37.0, 29.0, 47.0, 21.0, 25.0, 30.0, 41.0, 22.0, 27.0, 25.0, 43.0, 26.0, 30.0, 29.0, 28.0, 59.0, 31.0, 25.0, 36.0, 43.0, 21.0, 24.0, 30.0, 37.0, 23.0, 37.0, 46.0, 25.0, 41.0, 44.0, 22.0, 26.0, 44.0, 44.0, 33.0, 41.0, 22.0, 36.0, 22.0, 33.0, 57.0, 49.0, 22.0, 23.0, 26.0, 37.0, 29.0, 30.0, 46.0, 24.0, 21.0, 49.0, 28.0, 44.0, 48.0, 29.0, 29.0, 63.0, 65.0, 67.0, 30.0, 30.0, 29.0, 21.0, 22.0, 45.0, 25.0, 21.0, 21.0, 25.0, 28.0, 58.0, 22.0, 22.0, 32.0, 35.0, 24.0, 22.0, 21.0, 25.0, 25.0, 24.0, 35.0, 45.0, 58.0, 28.0, 42.0, 27.0, 21.0, 37.0, 31.0, 25.0, 39.0, 22.0, 25.0, 25.0, 31.0, 55.0, 35.0, 38.0, 41.0, 26.0, 46.0, 25.0, 39.0, 28.0, 28.0, 25.0, 22.0, 21.0, 21.0, 22.0, 22.0, 37.0, 27.0, 28.0, 26.0, 21.0, 21.0, 21.0, 36.0, 31.0, 25.0, 38.0, 26.0, 43.0, 23.0, 38.0, 22.0, 29.0, 36.0, 29.0, 41.0, 28.0, 21.0, 31.0, 41.0, 22.0, 24.0, 33.0, 30.0, 25.0, 28.0, 26.0, 22.0, 26.0, 23.0, 23.0, 25.0, 72.0, 24.0, 38.0, 62.0, 24.0, 51.0, 81.0, 48.0, 26.0, 39.0, 37.0, 34.0, 21.0, 22.0, 25.0, 38.0, 27.0, 28.0, 22.0, 22.0, 50.0, 24.0, 59.0, 29.0, 31.0, 39.0, 63.0, 35.0, 29.0, 28.0, 23.0, 31.0, 24.0, 21.0, 58.0, 28.0, 67.0, 24.0, 42.0, 33.0, 45.0, 22.0, 66.0, 30.0, 25.0, 55.0, 39.0, 21.0, 28.0, 41.0, 41.0, 40.0, 38.0, 35.0, 21.0, 21.0, 64.0, 46.0, 21.0, 58.0, 22.0, 24.0, 28.0, 53.0, 51.0, 41.0, 60.0, 25.0, 26.0, 26.0, 45.0, 24.0, 21.0, 21.0, 24.0, 22.0, 31.0, 22.0, 24.0, 29.0, 31.0, 24.0, 23.0, 46.0, 67.0, 23.0, 32.0, 43.0, 27.0, 56.0, 25.0, 29.0, 37.0, 53.0, 28.0, 50.0, 37.0, 21.0, 25.0, 66.0, 23.0, 28.0, 37.0, 30.0, 58.0, 42.0, 35.0, 54.0, 28.0, 24.0, 32.0, 27.0, 22.0, 21.0, 46.0, 37.0, 33.0, 39.0, 21.0, 22.0, 22.0, 23.0, 25.0, 35.0, 21.0, 36.0, 62.0, 21.0, 27.0, 62.0, 42.0, 52.0, 22.0, 41.0, 29.0, 52.0, 25.0, 45.0, 24.0, 44.0, 25.0, 34.0, 22.0, 46.0, 21.0, 38.0, 26.0, 24.0, 28.0, 30.0, 54.0, 36.0, 21.0, 22.0, 25.0, 27.0, 23.0, 24.0, 36.0, 40.0, 26.0, 50.0, 27.0, 30.0, 23.0, 50.0, 24.0, 28.0, 28.0, 45.0, 21.0, 21.0, 29.0, 21.0, 21.0, 45.0, 21.0, 34.0, 24.0, 23.0, 22.0, 31.0, 38.0, 48.0, 23.0, 32.0, 28.0, 27.0, 24.0, 50.0, 31.0, 27.0, 30.0, 33.0, 22.0, 42.0, 23.0, 23.0, 27.0, 28.0, 27.0, 22.0, 25.0, 22.0, 41.0, 51.0, 27.0, 54.0, 22.0, 43.0, 40.0, 40.0, 24.0, 70.0, 40.0, 43.0, 45.0, 49.0, 21.0, 47.0, 22.0, 68.0, 31.0, 53.0, 25.0, 25.0, 23.0, 22.0, 26.0, 22.0, 27.0, 69.0, 25.0, 22.0, 29.0, 23.0, 46.0, 34.0, 44.0, 23.0, 43.0, 25.0, 43.0, 31.0, 22.0, 28.0, 26.0, 26.0, 49.0, 52.0, 41.0, 27.0, 28.0, 30.0, 22.0, 45.0, 23.0, 24.0, 40.0, 38.0, 21.0, 32.0, 34.0, 31.0, 56.0, 24.0, 52.0, 34.0, 21.0, 42.0, 42.0, 45.0, 38.0, 25.0, 22.0, 22.0, 22.0, 34.0, 22.0, 24.0, 22.0, 53.0, 28.0, 21.0, 42.0, 21.0, 42.0, 48.0, 26.0, 22.0, 45.0, 39.0, 46.0, 27.0, 32.0, 36.0, 50.0, 22.0, 28.0, 25.0, 26.0, 45.0, 37.0, 39.0, 52.0, 26.0, 66.0, 22.0, 43.0, 33.0, 63.0, 27.0, 30.0, 47.0, 23.0]}],\n",
              "                        {\"legend\": {\"tracegroupgap\": 0}, \"margin\": {\"t\": 60}, \"scene\": {\"domain\": {\"x\": [0.0, 1.0], \"y\": [0.0, 1.0]}, \"xaxis\": {\"title\": {\"text\": \"BloodPressure\"}}, \"yaxis\": {\"title\": {\"text\": \"BMI\"}}, \"zaxis\": {\"title\": {\"text\": \"Age\"}}}, \"template\": {\"data\": {\"bar\": [{\"error_x\": {\"color\": \"#2a3f5f\"}, \"error_y\": {\"color\": \"#2a3f5f\"}, \"marker\": {\"line\": {\"color\": \"#E5ECF6\", \"width\": 0.5}}, \"type\": \"bar\"}], \"barpolar\": [{\"marker\": {\"line\": {\"color\": \"#E5ECF6\", \"width\": 0.5}}, \"type\": \"barpolar\"}], \"carpet\": [{\"aaxis\": {\"endlinecolor\": \"#2a3f5f\", \"gridcolor\": \"white\", \"linecolor\": \"white\", \"minorgridcolor\": \"white\", \"startlinecolor\": \"#2a3f5f\"}, \"baxis\": {\"endlinecolor\": \"#2a3f5f\", \"gridcolor\": \"white\", \"linecolor\": \"white\", \"minorgridcolor\": \"white\", \"startlinecolor\": \"#2a3f5f\"}, \"type\": \"carpet\"}], \"choropleth\": [{\"colorbar\": {\"outlinewidth\": 0, \"ticks\": \"\"}, \"type\": \"choropleth\"}], \"contour\": [{\"colorbar\": {\"outlinewidth\": 0, \"ticks\": \"\"}, \"colorscale\": [[0.0, \"#0d0887\"], [0.1111111111111111, \"#46039f\"], [0.2222222222222222, \"#7201a8\"], [0.3333333333333333, \"#9c179e\"], [0.4444444444444444, \"#bd3786\"], [0.5555555555555556, \"#d8576b\"], [0.6666666666666666, \"#ed7953\"], [0.7777777777777778, \"#fb9f3a\"], [0.8888888888888888, \"#fdca26\"], [1.0, \"#f0f921\"]], \"type\": \"contour\"}], \"contourcarpet\": [{\"colorbar\": {\"outlinewidth\": 0, \"ticks\": \"\"}, \"type\": \"contourcarpet\"}], \"heatmap\": [{\"colorbar\": {\"outlinewidth\": 0, \"ticks\": \"\"}, \"colorscale\": [[0.0, \"#0d0887\"], [0.1111111111111111, \"#46039f\"], [0.2222222222222222, \"#7201a8\"], [0.3333333333333333, \"#9c179e\"], [0.4444444444444444, \"#bd3786\"], [0.5555555555555556, \"#d8576b\"], [0.6666666666666666, \"#ed7953\"], [0.7777777777777778, \"#fb9f3a\"], [0.8888888888888888, \"#fdca26\"], [1.0, \"#f0f921\"]], \"type\": \"heatmap\"}], \"heatmapgl\": [{\"colorbar\": {\"outlinewidth\": 0, \"ticks\": \"\"}, \"colorscale\": [[0.0, \"#0d0887\"], [0.1111111111111111, \"#46039f\"], [0.2222222222222222, \"#7201a8\"], [0.3333333333333333, \"#9c179e\"], [0.4444444444444444, \"#bd3786\"], [0.5555555555555556, \"#d8576b\"], [0.6666666666666666, \"#ed7953\"], [0.7777777777777778, \"#fb9f3a\"], [0.8888888888888888, \"#fdca26\"], [1.0, \"#f0f921\"]], \"type\": \"heatmapgl\"}], \"histogram\": [{\"marker\": {\"colorbar\": {\"outlinewidth\": 0, \"ticks\": \"\"}}, \"type\": \"histogram\"}], \"histogram2d\": [{\"colorbar\": {\"outlinewidth\": 0, \"ticks\": \"\"}, \"colorscale\": [[0.0, \"#0d0887\"], [0.1111111111111111, \"#46039f\"], [0.2222222222222222, \"#7201a8\"], [0.3333333333333333, \"#9c179e\"], [0.4444444444444444, \"#bd3786\"], [0.5555555555555556, \"#d8576b\"], [0.6666666666666666, \"#ed7953\"], [0.7777777777777778, \"#fb9f3a\"], [0.8888888888888888, \"#fdca26\"], [1.0, \"#f0f921\"]], \"type\": \"histogram2d\"}], \"histogram2dcontour\": [{\"colorbar\": {\"outlinewidth\": 0, \"ticks\": \"\"}, \"colorscale\": [[0.0, \"#0d0887\"], [0.1111111111111111, \"#46039f\"], [0.2222222222222222, \"#7201a8\"], [0.3333333333333333, \"#9c179e\"], [0.4444444444444444, \"#bd3786\"], [0.5555555555555556, \"#d8576b\"], [0.6666666666666666, \"#ed7953\"], [0.7777777777777778, \"#fb9f3a\"], [0.8888888888888888, \"#fdca26\"], [1.0, \"#f0f921\"]], \"type\": \"histogram2dcontour\"}], \"mesh3d\": [{\"colorbar\": {\"outlinewidth\": 0, \"ticks\": \"\"}, \"type\": \"mesh3d\"}], \"parcoords\": [{\"line\": {\"colorbar\": {\"outlinewidth\": 0, \"ticks\": \"\"}}, \"type\": \"parcoords\"}], \"pie\": [{\"automargin\": true, \"type\": \"pie\"}], \"scatter\": [{\"marker\": {\"colorbar\": {\"outlinewidth\": 0, \"ticks\": \"\"}}, \"type\": \"scatter\"}], \"scatter3d\": [{\"line\": {\"colorbar\": {\"outlinewidth\": 0, \"ticks\": \"\"}}, \"marker\": {\"colorbar\": {\"outlinewidth\": 0, \"ticks\": \"\"}}, \"type\": \"scatter3d\"}], \"scattercarpet\": [{\"marker\": {\"colorbar\": {\"outlinewidth\": 0, \"ticks\": \"\"}}, \"type\": \"scattercarpet\"}], \"scattergeo\": [{\"marker\": {\"colorbar\": {\"outlinewidth\": 0, \"ticks\": \"\"}}, \"type\": \"scattergeo\"}], \"scattergl\": [{\"marker\": {\"colorbar\": {\"outlinewidth\": 0, \"ticks\": \"\"}}, \"type\": \"scattergl\"}], \"scattermapbox\": [{\"marker\": {\"colorbar\": {\"outlinewidth\": 0, \"ticks\": \"\"}}, \"type\": \"scattermapbox\"}], \"scatterpolar\": [{\"marker\": {\"colorbar\": {\"outlinewidth\": 0, \"ticks\": \"\"}}, \"type\": \"scatterpolar\"}], \"scatterpolargl\": [{\"marker\": {\"colorbar\": {\"outlinewidth\": 0, \"ticks\": \"\"}}, \"type\": \"scatterpolargl\"}], \"scatterternary\": [{\"marker\": {\"colorbar\": {\"outlinewidth\": 0, \"ticks\": \"\"}}, \"type\": \"scatterternary\"}], \"surface\": [{\"colorbar\": {\"outlinewidth\": 0, \"ticks\": \"\"}, \"colorscale\": [[0.0, \"#0d0887\"], [0.1111111111111111, \"#46039f\"], [0.2222222222222222, \"#7201a8\"], [0.3333333333333333, \"#9c179e\"], [0.4444444444444444, \"#bd3786\"], [0.5555555555555556, \"#d8576b\"], [0.6666666666666666, \"#ed7953\"], [0.7777777777777778, \"#fb9f3a\"], [0.8888888888888888, \"#fdca26\"], [1.0, \"#f0f921\"]], \"type\": \"surface\"}], \"table\": [{\"cells\": {\"fill\": {\"color\": \"#EBF0F8\"}, \"line\": {\"color\": \"white\"}}, \"header\": {\"fill\": {\"color\": \"#C8D4E3\"}, \"line\": {\"color\": \"white\"}}, \"type\": \"table\"}]}, \"layout\": {\"annotationdefaults\": {\"arrowcolor\": \"#2a3f5f\", \"arrowhead\": 0, \"arrowwidth\": 1}, \"coloraxis\": {\"colorbar\": {\"outlinewidth\": 0, \"ticks\": \"\"}}, \"colorscale\": {\"diverging\": [[0, \"#8e0152\"], [0.1, \"#c51b7d\"], [0.2, \"#de77ae\"], [0.3, \"#f1b6da\"], [0.4, \"#fde0ef\"], [0.5, \"#f7f7f7\"], [0.6, \"#e6f5d0\"], [0.7, \"#b8e186\"], [0.8, \"#7fbc41\"], [0.9, \"#4d9221\"], [1, \"#276419\"]], \"sequential\": [[0.0, \"#0d0887\"], [0.1111111111111111, \"#46039f\"], [0.2222222222222222, \"#7201a8\"], [0.3333333333333333, \"#9c179e\"], [0.4444444444444444, \"#bd3786\"], [0.5555555555555556, \"#d8576b\"], [0.6666666666666666, \"#ed7953\"], [0.7777777777777778, \"#fb9f3a\"], [0.8888888888888888, \"#fdca26\"], [1.0, \"#f0f921\"]], \"sequentialminus\": [[0.0, \"#0d0887\"], [0.1111111111111111, \"#46039f\"], [0.2222222222222222, \"#7201a8\"], [0.3333333333333333, \"#9c179e\"], [0.4444444444444444, \"#bd3786\"], [0.5555555555555556, \"#d8576b\"], [0.6666666666666666, \"#ed7953\"], [0.7777777777777778, \"#fb9f3a\"], [0.8888888888888888, \"#fdca26\"], [1.0, \"#f0f921\"]]}, \"colorway\": [\"#636efa\", \"#EF553B\", \"#00cc96\", \"#ab63fa\", \"#FFA15A\", \"#19d3f3\", \"#FF6692\", \"#B6E880\", \"#FF97FF\", \"#FECB52\"], \"font\": {\"color\": \"#2a3f5f\"}, \"geo\": {\"bgcolor\": \"white\", \"lakecolor\": \"white\", \"landcolor\": \"#E5ECF6\", \"showlakes\": true, \"showland\": true, \"subunitcolor\": \"white\"}, \"hoverlabel\": {\"align\": \"left\"}, \"hovermode\": \"closest\", \"mapbox\": {\"style\": \"light\"}, \"paper_bgcolor\": \"white\", \"plot_bgcolor\": \"#E5ECF6\", \"polar\": {\"angularaxis\": {\"gridcolor\": \"white\", \"linecolor\": \"white\", \"ticks\": \"\"}, \"bgcolor\": \"#E5ECF6\", \"radialaxis\": {\"gridcolor\": \"white\", \"linecolor\": \"white\", \"ticks\": \"\"}}, \"scene\": {\"xaxis\": {\"backgroundcolor\": \"#E5ECF6\", \"gridcolor\": \"white\", \"gridwidth\": 2, \"linecolor\": \"white\", \"showbackground\": true, \"ticks\": \"\", \"zerolinecolor\": \"white\"}, \"yaxis\": {\"backgroundcolor\": \"#E5ECF6\", \"gridcolor\": \"white\", \"gridwidth\": 2, \"linecolor\": \"white\", \"showbackground\": true, \"ticks\": \"\", \"zerolinecolor\": \"white\"}, \"zaxis\": {\"backgroundcolor\": \"#E5ECF6\", \"gridcolor\": \"white\", \"gridwidth\": 2, \"linecolor\": \"white\", \"showbackground\": true, \"ticks\": \"\", \"zerolinecolor\": \"white\"}}, \"shapedefaults\": {\"line\": {\"color\": \"#2a3f5f\"}}, \"ternary\": {\"aaxis\": {\"gridcolor\": \"white\", \"linecolor\": \"white\", \"ticks\": \"\"}, \"baxis\": {\"gridcolor\": \"white\", \"linecolor\": \"white\", \"ticks\": \"\"}, \"bgcolor\": \"#E5ECF6\", \"caxis\": {\"gridcolor\": \"white\", \"linecolor\": \"white\", \"ticks\": \"\"}}, \"title\": {\"x\": 0.05}, \"xaxis\": {\"automargin\": true, \"gridcolor\": \"white\", \"linecolor\": \"white\", \"ticks\": \"\", \"title\": {\"standoff\": 15}, \"zerolinecolor\": \"white\", \"zerolinewidth\": 2}, \"yaxis\": {\"automargin\": true, \"gridcolor\": \"white\", \"linecolor\": \"white\", \"ticks\": \"\", \"title\": {\"standoff\": 15}, \"zerolinecolor\": \"white\", \"zerolinewidth\": 2}}}},\n",
              "                        {\"responsive\": true}\n",
              "                    ).then(function(){\n",
              "                            \n",
              "var gd = document.getElementById('de2d30c4-ba97-40f8-ad27-e62216a22ea2');\n",
              "var x = new MutationObserver(function (mutations, observer) {{\n",
              "        var display = window.getComputedStyle(gd).display;\n",
              "        if (!display || display === 'none') {{\n",
              "            console.log([gd, 'removed!']);\n",
              "            Plotly.purge(gd);\n",
              "            observer.disconnect();\n",
              "        }}\n",
              "}});\n",
              "\n",
              "// Listen for the removal of the full notebook cells\n",
              "var notebookContainer = gd.closest('#notebook-container');\n",
              "if (notebookContainer) {{\n",
              "    x.observe(notebookContainer, {childList: true});\n",
              "}}\n",
              "\n",
              "// Listen for the clearing of the current output cell\n",
              "var outputEl = gd.closest('.output');\n",
              "if (outputEl) {{\n",
              "    x.observe(outputEl, {childList: true});\n",
              "}}\n",
              "\n",
              "                        })\n",
              "                };\n",
              "                \n",
              "            </script>\n",
              "        </div>\n",
              "</body>\n",
              "</html>"
            ]
          },
          "metadata": {
            "tags": []
          }
        }
      ]
    },
    {
      "cell_type": "code",
      "metadata": {
        "id": "aCP0IQ_fxyaD"
      },
      "source": [
        "from tensorflow.keras.models import Sequential\n",
        "from tensorflow.keras.layers import Dense\n",
        "\n",
        "model = Sequential()\n",
        "model.add(Dense(1, input_dim = 2, activation = 'linear'))"
      ],
      "execution_count": null,
      "outputs": []
    },
    {
      "cell_type": "code",
      "metadata": {
        "id": "HhKV-jqI1XUX",
        "colab": {
          "base_uri": "https://localhost:8080/",
          "height": 1000
        },
        "outputId": "365ebaa0-262f-4acb-e8d1-f39a3f7a3c35"
      },
      "source": [
        "model.compile(loss = 'mse', optimizer='rmsprop', metrics=['mse'])\n",
        "model.fit(dataset[:, 0:2], dataset[:, 2], epochs = 256, verbose= 1)"
      ],
      "execution_count": null,
      "outputs": [
        {
          "output_type": "stream",
          "text": [
            "Epoch 1/256\n",
            "24/24 [==============================] - 0s 868us/step - loss: 146.0387 - mse: 146.0387\n",
            "Epoch 2/256\n",
            "24/24 [==============================] - 0s 790us/step - loss: 146.0061 - mse: 146.0061\n",
            "Epoch 3/256\n",
            "24/24 [==============================] - 0s 908us/step - loss: 145.8994 - mse: 145.8994\n",
            "Epoch 4/256\n",
            "24/24 [==============================] - 0s 879us/step - loss: 145.8885 - mse: 145.8885\n",
            "Epoch 5/256\n",
            "24/24 [==============================] - 0s 944us/step - loss: 145.8607 - mse: 145.8607\n",
            "Epoch 6/256\n",
            "24/24 [==============================] - 0s 933us/step - loss: 145.8604 - mse: 145.8604\n",
            "Epoch 7/256\n",
            "24/24 [==============================] - 0s 905us/step - loss: 145.8678 - mse: 145.8678\n",
            "Epoch 8/256\n",
            "24/24 [==============================] - 0s 952us/step - loss: 145.8329 - mse: 145.8329\n",
            "Epoch 9/256\n",
            "24/24 [==============================] - 0s 862us/step - loss: 145.8517 - mse: 145.8517\n",
            "Epoch 10/256\n",
            "24/24 [==============================] - 0s 945us/step - loss: 145.7959 - mse: 145.7959\n",
            "Epoch 11/256\n",
            "24/24 [==============================] - 0s 935us/step - loss: 145.5764 - mse: 145.5764\n",
            "Epoch 12/256\n",
            "24/24 [==============================] - 0s 1ms/step - loss: 145.7897 - mse: 145.7897\n",
            "Epoch 13/256\n",
            "24/24 [==============================] - 0s 1ms/step - loss: 145.6535 - mse: 145.6535\n",
            "Epoch 14/256\n",
            "24/24 [==============================] - 0s 978us/step - loss: 145.8409 - mse: 145.8409\n",
            "Epoch 15/256\n",
            "24/24 [==============================] - 0s 930us/step - loss: 145.7040 - mse: 145.7040\n",
            "Epoch 16/256\n",
            "24/24 [==============================] - 0s 993us/step - loss: 145.7041 - mse: 145.7041\n",
            "Epoch 17/256\n",
            "24/24 [==============================] - 0s 1ms/step - loss: 145.8099 - mse: 145.8099\n",
            "Epoch 18/256\n",
            "24/24 [==============================] - 0s 980us/step - loss: 145.6658 - mse: 145.6658\n",
            "Epoch 19/256\n",
            "24/24 [==============================] - 0s 1ms/step - loss: 145.6642 - mse: 145.6642\n",
            "Epoch 20/256\n",
            "24/24 [==============================] - 0s 1ms/step - loss: 145.6684 - mse: 145.6684\n",
            "Epoch 21/256\n",
            "24/24 [==============================] - 0s 1ms/step - loss: 145.6431 - mse: 145.6431\n",
            "Epoch 22/256\n",
            "24/24 [==============================] - 0s 1ms/step - loss: 145.6470 - mse: 145.6470\n",
            "Epoch 23/256\n",
            "24/24 [==============================] - 0s 1ms/step - loss: 145.7065 - mse: 145.7065\n",
            "Epoch 24/256\n",
            "24/24 [==============================] - 0s 1ms/step - loss: 145.5256 - mse: 145.5256\n",
            "Epoch 25/256\n",
            "24/24 [==============================] - 0s 1ms/step - loss: 145.6563 - mse: 145.6563\n",
            "Epoch 26/256\n",
            "24/24 [==============================] - 0s 1ms/step - loss: 145.5623 - mse: 145.5623\n",
            "Epoch 27/256\n",
            "24/24 [==============================] - 0s 924us/step - loss: 145.5935 - mse: 145.5935\n",
            "Epoch 28/256\n",
            "24/24 [==============================] - 0s 976us/step - loss: 145.5056 - mse: 145.5056\n",
            "Epoch 29/256\n",
            "24/24 [==============================] - 0s 914us/step - loss: 145.5929 - mse: 145.5929\n",
            "Epoch 30/256\n",
            "24/24 [==============================] - 0s 956us/step - loss: 145.5684 - mse: 145.5684\n",
            "Epoch 31/256\n",
            "24/24 [==============================] - 0s 898us/step - loss: 145.5189 - mse: 145.5189\n",
            "Epoch 32/256\n",
            "24/24 [==============================] - 0s 1ms/step - loss: 145.6307 - mse: 145.6307\n",
            "Epoch 33/256\n",
            "24/24 [==============================] - 0s 884us/step - loss: 145.3775 - mse: 145.3775\n",
            "Epoch 34/256\n",
            "24/24 [==============================] - 0s 941us/step - loss: 145.4772 - mse: 145.4772\n",
            "Epoch 35/256\n",
            "24/24 [==============================] - 0s 954us/step - loss: 145.5395 - mse: 145.5395\n",
            "Epoch 36/256\n",
            "24/24 [==============================] - 0s 918us/step - loss: 145.4465 - mse: 145.4465\n",
            "Epoch 37/256\n",
            "24/24 [==============================] - 0s 879us/step - loss: 145.3587 - mse: 145.3587\n",
            "Epoch 38/256\n",
            "24/24 [==============================] - 0s 941us/step - loss: 145.4693 - mse: 145.4693\n",
            "Epoch 39/256\n",
            "24/24 [==============================] - 0s 931us/step - loss: 145.4089 - mse: 145.4089\n",
            "Epoch 40/256\n",
            "24/24 [==============================] - 0s 947us/step - loss: 145.4022 - mse: 145.4022\n",
            "Epoch 41/256\n",
            "24/24 [==============================] - 0s 1ms/step - loss: 145.3519 - mse: 145.3519\n",
            "Epoch 42/256\n",
            "24/24 [==============================] - 0s 1ms/step - loss: 145.4644 - mse: 145.4644\n",
            "Epoch 43/256\n",
            "24/24 [==============================] - 0s 905us/step - loss: 145.3193 - mse: 145.3193\n",
            "Epoch 44/256\n",
            "24/24 [==============================] - 0s 898us/step - loss: 145.3324 - mse: 145.3324\n",
            "Epoch 45/256\n",
            "24/24 [==============================] - 0s 871us/step - loss: 145.1307 - mse: 145.1307\n",
            "Epoch 46/256\n",
            "24/24 [==============================] - 0s 1ms/step - loss: 145.3291 - mse: 145.3291\n",
            "Epoch 47/256\n",
            "24/24 [==============================] - 0s 1ms/step - loss: 145.3256 - mse: 145.3256\n",
            "Epoch 48/256\n",
            "24/24 [==============================] - 0s 1ms/step - loss: 145.3699 - mse: 145.3699\n",
            "Epoch 49/256\n",
            "24/24 [==============================] - 0s 1ms/step - loss: 145.2556 - mse: 145.2556\n",
            "Epoch 50/256\n",
            "24/24 [==============================] - 0s 1ms/step - loss: 145.2545 - mse: 145.2545\n",
            "Epoch 51/256\n",
            "24/24 [==============================] - 0s 920us/step - loss: 145.2140 - mse: 145.2140\n",
            "Epoch 52/256\n",
            "24/24 [==============================] - 0s 900us/step - loss: 145.1944 - mse: 145.1944\n",
            "Epoch 53/256\n",
            "24/24 [==============================] - 0s 969us/step - loss: 145.2440 - mse: 145.2440\n",
            "Epoch 54/256\n",
            "24/24 [==============================] - 0s 1ms/step - loss: 145.2443 - mse: 145.2443\n",
            "Epoch 55/256\n",
            "24/24 [==============================] - 0s 1ms/step - loss: 145.3318 - mse: 145.3318\n",
            "Epoch 56/256\n",
            "24/24 [==============================] - 0s 968us/step - loss: 145.1202 - mse: 145.1202\n",
            "Epoch 57/256\n",
            "24/24 [==============================] - 0s 908us/step - loss: 145.1932 - mse: 145.1932\n",
            "Epoch 58/256\n",
            "24/24 [==============================] - 0s 932us/step - loss: 145.1503 - mse: 145.1503\n",
            "Epoch 59/256\n",
            "24/24 [==============================] - 0s 910us/step - loss: 145.0861 - mse: 145.0861\n",
            "Epoch 60/256\n",
            "24/24 [==============================] - 0s 993us/step - loss: 145.1373 - mse: 145.1373\n",
            "Epoch 61/256\n",
            "24/24 [==============================] - 0s 903us/step - loss: 145.1557 - mse: 145.1557\n",
            "Epoch 62/256\n",
            "24/24 [==============================] - 0s 886us/step - loss: 145.1740 - mse: 145.1740\n",
            "Epoch 63/256\n",
            "24/24 [==============================] - 0s 1ms/step - loss: 145.0459 - mse: 145.0459\n",
            "Epoch 64/256\n",
            "24/24 [==============================] - 0s 917us/step - loss: 145.1155 - mse: 145.1155\n",
            "Epoch 65/256\n",
            "24/24 [==============================] - 0s 926us/step - loss: 145.0886 - mse: 145.0886\n",
            "Epoch 66/256\n",
            "24/24 [==============================] - 0s 946us/step - loss: 145.1109 - mse: 145.1109\n",
            "Epoch 67/256\n",
            "24/24 [==============================] - 0s 1ms/step - loss: 144.9971 - mse: 144.9971\n",
            "Epoch 68/256\n",
            "24/24 [==============================] - 0s 1ms/step - loss: 144.9511 - mse: 144.9511\n",
            "Epoch 69/256\n",
            "24/24 [==============================] - 0s 1ms/step - loss: 145.1129 - mse: 145.1129\n",
            "Epoch 70/256\n",
            "24/24 [==============================] - 0s 1ms/step - loss: 145.0631 - mse: 145.0631\n",
            "Epoch 71/256\n",
            "24/24 [==============================] - 0s 992us/step - loss: 144.9792 - mse: 144.9792\n",
            "Epoch 72/256\n",
            "24/24 [==============================] - 0s 948us/step - loss: 144.9353 - mse: 144.9353\n",
            "Epoch 73/256\n",
            "24/24 [==============================] - 0s 953us/step - loss: 144.8511 - mse: 144.8511\n",
            "Epoch 74/256\n",
            "24/24 [==============================] - 0s 983us/step - loss: 145.0098 - mse: 145.0098\n",
            "Epoch 75/256\n",
            "24/24 [==============================] - 0s 954us/step - loss: 144.9589 - mse: 144.9589\n",
            "Epoch 76/256\n",
            "24/24 [==============================] - 0s 1ms/step - loss: 144.9243 - mse: 144.9243\n",
            "Epoch 77/256\n",
            "24/24 [==============================] - 0s 1ms/step - loss: 144.9206 - mse: 144.9206\n",
            "Epoch 78/256\n",
            "24/24 [==============================] - 0s 1ms/step - loss: 144.9628 - mse: 144.9628\n",
            "Epoch 79/256\n",
            "24/24 [==============================] - 0s 1ms/step - loss: 144.8066 - mse: 144.8066\n",
            "Epoch 80/256\n",
            "24/24 [==============================] - 0s 1ms/step - loss: 144.8471 - mse: 144.8471\n",
            "Epoch 81/256\n",
            "24/24 [==============================] - 0s 1ms/step - loss: 144.8685 - mse: 144.8685\n",
            "Epoch 82/256\n",
            "24/24 [==============================] - 0s 1ms/step - loss: 144.8752 - mse: 144.8752\n",
            "Epoch 83/256\n",
            "24/24 [==============================] - 0s 1ms/step - loss: 144.8790 - mse: 144.8790\n",
            "Epoch 84/256\n",
            "24/24 [==============================] - 0s 1ms/step - loss: 144.9213 - mse: 144.9213\n",
            "Epoch 85/256\n",
            "24/24 [==============================] - 0s 2ms/step - loss: 144.8493 - mse: 144.8493\n",
            "Epoch 86/256\n",
            "24/24 [==============================] - 0s 1ms/step - loss: 144.7952 - mse: 144.7952\n",
            "Epoch 87/256\n",
            "24/24 [==============================] - 0s 1ms/step - loss: 144.7918 - mse: 144.7918\n",
            "Epoch 88/256\n",
            "24/24 [==============================] - 0s 1ms/step - loss: 144.8419 - mse: 144.8419\n",
            "Epoch 89/256\n",
            "24/24 [==============================] - 0s 1ms/step - loss: 144.8311 - mse: 144.8311\n",
            "Epoch 90/256\n",
            "24/24 [==============================] - 0s 1ms/step - loss: 144.6897 - mse: 144.6897\n",
            "Epoch 91/256\n",
            "24/24 [==============================] - 0s 1ms/step - loss: 144.8890 - mse: 144.8890\n",
            "Epoch 92/256\n",
            "24/24 [==============================] - 0s 1ms/step - loss: 144.7412 - mse: 144.7412\n",
            "Epoch 93/256\n",
            "24/24 [==============================] - 0s 1ms/step - loss: 144.6645 - mse: 144.6645\n",
            "Epoch 94/256\n",
            "24/24 [==============================] - 0s 1ms/step - loss: 144.7882 - mse: 144.7882\n",
            "Epoch 95/256\n",
            "24/24 [==============================] - 0s 2ms/step - loss: 144.7678 - mse: 144.7678\n",
            "Epoch 96/256\n",
            "24/24 [==============================] - 0s 1ms/step - loss: 144.7391 - mse: 144.7391\n",
            "Epoch 97/256\n",
            "24/24 [==============================] - 0s 1ms/step - loss: 144.6693 - mse: 144.6693\n",
            "Epoch 98/256\n",
            "24/24 [==============================] - 0s 1ms/step - loss: 144.6501 - mse: 144.6501\n",
            "Epoch 99/256\n",
            "24/24 [==============================] - 0s 1ms/step - loss: 144.6213 - mse: 144.6213\n",
            "Epoch 100/256\n",
            "24/24 [==============================] - 0s 1ms/step - loss: 144.7517 - mse: 144.7517\n",
            "Epoch 101/256\n",
            "24/24 [==============================] - 0s 1ms/step - loss: 144.6626 - mse: 144.6626\n",
            "Epoch 102/256\n",
            "24/24 [==============================] - 0s 1ms/step - loss: 144.6720 - mse: 144.6720\n",
            "Epoch 103/256\n",
            "24/24 [==============================] - 0s 1ms/step - loss: 144.6514 - mse: 144.6514\n",
            "Epoch 104/256\n",
            "24/24 [==============================] - 0s 1ms/step - loss: 144.6022 - mse: 144.6022\n",
            "Epoch 105/256\n",
            "24/24 [==============================] - 0s 1ms/step - loss: 144.6263 - mse: 144.6263\n",
            "Epoch 106/256\n",
            "24/24 [==============================] - 0s 1ms/step - loss: 144.5777 - mse: 144.5777\n",
            "Epoch 107/256\n",
            "24/24 [==============================] - 0s 1ms/step - loss: 144.5464 - mse: 144.5464\n",
            "Epoch 108/256\n",
            "24/24 [==============================] - 0s 1ms/step - loss: 144.5474 - mse: 144.5474\n",
            "Epoch 109/256\n",
            "24/24 [==============================] - 0s 1ms/step - loss: 144.5355 - mse: 144.5355\n",
            "Epoch 110/256\n",
            "24/24 [==============================] - 0s 1ms/step - loss: 144.5120 - mse: 144.5120\n",
            "Epoch 111/256\n",
            "24/24 [==============================] - 0s 1ms/step - loss: 144.5607 - mse: 144.5607\n",
            "Epoch 112/256\n",
            "24/24 [==============================] - 0s 1ms/step - loss: 144.4052 - mse: 144.4052\n",
            "Epoch 113/256\n",
            "24/24 [==============================] - 0s 1ms/step - loss: 144.5776 - mse: 144.5776\n",
            "Epoch 114/256\n",
            "24/24 [==============================] - 0s 1ms/step - loss: 144.4620 - mse: 144.4620\n",
            "Epoch 115/256\n",
            "24/24 [==============================] - 0s 1ms/step - loss: 144.4291 - mse: 144.4291\n",
            "Epoch 116/256\n",
            "24/24 [==============================] - 0s 986us/step - loss: 144.4667 - mse: 144.4667\n",
            "Epoch 117/256\n",
            "24/24 [==============================] - 0s 1ms/step - loss: 144.4244 - mse: 144.4244\n",
            "Epoch 118/256\n",
            "24/24 [==============================] - 0s 2ms/step - loss: 144.4525 - mse: 144.4525\n",
            "Epoch 119/256\n",
            "24/24 [==============================] - 0s 1ms/step - loss: 144.5489 - mse: 144.5489\n",
            "Epoch 120/256\n",
            "24/24 [==============================] - 0s 1ms/step - loss: 144.4100 - mse: 144.4100\n",
            "Epoch 121/256\n",
            "24/24 [==============================] - 0s 1ms/step - loss: 144.4567 - mse: 144.4567\n",
            "Epoch 122/256\n",
            "24/24 [==============================] - 0s 1ms/step - loss: 144.3473 - mse: 144.3473\n",
            "Epoch 123/256\n",
            "24/24 [==============================] - 0s 1ms/step - loss: 144.3219 - mse: 144.3219\n",
            "Epoch 124/256\n",
            "24/24 [==============================] - 0s 1ms/step - loss: 144.2711 - mse: 144.2711\n",
            "Epoch 125/256\n",
            "24/24 [==============================] - 0s 1ms/step - loss: 144.3472 - mse: 144.3472\n",
            "Epoch 126/256\n",
            "24/24 [==============================] - 0s 1ms/step - loss: 144.3061 - mse: 144.3061\n",
            "Epoch 127/256\n",
            "24/24 [==============================] - 0s 1ms/step - loss: 144.2919 - mse: 144.2919\n",
            "Epoch 128/256\n",
            "24/24 [==============================] - 0s 1ms/step - loss: 144.3121 - mse: 144.3121\n",
            "Epoch 129/256\n",
            "24/24 [==============================] - 0s 1ms/step - loss: 144.2431 - mse: 144.2431\n",
            "Epoch 130/256\n",
            "24/24 [==============================] - 0s 1ms/step - loss: 144.3412 - mse: 144.3412\n",
            "Epoch 131/256\n",
            "24/24 [==============================] - 0s 1ms/step - loss: 144.2410 - mse: 144.2410\n",
            "Epoch 132/256\n",
            "24/24 [==============================] - 0s 1ms/step - loss: 144.2305 - mse: 144.2305\n",
            "Epoch 133/256\n",
            "24/24 [==============================] - 0s 1ms/step - loss: 144.2877 - mse: 144.2877\n",
            "Epoch 134/256\n",
            "24/24 [==============================] - 0s 1ms/step - loss: 144.2357 - mse: 144.2357\n",
            "Epoch 135/256\n",
            "24/24 [==============================] - 0s 1ms/step - loss: 144.1843 - mse: 144.1843\n",
            "Epoch 136/256\n",
            "24/24 [==============================] - 0s 1ms/step - loss: 144.2314 - mse: 144.2314\n",
            "Epoch 137/256\n",
            "24/24 [==============================] - 0s 1ms/step - loss: 144.1716 - mse: 144.1716\n",
            "Epoch 138/256\n",
            "24/24 [==============================] - 0s 1ms/step - loss: 144.1239 - mse: 144.1239\n",
            "Epoch 139/256\n",
            "24/24 [==============================] - 0s 1ms/step - loss: 144.1857 - mse: 144.1857\n",
            "Epoch 140/256\n",
            "24/24 [==============================] - 0s 1ms/step - loss: 144.1879 - mse: 144.1879\n",
            "Epoch 141/256\n",
            "24/24 [==============================] - 0s 1ms/step - loss: 144.1327 - mse: 144.1327\n",
            "Epoch 142/256\n",
            "24/24 [==============================] - 0s 2ms/step - loss: 144.1548 - mse: 144.1548\n",
            "Epoch 143/256\n",
            "24/24 [==============================] - 0s 2ms/step - loss: 144.2106 - mse: 144.2106\n",
            "Epoch 144/256\n",
            "24/24 [==============================] - 0s 1ms/step - loss: 144.1386 - mse: 144.1386\n",
            "Epoch 145/256\n",
            "24/24 [==============================] - 0s 1ms/step - loss: 144.1657 - mse: 144.1657\n",
            "Epoch 146/256\n",
            "24/24 [==============================] - 0s 1ms/step - loss: 144.0331 - mse: 144.0331\n",
            "Epoch 147/256\n",
            "24/24 [==============================] - 0s 1ms/step - loss: 144.1722 - mse: 144.1722\n",
            "Epoch 148/256\n",
            "24/24 [==============================] - 0s 1ms/step - loss: 144.0884 - mse: 144.0884\n",
            "Epoch 149/256\n",
            "24/24 [==============================] - 0s 1ms/step - loss: 144.1025 - mse: 144.1025\n",
            "Epoch 150/256\n",
            "24/24 [==============================] - 0s 1ms/step - loss: 144.0543 - mse: 144.0543\n",
            "Epoch 151/256\n",
            "24/24 [==============================] - 0s 2ms/step - loss: 144.0477 - mse: 144.0477\n",
            "Epoch 152/256\n",
            "24/24 [==============================] - 0s 1ms/step - loss: 143.9586 - mse: 143.9586\n",
            "Epoch 153/256\n",
            "24/24 [==============================] - 0s 1ms/step - loss: 144.1173 - mse: 144.1173\n",
            "Epoch 154/256\n",
            "24/24 [==============================] - 0s 1ms/step - loss: 144.0087 - mse: 144.0087\n",
            "Epoch 155/256\n",
            "24/24 [==============================] - 0s 1ms/step - loss: 144.0071 - mse: 144.0071\n",
            "Epoch 156/256\n",
            "24/24 [==============================] - 0s 1ms/step - loss: 143.9323 - mse: 143.9323\n",
            "Epoch 157/256\n",
            "24/24 [==============================] - 0s 1ms/step - loss: 143.9408 - mse: 143.9408\n",
            "Epoch 158/256\n",
            "24/24 [==============================] - 0s 2ms/step - loss: 144.0132 - mse: 144.0132\n",
            "Epoch 159/256\n",
            "24/24 [==============================] - 0s 1ms/step - loss: 143.9422 - mse: 143.9422\n",
            "Epoch 160/256\n",
            "24/24 [==============================] - 0s 1ms/step - loss: 143.9392 - mse: 143.9392\n",
            "Epoch 161/256\n",
            "24/24 [==============================] - 0s 1ms/step - loss: 144.0318 - mse: 144.0318\n",
            "Epoch 162/256\n",
            "24/24 [==============================] - 0s 1ms/step - loss: 143.9138 - mse: 143.9138\n",
            "Epoch 163/256\n",
            "24/24 [==============================] - 0s 1ms/step - loss: 143.9548 - mse: 143.9548\n",
            "Epoch 164/256\n",
            "24/24 [==============================] - 0s 1ms/step - loss: 143.8821 - mse: 143.8821\n",
            "Epoch 165/256\n",
            "24/24 [==============================] - 0s 1ms/step - loss: 143.9144 - mse: 143.9144\n",
            "Epoch 166/256\n",
            "24/24 [==============================] - 0s 1ms/step - loss: 143.8337 - mse: 143.8337\n",
            "Epoch 167/256\n",
            "24/24 [==============================] - 0s 2ms/step - loss: 143.8476 - mse: 143.8476\n",
            "Epoch 168/256\n",
            "24/24 [==============================] - 0s 2ms/step - loss: 143.8526 - mse: 143.8526\n",
            "Epoch 169/256\n",
            "24/24 [==============================] - 0s 1ms/step - loss: 143.8388 - mse: 143.8388\n",
            "Epoch 170/256\n",
            "24/24 [==============================] - 0s 1ms/step - loss: 143.8576 - mse: 143.8576\n",
            "Epoch 171/256\n",
            "24/24 [==============================] - 0s 2ms/step - loss: 143.7939 - mse: 143.7939\n",
            "Epoch 172/256\n",
            "24/24 [==============================] - 0s 1ms/step - loss: 143.8183 - mse: 143.8183\n",
            "Epoch 173/256\n",
            "24/24 [==============================] - 0s 1ms/step - loss: 143.7623 - mse: 143.7623\n",
            "Epoch 174/256\n",
            "24/24 [==============================] - 0s 1ms/step - loss: 143.8095 - mse: 143.8095\n",
            "Epoch 175/256\n",
            "24/24 [==============================] - 0s 1ms/step - loss: 143.7348 - mse: 143.7348\n",
            "Epoch 176/256\n",
            "24/24 [==============================] - 0s 1ms/step - loss: 143.8176 - mse: 143.8176\n",
            "Epoch 177/256\n",
            "24/24 [==============================] - 0s 2ms/step - loss: 143.6879 - mse: 143.6879\n",
            "Epoch 178/256\n",
            "24/24 [==============================] - 0s 2ms/step - loss: 143.7012 - mse: 143.7012\n",
            "Epoch 179/256\n",
            "24/24 [==============================] - 0s 1ms/step - loss: 143.7607 - mse: 143.7607\n",
            "Epoch 180/256\n",
            "24/24 [==============================] - 0s 1ms/step - loss: 143.7134 - mse: 143.7134\n",
            "Epoch 181/256\n",
            "24/24 [==============================] - 0s 1ms/step - loss: 143.7583 - mse: 143.7583\n",
            "Epoch 182/256\n",
            "24/24 [==============================] - 0s 1ms/step - loss: 143.6347 - mse: 143.6347\n",
            "Epoch 183/256\n",
            "24/24 [==============================] - 0s 1ms/step - loss: 143.7171 - mse: 143.7171\n",
            "Epoch 184/256\n",
            "24/24 [==============================] - 0s 1ms/step - loss: 143.6784 - mse: 143.6784\n",
            "Epoch 185/256\n",
            "24/24 [==============================] - 0s 1ms/step - loss: 143.6302 - mse: 143.6302\n",
            "Epoch 186/256\n",
            "24/24 [==============================] - 0s 1ms/step - loss: 143.6390 - mse: 143.6390\n",
            "Epoch 187/256\n",
            "24/24 [==============================] - 0s 1ms/step - loss: 143.5877 - mse: 143.5877\n",
            "Epoch 188/256\n",
            "24/24 [==============================] - 0s 1ms/step - loss: 143.5939 - mse: 143.5939\n",
            "Epoch 189/256\n",
            "24/24 [==============================] - 0s 1ms/step - loss: 143.6535 - mse: 143.6535\n",
            "Epoch 190/256\n",
            "24/24 [==============================] - 0s 1ms/step - loss: 143.7554 - mse: 143.7554\n",
            "Epoch 191/256\n",
            "24/24 [==============================] - 0s 1ms/step - loss: 143.5505 - mse: 143.5505\n",
            "Epoch 192/256\n",
            "24/24 [==============================] - 0s 1ms/step - loss: 143.4569 - mse: 143.4569\n",
            "Epoch 193/256\n",
            "24/24 [==============================] - 0s 1ms/step - loss: 143.6866 - mse: 143.6866\n",
            "Epoch 194/256\n",
            "24/24 [==============================] - 0s 1ms/step - loss: 143.5298 - mse: 143.5298\n",
            "Epoch 195/256\n",
            "24/24 [==============================] - 0s 1ms/step - loss: 143.5680 - mse: 143.5680\n",
            "Epoch 196/256\n",
            "24/24 [==============================] - 0s 1ms/step - loss: 143.5381 - mse: 143.5381\n",
            "Epoch 197/256\n",
            "24/24 [==============================] - 0s 1ms/step - loss: 143.4835 - mse: 143.4835\n",
            "Epoch 198/256\n",
            "24/24 [==============================] - 0s 1ms/step - loss: 143.4633 - mse: 143.4633\n",
            "Epoch 199/256\n",
            "24/24 [==============================] - 0s 1ms/step - loss: 143.5715 - mse: 143.5715\n",
            "Epoch 200/256\n",
            "24/24 [==============================] - 0s 1ms/step - loss: 143.4116 - mse: 143.4116\n",
            "Epoch 201/256\n",
            "24/24 [==============================] - 0s 1ms/step - loss: 143.5136 - mse: 143.5136\n",
            "Epoch 202/256\n",
            "24/24 [==============================] - 0s 1ms/step - loss: 143.4398 - mse: 143.4398\n",
            "Epoch 203/256\n",
            "24/24 [==============================] - 0s 1ms/step - loss: 143.4822 - mse: 143.4822\n",
            "Epoch 204/256\n",
            "24/24 [==============================] - 0s 1ms/step - loss: 143.4172 - mse: 143.4172\n",
            "Epoch 205/256\n",
            "24/24 [==============================] - 0s 1ms/step - loss: 143.3801 - mse: 143.3801\n",
            "Epoch 206/256\n",
            "24/24 [==============================] - 0s 1ms/step - loss: 143.4184 - mse: 143.4184\n",
            "Epoch 207/256\n",
            "24/24 [==============================] - 0s 2ms/step - loss: 143.3817 - mse: 143.3817\n",
            "Epoch 208/256\n",
            "24/24 [==============================] - 0s 1ms/step - loss: 143.3784 - mse: 143.3784\n",
            "Epoch 209/256\n",
            "24/24 [==============================] - 0s 2ms/step - loss: 143.4024 - mse: 143.4024\n",
            "Epoch 210/256\n",
            "24/24 [==============================] - 0s 2ms/step - loss: 143.3114 - mse: 143.3114\n",
            "Epoch 211/256\n",
            "24/24 [==============================] - 0s 1ms/step - loss: 143.4002 - mse: 143.4002\n",
            "Epoch 212/256\n",
            "24/24 [==============================] - 0s 1ms/step - loss: 143.3143 - mse: 143.3143\n",
            "Epoch 213/256\n",
            "24/24 [==============================] - 0s 1ms/step - loss: 143.3106 - mse: 143.3106\n",
            "Epoch 214/256\n",
            "24/24 [==============================] - 0s 1ms/step - loss: 143.3278 - mse: 143.3278\n",
            "Epoch 215/256\n",
            "24/24 [==============================] - 0s 2ms/step - loss: 143.3208 - mse: 143.3208\n",
            "Epoch 216/256\n",
            "24/24 [==============================] - 0s 1ms/step - loss: 143.3190 - mse: 143.3190\n",
            "Epoch 217/256\n",
            "24/24 [==============================] - 0s 1ms/step - loss: 143.3105 - mse: 143.3105\n",
            "Epoch 218/256\n",
            "24/24 [==============================] - 0s 1ms/step - loss: 143.2091 - mse: 143.2091\n",
            "Epoch 219/256\n",
            "24/24 [==============================] - 0s 1ms/step - loss: 143.2882 - mse: 143.2882\n",
            "Epoch 220/256\n",
            "24/24 [==============================] - 0s 2ms/step - loss: 143.2700 - mse: 143.2700\n",
            "Epoch 221/256\n",
            "24/24 [==============================] - 0s 1ms/step - loss: 143.2366 - mse: 143.2366\n",
            "Epoch 222/256\n",
            "24/24 [==============================] - 0s 1ms/step - loss: 143.2744 - mse: 143.2744\n",
            "Epoch 223/256\n",
            "24/24 [==============================] - 0s 1ms/step - loss: 143.2159 - mse: 143.2159\n",
            "Epoch 224/256\n",
            "24/24 [==============================] - 0s 1ms/step - loss: 143.2878 - mse: 143.2878\n",
            "Epoch 225/256\n",
            "24/24 [==============================] - 0s 1ms/step - loss: 143.2146 - mse: 143.2146\n",
            "Epoch 226/256\n",
            "24/24 [==============================] - 0s 1ms/step - loss: 143.1878 - mse: 143.1878\n",
            "Epoch 227/256\n",
            "24/24 [==============================] - 0s 1ms/step - loss: 143.2853 - mse: 143.2853\n",
            "Epoch 228/256\n",
            "24/24 [==============================] - 0s 1ms/step - loss: 143.2316 - mse: 143.2316\n",
            "Epoch 229/256\n",
            "24/24 [==============================] - 0s 1ms/step - loss: 143.0995 - mse: 143.0995\n",
            "Epoch 230/256\n",
            "24/24 [==============================] - 0s 2ms/step - loss: 143.2116 - mse: 143.2116\n",
            "Epoch 231/256\n",
            "24/24 [==============================] - 0s 1ms/step - loss: 143.1139 - mse: 143.1139\n",
            "Epoch 232/256\n",
            "24/24 [==============================] - 0s 1ms/step - loss: 143.1223 - mse: 143.1223\n",
            "Epoch 233/256\n",
            "24/24 [==============================] - 0s 1ms/step - loss: 143.1206 - mse: 143.1206\n",
            "Epoch 234/256\n",
            "24/24 [==============================] - 0s 1ms/step - loss: 143.0808 - mse: 143.0808\n",
            "Epoch 235/256\n",
            "24/24 [==============================] - 0s 1ms/step - loss: 143.0863 - mse: 143.0863\n",
            "Epoch 236/256\n",
            "24/24 [==============================] - 0s 1ms/step - loss: 143.0580 - mse: 143.0580\n",
            "Epoch 237/256\n",
            "24/24 [==============================] - 0s 1ms/step - loss: 143.0927 - mse: 143.0927\n",
            "Epoch 238/256\n",
            "24/24 [==============================] - 0s 1ms/step - loss: 143.1461 - mse: 143.1461\n",
            "Epoch 239/256\n",
            "24/24 [==============================] - 0s 1ms/step - loss: 142.9956 - mse: 142.9956\n",
            "Epoch 240/256\n",
            "24/24 [==============================] - 0s 935us/step - loss: 143.1214 - mse: 143.1214\n",
            "Epoch 241/256\n",
            "24/24 [==============================] - 0s 1ms/step - loss: 143.0276 - mse: 143.0276\n",
            "Epoch 242/256\n",
            "24/24 [==============================] - 0s 1ms/step - loss: 143.0048 - mse: 143.0048\n",
            "Epoch 243/256\n",
            "24/24 [==============================] - 0s 1ms/step - loss: 143.0413 - mse: 143.0413\n",
            "Epoch 244/256\n",
            "24/24 [==============================] - 0s 1ms/step - loss: 142.9392 - mse: 142.9392\n",
            "Epoch 245/256\n",
            "24/24 [==============================] - 0s 1ms/step - loss: 143.0546 - mse: 143.0546\n",
            "Epoch 246/256\n",
            "24/24 [==============================] - 0s 1ms/step - loss: 142.9439 - mse: 142.9439\n",
            "Epoch 247/256\n",
            "24/24 [==============================] - 0s 948us/step - loss: 143.0175 - mse: 143.0175\n",
            "Epoch 248/256\n",
            "24/24 [==============================] - 0s 1ms/step - loss: 142.9383 - mse: 142.9383\n",
            "Epoch 249/256\n",
            "24/24 [==============================] - 0s 1ms/step - loss: 142.9431 - mse: 142.9431\n",
            "Epoch 250/256\n",
            "24/24 [==============================] - 0s 1ms/step - loss: 142.9835 - mse: 142.9835\n",
            "Epoch 251/256\n",
            "24/24 [==============================] - 0s 1ms/step - loss: 142.8723 - mse: 142.8723\n",
            "Epoch 252/256\n",
            "24/24 [==============================] - 0s 928us/step - loss: 143.0232 - mse: 143.0232\n",
            "Epoch 253/256\n",
            "24/24 [==============================] - 0s 1ms/step - loss: 142.8713 - mse: 142.8713\n",
            "Epoch 254/256\n",
            "24/24 [==============================] - 0s 1ms/step - loss: 142.8514 - mse: 142.8514\n",
            "Epoch 255/256\n",
            "24/24 [==============================] - 0s 1ms/step - loss: 142.8861 - mse: 142.8861\n",
            "Epoch 256/256\n",
            "24/24 [==============================] - 0s 1ms/step - loss: 142.8482 - mse: 142.8482\n"
          ],
          "name": "stdout"
        },
        {
          "output_type": "execute_result",
          "data": {
            "text/plain": [
              "<tensorflow.python.keras.callbacks.History at 0x7fee258e5dd8>"
            ]
          },
          "metadata": {
            "tags": []
          },
          "execution_count": 14
        }
      ]
    },
    {
      "cell_type": "code",
      "metadata": {
        "id": "zQnW8r1P1vZM",
        "colab": {
          "base_uri": "https://localhost:8080/",
          "height": 85
        },
        "outputId": "89fdc0a4-94f2-4c72-cec0-292f9a028b6a"
      },
      "source": [
        "print ('Model weights(w0, w1 and bias):')\n",
        "w0 = model.layers[0].get_weights()[0][0]\n",
        "w1 = model.layers[0].get_weights()[0][1]\n",
        "b0 = model.layers[0].get_weights()[1]\n",
        "print (w0)\n",
        "print(w1)\n",
        "print(b0)"
      ],
      "execution_count": null,
      "outputs": [
        {
          "output_type": "stream",
          "text": [
            "Model weights(w0, w1 and bias):\n",
            "[0.2481101]\n",
            "[0.25618052]\n",
            "[7.0277863]\n"
          ],
          "name": "stdout"
        }
      ]
    },
    {
      "cell_type": "code",
      "metadata": {
        "id": "IkYWKZeP4tu5",
        "colab": {
          "base_uri": "https://localhost:8080/",
          "height": 85
        },
        "outputId": "1d6b2c1f-b942-464a-9be4-3b4560a2a1ce"
      },
      "source": [
        "np.set_printoptions(precision=2)\n",
        "print('True Validation Data:')\n",
        "print (dataset[:10, 2])\n",
        "prediction = model.predict(dataset[:, 0:2])\n",
        "print('Prediction: ')\n",
        "print(prediction[0:5].T)\n"
      ],
      "execution_count": null,
      "outputs": [
        {
          "output_type": "stream",
          "text": [
            "True Validation Data:\n",
            "[50. 31. 32. 21. 33. 30. 26. 29. 53. 54.]\n",
            "Prediction: \n",
            "[[33.5  30.22 28.88 30.6  27.99]]\n"
          ],
          "name": "stdout"
        }
      ]
    },
    {
      "cell_type": "code",
      "metadata": {
        "id": "F7fJUl-75ZxP",
        "colab": {
          "base_uri": "https://localhost:8080/",
          "height": 279
        },
        "outputId": "31ef1d2f-b782-49b8-a9cf-c0622fc4188b"
      },
      "source": [
        "import matplotlib.pyplot as plt\n",
        "plt.scatter(dataset[:, 2], prediction)\n",
        "plt.ylabel('Predicted Age')\n",
        "plt.xlabel('True Age')\n",
        "plt.plot([20, 80], [20, 80], color = 'red')\n",
        "plt.show()"
      ],
      "execution_count": null,
      "outputs": [
        {
          "output_type": "display_data",
          "data": {
            "image/png": "[encoded data removed]",
            "text/plain": [
              "<Figure size 432x288 with 1 Axes>"
            ]
          },
          "metadata": {
            "tags": [],
            "needs_background": "light"
          }
        }
      ]
    },
    {
      "cell_type": "code",
      "metadata": {
        "id": "gn8UfOSE5n5S"
      },
      "source": [
        ""
      ],
      "execution_count": null,
      "outputs": []
    }
  ]
}