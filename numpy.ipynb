{
  "nbformat": 4,
  "nbformat_minor": 0,
  "metadata": {
    "colab": {
      "name": "numpy.ipynb",
      "provenance": [],
      "collapsed_sections": [],
      "authorship_tag": "ABX9TyN3e0iFOxEDkDW0EHQihBdX",
      "include_colab_link": true
    },
    "kernelspec": {
      "name": "python3",
      "display_name": "Python 3"
    }
  },
  "cells": [
    {
      "cell_type": "markdown",
      "metadata": {
        "id": "view-in-github",
        "colab_type": "text"
      },
      "source": [
        "<a href=\"https://colab.research.google.com/github/Iamnetis/UMSL-AI/blob/main/numpy.ipynb\" target=\"_parent\"><img src=\"https://colab.research.google.com/assets/colab-badge.svg\" alt=\"Open In Colab\"/></a>"
      ]
    },
    {
      "cell_type": "code",
      "metadata": {
        "id": "sjT-hcQfkcGB",
        "colab": {
          "base_uri": "https://localhost:8080/",
          "height": 51
        },
        "outputId": "10a1004c-f57e-4649-87a1-9984489aaf73"
      },
      "source": [
        "import numpy as np\n",
        "a = np.array([1,2,3]) # Rank 1 array\n",
        "print(type(a), a.shape, a[0], a[1], a[2]) #a.shape tells that length of an array !!\n",
        "a[0] = 7\n",
        "print(a)"
      ],
      "execution_count": null,
      "outputs": [
        {
          "output_type": "stream",
          "text": [
            "<class 'numpy.ndarray'> (3,) 1 2 3\n",
            "[7 2 3]\n"
          ],
          "name": "stdout"
        }
      ]
    },
    {
      "cell_type": "code",
      "metadata": {
        "id": "XST5xH5e9B_2",
        "colab": {
          "base_uri": "https://localhost:8080/",
          "height": 68
        },
        "outputId": "1afcd22a-9b11-4b2f-e293-6fd7bb72189e"
      },
      "source": [
        "b = np.array([[1,2,3],[4,5,6]]) #rank 2\n",
        "print (b)\n",
        "type(b)"
      ],
      "execution_count": null,
      "outputs": [
        {
          "output_type": "stream",
          "text": [
            "[[1 2 3]\n",
            " [4 5 6]]\n"
          ],
          "name": "stdout"
        },
        {
          "output_type": "execute_result",
          "data": {
            "text/plain": [
              "numpy.ndarray"
            ]
          },
          "metadata": {
            "tags": []
          },
          "execution_count": 2
        }
      ]
    },
    {
      "cell_type": "code",
      "metadata": {
        "id": "vdxN2gy5-MFE",
        "colab": {
          "base_uri": "https://localhost:8080/",
          "height": 51
        },
        "outputId": "53553a2c-6744-44c6-cd31-6cb29fd78575"
      },
      "source": [
        "print (b.shape)\n",
        "print (b[0,0], b[0,1], b[1,0])"
      ],
      "execution_count": null,
      "outputs": [
        {
          "output_type": "stream",
          "text": [
            "(2, 3)\n",
            "1 2 4\n"
          ],
          "name": "stdout"
        }
      ]
    },
    {
      "cell_type": "code",
      "metadata": {
        "id": "_-kK5cl0-VAi",
        "colab": {
          "base_uri": "https://localhost:8080/",
          "height": 51
        },
        "outputId": "ab9a8375-06fc-440d-f613-1a8d530c5ff6"
      },
      "source": [
        "a = np.zeros((2,3)) #creates an array of all zeros\n",
        "print (a)"
      ],
      "execution_count": null,
      "outputs": [
        {
          "output_type": "stream",
          "text": [
            "[[0. 0. 0.]\n",
            " [0. 0. 0.]]\n"
          ],
          "name": "stdout"
        }
      ]
    },
    {
      "cell_type": "code",
      "metadata": {
        "id": "_TZFlBA1_mfI",
        "colab": {
          "base_uri": "https://localhost:8080/",
          "height": 34
        },
        "outputId": "e16dc2f6-deec-44cf-f883-77739e500c64"
      },
      "source": [
        "b = np.ones((1,2,5,6,7)) #creates an array of all ones\n",
        "print (b.shape)"
      ],
      "execution_count": null,
      "outputs": [
        {
          "output_type": "stream",
          "text": [
            "(1, 2, 5, 6, 7)\n"
          ],
          "name": "stdout"
        }
      ]
    },
    {
      "cell_type": "code",
      "metadata": {
        "id": "PWEd7CQB_6Ds",
        "colab": {
          "base_uri": "https://localhost:8080/",
          "height": 68
        },
        "outputId": "91d56af0-c895-454b-bb4b-ffd01e3e6378"
      },
      "source": [
        "c = np.full((2,3), 8) #creates a 2x3 matrix and fill up with all 8\n",
        "print (c)\n",
        "type(c)"
      ],
      "execution_count": null,
      "outputs": [
        {
          "output_type": "stream",
          "text": [
            "[[8 8 8]\n",
            " [8 8 8]]\n"
          ],
          "name": "stdout"
        },
        {
          "output_type": "execute_result",
          "data": {
            "text/plain": [
              "numpy.ndarray"
            ]
          },
          "metadata": {
            "tags": []
          },
          "execution_count": 3
        }
      ]
    },
    {
      "cell_type": "code",
      "metadata": {
        "id": "qlsGOLmAAV1M",
        "colab": {
          "base_uri": "https://localhost:8080/",
          "height": 85
        },
        "outputId": "c18ee4fa-3611-4b89-bd7d-6a3deca5bc81"
      },
      "source": [
        "d = np.eye(3) #create a 2x2 identity matrix\n",
        "print (d)\n",
        "type(d)"
      ],
      "execution_count": null,
      "outputs": [
        {
          "output_type": "stream",
          "text": [
            "[[1. 0. 0.]\n",
            " [0. 1. 0.]\n",
            " [0. 0. 1.]]\n"
          ],
          "name": "stdout"
        },
        {
          "output_type": "execute_result",
          "data": {
            "text/plain": [
              "numpy.ndarray"
            ]
          },
          "metadata": {
            "tags": []
          },
          "execution_count": 4
        }
      ]
    },
    {
      "cell_type": "code",
      "metadata": {
        "id": "alJLrG2XAofM",
        "colab": {
          "base_uri": "https://localhost:8080/",
          "height": 51
        },
        "outputId": "639d8d82-a254-406d-b536-333cd66e2a9e"
      },
      "source": [
        "e = np.random.random((2,2)) * 100 #create an array filled with random values !! \n",
        "print (e)"
      ],
      "execution_count": null,
      "outputs": [
        {
          "output_type": "stream",
          "text": [
            "[[ 4.40488623  7.57711228]\n",
            " [ 5.82045609 47.19709224]]\n"
          ],
          "name": "stdout"
        }
      ]
    },
    {
      "cell_type": "markdown",
      "metadata": {
        "id": "WxgDgR7FE6g8"
      },
      "source": [
        "# Array Indexing \n",
        "\n",
        "\n",
        "\n",
        "* Numpy offers several ways to index into arrays..\n",
        "* **Slicing:** Similar to python lists, numpy arrays can be sliced...\n",
        "* Since arrays may be multidimensional, ypu must specify a slice for each dimension of the array.\n",
        "\n"
      ]
    },
    {
      "cell_type": "code",
      "metadata": {
        "id": "4tIPLPRaBEZl",
        "colab": {
          "base_uri": "https://localhost:8080/",
          "height": 153
        },
        "outputId": "78ef40d8-80b0-4b0b-9210-ae7e9bfb9fab"
      },
      "source": [
        "import numpy as np\n",
        "a = np.array([[1,2,3,4], [5,6,7,8],[9,10,11,12]])\n",
        "print ((a, a.shape))\n",
        "print ('\\n' * 2)\n",
        "#Use slicing to pull out the subarray consisting of the first 2 rows and columns 1 and 2 \n",
        "\n",
        "b = a[:2, 1:3]\n",
        "print (b, b.shape)"
      ],
      "execution_count": null,
      "outputs": [
        {
          "output_type": "stream",
          "text": [
            "(array([[ 1,  2,  3,  4],\n",
            "       [ 5,  6,  7,  8],\n",
            "       [ 9, 10, 11, 12]]), (3, 4))\n",
            "\n",
            "\n",
            "\n",
            "[[2 3]\n",
            " [6 7]] (2, 2)\n"
          ],
          "name": "stdout"
        }
      ]
    },
    {
      "cell_type": "markdown",
      "metadata": {
        "id": "JvT0IUkAVTW2"
      },
      "source": [
        "A Slice of an array is a view into the same data, so modify the proginal array...."
      ]
    },
    {
      "cell_type": "code",
      "metadata": {
        "id": "kD7rslY7IF_0",
        "colab": {
          "base_uri": "https://localhost:8080/",
          "height": 68
        },
        "outputId": "40350cc0-3fef-48af-965b-040f8f0474c2"
      },
      "source": [
        "b [0,0] = 77 \n",
        "print (a)"
      ],
      "execution_count": null,
      "outputs": [
        {
          "output_type": "stream",
          "text": [
            "[[ 1 77 77  4]\n",
            " [ 5  6 77  8]\n",
            " [ 9 10 11 12]]\n"
          ],
          "name": "stdout"
        }
      ]
    },
    {
      "cell_type": "markdown",
      "metadata": {
        "id": "kuID-MXOkXjz"
      },
      "source": [
        "how can we make a copy of an array"
      ]
    },
    {
      "cell_type": "code",
      "metadata": {
        "id": "wpjHicrjI0rf",
        "colab": {
          "base_uri": "https://localhost:8080/",
          "height": 153
        },
        "outputId": "4f2c3e21-486c-4eb1-e13b-c1dfa26e590b"
      },
      "source": [
        "c = np.copy(a)\n",
        "c [0,0] = 100\n",
        "print(c)\n",
        "print ('\\n')\n",
        "print(a)"
      ],
      "execution_count": null,
      "outputs": [
        {
          "output_type": "stream",
          "text": [
            "[[100  77  77   4]\n",
            " [  5   6  77   8]\n",
            " [  9  10  11  12]]\n",
            "\n",
            "\n",
            "[[ 1 77 77  4]\n",
            " [ 5  6 77  8]\n",
            " [ 9 10 11 12]]\n"
          ],
          "name": "stdout"
        }
      ]
    },
    {
      "cell_type": "code",
      "metadata": {
        "id": "FWMROvA0n8t4",
        "colab": {
          "base_uri": "https://localhost:8080/",
          "height": 68
        },
        "outputId": "73b5ec89-4f85-4f83-e820-62a0eb459fce"
      },
      "source": [
        "a = np.array([[1,2,3,4],[5,6,7,8],[9,10,11,12]])\n",
        "print (a, a.shape)"
      ],
      "execution_count": null,
      "outputs": [
        {
          "output_type": "stream",
          "text": [
            "[[ 1  2  3  4]\n",
            " [ 5  6  7  8]\n",
            " [ 9 10 11 12]] (3, 4)\n"
          ],
          "name": "stdout"
        }
      ]
    },
    {
      "cell_type": "code",
      "metadata": {
        "id": "plrbPTgywu02",
        "colab": {
          "base_uri": "https://localhost:8080/",
          "height": 68
        },
        "outputId": "040efba0-6c7d-456f-ddc0-8c4e0430c59d"
      },
      "source": [
        "row_r1 = a[1,:] #Rank 1 view of the second row a \n",
        "row_r2 = a[1:2, :] #Rank 2 view of the second row a \n",
        "row_r3 = a [[1], : ] #Rank 2 view of the second row a \n",
        "\n",
        "print (row_r1, row_r1.shape)\n",
        "print (row_r2, row_r2.shape)\n",
        "print (row_r3, row_r3.shape)"
      ],
      "execution_count": null,
      "outputs": [
        {
          "output_type": "stream",
          "text": [
            "[5 6 7 8] (4,)\n",
            "[[5 6 7 8]] (1, 4)\n",
            "[[5 6 7 8]] (1, 4)\n"
          ],
          "name": "stdout"
        }
      ]
    },
    {
      "cell_type": "code",
      "metadata": {
        "id": "IRAoKHGF5tv1",
        "colab": {
          "base_uri": "https://localhost:8080/",
          "height": 85
        },
        "outputId": "e7d4d28f-76c0-456b-bbb5-86f4c3256853"
      },
      "source": [
        "col_r1 = a[:, 1]\n",
        "col_r2 = a[:, 1:2]\n",
        "print (col_r1, col_r1.shape)\n",
        "print (col_r2, col_r2.shape)"
      ],
      "execution_count": null,
      "outputs": [
        {
          "output_type": "stream",
          "text": [
            "[ 2  6 10] (3,)\n",
            "[[ 2]\n",
            " [ 6]\n",
            " [10]] (3, 1)\n"
          ],
          "name": "stdout"
        }
      ]
    },
    {
      "cell_type": "markdown",
      "metadata": {
        "id": "pw3IMc5e97VV"
      },
      "source": [
        "*** *italicized text*Integer array indexing***\n",
        "\n",
        "When you index into numpy arrays using slicing the resulting array view will alwyas be a subarray of the originalarray, In contrast, integet array indexing allows you to construct arbitrary arrays using the data from another array. "
      ]
    },
    {
      "cell_type": "code",
      "metadata": {
        "id": "zFVETuK-7z0D",
        "colab": {
          "base_uri": "https://localhost:8080/",
          "height": 85
        },
        "outputId": "1357b952-81d5-4330-ee56-16d5b76e8f3c"
      },
      "source": [
        "a = np.array([[1,2], [3,4], [5,6]])\n",
        "print ('a =')\n",
        "print (a)"
      ],
      "execution_count": null,
      "outputs": [
        {
          "output_type": "stream",
          "text": [
            "a =\n",
            "[[1 2]\n",
            " [3 4]\n",
            " [5 6]]\n"
          ],
          "name": "stdout"
        }
      ]
    },
    {
      "cell_type": "code",
      "metadata": {
        "id": "sN4fcfru-rVn",
        "colab": {
          "base_uri": "https://localhost:8080/",
          "height": 51
        },
        "outputId": "61db5bfc-58b0-4c3a-f69f-f7de9c029660"
      },
      "source": [
        "#An example of integer array indexing, The returning array will have shape(2,)\n",
        "\n",
        "print ('=>')\n",
        "\n",
        "print (a[[0,1], [0,1]])"
      ],
      "execution_count": null,
      "outputs": [
        {
          "output_type": "stream",
          "text": [
            "=>\n",
            "[1 4]\n"
          ],
          "name": "stdout"
        }
      ]
    },
    {
      "cell_type": "code",
      "metadata": {
        "id": "UrNhb_M1_Qhq",
        "colab": {
          "base_uri": "https://localhost:8080/",
          "height": 51
        },
        "outputId": "b3fc6333-b0e2-4c92-b7d7-48627898fb34"
      },
      "source": [
        "print ('=>')\n",
        "\n",
        "print (a[[0,1,2], [0, 1, 0]])"
      ],
      "execution_count": null,
      "outputs": [
        {
          "output_type": "stream",
          "text": [
            "=>\n",
            "[1 4 5]\n"
          ],
          "name": "stdout"
        }
      ]
    },
    {
      "cell_type": "code",
      "metadata": {
        "id": "02DdIhVw_hcB",
        "colab": {
          "base_uri": "https://localhost:8080/",
          "height": 85
        },
        "outputId": "0f3d97f0-de91-4097-ccb1-314c7761d712"
      },
      "source": [
        "a = np.array([[1, 2, 3],[4, 5, 6],[7, 8, 9], [10, 11, 12]])\n",
        "print (a)"
      ],
      "execution_count": null,
      "outputs": [
        {
          "output_type": "stream",
          "text": [
            "[[ 1  2  3]\n",
            " [ 4  5  6]\n",
            " [ 7  8  9]\n",
            " [10 11 12]]\n"
          ],
          "name": "stdout"
        }
      ]
    },
    {
      "cell_type": "code",
      "metadata": {
        "id": "vNJo6I5SD0zA",
        "colab": {
          "base_uri": "https://localhost:8080/",
          "height": 34
        },
        "outputId": "9b1a8796-a78e-4620-9fc7-1ee906d81248"
      },
      "source": [
        "b = np.array([0, 2, 0, 1])\n",
        "print (b)"
      ],
      "execution_count": null,
      "outputs": [
        {
          "output_type": "stream",
          "text": [
            "[0 2 0 1]\n"
          ],
          "name": "stdout"
        }
      ]
    },
    {
      "cell_type": "code",
      "metadata": {
        "id": "ejXFuhoFD9DA",
        "colab": {
          "base_uri": "https://localhost:8080/",
          "height": 85
        },
        "outputId": "e27fc977-d9b1-4f83-e3a0-7cb747e337bf"
      },
      "source": [
        "print (np.arange(4))\n",
        "print ('\\n')\n",
        "print (a[np.arange(4), b ] )"
      ],
      "execution_count": null,
      "outputs": [
        {
          "output_type": "stream",
          "text": [
            "[0 1 2 3]\n",
            "\n",
            "\n",
            "[ 1  6  7 11]\n"
          ],
          "name": "stdout"
        }
      ]
    },
    {
      "cell_type": "code",
      "metadata": {
        "id": "UEzbdGlCEcFD",
        "colab": {
          "base_uri": "https://localhost:8080/",
          "height": 85
        },
        "outputId": "be70e9ae-358a-4ad9-925c-95e63bbdd1f9"
      },
      "source": [
        "a [np.arange(4), b] += 10\n",
        "print (a) "
      ],
      "execution_count": null,
      "outputs": [
        {
          "output_type": "stream",
          "text": [
            "[[11  2  3]\n",
            " [ 4  5 16]\n",
            " [17  8  9]\n",
            " [10 21 12]]\n"
          ],
          "name": "stdout"
        }
      ]
    },
    {
      "cell_type": "markdown",
      "metadata": {
        "id": "xEbgeyupKMGO"
      },
      "source": [
        "**Boolean Array Indexing**\n",
        "\n",
        "Boolean array indexing lets you pick out arbitrary elements of an array. frequently this type of indexing is used to select the elements of an array that satisfy some condition. Eg..."
      ]
    },
    {
      "cell_type": "code",
      "metadata": {
        "id": "NGIVI5mfKCba",
        "colab": {
          "base_uri": "https://localhost:8080/",
          "height": 68
        },
        "outputId": "ff0dd41c-fb2b-4414-83a4-090109463826"
      },
      "source": [
        "a = np.array([[1,2], [3,4], [5,6]])\n",
        "print (a)"
      ],
      "execution_count": null,
      "outputs": [
        {
          "output_type": "stream",
          "text": [
            "[[1 2]\n",
            " [3 4]\n",
            " [5 6]]\n"
          ],
          "name": "stdout"
        }
      ]
    },
    {
      "cell_type": "code",
      "metadata": {
        "id": "9WS5wgHlKtgl",
        "colab": {
          "base_uri": "https://localhost:8080/",
          "height": 68
        },
        "outputId": "8547f891-41db-4c07-ffdb-ed3a0429ac38"
      },
      "source": [
        "bool_idx = (a > 2)\n",
        "\n",
        "print (bool_idx)"
      ],
      "execution_count": null,
      "outputs": [
        {
          "output_type": "stream",
          "text": [
            "[[False False]\n",
            " [ True  True]\n",
            " [ True  True]]\n"
          ],
          "name": "stdout"
        }
      ]
    },
    {
      "cell_type": "code",
      "metadata": {
        "id": "9J8RkXtMK1hP",
        "colab": {
          "base_uri": "https://localhost:8080/",
          "height": 34
        },
        "outputId": "6f957f6d-a44c-4b4d-bbf1-482f8e75f50b"
      },
      "source": [
        "print (a[bool_idx])"
      ],
      "execution_count": null,
      "outputs": [
        {
          "output_type": "stream",
          "text": [
            "[3 4 5 6]\n"
          ],
          "name": "stdout"
        }
      ]
    },
    {
      "cell_type": "code",
      "metadata": {
        "id": "FTxh3huHNQOf",
        "colab": {
          "base_uri": "https://localhost:8080/",
          "height": 34
        },
        "outputId": "e225ced7-5871-4b13-e2e1-77c394505559"
      },
      "source": [
        "print (a[a>2])"
      ],
      "execution_count": null,
      "outputs": [
        {
          "output_type": "stream",
          "text": [
            "[3 4 5 6]\n"
          ],
          "name": "stdout"
        }
      ]
    },
    {
      "cell_type": "markdown",
      "metadata": {
        "id": "I9Er483vNh1M"
      },
      "source": [
        "**Datatypes**\n",
        "\n",
        "\n",
        "\n",
        "* Every numpy array is a grid of elements of the **same type** (unlike a Python list)\n",
        "* Numpy Provides a large set of numeric datatypes that you can use to construct arrays\n",
        "* Numpy tries to guess a datatype when you create an array, but functions that construct arrays usually also include an optional argument to explicitly specify the datatype...\n",
        "\n"
      ]
    },
    {
      "cell_type": "code",
      "metadata": {
        "id": "Vc4_NxcrNXDh",
        "colab": {
          "base_uri": "https://localhost:8080/",
          "height": 34
        },
        "outputId": "3e4ab6c5-94d5-4fa5-abbb-fbaa6d8f1295"
      },
      "source": [
        "x = np.array([1,2])\n",
        "y = np.array([1.0, 2.0])\n",
        "z = np.array([1, 2], dtype= np.int32)\n",
        "\n",
        "print (x.dtype, y.dtype, z.dtype)"
      ],
      "execution_count": null,
      "outputs": [
        {
          "output_type": "stream",
          "text": [
            "int64 float64 int32\n"
          ],
          "name": "stdout"
        }
      ]
    },
    {
      "cell_type": "markdown",
      "metadata": {
        "id": "tkVVbbbjToAJ"
      },
      "source": [
        "**Array Math**\n",
        "\n",
        "\n",
        "\n",
        "* Basic mathematical functions operate elementwise on arrays\n",
        "* These are available as both (a) operator everloads, and (b) Functions in the numpy module\n",
        "\n"
      ]
    },
    {
      "cell_type": "code",
      "metadata": {
        "id": "TbTlQ-9ITRpF",
        "colab": {
          "base_uri": "https://localhost:8080/",
          "height": 119
        },
        "outputId": "26ce0ba7-1e80-4957-fff0-3d46cbd34c0c"
      },
      "source": [
        "x = np.array([[1,2], [3,4]], dtype = np.float64)\n",
        "y = np.array([[5,6], [7,8]], dtype = np.float64)\n",
        "\n",
        "print (x + y)\n",
        "print ('\\n')\n",
        "print (np.add(x,y))"
      ],
      "execution_count": null,
      "outputs": [
        {
          "output_type": "stream",
          "text": [
            "[[ 6.  8.]\n",
            " [10. 12.]]\n",
            "\n",
            "\n",
            "[[ 6.  8.]\n",
            " [10. 12.]]\n"
          ],
          "name": "stdout"
        }
      ]
    },
    {
      "cell_type": "code",
      "metadata": {
        "id": "3fGxj6wuL_eY",
        "colab": {
          "base_uri": "https://localhost:8080/",
          "height": 119
        },
        "outputId": "9af95731-b13b-4f42-8ddf-43ec1c12ebef"
      },
      "source": [
        "print (x - y)\n",
        "print ('\\n')\n",
        "print (np.subtract(x,y))"
      ],
      "execution_count": null,
      "outputs": [
        {
          "output_type": "stream",
          "text": [
            "[[-4. -4.]\n",
            " [-4. -4.]]\n",
            "\n",
            "\n",
            "[[-4. -4.]\n",
            " [-4. -4.]]\n"
          ],
          "name": "stdout"
        }
      ]
    },
    {
      "cell_type": "code",
      "metadata": {
        "id": "m6RNMgD8Mi_f",
        "colab": {
          "base_uri": "https://localhost:8080/",
          "height": 119
        },
        "outputId": "0238a1ee-f260-48b4-d67c-120ad52540fa"
      },
      "source": [
        "print (x * y)\n",
        "print ('\\n')\n",
        "print (np.multiply(x,y))"
      ],
      "execution_count": null,
      "outputs": [
        {
          "output_type": "stream",
          "text": [
            "[[ 5. 12.]\n",
            " [21. 32.]]\n",
            "\n",
            "\n",
            "[[ 5. 12.]\n",
            " [21. 32.]]\n"
          ],
          "name": "stdout"
        }
      ]
    },
    {
      "cell_type": "code",
      "metadata": {
        "id": "6EwjAsO-MxDe",
        "colab": {
          "base_uri": "https://localhost:8080/",
          "height": 119
        },
        "outputId": "fc67805c-e30c-4d1c-b2e7-c4d0fa2c38a4"
      },
      "source": [
        "print (x / y)\n",
        "print ('\\n')\n",
        "print (np.divide(x,y))"
      ],
      "execution_count": null,
      "outputs": [
        {
          "output_type": "stream",
          "text": [
            "[[0.2        0.33333333]\n",
            " [0.42857143 0.5       ]]\n",
            "\n",
            "\n",
            "[[0.2        0.33333333]\n",
            " [0.42857143 0.5       ]]\n"
          ],
          "name": "stdout"
        }
      ]
    },
    {
      "cell_type": "code",
      "metadata": {
        "id": "p6WZse86M26c",
        "colab": {
          "base_uri": "https://localhost:8080/",
          "height": 51
        },
        "outputId": "df9133df-d249-4595-cb6a-76f9ccf94873"
      },
      "source": [
        "print (np.sqrt(x))"
      ],
      "execution_count": null,
      "outputs": [
        {
          "output_type": "stream",
          "text": [
            "[[1.         1.41421356]\n",
            " [1.73205081 2.        ]]\n"
          ],
          "name": "stdout"
        }
      ]
    },
    {
      "cell_type": "code",
      "metadata": {
        "id": "muWbEalMM83H",
        "colab": {
          "base_uri": "https://localhost:8080/",
          "height": 85
        },
        "outputId": "1ef85286-c010-4d20-8c53-ce8bb584d9d2"
      },
      "source": [
        "v = np.array([9,10])\n",
        "m = np.array ([11,12])\n",
        "\n",
        "#Inner Product of vectors\n",
        "print (v.dot(m))\n",
        "print ('\\n')\n",
        "print (np.dot(v,m))"
      ],
      "execution_count": null,
      "outputs": [
        {
          "output_type": "stream",
          "text": [
            "219\n",
            "\n",
            "\n",
            "219\n"
          ],
          "name": "stdout"
        }
      ]
    },
    {
      "cell_type": "code",
      "metadata": {
        "id": "VVh53VMsPREX",
        "colab": {
          "base_uri": "https://localhost:8080/",
          "height": 51
        },
        "outputId": "d38aaf8c-d1b2-4ca0-a663-acc230c72adc"
      },
      "source": [
        "x = np.array([[1,2], [3,4]])\n",
        "\n",
        "#Matrix / vector product; both produce the rank 1 array\n",
        "\n",
        "print (x.dot(v))\n",
        "print (np.dot(x,v))"
      ],
      "execution_count": null,
      "outputs": [
        {
          "output_type": "stream",
          "text": [
            "[29 67]\n",
            "[29 67]\n"
          ],
          "name": "stdout"
        }
      ]
    },
    {
      "cell_type": "code",
      "metadata": {
        "id": "pIttOuOCPt4z",
        "colab": {
          "base_uri": "https://localhost:8080/",
          "height": 119
        },
        "outputId": "307a2bbc-716e-4688-8d28-d1fd95246a47"
      },
      "source": [
        "y = np.array([[5,6], [7,8]])\n",
        "#matrix / matrix product; both produce the rank 2 array\n",
        "print (x * y)\n",
        "\n",
        "print ('\\n')\n",
        "\n",
        "print (np.dot(x,y))"
      ],
      "execution_count": null,
      "outputs": [
        {
          "output_type": "stream",
          "text": [
            "[[ 5 12]\n",
            " [21 32]]\n",
            "\n",
            "\n",
            "[[19 22]\n",
            " [43 50]]\n"
          ],
          "name": "stdout"
        }
      ]
    },
    {
      "cell_type": "code",
      "metadata": {
        "id": "NMeh0UU5QB63",
        "colab": {
          "base_uri": "https://localhost:8080/",
          "height": 170
        },
        "outputId": "aededcc2-a1be-4cec-dd70-a87b7ee732ad"
      },
      "source": [
        "import numpy as np\n",
        "x = np.array([[1,2], [3,4]])\n",
        "\n",
        "print ('x =')\n",
        "print (x)\n",
        "print ('sum =')\n",
        "print (np.sum(x))\n",
        "print ('sum alone axis 0 =')\n",
        "print (np.sum(x, axis=0))\n",
        "print ('sum alone axis 1 = ')\n",
        "print (np.sum(x, axis = 1))"
      ],
      "execution_count": null,
      "outputs": [
        {
          "output_type": "stream",
          "text": [
            "x =\n",
            "[[1 2]\n",
            " [3 4]]\n",
            "sum =\n",
            "10\n",
            "sum alone axis 0 =\n",
            "[4 6]\n",
            "sum alone axis 1 = \n",
            "[3 7]\n"
          ],
          "name": "stdout"
        }
      ]
    },
    {
      "cell_type": "code",
      "metadata": {
        "id": "PzE49MHYcD5l",
        "colab": {
          "base_uri": "https://localhost:8080/",
          "height": 85
        },
        "outputId": "beea0c52-7a15-43ef-afb8-9fab1ddea751"
      },
      "source": [
        "print (x)\n",
        "print (x.T)"
      ],
      "execution_count": null,
      "outputs": [
        {
          "output_type": "stream",
          "text": [
            "[[1 2]\n",
            " [3 4]]\n",
            "[[1 3]\n",
            " [2 4]]\n"
          ],
          "name": "stdout"
        }
      ]
    },
    {
      "cell_type": "code",
      "metadata": {
        "id": "x9ShtgELfmR_",
        "colab": {
          "base_uri": "https://localhost:8080/",
          "height": 68
        },
        "outputId": "f64198a5-937c-41f8-9a4d-0c1a788f7656"
      },
      "source": [
        "x = np.array([[1,2], [3,4]])\n",
        "print (x.shape)\n",
        "\n",
        "y = np.reshape(x, (1,4))\n",
        "print (y.shape)\n",
        "print (y)"
      ],
      "execution_count": null,
      "outputs": [
        {
          "output_type": "stream",
          "text": [
            "(2, 2)\n",
            "(1, 4)\n",
            "[[1 2 3 4]]\n"
          ],
          "name": "stdout"
        }
      ]
    },
    {
      "cell_type": "code",
      "metadata": {
        "id": "AgTpCQq5g-OY",
        "colab": {
          "base_uri": "https://localhost:8080/",
          "height": 102
        },
        "outputId": "f26facbd-e1e8-4257-b536-76c81114821a"
      },
      "source": [
        "import numpy as np\n"
      ],
      "execution_count": null,
      "outputs": [
        {
          "output_type": "stream",
          "text": [
            "x: [[ 1  2  3]\n",
            " [ 4  5  6]\n",
            " [ 7  8  9]\n",
            " [10 11 12]]\n",
            "v: [1 0 1]\n"
          ],
          "name": "stdout"
        }
      ]
    },
    {
      "cell_type": "code",
      "metadata": {
        "id": "4M3KhMkSev4j",
        "colab": {
          "base_uri": "https://localhost:8080/",
          "height": 85
        },
        "outputId": "0934dfcd-299e-421f-e322-9a421aff429d"
      },
      "source": [
        "for i in range(4):\n",
        "    x[i, :] = x[i, :] + v\n",
        "print (x)"
      ],
      "execution_count": null,
      "outputs": [
        {
          "output_type": "stream",
          "text": [
            "[[ 2  2  4]\n",
            " [ 5  5  7]\n",
            " [ 8  8 10]\n",
            " [11 11 13]]\n"
          ],
          "name": "stdout"
        }
      ]
    },
    {
      "cell_type": "code",
      "metadata": {
        "id": "oMBeWI-ifH-x",
        "colab": {
          "base_uri": "https://localhost:8080/",
          "height": 85
        },
        "outputId": "cf1cf6de-17bb-40d6-ceee-681634a0985d"
      },
      "source": [
        "vv = np.tile(v, (4,1))\n",
        "print (vv)"
      ],
      "execution_count": null,
      "outputs": [
        {
          "output_type": "stream",
          "text": [
            "[[1 0 1]\n",
            " [1 0 1]\n",
            " [1 0 1]\n",
            " [1 0 1]]\n"
          ],
          "name": "stdout"
        }
      ]
    },
    {
      "cell_type": "code",
      "metadata": {
        "id": "4iaURZsVjohW",
        "colab": {
          "base_uri": "https://localhost:8080/",
          "height": 85
        },
        "outputId": "a90c9cf2-2bf5-4b57-e0de-2abdd6baaa8a"
      },
      "source": [
        "y = x + vv\n",
        "print (y)"
      ],
      "execution_count": null,
      "outputs": [
        {
          "output_type": "stream",
          "text": [
            "[[ 3  2  5]\n",
            " [ 6  5  8]\n",
            " [ 9  8 11]\n",
            " [12 11 14]]\n"
          ],
          "name": "stdout"
        }
      ]
    },
    {
      "cell_type": "code",
      "metadata": {
        "id": "0p2rA0gbj1Qa",
        "colab": {
          "base_uri": "https://localhost:8080/",
          "height": 204
        },
        "outputId": "eab4fe6e-c6b9-4553-a181-3e9fede2d741"
      },
      "source": [
        "x = np.array([[1,2,3], [4,5,6], [7,8,9], [10,11,12]])\n",
        "v = np.array([1,0,1])\n",
        "y = x + v\n",
        "\n",
        "print (x)\n",
        "print ('')\n",
        "print (v)\n",
        "print ('')\n",
        "print (y)"
      ],
      "execution_count": null,
      "outputs": [
        {
          "output_type": "stream",
          "text": [
            "[[ 1  2  3]\n",
            " [ 4  5  6]\n",
            " [ 7  8  9]\n",
            " [10 11 12]]\n",
            "\n",
            "[1 0 1]\n",
            "\n",
            "[[ 2  2  4]\n",
            " [ 5  5  7]\n",
            " [ 8  8 10]\n",
            " [11 11 13]]\n"
          ],
          "name": "stdout"
        }
      ]
    },
    {
      "cell_type": "markdown",
      "metadata": {
        "id": "NmF1jkvTeWO6"
      },
      "source": [
        "# Broadcasting !!"
      ]
    },
    {
      "cell_type": "code",
      "metadata": {
        "id": "-HoZgJfQkKdi",
        "colab": {
          "base_uri": "https://localhost:8080/",
          "height": 129
        },
        "outputId": "c6a90ef1-6eef-4e96-e65f-2d597c90ce01"
      },
      "source": [
        "#Example 1\n",
        "a = np.array([1.0, 2.0, 3.0])\n",
        "b = 2.0\n",
        "\n",
        "print (a * b)"
      ],
      "execution_count": null,
      "outputs": [
        {
          "output_type": "error",
          "ename": "SyntaxError",
          "evalue": "ignored",
          "traceback": [
            "\u001b[0;36m  File \u001b[0;32m\"<ipython-input-19-c937d775ce1c>\"\u001b[0;36m, line \u001b[0;32m1\u001b[0m\n\u001b[0;31m    £Example 1\u001b[0m\n\u001b[0m           ^\u001b[0m\n\u001b[0;31mSyntaxError\u001b[0m\u001b[0;31m:\u001b[0m invalid character in identifier\n"
          ]
        }
      ]
    },
    {
      "cell_type": "code",
      "metadata": {
        "id": "5jNwQbAdku1e",
        "colab": {
          "base_uri": "https://localhost:8080/",
          "height": 51
        },
        "outputId": "06314204-44fd-42da-cf43-58c0a4b7c4bc"
      },
      "source": [
        "x = np.arange(4)\n",
        "y = np.ones(5)\n",
        "print (x, x.shape)\n",
        "print (y, y.shape)"
      ],
      "execution_count": null,
      "outputs": [
        {
          "output_type": "stream",
          "text": [
            "[0 1 2 3] (4,)\n",
            "[1. 1. 1. 1. 1.] (5,)\n"
          ],
          "name": "stdout"
        }
      ]
    },
    {
      "cell_type": "code",
      "metadata": {
        "id": "C2HklxlcmrqH"
      },
      "source": [
        "print ((x +y).shape)"
      ],
      "execution_count": null,
      "outputs": []
    },
    {
      "cell_type": "code",
      "metadata": {
        "id": "isYi_rQ3myTI",
        "colab": {
          "base_uri": "https://localhost:8080/",
          "height": 136
        },
        "outputId": "79c7aacd-5c57-4777-f09b-31a9b2829209"
      },
      "source": [
        "#Example 2\n",
        "xx = x.reshape(4,1)\n",
        "print(xx, xx.shape)\n",
        "print ('\\n')\n",
        "print (y, y.shape)"
      ],
      "execution_count": null,
      "outputs": [
        {
          "output_type": "stream",
          "text": [
            "[[0]\n",
            " [1]\n",
            " [2]\n",
            " [3]] (4, 1)\n",
            "\n",
            "\n",
            "[1. 1. 1. 1. 1.] (5,)\n"
          ],
          "name": "stdout"
        }
      ]
    },
    {
      "cell_type": "code",
      "metadata": {
        "id": "XKhmbY0fnRJe",
        "colab": {
          "base_uri": "https://localhost:8080/",
          "height": 34
        },
        "outputId": "a85fea69-3f22-4d40-c735-2e5b5894de03"
      },
      "source": [
        "print ((xx + y).shape)"
      ],
      "execution_count": null,
      "outputs": [
        {
          "output_type": "stream",
          "text": [
            "(4, 5)\n"
          ],
          "name": "stdout"
        }
      ]
    },
    {
      "cell_type": "code",
      "metadata": {
        "id": "7R7lD1blnaeA",
        "colab": {
          "base_uri": "https://localhost:8080/",
          "height": 51
        },
        "outputId": "81577a07-1f9c-44db-ba73-bb54d9b0cc03"
      },
      "source": [
        "a = np.array([0.0, 10.0, 20.0, 30.0])\n",
        "b = np.array([1.0, 2.0, 3.0])\n",
        "\n",
        "print (a, a.shape)\n",
        "print (b, b.shape)"
      ],
      "execution_count": null,
      "outputs": [
        {
          "output_type": "stream",
          "text": [
            "[ 0. 10. 20. 30.] (4,)\n",
            "[1. 2. 3.] (3,)\n"
          ],
          "name": "stdout"
        }
      ]
    },
    {
      "cell_type": "code",
      "metadata": {
        "id": "Fo7q_k-_oJCg",
        "colab": {
          "base_uri": "https://localhost:8080/",
          "height": 68
        },
        "outputId": "ee51fafe-c319-4be1-917a-c7267cfd298b"
      },
      "source": [
        "print (a * b.reshape(3,1))"
      ],
      "execution_count": null,
      "outputs": [
        {
          "output_type": "stream",
          "text": [
            "[[ 0. 10. 20. 30.]\n",
            " [ 0. 20. 40. 60.]\n",
            " [ 0. 30. 60. 90.]]\n"
          ],
          "name": "stdout"
        }
      ]
    },
    {
      "cell_type": "code",
      "metadata": {
        "id": "RmRMlASjoNJw"
      },
      "source": [
        ""
      ],
      "execution_count": null,
      "outputs": []
    }
  ]
}