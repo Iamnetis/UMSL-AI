{
  "nbformat": 4,
  "nbformat_minor": 0,
  "metadata": {
    "colab": {
      "name": "My Data analysis using Pandas.ipynb",
      "provenance": [],
      "collapsed_sections": [],
      "authorship_tag": "ABX9TyNp1Gs77FeflFZD0vaflAZt",
      "include_colab_link": true
    },
    "kernelspec": {
      "name": "python3",
      "display_name": "Python 3"
    }
  },
  "cells": [
    {
      "cell_type": "markdown",
      "metadata": {
        "id": "view-in-github",
        "colab_type": "text"
      },
      "source": [
        "<a href=\"https://colab.research.google.com/github/Iamnetis/UMSL-AI/blob/main/My_Data_analysis_using_Pandas.ipynb\" target=\"_parent\"><img src=\"https://colab.research.google.com/assets/colab-badge.svg\" alt=\"Open In Colab\"/></a>"
      ]
    },
    {
      "cell_type": "code",
      "metadata": {
        "id": "lZz6fCuBlgzG",
        "colab": {
          "resources": {
            "http://localhost:8080/nbextensions/google.colab/files.js": {
              "data": "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",
              "ok": true,
              "headers": [
                [
                  "content-type",
                  "application/javascript"
                ]
              ],
              "status": 200,
              "status_text": ""
            }
          },
          "base_uri": "https://localhost:8080/",
          "height": 109
        },
        "outputId": "6fcecdbe-5760-461a-b27f-6fae62b4ccf0"
      },
      "source": [
        "from google.colab import files\n",
        "files.upload()"
      ],
      "execution_count": null,
      "outputs": [
        {
          "output_type": "display_data",
          "data": {
            "text/html": [
              "\n",
              "     <input type=\"file\" id=\"files-b2a5b869-2e8c-4cac-ad7a-5694e892d1b8\" name=\"files[]\" multiple disabled\n",
              "        style=\"border:none\" />\n",
              "     <output id=\"result-b2a5b869-2e8c-4cac-ad7a-5694e892d1b8\">\n",
              "      Upload widget is only available when the cell has been executed in the\n",
              "      current browser session. Please rerun this cell to enable.\n",
              "      </output>\n",
              "      <script src=\"/nbextensions/google.colab/files.js\"></script> "
            ],
            "text/plain": [
              "<IPython.core.display.HTML object>"
            ]
          },
          "metadata": {
            "tags": []
          }
        },
        {
          "output_type": "stream",
          "text": [
            "Saving heart_failure_clinical_records_dataset.csv to heart_failure_clinical_records_dataset.csv\n"
          ],
          "name": "stdout"
        },
        {
          "output_type": "execute_result",
          "data": {
            "text/plain": [
              "{'heart_failure_clinical_records_dataset.csv': b'age,anaemia,creatinine_phosphokinase,diabetes,ejection_fraction,high_blood_pressure,platelets,serum_creatinine,serum_sodium,sex,smoking,time,DEATH_EVENT\\n75,0,582,0,20,1,265000,1.9,130,1,0,4,1\\n55,0,7861,0,38,0,263358.03,1.1,136,1,0,6,1\\n65,0,146,0,20,0,162000,1.3,129,1,1,7,1\\n50,1,111,0,20,0,210000,1.9,137,1,0,7,1\\n65,1,160,1,20,0,327000,2.7,116,0,0,8,1\\n90,1,47,0,40,1,204000,2.1,132,1,1,8,1\\n75,1,246,0,15,0,127000,1.2,137,1,0,10,1\\n60,1,315,1,60,0,454000,1.1,131,1,1,10,1\\n65,0,157,0,65,0,263358.03,1.5,138,0,0,10,1\\n80,1,123,0,35,1,388000,9.4,133,1,1,10,1\\n75,1,81,0,38,1,368000,4,131,1,1,10,1\\n62,0,231,0,25,1,253000,0.9,140,1,1,10,1\\n45,1,981,0,30,0,136000,1.1,137,1,0,11,1\\n50,1,168,0,38,1,276000,1.1,137,1,0,11,1\\n49,1,80,0,30,1,427000,1,138,0,0,12,0\\n82,1,379,0,50,0,47000,1.3,136,1,0,13,1\\n87,1,149,0,38,0,262000,0.9,140,1,0,14,1\\n45,0,582,0,14,0,166000,0.8,127,1,0,14,1\\n70,1,125,0,25,1,237000,1,140,0,0,15,1\\n48,1,582,1,55,0,87000,1.9,121,0,0,15,1\\n65,1,52,0,25,1,276000,1.3,137,0,0,16,0\\n65,1,128,1,30,1,297000,1.6,136,0,0,20,1\\n68,1,220,0,35,1,289000,0.9,140,1,1,20,1\\n53,0,63,1,60,0,368000,0.8,135,1,0,22,0\\n75,0,582,1,30,1,263358.03,1.83,134,0,0,23,1\\n80,0,148,1,38,0,149000,1.9,144,1,1,23,1\\n95,1,112,0,40,1,196000,1,138,0,0,24,1\\n70,0,122,1,45,1,284000,1.3,136,1,1,26,1\\n58,1,60,0,38,0,153000,5.8,134,1,0,26,1\\n82,0,70,1,30,0,200000,1.2,132,1,1,26,1\\n94,0,582,1,38,1,263358.03,1.83,134,1,0,27,1\\n85,0,23,0,45,0,360000,3,132,1,0,28,1\\n50,1,249,1,35,1,319000,1,128,0,0,28,1\\n50,1,159,1,30,0,302000,1.2,138,0,0,29,0\\n65,0,94,1,50,1,188000,1,140,1,0,29,1\\n69,0,582,1,35,0,228000,3.5,134,1,0,30,1\\n90,1,60,1,50,0,226000,1,134,1,0,30,1\\n82,1,855,1,50,1,321000,1,145,0,0,30,1\\n60,0,2656,1,30,0,305000,2.3,137,1,0,30,0\\n60,0,235,1,38,0,329000,3,142,0,0,30,1\\n70,0,582,0,20,1,263358.03,1.83,134,1,1,31,1\\n50,0,124,1,30,1,153000,1.2,136,0,1,32,1\\n70,0,571,1,45,1,185000,1.2,139,1,1,33,1\\n72,0,127,1,50,1,218000,1,134,1,0,33,0\\n60,1,588,1,60,0,194000,1.1,142,0,0,33,1\\n50,0,582,1,38,0,310000,1.9,135,1,1,35,1\\n51,0,1380,0,25,1,271000,0.9,130,1,0,38,1\\n60,0,582,1,38,1,451000,0.6,138,1,1,40,1\\n80,1,553,0,20,1,140000,4.4,133,1,0,41,1\\n57,1,129,0,30,0,395000,1,140,0,0,42,1\\n68,1,577,0,25,1,166000,1,138,1,0,43,1\\n53,1,91,0,20,1,418000,1.4,139,0,0,43,1\\n60,0,3964,1,62,0,263358.03,6.8,146,0,0,43,1\\n70,1,69,1,50,1,351000,1,134,0,0,44,1\\n60,1,260,1,38,0,255000,2.2,132,0,1,45,1\\n95,1,371,0,30,0,461000,2,132,1,0,50,1\\n70,1,75,0,35,0,223000,2.7,138,1,1,54,0\\n60,1,607,0,40,0,216000,0.6,138,1,1,54,0\\n49,0,789,0,20,1,319000,1.1,136,1,1,55,1\\n72,0,364,1,20,1,254000,1.3,136,1,1,59,1\\n45,0,7702,1,25,1,390000,1,139,1,0,60,1\\n50,0,318,0,40,1,216000,2.3,131,0,0,60,1\\n55,0,109,0,35,0,254000,1.1,139,1,1,60,0\\n45,0,582,0,35,0,385000,1,145,1,0,61,1\\n45,0,582,0,80,0,263358.03,1.18,137,0,0,63,0\\n60,0,68,0,20,0,119000,2.9,127,1,1,64,1\\n42,1,250,1,15,0,213000,1.3,136,0,0,65,1\\n72,1,110,0,25,0,274000,1,140,1,1,65,1\\n70,0,161,0,25,0,244000,1.2,142,0,0,66,1\\n65,0,113,1,25,0,497000,1.83,135,1,0,67,1\\n41,0,148,0,40,0,374000,0.8,140,1,1,68,0\\n58,0,582,1,35,0,122000,0.9,139,1,1,71,0\\n85,0,5882,0,35,0,243000,1,132,1,1,72,1\\n65,0,224,1,50,0,149000,1.3,137,1,1,72,0\\n69,0,582,0,20,0,266000,1.2,134,1,1,73,1\\n60,1,47,0,20,0,204000,0.7,139,1,1,73,1\\n70,0,92,0,60,1,317000,0.8,140,0,1,74,0\\n42,0,102,1,40,0,237000,1.2,140,1,0,74,0\\n75,1,203,1,38,1,283000,0.6,131,1,1,74,0\\n55,0,336,0,45,1,324000,0.9,140,0,0,74,0\\n70,0,69,0,40,0,293000,1.7,136,0,0,75,0\\n67,0,582,0,50,0,263358.03,1.18,137,1,1,76,0\\n60,1,76,1,25,0,196000,2.5,132,0,0,77,1\\n79,1,55,0,50,1,172000,1.8,133,1,0,78,0\\n59,1,280,1,25,1,302000,1,141,0,0,78,1\\n51,0,78,0,50,0,406000,0.7,140,1,0,79,0\\n55,0,47,0,35,1,173000,1.1,137,1,0,79,0\\n65,1,68,1,60,1,304000,0.8,140,1,0,79,0\\n44,0,84,1,40,1,235000,0.7,139,1,0,79,0\\n57,1,115,0,25,1,181000,1.1,144,1,0,79,0\\n70,0,66,1,45,0,249000,0.8,136,1,1,80,0\\n60,0,897,1,45,0,297000,1,133,1,0,80,0\\n42,0,582,0,60,0,263358.03,1.18,137,0,0,82,0\\n60,1,154,0,25,0,210000,1.7,135,1,0,82,1\\n58,0,144,1,38,1,327000,0.7,142,0,0,83,0\\n58,1,133,0,60,1,219000,1,141,1,0,83,0\\n63,1,514,1,25,1,254000,1.3,134,1,0,83,0\\n70,1,59,0,60,0,255000,1.1,136,0,0,85,0\\n60,1,156,1,25,1,318000,1.2,137,0,0,85,0\\n63,1,61,1,40,0,221000,1.1,140,0,0,86,0\\n65,1,305,0,25,0,298000,1.1,141,1,0,87,0\\n75,0,582,0,45,1,263358.03,1.18,137,1,0,87,0\\n80,0,898,0,25,0,149000,1.1,144,1,1,87,0\\n42,0,5209,0,30,0,226000,1,140,1,1,87,0\\n60,0,53,0,50,1,286000,2.3,143,0,0,87,0\\n72,1,328,0,30,1,621000,1.7,138,0,1,88,1\\n55,0,748,0,45,0,263000,1.3,137,1,0,88,0\\n45,1,1876,1,35,0,226000,0.9,138,1,0,88,0\\n63,0,936,0,38,0,304000,1.1,133,1,1,88,0\\n45,0,292,1,35,0,850000,1.3,142,1,1,88,0\\n85,0,129,0,60,0,306000,1.2,132,1,1,90,1\\n55,0,60,0,35,0,228000,1.2,135,1,1,90,0\\n50,0,369,1,25,0,252000,1.6,136,1,0,90,0\\n70,1,143,0,60,0,351000,1.3,137,0,0,90,1\\n60,1,754,1,40,1,328000,1.2,126,1,0,91,0\\n58,1,400,0,40,0,164000,1,139,0,0,91,0\\n60,1,96,1,60,1,271000,0.7,136,0,0,94,0\\n85,1,102,0,60,0,507000,3.2,138,0,0,94,0\\n65,1,113,1,60,1,203000,0.9,140,0,0,94,0\\n86,0,582,0,38,0,263358.03,1.83,134,0,0,95,1\\n60,1,737,0,60,1,210000,1.5,135,1,1,95,0\\n66,1,68,1,38,1,162000,1,136,0,0,95,0\\n60,0,96,1,38,0,228000,0.75,140,0,0,95,0\\n60,1,582,0,30,1,127000,0.9,145,0,0,95,0\\n60,0,582,0,40,0,217000,3.7,134,1,0,96,1\\n43,1,358,0,50,0,237000,1.3,135,0,0,97,0\\n46,0,168,1,17,1,271000,2.1,124,0,0,100,1\\n58,1,200,1,60,0,300000,0.8,137,0,0,104,0\\n61,0,248,0,30,1,267000,0.7,136,1,1,104,0\\n53,1,270,1,35,0,227000,3.4,145,1,0,105,0\\n53,1,1808,0,60,1,249000,0.7,138,1,1,106,0\\n60,1,1082,1,45,0,250000,6.1,131,1,0,107,0\\n46,0,719,0,40,1,263358.03,1.18,137,0,0,107,0\\n63,0,193,0,60,1,295000,1.3,145,1,1,107,0\\n81,0,4540,0,35,0,231000,1.18,137,1,1,107,0\\n75,0,582,0,40,0,263358.03,1.18,137,1,0,107,0\\n65,1,59,1,60,0,172000,0.9,137,0,0,107,0\\n68,1,646,0,25,0,305000,2.1,130,1,0,108,0\\n62,0,281,1,35,0,221000,1,136,0,0,108,0\\n50,0,1548,0,30,1,211000,0.8,138,1,0,108,0\\n80,0,805,0,38,0,263358.03,1.1,134,1,0,109,1\\n46,1,291,0,35,0,348000,0.9,140,0,0,109,0\\n50,0,482,1,30,0,329000,0.9,132,0,0,109,0\\n61,1,84,0,40,1,229000,0.9,141,0,0,110,0\\n72,1,943,0,25,1,338000,1.7,139,1,1,111,1\\n50,0,185,0,30,0,266000,0.7,141,1,1,112,0\\n52,0,132,0,30,0,218000,0.7,136,1,1,112,0\\n64,0,1610,0,60,0,242000,1,137,1,0,113,0\\n75,1,582,0,30,0,225000,1.83,134,1,0,113,1\\n60,0,2261,0,35,1,228000,0.9,136,1,0,115,0\\n72,0,233,0,45,1,235000,2.5,135,0,0,115,1\\n62,0,30,1,60,1,244000,0.9,139,1,0,117,0\\n50,0,115,0,45,1,184000,0.9,134,1,1,118,0\\n50,0,1846,1,35,0,263358.03,1.18,137,1,1,119,0\\n65,1,335,0,35,1,235000,0.8,136,0,0,120,0\\n60,1,231,1,25,0,194000,1.7,140,1,0,120,0\\n52,1,58,0,35,0,277000,1.4,136,0,0,120,0\\n50,0,250,0,25,0,262000,1,136,1,1,120,0\\n85,1,910,0,50,0,235000,1.3,134,1,0,121,0\\n59,1,129,0,45,1,362000,1.1,139,1,1,121,0\\n66,1,72,0,40,1,242000,1.2,134,1,0,121,0\\n45,1,130,0,35,0,174000,0.8,139,1,1,121,0\\n63,1,582,0,40,0,448000,0.9,137,1,1,123,0\\n50,1,2334,1,35,0,75000,0.9,142,0,0,126,1\\n45,0,2442,1,30,0,334000,1.1,139,1,0,129,1\\n80,0,776,1,38,1,192000,1.3,135,0,0,130,1\\n53,0,196,0,60,0,220000,0.7,133,1,1,134,0\\n59,0,66,1,20,0,70000,2.4,134,1,0,135,1\\n65,0,582,1,40,0,270000,1,138,0,0,140,0\\n70,0,835,0,35,1,305000,0.8,133,0,0,145,0\\n51,1,582,1,35,0,263358.03,1.5,136,1,1,145,0\\n52,0,3966,0,40,0,325000,0.9,140,1,1,146,0\\n70,1,171,0,60,1,176000,1.1,145,1,1,146,0\\n50,1,115,0,20,0,189000,0.8,139,1,0,146,0\\n65,0,198,1,35,1,281000,0.9,137,1,1,146,0\\n60,1,95,0,60,0,337000,1,138,1,1,146,0\\n69,0,1419,0,40,0,105000,1,135,1,1,147,0\\n49,1,69,0,50,0,132000,1,140,0,0,147,0\\n63,1,122,1,60,0,267000,1.2,145,1,0,147,0\\n55,0,835,0,40,0,279000,0.7,140,1,1,147,0\\n40,0,478,1,30,0,303000,0.9,136,1,0,148,0\\n59,1,176,1,25,0,221000,1,136,1,1,150,1\\n65,0,395,1,25,0,265000,1.2,136,1,1,154,1\\n75,0,99,0,38,1,224000,2.5,134,1,0,162,1\\n58,1,145,0,25,0,219000,1.2,137,1,1,170,1\\n60.667,1,104,1,30,0,389000,1.5,136,1,0,171,1\\n50,0,582,0,50,0,153000,0.6,134,0,0,172,1\\n60,0,1896,1,25,0,365000,2.1,144,0,0,172,1\\n60.667,1,151,1,40,1,201000,1,136,0,0,172,0\\n40,0,244,0,45,1,275000,0.9,140,0,0,174,0\\n80,0,582,1,35,0,350000,2.1,134,1,0,174,0\\n64,1,62,0,60,0,309000,1.5,135,0,0,174,0\\n50,1,121,1,40,0,260000,0.7,130,1,0,175,0\\n73,1,231,1,30,0,160000,1.18,142,1,1,180,0\\n45,0,582,0,20,1,126000,1.6,135,1,0,180,1\\n77,1,418,0,45,0,223000,1.8,145,1,0,180,1\\n45,0,582,1,38,1,263358.03,1.18,137,0,0,185,0\\n65,0,167,0,30,0,259000,0.8,138,0,0,186,0\\n50,1,582,1,20,1,279000,1,134,0,0,186,0\\n60,0,1211,1,35,0,263358.03,1.8,113,1,1,186,0\\n63,1,1767,0,45,0,73000,0.7,137,1,0,186,0\\n45,0,308,1,60,1,377000,1,136,1,0,186,0\\n70,0,97,0,60,1,220000,0.9,138,1,0,186,0\\n60,0,59,0,25,1,212000,3.5,136,1,1,187,0\\n78,1,64,0,40,0,277000,0.7,137,1,1,187,0\\n50,1,167,1,45,0,362000,1,136,0,0,187,0\\n40,1,101,0,40,0,226000,0.8,141,0,0,187,0\\n85,0,212,0,38,0,186000,0.9,136,1,0,187,0\\n60,1,2281,1,40,0,283000,1,141,0,0,187,0\\n49,0,972,1,35,1,268000,0.8,130,0,0,187,0\\n70,0,212,1,17,1,389000,1,136,1,1,188,0\\n50,0,582,0,62,1,147000,0.8,140,1,1,192,0\\n78,0,224,0,50,0,481000,1.4,138,1,1,192,0\\n48,1,131,1,30,1,244000,1.6,130,0,0,193,1\\n65,1,135,0,35,1,290000,0.8,134,1,0,194,0\\n73,0,582,0,35,1,203000,1.3,134,1,0,195,0\\n70,0,1202,0,50,1,358000,0.9,141,0,0,196,0\\n54,1,427,0,70,1,151000,9,137,0,0,196,1\\n68,1,1021,1,35,0,271000,1.1,134,1,0,197,0\\n55,0,582,1,35,1,371000,0.7,140,0,0,197,0\\n73,0,582,0,20,0,263358.03,1.83,134,1,0,198,1\\n65,0,118,0,50,0,194000,1.1,145,1,1,200,0\\n42,1,86,0,35,0,365000,1.1,139,1,1,201,0\\n47,0,582,0,25,0,130000,0.8,134,1,0,201,0\\n58,0,582,1,25,0,504000,1,138,1,0,205,0\\n75,0,675,1,60,0,265000,1.4,125,0,0,205,0\\n58,1,57,0,25,0,189000,1.3,132,1,1,205,0\\n55,1,2794,0,35,1,141000,1,140,1,0,206,0\\n65,0,56,0,25,0,237000,5,130,0,0,207,0\\n72,0,211,0,25,0,274000,1.2,134,0,0,207,0\\n60,0,166,0,30,0,62000,1.7,127,0,0,207,1\\n70,0,93,0,35,0,185000,1.1,134,1,1,208,0\\n40,1,129,0,35,0,255000,0.9,137,1,0,209,0\\n53,1,707,0,38,0,330000,1.4,137,1,1,209,0\\n53,1,582,0,45,0,305000,1.1,137,1,1,209,0\\n77,1,109,0,50,1,406000,1.1,137,1,0,209,0\\n75,0,119,0,50,1,248000,1.1,148,1,0,209,0\\n70,0,232,0,30,0,173000,1.2,132,1,0,210,0\\n65,1,720,1,40,0,257000,1,136,0,0,210,0\\n55,1,180,0,45,0,263358.03,1.18,137,1,1,211,0\\n70,0,81,1,35,1,533000,1.3,139,0,0,212,0\\n65,0,582,1,30,0,249000,1.3,136,1,1,212,0\\n40,0,90,0,35,0,255000,1.1,136,1,1,212,0\\n73,1,1185,0,40,1,220000,0.9,141,0,0,213,0\\n54,0,582,1,38,0,264000,1.8,134,1,0,213,0\\n61,1,80,1,38,0,282000,1.4,137,1,0,213,0\\n55,0,2017,0,25,0,314000,1.1,138,1,0,214,1\\n64,0,143,0,25,0,246000,2.4,135,1,0,214,0\\n40,0,624,0,35,0,301000,1,142,1,1,214,0\\n53,0,207,1,40,0,223000,1.2,130,0,0,214,0\\n50,0,2522,0,30,1,404000,0.5,139,0,0,214,0\\n55,0,572,1,35,0,231000,0.8,143,0,0,215,0\\n50,0,245,0,45,1,274000,1,133,1,0,215,0\\n70,0,88,1,35,1,236000,1.2,132,0,0,215,0\\n53,1,446,0,60,1,263358.03,1,139,1,0,215,0\\n52,1,191,1,30,1,334000,1,142,1,1,216,0\\n65,0,326,0,38,0,294000,1.7,139,0,0,220,0\\n58,0,132,1,38,1,253000,1,139,1,0,230,0\\n45,1,66,1,25,0,233000,0.8,135,1,0,230,0\\n53,0,56,0,50,0,308000,0.7,135,1,1,231,0\\n55,0,66,0,40,0,203000,1,138,1,0,233,0\\n62,1,655,0,40,0,283000,0.7,133,0,0,233,0\\n65,1,258,1,25,0,198000,1.4,129,1,0,235,1\\n68,1,157,1,60,0,208000,1,140,0,0,237,0\\n61,0,582,1,38,0,147000,1.2,141,1,0,237,0\\n50,1,298,0,35,0,362000,0.9,140,1,1,240,0\\n55,0,1199,0,20,0,263358.03,1.83,134,1,1,241,1\\n56,1,135,1,38,0,133000,1.7,140,1,0,244,0\\n45,0,582,1,38,0,302000,0.9,140,0,0,244,0\\n40,0,582,1,35,0,222000,1,132,1,0,244,0\\n44,0,582,1,30,1,263358.03,1.6,130,1,1,244,0\\n51,0,582,1,40,0,221000,0.9,134,0,0,244,0\\n67,0,213,0,38,0,215000,1.2,133,0,0,245,0\\n42,0,64,0,40,0,189000,0.7,140,1,0,245,0\\n60,1,257,1,30,0,150000,1,137,1,1,245,0\\n45,0,582,0,38,1,422000,0.8,137,0,0,245,0\\n70,0,618,0,35,0,327000,1.1,142,0,0,245,0\\n70,0,582,1,38,0,25100,1.1,140,1,0,246,0\\n50,1,1051,1,30,0,232000,0.7,136,0,0,246,0\\n55,0,84,1,38,0,451000,1.3,136,0,0,246,0\\n70,0,2695,1,40,0,241000,1,137,1,0,247,0\\n70,0,582,0,40,0,51000,2.7,136,1,1,250,0\\n42,0,64,0,30,0,215000,3.8,128,1,1,250,0\\n65,0,1688,0,38,0,263358.03,1.1,138,1,1,250,0\\n50,1,54,0,40,0,279000,0.8,141,1,0,250,0\\n55,1,170,1,40,0,336000,1.2,135,1,0,250,0\\n60,0,253,0,35,0,279000,1.7,140,1,0,250,0\\n45,0,582,1,55,0,543000,1,132,0,0,250,0\\n65,0,892,1,35,0,263358.03,1.1,142,0,0,256,0\\n90,1,337,0,38,0,390000,0.9,144,0,0,256,0\\n45,0,615,1,55,0,222000,0.8,141,0,0,257,0\\n60,0,320,0,35,0,133000,1.4,139,1,0,258,0\\n52,0,190,1,38,0,382000,1,140,1,1,258,0\\n63,1,103,1,35,0,179000,0.9,136,1,1,270,0\\n62,0,61,1,38,1,155000,1.1,143,1,1,270,0\\n55,0,1820,0,38,0,270000,1.2,139,0,0,271,0\\n45,0,2060,1,60,0,742000,0.8,138,0,0,278,0\\n45,0,2413,0,38,0,140000,1.4,140,1,1,280,0\\n50,0,196,0,45,0,395000,1.6,136,1,1,285,0\\n'}"
            ]
          },
          "metadata": {
            "tags": []
          },
          "execution_count": 1
        }
      ]
    },
    {
      "cell_type": "code",
      "metadata": {
        "id": "TBBs0RYnlrXo"
      },
      "source": [
        "import pandas as pd\n"
      ],
      "execution_count": null,
      "outputs": []
    },
    {
      "cell_type": "code",
      "metadata": {
        "id": "sP7ZheTXl1fq"
      },
      "source": [
        "data = pd.read_csv('heart_failure_clinical_records_dataset.csv', delimiter=',')"
      ],
      "execution_count": null,
      "outputs": []
    },
    {
      "cell_type": "code",
      "metadata": {
        "id": "G_lL8harl-iq",
        "colab": {
          "base_uri": "https://localhost:8080/",
          "height": 34
        },
        "outputId": "7a9e8d2a-241f-4089-8f01-02cb9693f2cd"
      },
      "source": [
        "\n",
        "\n",
        "print(data.shape)"
      ],
      "execution_count": null,
      "outputs": [
        {
          "output_type": "stream",
          "text": [
            "(299, 13)\n"
          ],
          "name": "stdout"
        }
      ]
    },
    {
      "cell_type": "code",
      "metadata": {
        "id": "LggQulS2mF0Z",
        "colab": {
          "base_uri": "https://localhost:8080/",
          "height": 102
        },
        "outputId": "6274cc89-8d8b-49c8-8d27-159c81c09ad7"
      },
      "source": [
        "print(data.columns)"
      ],
      "execution_count": null,
      "outputs": [
        {
          "output_type": "stream",
          "text": [
            "Index(['age', 'anaemia', 'creatinine_phosphokinase', 'diabetes',\n",
            "       'ejection_fraction', 'high_blood_pressure', 'platelets',\n",
            "       'serum_creatinine', 'serum_sodium', 'sex', 'smoking', 'time',\n",
            "       'DEATH_EVENT'],\n",
            "      dtype='object')\n"
          ],
          "name": "stdout"
        }
      ]
    },
    {
      "cell_type": "code",
      "metadata": {
        "id": "06MJlgjmmInh",
        "colab": {
          "base_uri": "https://localhost:8080/",
          "height": 374
        },
        "outputId": "9c46b339-d4c3-48b4-ae00-0eaae83ee404"
      },
      "source": [
        "print(data.info())"
      ],
      "execution_count": null,
      "outputs": [
        {
          "output_type": "stream",
          "text": [
            "<class 'pandas.core.frame.DataFrame'>\n",
            "RangeIndex: 299 entries, 0 to 298\n",
            "Data columns (total 13 columns):\n",
            " #   Column                    Non-Null Count  Dtype  \n",
            "---  ------                    --------------  -----  \n",
            " 0   age                       299 non-null    float64\n",
            " 1   anaemia                   299 non-null    int64  \n",
            " 2   creatinine_phosphokinase  299 non-null    int64  \n",
            " 3   diabetes                  299 non-null    int64  \n",
            " 4   ejection_fraction         299 non-null    int64  \n",
            " 5   high_blood_pressure       299 non-null    int64  \n",
            " 6   platelets                 299 non-null    float64\n",
            " 7   serum_creatinine          299 non-null    float64\n",
            " 8   serum_sodium              299 non-null    int64  \n",
            " 9   sex                       299 non-null    int64  \n",
            " 10  smoking                   299 non-null    int64  \n",
            " 11  time                      299 non-null    int64  \n",
            " 12  DEATH_EVENT               299 non-null    int64  \n",
            "dtypes: float64(3), int64(10)\n",
            "memory usage: 30.5 KB\n",
            "None\n"
          ],
          "name": "stdout"
        }
      ]
    },
    {
      "cell_type": "code",
      "metadata": {
        "id": "wdzfe5mfmQPK",
        "colab": {
          "base_uri": "https://localhost:8080/",
          "height": 204
        },
        "outputId": "e6420b04-4946-4423-ce89-863004cc80db"
      },
      "source": [
        "data.head()"
      ],
      "execution_count": null,
      "outputs": [
        {
          "output_type": "execute_result",
          "data": {
            "text/html": [
              "<div>\n",
              "<style scoped>\n",
              "    .dataframe tbody tr th:only-of-type {\n",
              "        vertical-align: middle;\n",
              "    }\n",
              "\n",
              "    .dataframe tbody tr th {\n",
              "        vertical-align: top;\n",
              "    }\n",
              "\n",
              "    .dataframe thead th {\n",
              "        text-align: right;\n",
              "    }\n",
              "</style>\n",
              "<table border=\"1\" class=\"dataframe\">\n",
              "  <thead>\n",
              "    <tr style=\"text-align: right;\">\n",
              "      <th></th>\n",
              "      <th>age</th>\n",
              "      <th>anaemia</th>\n",
              "      <th>creatinine_phosphokinase</th>\n",
              "      <th>diabetes</th>\n",
              "      <th>ejection_fraction</th>\n",
              "      <th>high_blood_pressure</th>\n",
              "      <th>platelets</th>\n",
              "      <th>serum_creatinine</th>\n",
              "      <th>serum_sodium</th>\n",
              "      <th>sex</th>\n",
              "      <th>smoking</th>\n",
              "      <th>time</th>\n",
              "      <th>DEATH_EVENT</th>\n",
              "    </tr>\n",
              "  </thead>\n",
              "  <tbody>\n",
              "    <tr>\n",
              "      <th>0</th>\n",
              "      <td>75.0</td>\n",
              "      <td>0</td>\n",
              "      <td>582</td>\n",
              "      <td>0</td>\n",
              "      <td>20</td>\n",
              "      <td>1</td>\n",
              "      <td>265000.00</td>\n",
              "      <td>1.9</td>\n",
              "      <td>130</td>\n",
              "      <td>1</td>\n",
              "      <td>0</td>\n",
              "      <td>4</td>\n",
              "      <td>1</td>\n",
              "    </tr>\n",
              "    <tr>\n",
              "      <th>1</th>\n",
              "      <td>55.0</td>\n",
              "      <td>0</td>\n",
              "      <td>7861</td>\n",
              "      <td>0</td>\n",
              "      <td>38</td>\n",
              "      <td>0</td>\n",
              "      <td>263358.03</td>\n",
              "      <td>1.1</td>\n",
              "      <td>136</td>\n",
              "      <td>1</td>\n",
              "      <td>0</td>\n",
              "      <td>6</td>\n",
              "      <td>1</td>\n",
              "    </tr>\n",
              "    <tr>\n",
              "      <th>2</th>\n",
              "      <td>65.0</td>\n",
              "      <td>0</td>\n",
              "      <td>146</td>\n",
              "      <td>0</td>\n",
              "      <td>20</td>\n",
              "      <td>0</td>\n",
              "      <td>162000.00</td>\n",
              "      <td>1.3</td>\n",
              "      <td>129</td>\n",
              "      <td>1</td>\n",
              "      <td>1</td>\n",
              "      <td>7</td>\n",
              "      <td>1</td>\n",
              "    </tr>\n",
              "    <tr>\n",
              "      <th>3</th>\n",
              "      <td>50.0</td>\n",
              "      <td>1</td>\n",
              "      <td>111</td>\n",
              "      <td>0</td>\n",
              "      <td>20</td>\n",
              "      <td>0</td>\n",
              "      <td>210000.00</td>\n",
              "      <td>1.9</td>\n",
              "      <td>137</td>\n",
              "      <td>1</td>\n",
              "      <td>0</td>\n",
              "      <td>7</td>\n",
              "      <td>1</td>\n",
              "    </tr>\n",
              "    <tr>\n",
              "      <th>4</th>\n",
              "      <td>65.0</td>\n",
              "      <td>1</td>\n",
              "      <td>160</td>\n",
              "      <td>1</td>\n",
              "      <td>20</td>\n",
              "      <td>0</td>\n",
              "      <td>327000.00</td>\n",
              "      <td>2.7</td>\n",
              "      <td>116</td>\n",
              "      <td>0</td>\n",
              "      <td>0</td>\n",
              "      <td>8</td>\n",
              "      <td>1</td>\n",
              "    </tr>\n",
              "  </tbody>\n",
              "</table>\n",
              "</div>"
            ],
            "text/plain": [
              "    age  anaemia  creatinine_phosphokinase  ...  smoking  time  DEATH_EVENT\n",
              "0  75.0        0                       582  ...        0     4            1\n",
              "1  55.0        0                      7861  ...        0     6            1\n",
              "2  65.0        0                       146  ...        1     7            1\n",
              "3  50.0        1                       111  ...        0     7            1\n",
              "4  65.0        1                       160  ...        0     8            1\n",
              "\n",
              "[5 rows x 13 columns]"
            ]
          },
          "metadata": {
            "tags": []
          },
          "execution_count": 7
        }
      ]
    },
    {
      "cell_type": "code",
      "metadata": {
        "id": "6VwQhbATmW-h"
      },
      "source": [
        "data.isnull().values.any()\n",
        "data= data.dropna()"
      ],
      "execution_count": null,
      "outputs": []
    },
    {
      "cell_type": "code",
      "metadata": {
        "id": "cdx9UXHLmeaJ",
        "colab": {
          "base_uri": "https://localhost:8080/",
          "height": 297
        },
        "outputId": "4dd69bdd-ae8f-4b60-8f53-c432203ac490"
      },
      "source": [
        "data.describe()"
      ],
      "execution_count": null,
      "outputs": [
        {
          "output_type": "execute_result",
          "data": {
            "text/html": [
              "<div>\n",
              "<style scoped>\n",
              "    .dataframe tbody tr th:only-of-type {\n",
              "        vertical-align: middle;\n",
              "    }\n",
              "\n",
              "    .dataframe tbody tr th {\n",
              "        vertical-align: top;\n",
              "    }\n",
              "\n",
              "    .dataframe thead th {\n",
              "        text-align: right;\n",
              "    }\n",
              "</style>\n",
              "<table border=\"1\" class=\"dataframe\">\n",
              "  <thead>\n",
              "    <tr style=\"text-align: right;\">\n",
              "      <th></th>\n",
              "      <th>age</th>\n",
              "      <th>anaemia</th>\n",
              "      <th>creatinine_phosphokinase</th>\n",
              "      <th>diabetes</th>\n",
              "      <th>ejection_fraction</th>\n",
              "      <th>high_blood_pressure</th>\n",
              "      <th>platelets</th>\n",
              "      <th>serum_creatinine</th>\n",
              "      <th>serum_sodium</th>\n",
              "      <th>sex</th>\n",
              "      <th>smoking</th>\n",
              "      <th>time</th>\n",
              "      <th>DEATH_EVENT</th>\n",
              "    </tr>\n",
              "  </thead>\n",
              "  <tbody>\n",
              "    <tr>\n",
              "      <th>count</th>\n",
              "      <td>299.000000</td>\n",
              "      <td>299.000000</td>\n",
              "      <td>299.000000</td>\n",
              "      <td>299.000000</td>\n",
              "      <td>299.000000</td>\n",
              "      <td>299.000000</td>\n",
              "      <td>299.000000</td>\n",
              "      <td>299.00000</td>\n",
              "      <td>299.000000</td>\n",
              "      <td>299.000000</td>\n",
              "      <td>299.00000</td>\n",
              "      <td>299.000000</td>\n",
              "      <td>299.00000</td>\n",
              "    </tr>\n",
              "    <tr>\n",
              "      <th>mean</th>\n",
              "      <td>60.833893</td>\n",
              "      <td>0.431438</td>\n",
              "      <td>581.839465</td>\n",
              "      <td>0.418060</td>\n",
              "      <td>38.083612</td>\n",
              "      <td>0.351171</td>\n",
              "      <td>263358.029264</td>\n",
              "      <td>1.39388</td>\n",
              "      <td>136.625418</td>\n",
              "      <td>0.648829</td>\n",
              "      <td>0.32107</td>\n",
              "      <td>130.260870</td>\n",
              "      <td>0.32107</td>\n",
              "    </tr>\n",
              "    <tr>\n",
              "      <th>std</th>\n",
              "      <td>11.894809</td>\n",
              "      <td>0.496107</td>\n",
              "      <td>970.287881</td>\n",
              "      <td>0.494067</td>\n",
              "      <td>11.834841</td>\n",
              "      <td>0.478136</td>\n",
              "      <td>97804.236869</td>\n",
              "      <td>1.03451</td>\n",
              "      <td>4.412477</td>\n",
              "      <td>0.478136</td>\n",
              "      <td>0.46767</td>\n",
              "      <td>77.614208</td>\n",
              "      <td>0.46767</td>\n",
              "    </tr>\n",
              "    <tr>\n",
              "      <th>min</th>\n",
              "      <td>40.000000</td>\n",
              "      <td>0.000000</td>\n",
              "      <td>23.000000</td>\n",
              "      <td>0.000000</td>\n",
              "      <td>14.000000</td>\n",
              "      <td>0.000000</td>\n",
              "      <td>25100.000000</td>\n",
              "      <td>0.50000</td>\n",
              "      <td>113.000000</td>\n",
              "      <td>0.000000</td>\n",
              "      <td>0.00000</td>\n",
              "      <td>4.000000</td>\n",
              "      <td>0.00000</td>\n",
              "    </tr>\n",
              "    <tr>\n",
              "      <th>25%</th>\n",
              "      <td>51.000000</td>\n",
              "      <td>0.000000</td>\n",
              "      <td>116.500000</td>\n",
              "      <td>0.000000</td>\n",
              "      <td>30.000000</td>\n",
              "      <td>0.000000</td>\n",
              "      <td>212500.000000</td>\n",
              "      <td>0.90000</td>\n",
              "      <td>134.000000</td>\n",
              "      <td>0.000000</td>\n",
              "      <td>0.00000</td>\n",
              "      <td>73.000000</td>\n",
              "      <td>0.00000</td>\n",
              "    </tr>\n",
              "    <tr>\n",
              "      <th>50%</th>\n",
              "      <td>60.000000</td>\n",
              "      <td>0.000000</td>\n",
              "      <td>250.000000</td>\n",
              "      <td>0.000000</td>\n",
              "      <td>38.000000</td>\n",
              "      <td>0.000000</td>\n",
              "      <td>262000.000000</td>\n",
              "      <td>1.10000</td>\n",
              "      <td>137.000000</td>\n",
              "      <td>1.000000</td>\n",
              "      <td>0.00000</td>\n",
              "      <td>115.000000</td>\n",
              "      <td>0.00000</td>\n",
              "    </tr>\n",
              "    <tr>\n",
              "      <th>75%</th>\n",
              "      <td>70.000000</td>\n",
              "      <td>1.000000</td>\n",
              "      <td>582.000000</td>\n",
              "      <td>1.000000</td>\n",
              "      <td>45.000000</td>\n",
              "      <td>1.000000</td>\n",
              "      <td>303500.000000</td>\n",
              "      <td>1.40000</td>\n",
              "      <td>140.000000</td>\n",
              "      <td>1.000000</td>\n",
              "      <td>1.00000</td>\n",
              "      <td>203.000000</td>\n",
              "      <td>1.00000</td>\n",
              "    </tr>\n",
              "    <tr>\n",
              "      <th>max</th>\n",
              "      <td>95.000000</td>\n",
              "      <td>1.000000</td>\n",
              "      <td>7861.000000</td>\n",
              "      <td>1.000000</td>\n",
              "      <td>80.000000</td>\n",
              "      <td>1.000000</td>\n",
              "      <td>850000.000000</td>\n",
              "      <td>9.40000</td>\n",
              "      <td>148.000000</td>\n",
              "      <td>1.000000</td>\n",
              "      <td>1.00000</td>\n",
              "      <td>285.000000</td>\n",
              "      <td>1.00000</td>\n",
              "    </tr>\n",
              "  </tbody>\n",
              "</table>\n",
              "</div>"
            ],
            "text/plain": [
              "              age     anaemia  ...        time  DEATH_EVENT\n",
              "count  299.000000  299.000000  ...  299.000000    299.00000\n",
              "mean    60.833893    0.431438  ...  130.260870      0.32107\n",
              "std     11.894809    0.496107  ...   77.614208      0.46767\n",
              "min     40.000000    0.000000  ...    4.000000      0.00000\n",
              "25%     51.000000    0.000000  ...   73.000000      0.00000\n",
              "50%     60.000000    0.000000  ...  115.000000      0.00000\n",
              "75%     70.000000    1.000000  ...  203.000000      1.00000\n",
              "max     95.000000    1.000000  ...  285.000000      1.00000\n",
              "\n",
              "[8 rows x 13 columns]"
            ]
          },
          "metadata": {
            "tags": []
          },
          "execution_count": 9
        }
      ]
    },
    {
      "cell_type": "code",
      "metadata": {
        "id": "54PR2Obkmjy7",
        "colab": {
          "base_uri": "https://localhost:8080/",
          "height": 452
        },
        "outputId": "353c75b1-ec28-4d84-a52e-4176156871a6"
      },
      "source": [
        "data.describe().T"
      ],
      "execution_count": null,
      "outputs": [
        {
          "output_type": "execute_result",
          "data": {
            "text/html": [
              "<div>\n",
              "<style scoped>\n",
              "    .dataframe tbody tr th:only-of-type {\n",
              "        vertical-align: middle;\n",
              "    }\n",
              "\n",
              "    .dataframe tbody tr th {\n",
              "        vertical-align: top;\n",
              "    }\n",
              "\n",
              "    .dataframe thead th {\n",
              "        text-align: right;\n",
              "    }\n",
              "</style>\n",
              "<table border=\"1\" class=\"dataframe\">\n",
              "  <thead>\n",
              "    <tr style=\"text-align: right;\">\n",
              "      <th></th>\n",
              "      <th>count</th>\n",
              "      <th>mean</th>\n",
              "      <th>std</th>\n",
              "      <th>min</th>\n",
              "      <th>25%</th>\n",
              "      <th>50%</th>\n",
              "      <th>75%</th>\n",
              "      <th>max</th>\n",
              "    </tr>\n",
              "  </thead>\n",
              "  <tbody>\n",
              "    <tr>\n",
              "      <th>age</th>\n",
              "      <td>299.0</td>\n",
              "      <td>60.833893</td>\n",
              "      <td>11.894809</td>\n",
              "      <td>40.0</td>\n",
              "      <td>51.0</td>\n",
              "      <td>60.0</td>\n",
              "      <td>70.0</td>\n",
              "      <td>95.0</td>\n",
              "    </tr>\n",
              "    <tr>\n",
              "      <th>anaemia</th>\n",
              "      <td>299.0</td>\n",
              "      <td>0.431438</td>\n",
              "      <td>0.496107</td>\n",
              "      <td>0.0</td>\n",
              "      <td>0.0</td>\n",
              "      <td>0.0</td>\n",
              "      <td>1.0</td>\n",
              "      <td>1.0</td>\n",
              "    </tr>\n",
              "    <tr>\n",
              "      <th>creatinine_phosphokinase</th>\n",
              "      <td>299.0</td>\n",
              "      <td>581.839465</td>\n",
              "      <td>970.287881</td>\n",
              "      <td>23.0</td>\n",
              "      <td>116.5</td>\n",
              "      <td>250.0</td>\n",
              "      <td>582.0</td>\n",
              "      <td>7861.0</td>\n",
              "    </tr>\n",
              "    <tr>\n",
              "      <th>diabetes</th>\n",
              "      <td>299.0</td>\n",
              "      <td>0.418060</td>\n",
              "      <td>0.494067</td>\n",
              "      <td>0.0</td>\n",
              "      <td>0.0</td>\n",
              "      <td>0.0</td>\n",
              "      <td>1.0</td>\n",
              "      <td>1.0</td>\n",
              "    </tr>\n",
              "    <tr>\n",
              "      <th>ejection_fraction</th>\n",
              "      <td>299.0</td>\n",
              "      <td>38.083612</td>\n",
              "      <td>11.834841</td>\n",
              "      <td>14.0</td>\n",
              "      <td>30.0</td>\n",
              "      <td>38.0</td>\n",
              "      <td>45.0</td>\n",
              "      <td>80.0</td>\n",
              "    </tr>\n",
              "    <tr>\n",
              "      <th>high_blood_pressure</th>\n",
              "      <td>299.0</td>\n",
              "      <td>0.351171</td>\n",
              "      <td>0.478136</td>\n",
              "      <td>0.0</td>\n",
              "      <td>0.0</td>\n",
              "      <td>0.0</td>\n",
              "      <td>1.0</td>\n",
              "      <td>1.0</td>\n",
              "    </tr>\n",
              "    <tr>\n",
              "      <th>platelets</th>\n",
              "      <td>299.0</td>\n",
              "      <td>263358.029264</td>\n",
              "      <td>97804.236869</td>\n",
              "      <td>25100.0</td>\n",
              "      <td>212500.0</td>\n",
              "      <td>262000.0</td>\n",
              "      <td>303500.0</td>\n",
              "      <td>850000.0</td>\n",
              "    </tr>\n",
              "    <tr>\n",
              "      <th>serum_creatinine</th>\n",
              "      <td>299.0</td>\n",
              "      <td>1.393880</td>\n",
              "      <td>1.034510</td>\n",
              "      <td>0.5</td>\n",
              "      <td>0.9</td>\n",
              "      <td>1.1</td>\n",
              "      <td>1.4</td>\n",
              "      <td>9.4</td>\n",
              "    </tr>\n",
              "    <tr>\n",
              "      <th>serum_sodium</th>\n",
              "      <td>299.0</td>\n",
              "      <td>136.625418</td>\n",
              "      <td>4.412477</td>\n",
              "      <td>113.0</td>\n",
              "      <td>134.0</td>\n",
              "      <td>137.0</td>\n",
              "      <td>140.0</td>\n",
              "      <td>148.0</td>\n",
              "    </tr>\n",
              "    <tr>\n",
              "      <th>sex</th>\n",
              "      <td>299.0</td>\n",
              "      <td>0.648829</td>\n",
              "      <td>0.478136</td>\n",
              "      <td>0.0</td>\n",
              "      <td>0.0</td>\n",
              "      <td>1.0</td>\n",
              "      <td>1.0</td>\n",
              "      <td>1.0</td>\n",
              "    </tr>\n",
              "    <tr>\n",
              "      <th>smoking</th>\n",
              "      <td>299.0</td>\n",
              "      <td>0.321070</td>\n",
              "      <td>0.467670</td>\n",
              "      <td>0.0</td>\n",
              "      <td>0.0</td>\n",
              "      <td>0.0</td>\n",
              "      <td>1.0</td>\n",
              "      <td>1.0</td>\n",
              "    </tr>\n",
              "    <tr>\n",
              "      <th>time</th>\n",
              "      <td>299.0</td>\n",
              "      <td>130.260870</td>\n",
              "      <td>77.614208</td>\n",
              "      <td>4.0</td>\n",
              "      <td>73.0</td>\n",
              "      <td>115.0</td>\n",
              "      <td>203.0</td>\n",
              "      <td>285.0</td>\n",
              "    </tr>\n",
              "    <tr>\n",
              "      <th>DEATH_EVENT</th>\n",
              "      <td>299.0</td>\n",
              "      <td>0.321070</td>\n",
              "      <td>0.467670</td>\n",
              "      <td>0.0</td>\n",
              "      <td>0.0</td>\n",
              "      <td>0.0</td>\n",
              "      <td>1.0</td>\n",
              "      <td>1.0</td>\n",
              "    </tr>\n",
              "  </tbody>\n",
              "</table>\n",
              "</div>"
            ],
            "text/plain": [
              "                          count           mean  ...       75%       max\n",
              "age                       299.0      60.833893  ...      70.0      95.0\n",
              "anaemia                   299.0       0.431438  ...       1.0       1.0\n",
              "creatinine_phosphokinase  299.0     581.839465  ...     582.0    7861.0\n",
              "diabetes                  299.0       0.418060  ...       1.0       1.0\n",
              "ejection_fraction         299.0      38.083612  ...      45.0      80.0\n",
              "high_blood_pressure       299.0       0.351171  ...       1.0       1.0\n",
              "platelets                 299.0  263358.029264  ...  303500.0  850000.0\n",
              "serum_creatinine          299.0       1.393880  ...       1.4       9.4\n",
              "serum_sodium              299.0     136.625418  ...     140.0     148.0\n",
              "sex                       299.0       0.648829  ...       1.0       1.0\n",
              "smoking                   299.0       0.321070  ...       1.0       1.0\n",
              "time                      299.0     130.260870  ...     203.0     285.0\n",
              "DEATH_EVENT               299.0       0.321070  ...       1.0       1.0\n",
              "\n",
              "[13 rows x 8 columns]"
            ]
          },
          "metadata": {
            "tags": []
          },
          "execution_count": 10
        }
      ]
    },
    {
      "cell_type": "code",
      "metadata": {
        "id": "mpIUlE4-mm0q",
        "colab": {
          "base_uri": "https://localhost:8080/",
          "height": 833
        },
        "outputId": "e7cee966-9a3f-478e-ff6c-2fa29a63ffd1"
      },
      "source": [
        "data['age'].value_counts()"
      ],
      "execution_count": null,
      "outputs": [
        {
          "output_type": "execute_result",
          "data": {
            "text/plain": [
              "60.000    33\n",
              "50.000    27\n",
              "65.000    26\n",
              "70.000    25\n",
              "45.000    19\n",
              "55.000    17\n",
              "75.000    11\n",
              "58.000    10\n",
              "53.000    10\n",
              "63.000     8\n",
              "80.000     7\n",
              "72.000     7\n",
              "42.000     7\n",
              "40.000     7\n",
              "85.000     6\n",
              "62.000     5\n",
              "68.000     5\n",
              "52.000     5\n",
              "49.000     4\n",
              "61.000     4\n",
              "51.000     4\n",
              "73.000     4\n",
              "59.000     4\n",
              "46.000     3\n",
              "64.000     3\n",
              "82.000     3\n",
              "90.000     3\n",
              "69.000     3\n",
              "95.000     2\n",
              "48.000     2\n",
              "60.667     2\n",
              "67.000     2\n",
              "44.000     2\n",
              "66.000     2\n",
              "77.000     2\n",
              "78.000     2\n",
              "54.000     2\n",
              "57.000     2\n",
              "94.000     1\n",
              "56.000     1\n",
              "41.000     1\n",
              "87.000     1\n",
              "79.000     1\n",
              "86.000     1\n",
              "43.000     1\n",
              "81.000     1\n",
              "47.000     1\n",
              "Name: age, dtype: int64"
            ]
          },
          "metadata": {
            "tags": []
          },
          "execution_count": 11
        }
      ]
    },
    {
      "cell_type": "code",
      "metadata": {
        "id": "2ABW-yWEmudh",
        "colab": {
          "base_uri": "https://localhost:8080/",
          "height": 204
        },
        "outputId": "faeb32e0-b60e-4cb7-d96e-e76c866acaef"
      },
      "source": [
        "data.sort_values(by='age', ascending=False).head()"
      ],
      "execution_count": null,
      "outputs": [
        {
          "output_type": "execute_result",
          "data": {
            "text/html": [
              "<div>\n",
              "<style scoped>\n",
              "    .dataframe tbody tr th:only-of-type {\n",
              "        vertical-align: middle;\n",
              "    }\n",
              "\n",
              "    .dataframe tbody tr th {\n",
              "        vertical-align: top;\n",
              "    }\n",
              "\n",
              "    .dataframe thead th {\n",
              "        text-align: right;\n",
              "    }\n",
              "</style>\n",
              "<table border=\"1\" class=\"dataframe\">\n",
              "  <thead>\n",
              "    <tr style=\"text-align: right;\">\n",
              "      <th></th>\n",
              "      <th>age</th>\n",
              "      <th>anaemia</th>\n",
              "      <th>creatinine_phosphokinase</th>\n",
              "      <th>diabetes</th>\n",
              "      <th>ejection_fraction</th>\n",
              "      <th>high_blood_pressure</th>\n",
              "      <th>platelets</th>\n",
              "      <th>serum_creatinine</th>\n",
              "      <th>serum_sodium</th>\n",
              "      <th>sex</th>\n",
              "      <th>smoking</th>\n",
              "      <th>time</th>\n",
              "      <th>DEATH_EVENT</th>\n",
              "    </tr>\n",
              "  </thead>\n",
              "  <tbody>\n",
              "    <tr>\n",
              "      <th>26</th>\n",
              "      <td>95.0</td>\n",
              "      <td>1</td>\n",
              "      <td>112</td>\n",
              "      <td>0</td>\n",
              "      <td>40</td>\n",
              "      <td>1</td>\n",
              "      <td>196000.00</td>\n",
              "      <td>1.00</td>\n",
              "      <td>138</td>\n",
              "      <td>0</td>\n",
              "      <td>0</td>\n",
              "      <td>24</td>\n",
              "      <td>1</td>\n",
              "    </tr>\n",
              "    <tr>\n",
              "      <th>55</th>\n",
              "      <td>95.0</td>\n",
              "      <td>1</td>\n",
              "      <td>371</td>\n",
              "      <td>0</td>\n",
              "      <td>30</td>\n",
              "      <td>0</td>\n",
              "      <td>461000.00</td>\n",
              "      <td>2.00</td>\n",
              "      <td>132</td>\n",
              "      <td>1</td>\n",
              "      <td>0</td>\n",
              "      <td>50</td>\n",
              "      <td>1</td>\n",
              "    </tr>\n",
              "    <tr>\n",
              "      <th>30</th>\n",
              "      <td>94.0</td>\n",
              "      <td>0</td>\n",
              "      <td>582</td>\n",
              "      <td>1</td>\n",
              "      <td>38</td>\n",
              "      <td>1</td>\n",
              "      <td>263358.03</td>\n",
              "      <td>1.83</td>\n",
              "      <td>134</td>\n",
              "      <td>1</td>\n",
              "      <td>0</td>\n",
              "      <td>27</td>\n",
              "      <td>1</td>\n",
              "    </tr>\n",
              "    <tr>\n",
              "      <th>36</th>\n",
              "      <td>90.0</td>\n",
              "      <td>1</td>\n",
              "      <td>60</td>\n",
              "      <td>1</td>\n",
              "      <td>50</td>\n",
              "      <td>0</td>\n",
              "      <td>226000.00</td>\n",
              "      <td>1.00</td>\n",
              "      <td>134</td>\n",
              "      <td>1</td>\n",
              "      <td>0</td>\n",
              "      <td>30</td>\n",
              "      <td>1</td>\n",
              "    </tr>\n",
              "    <tr>\n",
              "      <th>5</th>\n",
              "      <td>90.0</td>\n",
              "      <td>1</td>\n",
              "      <td>47</td>\n",
              "      <td>0</td>\n",
              "      <td>40</td>\n",
              "      <td>1</td>\n",
              "      <td>204000.00</td>\n",
              "      <td>2.10</td>\n",
              "      <td>132</td>\n",
              "      <td>1</td>\n",
              "      <td>1</td>\n",
              "      <td>8</td>\n",
              "      <td>1</td>\n",
              "    </tr>\n",
              "  </tbody>\n",
              "</table>\n",
              "</div>"
            ],
            "text/plain": [
              "     age  anaemia  creatinine_phosphokinase  ...  smoking  time  DEATH_EVENT\n",
              "26  95.0        1                       112  ...        0    24            1\n",
              "55  95.0        1                       371  ...        0    50            1\n",
              "30  94.0        0                       582  ...        0    27            1\n",
              "36  90.0        1                        60  ...        0    30            1\n",
              "5   90.0        1                        47  ...        1     8            1\n",
              "\n",
              "[5 rows x 13 columns]"
            ]
          },
          "metadata": {
            "tags": []
          },
          "execution_count": 12
        }
      ]
    },
    {
      "cell_type": "code",
      "metadata": {
        "id": "yc74DqWem3Ei",
        "colab": {
          "base_uri": "https://localhost:8080/",
          "height": 34
        },
        "outputId": "163268fe-0d33-47cb-9f43-9a520ab6ef2c"
      },
      "source": [
        "data['age'].mean()"
      ],
      "execution_count": null,
      "outputs": [
        {
          "output_type": "execute_result",
          "data": {
            "text/plain": [
              "60.83389297658862"
            ]
          },
          "metadata": {
            "tags": []
          },
          "execution_count": 13
        }
      ]
    },
    {
      "cell_type": "code",
      "metadata": {
        "id": "8sXen4F9m6vx",
        "colab": {
          "base_uri": "https://localhost:8080/",
          "height": 204
        },
        "outputId": "59b8823e-ce5d-478d-c158-76640a3ba417"
      },
      "source": [
        "from sklearn.utils import shuffle\n",
        "data = shuffle(data)\n",
        "data.head()"
      ],
      "execution_count": null,
      "outputs": [
        {
          "output_type": "execute_result",
          "data": {
            "text/html": [
              "<div>\n",
              "<style scoped>\n",
              "    .dataframe tbody tr th:only-of-type {\n",
              "        vertical-align: middle;\n",
              "    }\n",
              "\n",
              "    .dataframe tbody tr th {\n",
              "        vertical-align: top;\n",
              "    }\n",
              "\n",
              "    .dataframe thead th {\n",
              "        text-align: right;\n",
              "    }\n",
              "</style>\n",
              "<table border=\"1\" class=\"dataframe\">\n",
              "  <thead>\n",
              "    <tr style=\"text-align: right;\">\n",
              "      <th></th>\n",
              "      <th>age</th>\n",
              "      <th>anaemia</th>\n",
              "      <th>creatinine_phosphokinase</th>\n",
              "      <th>diabetes</th>\n",
              "      <th>ejection_fraction</th>\n",
              "      <th>high_blood_pressure</th>\n",
              "      <th>platelets</th>\n",
              "      <th>serum_creatinine</th>\n",
              "      <th>serum_sodium</th>\n",
              "      <th>sex</th>\n",
              "      <th>smoking</th>\n",
              "      <th>time</th>\n",
              "      <th>DEATH_EVENT</th>\n",
              "    </tr>\n",
              "  </thead>\n",
              "  <tbody>\n",
              "    <tr>\n",
              "      <th>7</th>\n",
              "      <td>60.0</td>\n",
              "      <td>1</td>\n",
              "      <td>315</td>\n",
              "      <td>1</td>\n",
              "      <td>60</td>\n",
              "      <td>0</td>\n",
              "      <td>454000.0</td>\n",
              "      <td>1.1</td>\n",
              "      <td>131</td>\n",
              "      <td>1</td>\n",
              "      <td>1</td>\n",
              "      <td>10</td>\n",
              "      <td>1</td>\n",
              "    </tr>\n",
              "    <tr>\n",
              "      <th>172</th>\n",
              "      <td>70.0</td>\n",
              "      <td>1</td>\n",
              "      <td>171</td>\n",
              "      <td>0</td>\n",
              "      <td>60</td>\n",
              "      <td>1</td>\n",
              "      <td>176000.0</td>\n",
              "      <td>1.1</td>\n",
              "      <td>145</td>\n",
              "      <td>1</td>\n",
              "      <td>1</td>\n",
              "      <td>146</td>\n",
              "      <td>0</td>\n",
              "    </tr>\n",
              "    <tr>\n",
              "      <th>116</th>\n",
              "      <td>60.0</td>\n",
              "      <td>1</td>\n",
              "      <td>96</td>\n",
              "      <td>1</td>\n",
              "      <td>60</td>\n",
              "      <td>1</td>\n",
              "      <td>271000.0</td>\n",
              "      <td>0.7</td>\n",
              "      <td>136</td>\n",
              "      <td>0</td>\n",
              "      <td>0</td>\n",
              "      <td>94</td>\n",
              "      <td>0</td>\n",
              "    </tr>\n",
              "    <tr>\n",
              "      <th>186</th>\n",
              "      <td>50.0</td>\n",
              "      <td>0</td>\n",
              "      <td>582</td>\n",
              "      <td>0</td>\n",
              "      <td>50</td>\n",
              "      <td>0</td>\n",
              "      <td>153000.0</td>\n",
              "      <td>0.6</td>\n",
              "      <td>134</td>\n",
              "      <td>0</td>\n",
              "      <td>0</td>\n",
              "      <td>172</td>\n",
              "      <td>1</td>\n",
              "    </tr>\n",
              "    <tr>\n",
              "      <th>189</th>\n",
              "      <td>40.0</td>\n",
              "      <td>0</td>\n",
              "      <td>244</td>\n",
              "      <td>0</td>\n",
              "      <td>45</td>\n",
              "      <td>1</td>\n",
              "      <td>275000.0</td>\n",
              "      <td>0.9</td>\n",
              "      <td>140</td>\n",
              "      <td>0</td>\n",
              "      <td>0</td>\n",
              "      <td>174</td>\n",
              "      <td>0</td>\n",
              "    </tr>\n",
              "  </tbody>\n",
              "</table>\n",
              "</div>"
            ],
            "text/plain": [
              "      age  anaemia  creatinine_phosphokinase  ...  smoking  time  DEATH_EVENT\n",
              "7    60.0        1                       315  ...        1    10            1\n",
              "172  70.0        1                       171  ...        1   146            0\n",
              "116  60.0        1                        96  ...        0    94            0\n",
              "186  50.0        0                       582  ...        0   172            1\n",
              "189  40.0        0                       244  ...        0   174            0\n",
              "\n",
              "[5 rows x 13 columns]"
            ]
          },
          "metadata": {
            "tags": []
          },
          "execution_count": 14
        }
      ]
    },
    {
      "cell_type": "code",
      "metadata": {
        "id": "fv1Wbv8HnDYZ",
        "colab": {
          "base_uri": "https://localhost:8080/",
          "height": 607
        },
        "outputId": "3045cfb4-61a3-4149-b877-7148ce03024c"
      },
      "source": [
        "import matplotlib.pyplot as plt\n",
        "plt.rcParams[\"figure.figsize\"] = ((10,10))\n",
        "data.hist()\n",
        "plt.show()"
      ],
      "execution_count": null,
      "outputs": [
        {
          "output_type": "display_data",
          "data": {
            "image/png": "[encoded data removed]",
            "text/plain": [
              "<Figure size 720x720 with 16 Axes>"
            ]
          },
          "metadata": {
            "tags": [],
            "needs_background": "light"
          }
        }
      ]
    },
    {
      "cell_type": "code",
      "metadata": {
        "id": "wVb_eg1UnU5a",
        "colab": {
          "base_uri": "https://localhost:8080/",
          "height": 449
        },
        "outputId": "c9a0e4b3-0934-464d-a417-9067152c8138"
      },
      "source": [
        "plt.rcParams.update(plt.rcParamsDefault)\n",
        "plt.scatter(data['high_blood_pressure'], data['age'])\n",
        "plt.xlabel('time')\n",
        "plt.ylabel('age')\n",
        "plt.show()"
      ],
      "execution_count": null,
      "outputs": [
        {
          "output_type": "display_data",
          "data": {
            "image/png": "[encoded data removed]",
            "text/plain": [
              "<Figure size 640x480 with 1 Axes>"
            ]
          },
          "metadata": {
            "tags": []
          }
        }
      ]
    },
    {
      "cell_type": "code",
      "metadata": {
        "id": "z4A5j9arnvSi",
        "colab": {
          "base_uri": "https://localhost:8080/",
          "height": 653
        },
        "outputId": "f579f8f2-0e3e-423d-bfa9-9c1b1d1c2c4c"
      },
      "source": [
        "import seaborn as sns\n",
        "correlation = data.corr()\n",
        "sns.heatmap(correlation, xticklabels = correlation.columns, yticklabels=correlation.columns)"
      ],
      "execution_count": null,
      "outputs": [
        {
          "output_type": "stream",
          "text": [
            "/usr/local/lib/python3.6/dist-packages/statsmodels/tools/_testing.py:19: FutureWarning: pandas.util.testing is deprecated. Use the functions in the public API at pandas.testing instead.\n",
            "  import pandas.util.testing as tm\n"
          ],
          "name": "stderr"
        },
        {
          "output_type": "execute_result",
          "data": {
            "text/plain": [
              "<matplotlib.axes._subplots.AxesSubplot at 0x7fd84ded3208>"
            ]
          },
          "metadata": {
            "tags": []
          },
          "execution_count": 19
        },
        {
          "output_type": "display_data",
          "data": {
            "image/png": "[encoded data removed]",
            "text/plain": [
              "<Figure size 640x480 with 2 Axes>"
            ]
          },
          "metadata": {
            "tags": []
          }
        }
      ]
    },
    {
      "cell_type": "code",
      "metadata": {
        "id": "U3jgtnb7oFyR"
      },
      "source": [
        ""
      ],
      "execution_count": null,
      "outputs": []
    }
  ]
}