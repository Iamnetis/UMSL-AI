{
  "nbformat": 4,
  "nbformat_minor": 0,
  "metadata": {
    "colab": {
      "name": "Activity 7 (My Binary Classification using NN).ipynb",
      "provenance": [],
      "collapsed_sections": [],
      "authorship_tag": "ABX9TyMB8XaDNXPJ7Kec/BwKCKc7",
      "include_colab_link": true
    },
    "kernelspec": {
      "name": "python3",
      "display_name": "Python 3"
    }
  },
  "cells": [
    {
      "cell_type": "markdown",
      "metadata": {
        "id": "view-in-github",
        "colab_type": "text"
      },
      "source": [
        "<a href=\"https://colab.research.google.com/github/Iamnetis/UMSL-AI/blob/main/Activity_7_(My_Binary_Classification_using_NN).ipynb\" target=\"_parent\"><img src=\"https://colab.research.google.com/assets/colab-badge.svg\" alt=\"Open In Colab\"/></a>"
      ]
    },
    {
      "cell_type": "code",
      "metadata": {
        "id": "jPKI6NLxrFRo",
        "colab": {
          "resources": {
            "http://localhost:8080/nbextensions/google.colab/files.js": {
              "data": "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",
              "ok": true,
              "headers": [
                [
                  "content-type",
                  "application/javascript"
                ]
              ],
              "status": 200,
              "status_text": ""
            }
          },
          "base_uri": "https://localhost:8080/",
          "height": 72
        },
        "outputId": "0b09384a-abda-42b3-ae06-9cc38b8bf8bd"
      },
      "source": [
        "from google.colab import files\n",
        "uploaded = files.upload()"
      ],
      "execution_count": null,
      "outputs": [
        {
          "output_type": "display_data",
          "data": {
            "text/html": [
              "\n",
              "     <input type=\"file\" id=\"files-03745418-c535-4edc-ab74-7e7e27b78488\" name=\"files[]\" multiple disabled\n",
              "        style=\"border:none\" />\n",
              "     <output id=\"result-03745418-c535-4edc-ab74-7e7e27b78488\">\n",
              "      Upload widget is only available when the cell has been executed in the\n",
              "      current browser session. Please rerun this cell to enable.\n",
              "      </output>\n",
              "      <script src=\"/nbextensions/google.colab/files.js\"></script> "
            ],
            "text/plain": [
              "<IPython.core.display.HTML object>"
            ]
          },
          "metadata": {
            "tags": []
          }
        },
        {
          "output_type": "stream",
          "text": [
            "Saving pima-diabetes.csv to pima-diabetes.csv\n"
          ],
          "name": "stdout"
        }
      ]
    },
    {
      "cell_type": "code",
      "metadata": {
        "id": "d9MWU1xb0ctM"
      },
      "source": [
        "import pandas as pd\n",
        "data = pd.read_csv('pima-diabetes.csv', delimiter = ',')"
      ],
      "execution_count": null,
      "outputs": []
    },
    {
      "cell_type": "code",
      "metadata": {
        "id": "BvMg_TOq4RI3",
        "colab": {
          "base_uri": "https://localhost:8080/",
          "height": 255
        },
        "outputId": "0b817d67-bfb2-4167-9cf2-b16730b8964f"
      },
      "source": [
        "data.head"
      ],
      "execution_count": null,
      "outputs": [
        {
          "output_type": "execute_result",
          "data": {
            "text/plain": [
              "<bound method NDFrame.head of      Pregnancies  Glucose  ...  Age  Outcome\n",
              "0              6      148  ...   50        1\n",
              "1              1       85  ...   31        0\n",
              "2              8      183  ...   32        1\n",
              "3              1       89  ...   21        0\n",
              "4              0      137  ...   33        1\n",
              "..           ...      ...  ...  ...      ...\n",
              "763           10      101  ...   63        0\n",
              "764            2      122  ...   27        0\n",
              "765            5      121  ...   30        0\n",
              "766            1      126  ...   47        1\n",
              "767            1       93  ...   23        0\n",
              "\n",
              "[768 rows x 9 columns]>"
            ]
          },
          "metadata": {
            "tags": []
          },
          "execution_count": 29
        }
      ]
    },
    {
      "cell_type": "code",
      "metadata": {
        "id": "WoJtD7JP4lz6"
      },
      "source": [
        "import numpy as np\n",
        "dataset = np.loadtxt('pima-diabetes.csv', delimiter =',', skiprows = 1)"
      ],
      "execution_count": null,
      "outputs": []
    },
    {
      "cell_type": "code",
      "metadata": {
        "id": "An5_PpkBEgxe",
        "colab": {
          "base_uri": "https://localhost:8080/",
          "height": 187
        },
        "outputId": "69c4f4c7-3beb-47a3-d626-12705caeb9a9"
      },
      "source": [
        "print (dataset[:10])"
      ],
      "execution_count": null,
      "outputs": [
        {
          "output_type": "stream",
          "text": [
            "[[6.00 148.00 72.00 35.00 0.00 33.60 0.63 50.00 1.00]\n",
            " [1.00 85.00 66.00 29.00 0.00 26.60 0.35 31.00 0.00]\n",
            " [8.00 183.00 64.00 0.00 0.00 23.30 0.67 32.00 1.00]\n",
            " [1.00 89.00 66.00 23.00 94.00 28.10 0.17 21.00 0.00]\n",
            " [0.00 137.00 40.00 35.00 168.00 43.10 2.29 33.00 1.00]\n",
            " [5.00 116.00 74.00 0.00 0.00 25.60 0.20 30.00 0.00]\n",
            " [3.00 78.00 50.00 32.00 88.00 31.00 0.25 26.00 1.00]\n",
            " [10.00 115.00 0.00 0.00 0.00 35.30 0.13 29.00 0.00]\n",
            " [2.00 197.00 70.00 45.00 543.00 30.50 0.16 53.00 1.00]\n",
            " [8.00 125.00 96.00 0.00 0.00 0.00 0.23 54.00 1.00]]\n"
          ],
          "name": "stdout"
        }
      ]
    },
    {
      "cell_type": "code",
      "metadata": {
        "id": "OK0j3dW_44nR",
        "colab": {
          "base_uri": "https://localhost:8080/",
          "height": 34
        },
        "outputId": "a197f28a-58dc-417c-f498-d4419923a0b0"
      },
      "source": [
        "print (dataset.shape)"
      ],
      "execution_count": null,
      "outputs": [
        {
          "output_type": "stream",
          "text": [
            "(768, 9)\n"
          ],
          "name": "stdout"
        }
      ]
    },
    {
      "cell_type": "code",
      "metadata": {
        "id": "6GZJPbzeEnDp"
      },
      "source": [
        "np.set_printoptions(formatter={'float': '{:0.2f}'.format})"
      ],
      "execution_count": null,
      "outputs": []
    },
    {
      "cell_type": "code",
      "metadata": {
        "id": "p7nioQ5K5Krf"
      },
      "source": [
        "X = dataset [:, :-1]\n",
        "Y = dataset [:, -1]"
      ],
      "execution_count": null,
      "outputs": []
    },
    {
      "cell_type": "code",
      "metadata": {
        "id": "xsB2Y4F05rrH",
        "colab": {
          "base_uri": "https://localhost:8080/",
          "height": 34
        },
        "outputId": "17c7c8f4-1f4e-4f85-fd33-9375d91aa693"
      },
      "source": [
        "print (X.shape, Y.shape)"
      ],
      "execution_count": null,
      "outputs": [
        {
          "output_type": "stream",
          "text": [
            "(768, 8) (768,)\n"
          ],
          "name": "stdout"
        }
      ]
    },
    {
      "cell_type": "code",
      "metadata": {
        "id": "M_eO6ldYDQcI",
        "colab": {
          "base_uri": "https://localhost:8080/",
          "height": 68
        },
        "outputId": "3d33d4c0-628d-42c0-a60c-dce5d4561472"
      },
      "source": [
        "#Data Normalization\n",
        "min = X.min(axis = 0)\n",
        "max = X.max(axis = 0)\n",
        "X = (X-min)/(max-min)\n",
        "print (min)\n",
        "print('/n')\n",
        "print (max)"
      ],
      "execution_count": null,
      "outputs": [
        {
          "output_type": "stream",
          "text": [
            "[0.00 0.00 0.00 0.00 0.00 0.00 0.00 0.00]\n",
            "/n\n",
            "[1.00 1.00 1.00 1.00 1.00 1.00 1.00 1.00]\n"
          ],
          "name": "stdout"
        }
      ]
    },
    {
      "cell_type": "code",
      "metadata": {
        "id": "20V41EtkDQNu",
        "colab": {
          "base_uri": "https://localhost:8080/",
          "height": 187
        },
        "outputId": "66d28066-b811-4d1b-e195-3bdf828103d0"
      },
      "source": [
        "print (dataset[:10])"
      ],
      "execution_count": null,
      "outputs": [
        {
          "output_type": "stream",
          "text": [
            "[[6.00 148.00 72.00 35.00 0.00 33.60 0.63 50.00 1.00]\n",
            " [1.00 85.00 66.00 29.00 0.00 26.60 0.35 31.00 0.00]\n",
            " [8.00 183.00 64.00 0.00 0.00 23.30 0.67 32.00 1.00]\n",
            " [1.00 89.00 66.00 23.00 94.00 28.10 0.17 21.00 0.00]\n",
            " [0.00 137.00 40.00 35.00 168.00 43.10 2.29 33.00 1.00]\n",
            " [5.00 116.00 74.00 0.00 0.00 25.60 0.20 30.00 0.00]\n",
            " [3.00 78.00 50.00 32.00 88.00 31.00 0.25 26.00 1.00]\n",
            " [10.00 115.00 0.00 0.00 0.00 35.30 0.13 29.00 0.00]\n",
            " [2.00 197.00 70.00 45.00 543.00 30.50 0.16 53.00 1.00]\n",
            " [8.00 125.00 96.00 0.00 0.00 0.00 0.23 54.00 1.00]]\n"
          ],
          "name": "stdout"
        }
      ]
    },
    {
      "cell_type": "code",
      "metadata": {
        "id": "cnoYiW9x5u5R"
      },
      "source": [
        "# Building NN...\n",
        "from tensorflow.keras.models import Sequential\n",
        "from tensorflow.keras.layers import Dense\n",
        "model = Sequential()\n",
        "model.add(Dense(8, input_dim = len(X[0, :]), activation = 'relu')) # relu is a comman used non linear activation function\n",
        "model.add(Dense(4, activation = 'relu'))\n",
        "model.add(Dense(1, activation = 'sigmoid')) # Sigmoid activation function is always used to do predict between 0-1 "
      ],
      "execution_count": null,
      "outputs": []
    },
    {
      "cell_type": "code",
      "metadata": {
        "id": "XMLfza3g-vx1",
        "colab": {
          "base_uri": "https://localhost:8080/",
          "height": 255
        },
        "outputId": "0857de0d-6528-49b5-8d75-f4f816ed2d2d"
      },
      "source": [
        "model.summary()"
      ],
      "execution_count": null,
      "outputs": [
        {
          "output_type": "stream",
          "text": [
            "Model: \"sequential_1\"\n",
            "_________________________________________________________________\n",
            "Layer (type)                 Output Shape              Param #   \n",
            "=================================================================\n",
            "dense_3 (Dense)              (None, 8)                 72        \n",
            "_________________________________________________________________\n",
            "dense_4 (Dense)              (None, 4)                 36        \n",
            "_________________________________________________________________\n",
            "dense_5 (Dense)              (None, 1)                 5         \n",
            "=================================================================\n",
            "Total params: 113\n",
            "Trainable params: 113\n",
            "Non-trainable params: 0\n",
            "_________________________________________________________________\n"
          ],
          "name": "stdout"
        }
      ]
    },
    {
      "cell_type": "code",
      "metadata": {
        "id": "iWVVscSx_DhT"
      },
      "source": [
        "model.compile(loss = 'binary_crossentropy', optimizer = 'rmsprop', metrics=['accuracy'])"
      ],
      "execution_count": null,
      "outputs": []
    },
    {
      "cell_type": "code",
      "metadata": {
        "id": "I7OivsjfCW1Y",
        "colab": {
          "base_uri": "https://localhost:8080/",
          "height": 1000
        },
        "outputId": "ea3febd6-fbc1-4373-fcff-51bd7477d421"
      },
      "source": [
        "model.fit(x = X, y = Y, epochs= 256, verbose = 1)"
      ],
      "execution_count": null,
      "outputs": [
        {
          "output_type": "stream",
          "text": [
            "Epoch 1/256\n",
            "24/24 [==============================] - 0s 697us/step - loss: 0.4872 - accuracy: 0.7734\n",
            "Epoch 2/256\n",
            "24/24 [==============================] - 0s 1ms/step - loss: 0.4826 - accuracy: 0.7760\n",
            "Epoch 3/256\n",
            "24/24 [==============================] - 0s 663us/step - loss: 0.4791 - accuracy: 0.7682\n",
            "Epoch 4/256\n",
            "24/24 [==============================] - 0s 618us/step - loss: 0.4845 - accuracy: 0.7669\n",
            "Epoch 5/256\n",
            "24/24 [==============================] - 0s 637us/step - loss: 0.4911 - accuracy: 0.7773\n",
            "Epoch 6/256\n",
            "24/24 [==============================] - 0s 690us/step - loss: 0.4829 - accuracy: 0.7695\n",
            "Epoch 7/256\n",
            "24/24 [==============================] - 0s 694us/step - loss: 0.4800 - accuracy: 0.7812\n",
            "Epoch 8/256\n",
            "24/24 [==============================] - 0s 662us/step - loss: 0.4842 - accuracy: 0.7734\n",
            "Epoch 9/256\n",
            "24/24 [==============================] - 0s 673us/step - loss: 0.4811 - accuracy: 0.7799\n",
            "Epoch 10/256\n",
            "24/24 [==============================] - 0s 648us/step - loss: 0.4772 - accuracy: 0.7734\n",
            "Epoch 11/256\n",
            "24/24 [==============================] - 0s 666us/step - loss: 0.4841 - accuracy: 0.7760\n",
            "Epoch 12/256\n",
            "24/24 [==============================] - 0s 639us/step - loss: 0.4792 - accuracy: 0.7773\n",
            "Epoch 13/256\n",
            "24/24 [==============================] - 0s 685us/step - loss: 0.4804 - accuracy: 0.7695\n",
            "Epoch 14/256\n",
            "24/24 [==============================] - 0s 633us/step - loss: 0.4793 - accuracy: 0.7695\n",
            "Epoch 15/256\n",
            "24/24 [==============================] - 0s 616us/step - loss: 0.4804 - accuracy: 0.7799\n",
            "Epoch 16/256\n",
            "24/24 [==============================] - 0s 652us/step - loss: 0.4788 - accuracy: 0.7812\n",
            "Epoch 17/256\n",
            "24/24 [==============================] - 0s 673us/step - loss: 0.4795 - accuracy: 0.7747\n",
            "Epoch 18/256\n",
            "24/24 [==============================] - 0s 690us/step - loss: 0.4795 - accuracy: 0.7786\n",
            "Epoch 19/256\n",
            "24/24 [==============================] - 0s 645us/step - loss: 0.4797 - accuracy: 0.7852\n",
            "Epoch 20/256\n",
            "24/24 [==============================] - 0s 639us/step - loss: 0.4800 - accuracy: 0.7747\n",
            "Epoch 21/256\n",
            "24/24 [==============================] - 0s 610us/step - loss: 0.4810 - accuracy: 0.7773\n",
            "Epoch 22/256\n",
            "24/24 [==============================] - 0s 636us/step - loss: 0.4773 - accuracy: 0.7760\n",
            "Epoch 23/256\n",
            "24/24 [==============================] - 0s 665us/step - loss: 0.4762 - accuracy: 0.7747\n",
            "Epoch 24/256\n",
            "24/24 [==============================] - 0s 632us/step - loss: 0.4792 - accuracy: 0.7734\n",
            "Epoch 25/256\n",
            "24/24 [==============================] - 0s 619us/step - loss: 0.4797 - accuracy: 0.7826\n",
            "Epoch 26/256\n",
            "24/24 [==============================] - 0s 698us/step - loss: 0.4804 - accuracy: 0.7812\n",
            "Epoch 27/256\n",
            "24/24 [==============================] - 0s 633us/step - loss: 0.4775 - accuracy: 0.7747\n",
            "Epoch 28/256\n",
            "24/24 [==============================] - 0s 690us/step - loss: 0.4811 - accuracy: 0.7812\n",
            "Epoch 29/256\n",
            "24/24 [==============================] - 0s 783us/step - loss: 0.4734 - accuracy: 0.7826\n",
            "Epoch 30/256\n",
            "24/24 [==============================] - 0s 709us/step - loss: 0.4814 - accuracy: 0.7786\n",
            "Epoch 31/256\n",
            "24/24 [==============================] - 0s 638us/step - loss: 0.4775 - accuracy: 0.7773\n",
            "Epoch 32/256\n",
            "24/24 [==============================] - 0s 763us/step - loss: 0.4761 - accuracy: 0.7773\n",
            "Epoch 33/256\n",
            "24/24 [==============================] - 0s 635us/step - loss: 0.4758 - accuracy: 0.7760\n",
            "Epoch 34/256\n",
            "24/24 [==============================] - 0s 699us/step - loss: 0.4786 - accuracy: 0.7747\n",
            "Epoch 35/256\n",
            "24/24 [==============================] - 0s 693us/step - loss: 0.4756 - accuracy: 0.7826\n",
            "Epoch 36/256\n",
            "24/24 [==============================] - 0s 896us/step - loss: 0.4800 - accuracy: 0.7721\n",
            "Epoch 37/256\n",
            "24/24 [==============================] - 0s 667us/step - loss: 0.4757 - accuracy: 0.7760\n",
            "Epoch 38/256\n",
            "24/24 [==============================] - 0s 765us/step - loss: 0.4785 - accuracy: 0.7721\n",
            "Epoch 39/256\n",
            "24/24 [==============================] - 0s 766us/step - loss: 0.4774 - accuracy: 0.7773\n",
            "Epoch 40/256\n",
            "24/24 [==============================] - 0s 741us/step - loss: 0.4775 - accuracy: 0.7852\n",
            "Epoch 41/256\n",
            "24/24 [==============================] - 0s 742us/step - loss: 0.4806 - accuracy: 0.7734\n",
            "Epoch 42/256\n",
            "24/24 [==============================] - 0s 683us/step - loss: 0.4779 - accuracy: 0.7721\n",
            "Epoch 43/256\n",
            "24/24 [==============================] - 0s 704us/step - loss: 0.4779 - accuracy: 0.7721\n",
            "Epoch 44/256\n",
            "24/24 [==============================] - 0s 683us/step - loss: 0.4777 - accuracy: 0.7786\n",
            "Epoch 45/256\n",
            "24/24 [==============================] - 0s 664us/step - loss: 0.4738 - accuracy: 0.7747\n",
            "Epoch 46/256\n",
            "24/24 [==============================] - 0s 730us/step - loss: 0.4772 - accuracy: 0.7812\n",
            "Epoch 47/256\n",
            "24/24 [==============================] - 0s 790us/step - loss: 0.4802 - accuracy: 0.7773\n",
            "Epoch 48/256\n",
            "24/24 [==============================] - 0s 760us/step - loss: 0.4705 - accuracy: 0.7708\n",
            "Epoch 49/256\n",
            "24/24 [==============================] - 0s 711us/step - loss: 0.4754 - accuracy: 0.7786\n",
            "Epoch 50/256\n",
            "24/24 [==============================] - 0s 774us/step - loss: 0.4805 - accuracy: 0.7760\n",
            "Epoch 51/256\n",
            "24/24 [==============================] - 0s 690us/step - loss: 0.4806 - accuracy: 0.7839\n",
            "Epoch 52/256\n",
            "24/24 [==============================] - 0s 678us/step - loss: 0.4778 - accuracy: 0.7708\n",
            "Epoch 53/256\n",
            "24/24 [==============================] - 0s 712us/step - loss: 0.4750 - accuracy: 0.7773\n",
            "Epoch 54/256\n",
            "24/24 [==============================] - 0s 700us/step - loss: 0.4778 - accuracy: 0.7786\n",
            "Epoch 55/256\n",
            "24/24 [==============================] - 0s 675us/step - loss: 0.4702 - accuracy: 0.7747\n",
            "Epoch 56/256\n",
            "24/24 [==============================] - 0s 654us/step - loss: 0.4803 - accuracy: 0.7747\n",
            "Epoch 57/256\n",
            "24/24 [==============================] - 0s 727us/step - loss: 0.4775 - accuracy: 0.7839\n",
            "Epoch 58/256\n",
            "24/24 [==============================] - 0s 603us/step - loss: 0.4745 - accuracy: 0.7786\n",
            "Epoch 59/256\n",
            "24/24 [==============================] - 0s 751us/step - loss: 0.4765 - accuracy: 0.7747\n",
            "Epoch 60/256\n",
            "24/24 [==============================] - 0s 727us/step - loss: 0.4729 - accuracy: 0.7852\n",
            "Epoch 61/256\n",
            "24/24 [==============================] - 0s 738us/step - loss: 0.4807 - accuracy: 0.7747\n",
            "Epoch 62/256\n",
            "24/24 [==============================] - 0s 631us/step - loss: 0.4741 - accuracy: 0.7904\n",
            "Epoch 63/256\n",
            "24/24 [==============================] - 0s 719us/step - loss: 0.4716 - accuracy: 0.7878\n",
            "Epoch 64/256\n",
            "24/24 [==============================] - 0s 701us/step - loss: 0.4741 - accuracy: 0.7904\n",
            "Epoch 65/256\n",
            "24/24 [==============================] - 0s 673us/step - loss: 0.4757 - accuracy: 0.7760\n",
            "Epoch 66/256\n",
            "24/24 [==============================] - 0s 776us/step - loss: 0.4747 - accuracy: 0.7812\n",
            "Epoch 67/256\n",
            "24/24 [==============================] - 0s 710us/step - loss: 0.4735 - accuracy: 0.7852\n",
            "Epoch 68/256\n",
            "24/24 [==============================] - 0s 910us/step - loss: 0.4721 - accuracy: 0.7812\n",
            "Epoch 69/256\n",
            "24/24 [==============================] - 0s 796us/step - loss: 0.4773 - accuracy: 0.7839\n",
            "Epoch 70/256\n",
            "24/24 [==============================] - 0s 719us/step - loss: 0.4734 - accuracy: 0.7760\n",
            "Epoch 71/256\n",
            "24/24 [==============================] - 0s 637us/step - loss: 0.4771 - accuracy: 0.7773\n",
            "Epoch 72/256\n",
            "24/24 [==============================] - 0s 737us/step - loss: 0.4714 - accuracy: 0.7760\n",
            "Epoch 73/256\n",
            "24/24 [==============================] - 0s 661us/step - loss: 0.4749 - accuracy: 0.7812\n",
            "Epoch 74/256\n",
            "24/24 [==============================] - 0s 702us/step - loss: 0.4739 - accuracy: 0.7734\n",
            "Epoch 75/256\n",
            "24/24 [==============================] - 0s 646us/step - loss: 0.4736 - accuracy: 0.7786\n",
            "Epoch 76/256\n",
            "24/24 [==============================] - 0s 902us/step - loss: 0.4775 - accuracy: 0.7760\n",
            "Epoch 77/256\n",
            "24/24 [==============================] - 0s 904us/step - loss: 0.4739 - accuracy: 0.7812\n",
            "Epoch 78/256\n",
            "24/24 [==============================] - 0s 750us/step - loss: 0.4765 - accuracy: 0.7865\n",
            "Epoch 79/256\n",
            "24/24 [==============================] - 0s 724us/step - loss: 0.4716 - accuracy: 0.7773\n",
            "Epoch 80/256\n",
            "24/24 [==============================] - 0s 725us/step - loss: 0.4721 - accuracy: 0.7760\n",
            "Epoch 81/256\n",
            "24/24 [==============================] - 0s 684us/step - loss: 0.4755 - accuracy: 0.7826\n",
            "Epoch 82/256\n",
            "24/24 [==============================] - 0s 737us/step - loss: 0.4758 - accuracy: 0.7839\n",
            "Epoch 83/256\n",
            "24/24 [==============================] - 0s 738us/step - loss: 0.4722 - accuracy: 0.7773\n",
            "Epoch 84/256\n",
            "24/24 [==============================] - 0s 927us/step - loss: 0.4752 - accuracy: 0.7747\n",
            "Epoch 85/256\n",
            "24/24 [==============================] - 0s 684us/step - loss: 0.4745 - accuracy: 0.7760\n",
            "Epoch 86/256\n",
            "24/24 [==============================] - 0s 716us/step - loss: 0.4703 - accuracy: 0.7799\n",
            "Epoch 87/256\n",
            "24/24 [==============================] - 0s 677us/step - loss: 0.4735 - accuracy: 0.7852\n",
            "Epoch 88/256\n",
            "24/24 [==============================] - 0s 747us/step - loss: 0.4718 - accuracy: 0.7865\n",
            "Epoch 89/256\n",
            "24/24 [==============================] - 0s 722us/step - loss: 0.4716 - accuracy: 0.7943\n",
            "Epoch 90/256\n",
            "24/24 [==============================] - 0s 757us/step - loss: 0.4718 - accuracy: 0.7826\n",
            "Epoch 91/256\n",
            "24/24 [==============================] - 0s 723us/step - loss: 0.4729 - accuracy: 0.7826\n",
            "Epoch 92/256\n",
            "24/24 [==============================] - 0s 702us/step - loss: 0.4740 - accuracy: 0.7904\n",
            "Epoch 93/256\n",
            "24/24 [==============================] - 0s 753us/step - loss: 0.4732 - accuracy: 0.7812\n",
            "Epoch 94/256\n",
            "24/24 [==============================] - 0s 774us/step - loss: 0.4688 - accuracy: 0.7865\n",
            "Epoch 95/256\n",
            "24/24 [==============================] - 0s 721us/step - loss: 0.4747 - accuracy: 0.7812\n",
            "Epoch 96/256\n",
            "24/24 [==============================] - 0s 731us/step - loss: 0.4701 - accuracy: 0.7826\n",
            "Epoch 97/256\n",
            "24/24 [==============================] - 0s 811us/step - loss: 0.4711 - accuracy: 0.7773\n",
            "Epoch 98/256\n",
            "24/24 [==============================] - 0s 798us/step - loss: 0.4752 - accuracy: 0.7826\n",
            "Epoch 99/256\n",
            "24/24 [==============================] - 0s 722us/step - loss: 0.4740 - accuracy: 0.7891\n",
            "Epoch 100/256\n",
            "24/24 [==============================] - 0s 750us/step - loss: 0.4742 - accuracy: 0.7891\n",
            "Epoch 101/256\n",
            "24/24 [==============================] - 0s 833us/step - loss: 0.4729 - accuracy: 0.7826\n",
            "Epoch 102/256\n",
            "24/24 [==============================] - 0s 974us/step - loss: 0.4728 - accuracy: 0.7760\n",
            "Epoch 103/256\n",
            "24/24 [==============================] - 0s 734us/step - loss: 0.4694 - accuracy: 0.7865\n",
            "Epoch 104/256\n",
            "24/24 [==============================] - 0s 810us/step - loss: 0.4720 - accuracy: 0.7721\n",
            "Epoch 105/256\n",
            "24/24 [==============================] - 0s 728us/step - loss: 0.4706 - accuracy: 0.7826\n",
            "Epoch 106/256\n",
            "24/24 [==============================] - 0s 720us/step - loss: 0.4705 - accuracy: 0.7839\n",
            "Epoch 107/256\n",
            "24/24 [==============================] - 0s 695us/step - loss: 0.4713 - accuracy: 0.7812\n",
            "Epoch 108/256\n",
            "24/24 [==============================] - 0s 775us/step - loss: 0.4724 - accuracy: 0.7812\n",
            "Epoch 109/256\n",
            "24/24 [==============================] - 0s 763us/step - loss: 0.4775 - accuracy: 0.7773\n",
            "Epoch 110/256\n",
            "24/24 [==============================] - 0s 757us/step - loss: 0.4708 - accuracy: 0.7852\n",
            "Epoch 111/256\n",
            "24/24 [==============================] - 0s 786us/step - loss: 0.4676 - accuracy: 0.7826\n",
            "Epoch 112/256\n",
            "24/24 [==============================] - 0s 874us/step - loss: 0.4707 - accuracy: 0.7721\n",
            "Epoch 113/256\n",
            "24/24 [==============================] - 0s 790us/step - loss: 0.4729 - accuracy: 0.7708\n",
            "Epoch 114/256\n",
            "24/24 [==============================] - 0s 788us/step - loss: 0.4691 - accuracy: 0.7812\n",
            "Epoch 115/256\n",
            "24/24 [==============================] - 0s 751us/step - loss: 0.4669 - accuracy: 0.7917\n",
            "Epoch 116/256\n",
            "24/24 [==============================] - 0s 733us/step - loss: 0.4674 - accuracy: 0.7812\n",
            "Epoch 117/256\n",
            "24/24 [==============================] - 0s 675us/step - loss: 0.4721 - accuracy: 0.7747\n",
            "Epoch 118/256\n",
            "24/24 [==============================] - 0s 727us/step - loss: 0.4688 - accuracy: 0.7878\n",
            "Epoch 119/256\n",
            "24/24 [==============================] - 0s 718us/step - loss: 0.4719 - accuracy: 0.7839\n",
            "Epoch 120/256\n",
            "24/24 [==============================] - 0s 695us/step - loss: 0.4749 - accuracy: 0.7826\n",
            "Epoch 121/256\n",
            "24/24 [==============================] - 0s 783us/step - loss: 0.4678 - accuracy: 0.7852\n",
            "Epoch 122/256\n",
            "24/24 [==============================] - 0s 761us/step - loss: 0.4672 - accuracy: 0.7891\n",
            "Epoch 123/256\n",
            "24/24 [==============================] - 0s 813us/step - loss: 0.4675 - accuracy: 0.7865\n",
            "Epoch 124/256\n",
            "24/24 [==============================] - 0s 768us/step - loss: 0.4672 - accuracy: 0.7878\n",
            "Epoch 125/256\n",
            "24/24 [==============================] - 0s 811us/step - loss: 0.4697 - accuracy: 0.7799\n",
            "Epoch 126/256\n",
            "24/24 [==============================] - 0s 958us/step - loss: 0.4704 - accuracy: 0.7878\n",
            "Epoch 127/256\n",
            "24/24 [==============================] - 0s 768us/step - loss: 0.4722 - accuracy: 0.7839\n",
            "Epoch 128/256\n",
            "24/24 [==============================] - 0s 689us/step - loss: 0.4695 - accuracy: 0.7865\n",
            "Epoch 129/256\n",
            "24/24 [==============================] - 0s 959us/step - loss: 0.4682 - accuracy: 0.7773\n",
            "Epoch 130/256\n",
            "24/24 [==============================] - 0s 734us/step - loss: 0.4687 - accuracy: 0.7760\n",
            "Epoch 131/256\n",
            "24/24 [==============================] - 0s 862us/step - loss: 0.4716 - accuracy: 0.7708\n",
            "Epoch 132/256\n",
            "24/24 [==============================] - 0s 726us/step - loss: 0.4660 - accuracy: 0.7891\n",
            "Epoch 133/256\n",
            "24/24 [==============================] - 0s 799us/step - loss: 0.4731 - accuracy: 0.7799\n",
            "Epoch 134/256\n",
            "24/24 [==============================] - 0s 817us/step - loss: 0.4690 - accuracy: 0.7812\n",
            "Epoch 135/256\n",
            "24/24 [==============================] - 0s 773us/step - loss: 0.4667 - accuracy: 0.7812\n",
            "Epoch 136/256\n",
            "24/24 [==============================] - 0s 718us/step - loss: 0.4680 - accuracy: 0.7826\n",
            "Epoch 137/256\n",
            "24/24 [==============================] - 0s 745us/step - loss: 0.4669 - accuracy: 0.7839\n",
            "Epoch 138/256\n",
            "24/24 [==============================] - 0s 831us/step - loss: 0.4668 - accuracy: 0.7839\n",
            "Epoch 139/256\n",
            "24/24 [==============================] - 0s 736us/step - loss: 0.4716 - accuracy: 0.7799\n",
            "Epoch 140/256\n",
            "24/24 [==============================] - 0s 874us/step - loss: 0.4651 - accuracy: 0.7799\n",
            "Epoch 141/256\n",
            "24/24 [==============================] - 0s 747us/step - loss: 0.4673 - accuracy: 0.7878\n",
            "Epoch 142/256\n",
            "24/24 [==============================] - 0s 873us/step - loss: 0.4691 - accuracy: 0.7839\n",
            "Epoch 143/256\n",
            "24/24 [==============================] - 0s 767us/step - loss: 0.4671 - accuracy: 0.7747\n",
            "Epoch 144/256\n",
            "24/24 [==============================] - 0s 746us/step - loss: 0.4695 - accuracy: 0.7865\n",
            "Epoch 145/256\n",
            "24/24 [==============================] - 0s 800us/step - loss: 0.4633 - accuracy: 0.7852\n",
            "Epoch 146/256\n",
            "24/24 [==============================] - 0s 780us/step - loss: 0.4703 - accuracy: 0.7839\n",
            "Epoch 147/256\n",
            "24/24 [==============================] - 0s 707us/step - loss: 0.4618 - accuracy: 0.7891\n",
            "Epoch 148/256\n",
            "24/24 [==============================] - 0s 778us/step - loss: 0.4703 - accuracy: 0.7839\n",
            "Epoch 149/256\n",
            "24/24 [==============================] - 0s 661us/step - loss: 0.4716 - accuracy: 0.7826\n",
            "Epoch 150/256\n",
            "24/24 [==============================] - 0s 713us/step - loss: 0.4631 - accuracy: 0.7799\n",
            "Epoch 151/256\n",
            "24/24 [==============================] - 0s 727us/step - loss: 0.4677 - accuracy: 0.7734\n",
            "Epoch 152/256\n",
            "24/24 [==============================] - 0s 821us/step - loss: 0.4696 - accuracy: 0.7812\n",
            "Epoch 153/256\n",
            "24/24 [==============================] - 0s 773us/step - loss: 0.4650 - accuracy: 0.7904\n",
            "Epoch 154/256\n",
            "24/24 [==============================] - 0s 819us/step - loss: 0.4683 - accuracy: 0.7865\n",
            "Epoch 155/256\n",
            "24/24 [==============================] - 0s 647us/step - loss: 0.4770 - accuracy: 0.7891\n",
            "Epoch 156/256\n",
            "24/24 [==============================] - 0s 714us/step - loss: 0.4657 - accuracy: 0.7865\n",
            "Epoch 157/256\n",
            "24/24 [==============================] - 0s 718us/step - loss: 0.4657 - accuracy: 0.7865\n",
            "Epoch 158/256\n",
            "24/24 [==============================] - 0s 682us/step - loss: 0.4683 - accuracy: 0.7799\n",
            "Epoch 159/256\n",
            "24/24 [==============================] - 0s 793us/step - loss: 0.4650 - accuracy: 0.7839\n",
            "Epoch 160/256\n",
            "24/24 [==============================] - 0s 814us/step - loss: 0.4672 - accuracy: 0.7852\n",
            "Epoch 161/256\n",
            "24/24 [==============================] - 0s 779us/step - loss: 0.4667 - accuracy: 0.7865\n",
            "Epoch 162/256\n",
            "24/24 [==============================] - 0s 742us/step - loss: 0.4698 - accuracy: 0.7943\n",
            "Epoch 163/256\n",
            "24/24 [==============================] - 0s 673us/step - loss: 0.4660 - accuracy: 0.7826\n",
            "Epoch 164/256\n",
            "24/24 [==============================] - 0s 659us/step - loss: 0.4673 - accuracy: 0.7917\n",
            "Epoch 165/256\n",
            "24/24 [==============================] - 0s 855us/step - loss: 0.4650 - accuracy: 0.7852\n",
            "Epoch 166/256\n",
            "24/24 [==============================] - 0s 719us/step - loss: 0.4674 - accuracy: 0.7865\n",
            "Epoch 167/256\n",
            "24/24 [==============================] - 0s 838us/step - loss: 0.4667 - accuracy: 0.7904\n",
            "Epoch 168/256\n",
            "24/24 [==============================] - 0s 829us/step - loss: 0.4605 - accuracy: 0.7826\n",
            "Epoch 169/256\n",
            "24/24 [==============================] - 0s 801us/step - loss: 0.4671 - accuracy: 0.7852\n",
            "Epoch 170/256\n",
            "24/24 [==============================] - 0s 718us/step - loss: 0.4631 - accuracy: 0.7852\n",
            "Epoch 171/256\n",
            "24/24 [==============================] - 0s 785us/step - loss: 0.4673 - accuracy: 0.7852\n",
            "Epoch 172/256\n",
            "24/24 [==============================] - 0s 799us/step - loss: 0.4647 - accuracy: 0.7839\n",
            "Epoch 173/256\n",
            "24/24 [==============================] - 0s 804us/step - loss: 0.4651 - accuracy: 0.7878\n",
            "Epoch 174/256\n",
            "24/24 [==============================] - 0s 913us/step - loss: 0.4637 - accuracy: 0.7852\n",
            "Epoch 175/256\n",
            "24/24 [==============================] - 0s 778us/step - loss: 0.4639 - accuracy: 0.7891\n",
            "Epoch 176/256\n",
            "24/24 [==============================] - 0s 726us/step - loss: 0.4674 - accuracy: 0.7878\n",
            "Epoch 177/256\n",
            "24/24 [==============================] - 0s 716us/step - loss: 0.4678 - accuracy: 0.7826\n",
            "Epoch 178/256\n",
            "24/24 [==============================] - 0s 754us/step - loss: 0.4664 - accuracy: 0.7747\n",
            "Epoch 179/256\n",
            "24/24 [==============================] - 0s 734us/step - loss: 0.4630 - accuracy: 0.7826\n",
            "Epoch 180/256\n",
            "24/24 [==============================] - 0s 779us/step - loss: 0.4656 - accuracy: 0.7891\n",
            "Epoch 181/256\n",
            "24/24 [==============================] - 0s 737us/step - loss: 0.4669 - accuracy: 0.7839\n",
            "Epoch 182/256\n",
            "24/24 [==============================] - 0s 979us/step - loss: 0.4698 - accuracy: 0.7839\n",
            "Epoch 183/256\n",
            "24/24 [==============================] - 0s 842us/step - loss: 0.4667 - accuracy: 0.7891\n",
            "Epoch 184/256\n",
            "24/24 [==============================] - 0s 725us/step - loss: 0.4653 - accuracy: 0.7865\n",
            "Epoch 185/256\n",
            "24/24 [==============================] - 0s 726us/step - loss: 0.4713 - accuracy: 0.7812\n",
            "Epoch 186/256\n",
            "24/24 [==============================] - 0s 933us/step - loss: 0.4669 - accuracy: 0.7917\n",
            "Epoch 187/256\n",
            "24/24 [==============================] - 0s 820us/step - loss: 0.4675 - accuracy: 0.7904\n",
            "Epoch 188/256\n",
            "24/24 [==============================] - 0s 768us/step - loss: 0.4623 - accuracy: 0.7773\n",
            "Epoch 189/256\n",
            "24/24 [==============================] - 0s 911us/step - loss: 0.4633 - accuracy: 0.7878\n",
            "Epoch 190/256\n",
            "24/24 [==============================] - 0s 767us/step - loss: 0.4650 - accuracy: 0.7956\n",
            "Epoch 191/256\n",
            "24/24 [==============================] - 0s 761us/step - loss: 0.4676 - accuracy: 0.7839\n",
            "Epoch 192/256\n",
            "24/24 [==============================] - 0s 846us/step - loss: 0.4649 - accuracy: 0.7878\n",
            "Epoch 193/256\n",
            "24/24 [==============================] - 0s 862us/step - loss: 0.4677 - accuracy: 0.7852\n",
            "Epoch 194/256\n",
            "24/24 [==============================] - 0s 755us/step - loss: 0.4633 - accuracy: 0.7826\n",
            "Epoch 195/256\n",
            "24/24 [==============================] - 0s 968us/step - loss: 0.4634 - accuracy: 0.7865\n",
            "Epoch 196/256\n",
            "24/24 [==============================] - 0s 883us/step - loss: 0.4670 - accuracy: 0.7773\n",
            "Epoch 197/256\n",
            "24/24 [==============================] - 0s 845us/step - loss: 0.4638 - accuracy: 0.7852\n",
            "Epoch 198/256\n",
            "24/24 [==============================] - 0s 724us/step - loss: 0.4663 - accuracy: 0.7891\n",
            "Epoch 199/256\n",
            "24/24 [==============================] - 0s 718us/step - loss: 0.4654 - accuracy: 0.7839\n",
            "Epoch 200/256\n",
            "24/24 [==============================] - 0s 924us/step - loss: 0.4695 - accuracy: 0.7865\n",
            "Epoch 201/256\n",
            "24/24 [==============================] - 0s 826us/step - loss: 0.4624 - accuracy: 0.7812\n",
            "Epoch 202/256\n",
            "24/24 [==============================] - 0s 731us/step - loss: 0.4594 - accuracy: 0.7917\n",
            "Epoch 203/256\n",
            "24/24 [==============================] - 0s 825us/step - loss: 0.4610 - accuracy: 0.7878\n",
            "Epoch 204/256\n",
            "24/24 [==============================] - 0s 720us/step - loss: 0.4682 - accuracy: 0.7747\n",
            "Epoch 205/256\n",
            "24/24 [==============================] - 0s 898us/step - loss: 0.4626 - accuracy: 0.7799\n",
            "Epoch 206/256\n",
            "24/24 [==============================] - 0s 808us/step - loss: 0.4625 - accuracy: 0.7865\n",
            "Epoch 207/256\n",
            "24/24 [==============================] - 0s 837us/step - loss: 0.4637 - accuracy: 0.7760\n",
            "Epoch 208/256\n",
            "24/24 [==============================] - 0s 801us/step - loss: 0.4616 - accuracy: 0.7878\n",
            "Epoch 209/256\n",
            "24/24 [==============================] - 0s 699us/step - loss: 0.4634 - accuracy: 0.7904\n",
            "Epoch 210/256\n",
            "24/24 [==============================] - 0s 936us/step - loss: 0.4642 - accuracy: 0.7812\n",
            "Epoch 211/256\n",
            "24/24 [==============================] - 0s 938us/step - loss: 0.4624 - accuracy: 0.7799\n",
            "Epoch 212/256\n",
            "24/24 [==============================] - 0s 827us/step - loss: 0.4662 - accuracy: 0.7865\n",
            "Epoch 213/256\n",
            "24/24 [==============================] - 0s 834us/step - loss: 0.4707 - accuracy: 0.7917\n",
            "Epoch 214/256\n",
            "24/24 [==============================] - 0s 728us/step - loss: 0.4624 - accuracy: 0.7878\n",
            "Epoch 215/256\n",
            "24/24 [==============================] - 0s 908us/step - loss: 0.4614 - accuracy: 0.7812\n",
            "Epoch 216/256\n",
            "24/24 [==============================] - 0s 825us/step - loss: 0.4592 - accuracy: 0.7930\n",
            "Epoch 217/256\n",
            "24/24 [==============================] - 0s 938us/step - loss: 0.4661 - accuracy: 0.7812\n",
            "Epoch 218/256\n",
            "24/24 [==============================] - 0s 776us/step - loss: 0.4627 - accuracy: 0.7799\n",
            "Epoch 219/256\n",
            "24/24 [==============================] - 0s 873us/step - loss: 0.4629 - accuracy: 0.7773\n",
            "Epoch 220/256\n",
            "24/24 [==============================] - 0s 855us/step - loss: 0.4603 - accuracy: 0.7826\n",
            "Epoch 221/256\n",
            "24/24 [==============================] - 0s 727us/step - loss: 0.4594 - accuracy: 0.7786\n",
            "Epoch 222/256\n",
            "24/24 [==============================] - 0s 795us/step - loss: 0.4606 - accuracy: 0.7865\n",
            "Epoch 223/256\n",
            "24/24 [==============================] - 0s 772us/step - loss: 0.4639 - accuracy: 0.7826\n",
            "Epoch 224/256\n",
            "24/24 [==============================] - 0s 858us/step - loss: 0.4681 - accuracy: 0.7878\n",
            "Epoch 225/256\n",
            "24/24 [==============================] - 0s 869us/step - loss: 0.4623 - accuracy: 0.7839\n",
            "Epoch 226/256\n",
            "24/24 [==============================] - 0s 792us/step - loss: 0.4636 - accuracy: 0.7799\n",
            "Epoch 227/256\n",
            "24/24 [==============================] - 0s 622us/step - loss: 0.4632 - accuracy: 0.7839\n",
            "Epoch 228/256\n",
            "24/24 [==============================] - 0s 679us/step - loss: 0.4641 - accuracy: 0.7839\n",
            "Epoch 229/256\n",
            "24/24 [==============================] - 0s 974us/step - loss: 0.4615 - accuracy: 0.7786\n",
            "Epoch 230/256\n",
            "24/24 [==============================] - 0s 845us/step - loss: 0.4657 - accuracy: 0.7812\n",
            "Epoch 231/256\n",
            "24/24 [==============================] - 0s 973us/step - loss: 0.4600 - accuracy: 0.7865\n",
            "Epoch 232/256\n",
            "24/24 [==============================] - 0s 742us/step - loss: 0.4627 - accuracy: 0.7747\n",
            "Epoch 233/256\n",
            "24/24 [==============================] - 0s 721us/step - loss: 0.4610 - accuracy: 0.7904\n",
            "Epoch 234/256\n",
            "24/24 [==============================] - 0s 809us/step - loss: 0.4632 - accuracy: 0.7878\n",
            "Epoch 235/256\n",
            "24/24 [==============================] - 0s 714us/step - loss: 0.4653 - accuracy: 0.7904\n",
            "Epoch 236/256\n",
            "24/24 [==============================] - 0s 805us/step - loss: 0.4599 - accuracy: 0.7917\n",
            "Epoch 237/256\n",
            "24/24 [==============================] - 0s 846us/step - loss: 0.4642 - accuracy: 0.7865\n",
            "Epoch 238/256\n",
            "24/24 [==============================] - 0s 848us/step - loss: 0.4622 - accuracy: 0.7904\n",
            "Epoch 239/256\n",
            "24/24 [==============================] - 0s 781us/step - loss: 0.4675 - accuracy: 0.7786\n",
            "Epoch 240/256\n",
            "24/24 [==============================] - 0s 748us/step - loss: 0.4579 - accuracy: 0.7969\n",
            "Epoch 241/256\n",
            "24/24 [==============================] - 0s 768us/step - loss: 0.4625 - accuracy: 0.7826\n",
            "Epoch 242/256\n",
            "24/24 [==============================] - 0s 792us/step - loss: 0.4605 - accuracy: 0.7852\n",
            "Epoch 243/256\n",
            "24/24 [==============================] - 0s 719us/step - loss: 0.4605 - accuracy: 0.7852\n",
            "Epoch 244/256\n",
            "24/24 [==============================] - 0s 778us/step - loss: 0.4590 - accuracy: 0.7917\n",
            "Epoch 245/256\n",
            "24/24 [==============================] - 0s 732us/step - loss: 0.4562 - accuracy: 0.7865\n",
            "Epoch 246/256\n",
            "24/24 [==============================] - 0s 819us/step - loss: 0.4639 - accuracy: 0.7917\n",
            "Epoch 247/256\n",
            "24/24 [==============================] - 0s 760us/step - loss: 0.4590 - accuracy: 0.7904\n",
            "Epoch 248/256\n",
            "24/24 [==============================] - 0s 754us/step - loss: 0.4613 - accuracy: 0.7852\n",
            "Epoch 249/256\n",
            "24/24 [==============================] - 0s 797us/step - loss: 0.4639 - accuracy: 0.7799\n",
            "Epoch 250/256\n",
            "24/24 [==============================] - 0s 864us/step - loss: 0.4608 - accuracy: 0.7891\n",
            "Epoch 251/256\n",
            "24/24 [==============================] - 0s 906us/step - loss: 0.4602 - accuracy: 0.7865\n",
            "Epoch 252/256\n",
            "24/24 [==============================] - 0s 853us/step - loss: 0.4613 - accuracy: 0.7839\n",
            "Epoch 253/256\n",
            "24/24 [==============================] - 0s 823us/step - loss: 0.4581 - accuracy: 0.7760\n",
            "Epoch 254/256\n",
            "24/24 [==============================] - 0s 787us/step - loss: 0.4666 - accuracy: 0.7917\n",
            "Epoch 255/256\n",
            "24/24 [==============================] - 0s 907us/step - loss: 0.4562 - accuracy: 0.7839\n",
            "Epoch 256/256\n",
            "24/24 [==============================] - 0s 827us/step - loss: 0.4594 - accuracy: 0.7852\n"
          ],
          "name": "stdout"
        },
        {
          "output_type": "execute_result",
          "data": {
            "text/plain": [
              "<tensorflow.python.keras.callbacks.History at 0x7f3b60629f98>"
            ]
          },
          "metadata": {
            "tags": []
          },
          "execution_count": 48
        }
      ]
    },
    {
      "cell_type": "code",
      "metadata": {
        "id": "iV6aS5F4Ce68",
        "colab": {
          "base_uri": "https://localhost:8080/",
          "height": 34
        },
        "outputId": "45db3cbe-1170-4cc1-8d4e-6765d2361959"
      },
      "source": [
        "# Evaluating the model using accuracy, precision and recall\n",
        "prediction = model.predict(X)\n",
        "print (prediction[:5].T)"
      ],
      "execution_count": null,
      "outputs": [
        {
          "output_type": "stream",
          "text": [
            "[[0.86 0.09 0.89 0.10 0.76]]\n"
          ],
          "name": "stdout"
        }
      ]
    },
    {
      "cell_type": "code",
      "metadata": {
        "id": "wP4IEo46C9Pt",
        "colab": {
          "base_uri": "https://localhost:8080/",
          "height": 51
        },
        "outputId": "70fd2e8d-d040-4ded-c4b4-12f99b8ba30f"
      },
      "source": [
        "print (Y[:20])"
      ],
      "execution_count": null,
      "outputs": [
        {
          "output_type": "stream",
          "text": [
            "[1.00 0.00 1.00 0.00 1.00 0.00 1.00 0.00 1.00 1.00 0.00 1.00 0.00 1.00\n",
            " 1.00 1.00 1.00 1.00 0.00 1.00]\n"
          ],
          "name": "stdout"
        }
      ]
    },
    {
      "cell_type": "code",
      "metadata": {
        "id": "Oyg_8fP4SRw5",
        "colab": {
          "base_uri": "https://localhost:8080/",
          "height": 68
        },
        "outputId": "811cb6d3-06d3-44cd-dae1-9414aab9482f"
      },
      "source": [
        "a = prediction.sum()\n",
        "b = Y.sum()\n",
        "print (a)\n",
        "print(b)\n",
        "print (b/a *100)"
      ],
      "execution_count": null,
      "outputs": [
        {
          "output_type": "stream",
          "text": [
            "283.2664\n",
            "268.0\n",
            "94.61058968185232\n"
          ],
          "name": "stdout"
        }
      ]
    },
    {
      "cell_type": "code",
      "metadata": {
        "id": "Jj5QuemtDJnW",
        "colab": {
          "base_uri": "https://localhost:8080/",
          "height": 34
        },
        "outputId": "1f263ace-8b9d-4fd1-8375-588057b22ad4"
      },
      "source": [
        "from sklearn.metrics import accuracy_score, precision_score, recall_score\n",
        "my_accuracy = accuracy_score(Y, prediction.round()) #Accuracy\n",
        "print(my_accuracy * 100)"
      ],
      "execution_count": null,
      "outputs": [
        {
          "output_type": "stream",
          "text": [
            "79.296875\n"
          ],
          "name": "stdout"
        }
      ]
    },
    {
      "cell_type": "code",
      "metadata": {
        "id": "BWPKGxHPDDL3"
      },
      "source": [
        ""
      ],
      "execution_count": null,
      "outputs": []
    },
    {
      "cell_type": "code",
      "metadata": {
        "id": "akNBhUrwDtV3",
        "colab": {
          "base_uri": "https://localhost:8080/",
          "height": 34
        },
        "outputId": "cbe41a3e-39f2-4d02-ae18-c2040e3d3081"
      },
      "source": [
        "len(Y)"
      ],
      "execution_count": null,
      "outputs": [
        {
          "output_type": "execute_result",
          "data": {
            "text/plain": [
              "768"
            ]
          },
          "metadata": {
            "tags": []
          },
          "execution_count": 54
        }
      ]
    },
    {
      "cell_type": "code",
      "metadata": {
        "id": "TIh16dRSFuNl",
        "colab": {
          "base_uri": "https://localhost:8080/",
          "height": 34
        },
        "outputId": "56463b69-813f-4d53-87fb-1cdbe775df32"
      },
      "source": [
        "Y.sum()"
      ],
      "execution_count": null,
      "outputs": [
        {
          "output_type": "execute_result",
          "data": {
            "text/plain": [
              "268.0"
            ]
          },
          "metadata": {
            "tags": []
          },
          "execution_count": 55
        }
      ]
    },
    {
      "cell_type": "code",
      "metadata": {
        "id": "iorzJJa1FyPQ",
        "colab": {
          "base_uri": "https://localhost:8080/",
          "height": 34
        },
        "outputId": "51229c9c-4b7e-42a1-8da8-bc175ebedceb"
      },
      "source": [
        "268/768 * 100 # Positive and rest are Negative (bad)"
      ],
      "execution_count": null,
      "outputs": [
        {
          "output_type": "execute_result",
          "data": {
            "text/plain": [
              "34.89583333333333"
            ]
          },
          "metadata": {
            "tags": []
          },
          "execution_count": 56
        }
      ]
    },
    {
      "cell_type": "code",
      "metadata": {
        "id": "fSeDmcL0F5Sy",
        "colab": {
          "base_uri": "https://localhost:8080/",
          "height": 34
        },
        "outputId": "72f26e1a-5523-415e-ff8d-77c74ff8cfd9"
      },
      "source": [
        "#Precision\n",
        "my_percision = precision_score(Y, prediction.round())\n",
        "print (my_percision)"
      ],
      "execution_count": null,
      "outputs": [
        {
          "output_type": "stream",
          "text": [
            "0.7261410788381742\n"
          ],
          "name": "stdout"
        }
      ]
    },
    {
      "cell_type": "code",
      "metadata": {
        "id": "aGLssyY7GXhJ",
        "colab": {
          "base_uri": "https://localhost:8080/",
          "height": 34
        },
        "outputId": "26735a09-82f3-4688-b1a5-521263d1590f"
      },
      "source": [
        "#recall\n",
        "my_recall = recall_score(Y, prediction.round())\n",
        "print (my_recall)"
      ],
      "execution_count": null,
      "outputs": [
        {
          "output_type": "stream",
          "text": [
            "0.6529850746268657\n"
          ],
          "name": "stdout"
        }
      ]
    },
    {
      "cell_type": "code",
      "metadata": {
        "id": "gc5vN63pBsZc",
        "colab": {
          "base_uri": "https://localhost:8080/",
          "height": 34
        },
        "outputId": "5e410139-a887-4d06-c68c-92017481cb7c"
      },
      "source": [
        "print (768-268)"
      ],
      "execution_count": null,
      "outputs": [
        {
          "output_type": "stream",
          "text": [
            "500\n"
          ],
          "name": "stdout"
        }
      ]
    },
    {
      "cell_type": "code",
      "metadata": {
        "id": "QhBf0QTBvgby",
        "colab": {
          "base_uri": "https://localhost:8080/",
          "height": 34
        },
        "outputId": "9a6de5bc-dea4-40bf-d91e-40df4e4fff83"
      },
      "source": [
        "# Baseline accuracy (ratio of larger set /  total data points)\n",
        "#larger set vaneko Y value ko sum (Y.sum()) ra total dataset substract garera nikalne ho...\n",
        "print ('The baseline accuracy is: ', 500/768 * 100)"
      ],
      "execution_count": null,
      "outputs": [
        {
          "output_type": "stream",
          "text": [
            "The baseline accuracy is:  65.10416666666666\n"
          ],
          "name": "stdout"
        }
      ]
    },
    {
      "cell_type": "code",
      "metadata": {
        "id": "2xpHXEITB0hL"
      },
      "source": [
        ""
      ],
      "execution_count": null,
      "outputs": []
    }
  ]
}